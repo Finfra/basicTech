{
 "cells": [
  {
   "cell_type": "markdown",
   "metadata": {},
   "source": [
    "# 기본 처리\n",
    "## 파일 쓰기"
   ]
  },
  {
   "cell_type": "code",
   "execution_count": 47,
   "metadata": {},
   "outputs": [
    {
     "name": "stdout",
     "output_type": "stream",
     "text": [
      "hi\n",
      "bye\n",
      "hello\n"
     ]
    }
   ],
   "source": [
    "with open('a.txt','w') as f:\n",
    "  f.writelines(['hi\\n','bye\\n'])\n",
    "  f.write('hello\\n')\n",
    "\n",
    "!cat a.txt    "
   ]
  },
  {
   "cell_type": "markdown",
   "metadata": {},
   "source": [
    "## 파일 읽기"
   ]
  },
  {
   "cell_type": "code",
   "execution_count": 48,
   "metadata": {},
   "outputs": [
    {
     "name": "stdout",
     "output_type": "stream",
     "text": [
      "['hi\\n', 'bye\\n', 'hello\\n']\n"
     ]
    }
   ],
   "source": [
    "with open('a.txt','r') as f:\n",
    "  lines=f.readlines()\n",
    "  print(lines)"
   ]
  },
  {
   "cell_type": "markdown",
   "metadata": {},
   "source": [
    "# Os Liberary로 처리"
   ]
  },
  {
   "cell_type": "code",
   "execution_count": 14,
   "metadata": {},
   "outputs": [],
   "source": [
    "import os\n",
    "from os.path import join,isfile,isdir\n",
    "# dir(os.path)\n",
    "# 'abspath','altsep','basename','commonpath','commonprefix','curdir','defpath','devnull',\n",
    "# 'dirname','exists','expanduser','expandvars','extsep','genericpath','getatime','getctime',\n",
    "# 'getmtime','getsize','isabs','isdir','isfile','islink','ismount','join','lexists','normcase',\n",
    "# 'normpath','os','pardir','pathsep','realpath','relpath','samefile','sameopenfile','samestat',\n",
    "# 'sep','split','splitdrive','splitext','stat','supports_unicode_filenames','sys'"
   ]
  },
  {
   "cell_type": "markdown",
   "metadata": {},
   "source": [
    "## cd,pwd"
   ]
  },
  {
   "cell_type": "code",
   "execution_count": 50,
   "metadata": {},
   "outputs": [
    {
     "name": "stdout",
     "output_type": "stream",
     "text": [
      "/Users/nowage/GoogleDrive_finfra/Git/NumpyAndPandas/Numpy\n",
      "/\n",
      "/Users/nowage/GoogleDrive_finfra/Git/NumpyAndPandas/Numpy\n"
     ]
    }
   ],
   "source": [
    "currentPath=os.getcwd()\n",
    "\n",
    "print (os.getcwd()) #현재 디렉토리의\n",
    "\n",
    "os.chdir(\"/\")\n",
    "\n",
    "print (os.getcwd()) #현재 디렉토리의\n",
    "\n",
    "\n",
    "os.chdir(currentPath)\n",
    "print (os.getcwd()) #현재 디렉토리의\n"
   ]
  },
  {
   "cell_type": "markdown",
   "metadata": {},
   "source": [
    "## join"
   ]
  },
  {
   "cell_type": "code",
   "execution_count": 61,
   "metadata": {},
   "outputs": [
    {
     "data": {
      "text/plain": [
       "'/Users/nowage/GoogleDrive_finfra/Git/NumpyAndPandas/Numpy/a.txt'"
      ]
     },
     "execution_count": 61,
     "metadata": {},
     "output_type": "execute_result"
    }
   ],
   "source": [
    "a_txt_path=join(currentPath,'a.txt')\n",
    "a_txt_path\n",
    "\n"
   ]
  },
  {
   "cell_type": "markdown",
   "metadata": {},
   "source": [
    "## isfile "
   ]
  },
  {
   "cell_type": "code",
   "execution_count": 62,
   "metadata": {},
   "outputs": [
    {
     "data": {
      "text/plain": [
       "True"
      ]
     },
     "execution_count": 62,
     "metadata": {},
     "output_type": "execute_result"
    }
   ],
   "source": [
    "isfile(a_txt_path)"
   ]
  },
  {
   "cell_type": "markdown",
   "metadata": {},
   "source": [
    "## isdir"
   ]
  },
  {
   "cell_type": "code",
   "execution_count": 63,
   "metadata": {},
   "outputs": [
    {
     "data": {
      "text/plain": [
       "True"
      ]
     },
     "execution_count": 63,
     "metadata": {},
     "output_type": "execute_result"
    }
   ],
   "source": [
    "isdir(currentPath)"
   ]
  },
  {
   "cell_type": "markdown",
   "metadata": {},
   "source": [
    "## ls"
   ]
  },
  {
   "cell_type": "code",
   "execution_count": 64,
   "metadata": {},
   "outputs": [
    {
     "name": "stdout",
     "output_type": "stream",
     "text": [
      "['.DS_Store', '01_Numpy_Intro.ipynb', '04_Numpy_Library.ipynb', 'Orignal', 'a.txt', 'README.md', '02_Numpy_Function.ipynb', '.ipynb_checkpoints', '03_Numpy_Matrix.ipynb']\n"
     ]
    }
   ],
   "source": [
    "print(os.listdir(os.getcwd()))\n"
   ]
  },
  {
   "cell_type": "code",
   "execution_count": 8,
   "metadata": {},
   "outputs": [
    {
     "data": {
      "text/plain": [
       "'/Users/nowage/GoogleDrive_finfra/Git/basicTech/Python'"
      ]
     },
     "execution_count": 8,
     "metadata": {},
     "output_type": "execute_result"
    }
   ],
   "source": [
    "# 현재 작업 폴더 얻기,\n",
    "os.getcwd()"
   ]
  },
  {
   "cell_type": "code",
   "execution_count": 15,
   "metadata": {},
   "outputs": [
    {
     "data": {
      "text/plain": [
       "'/Users/nowage/GoogleDrive_finfra/Git/basicTech/Python/a.txt'"
      ]
     },
     "execution_count": 15,
     "metadata": {},
     "output_type": "execute_result"
    }
   ],
   "source": [
    "# 특정 경로에 대해 절대 경로 얻기,\n",
    "os.path.abspath(\"./Scripts\")"
   ]
  },
  {
   "cell_type": "code",
   "execution_count": 19,
   "metadata": {},
   "outputs": [
    {
     "data": {
      "text/plain": [
       "'/Users/nowage/GoogleDrive_finfra/Git/basicTech/Python'"
      ]
     },
     "execution_count": 19,
     "metadata": {},
     "output_type": "execute_result"
    }
   ],
   "source": [
    "# 경로 중 디렉토리명만 얻기,\n",
    "currentPath=os.getcwd()\n",
    "a_txt_path=join(currentPath,'a.txt')\n",
    "os.path.dirname(a_txt_path)\n"
   ]
  },
  {
   "cell_type": "code",
   "execution_count": 23,
   "metadata": {},
   "outputs": [
    {
     "data": {
      "text/plain": [
       "'a.txt'"
      ]
     },
     "execution_count": 23,
     "metadata": {},
     "output_type": "execute_result"
    }
   ],
   "source": [
    "# 파일명을 얻기,\n",
    "os.path.basename(a_txt_path)"
   ]
  },
  {
   "cell_type": "code",
   "execution_count": 24,
   "metadata": {},
   "outputs": [
    {
     "data": {
      "text/plain": [
       "('/Users/nowage/GoogleDrive_finfra/Git/basicTech/Python', 'a.txt')"
      ]
     },
     "execution_count": 24,
     "metadata": {},
     "output_type": "execute_result"
    }
   ],
   "source": [
    "# \"파일 각 경로를 나눠 리스트로 리턴하기,\n",
    "os.path.split(a_txt_path)"
   ]
  },
  {
   "cell_type": "code",
   "execution_count": 25,
   "metadata": {},
   "outputs": [
    {
     "data": {
      "text/plain": [
       "['',\n",
       " 'Users',\n",
       " 'nowage',\n",
       " 'GoogleDrive_finfra',\n",
       " 'Git',\n",
       " 'basicTech',\n",
       " 'Python',\n",
       " 'a.txt']"
      ]
     },
     "execution_count": 25,
     "metadata": {},
     "output_type": "execute_result"
    }
   ],
   "source": [
    "# os.path.sep은 OS별 경로 분리자\",\n",
    "a_txt_path.split(os.path.sep)"
   ]
  },
  {
   "cell_type": "code",
   "execution_count": 29,
   "metadata": {},
   "outputs": [
    {
     "data": {
      "text/plain": [
       "['3.PythonPractice_problem1.ipynb',\n",
       " '9.연습문제2.ipynb',\n",
       " '1.PythonBasic.ipynb',\n",
       " 'working',\n",
       " '4.Python-if,while,for.ipynb',\n",
       " '8.연습문제1.ipynb',\n",
       " 'orignal',\n",
       " '2.PythonIntrospection.ipynb',\n",
       " 'README.md',\n",
       " '7.PythonAdvanced.ipynb',\n",
       " '.ipynb_checkpoints',\n",
       " '5.String_Advanced.ipynb',\n",
       " '6.PythonFileProcessing.ipynb',\n",
       " 'to정리']"
      ]
     },
     "execution_count": 29,
     "metadata": {},
     "output_type": "execute_result"
    }
   ],
   "source": [
    "# 디렉토리 안의 파일/서브디렉토리 리스트,\n",
    "os.listdir(currentPath)"
   ]
  },
  {
   "cell_type": "code",
   "execution_count": 35,
   "metadata": {},
   "outputs": [
    {
     "data": {
      "text/plain": [
       "(False, True)"
      ]
     },
     "execution_count": 35,
     "metadata": {},
     "output_type": "execute_result"
    }
   ],
   "source": [
    "# 파일 혹은 디렉토리 경로가 존재하는지 체크하기,\n",
    "os.path.exists(a_txt_path), os.path.exists(currentPath)"
   ]
  },
  {
   "cell_type": "code",
   "execution_count": 36,
   "metadata": {},
   "outputs": [
    {
     "data": {
      "text/plain": [
       "True"
      ]
     },
     "execution_count": 36,
     "metadata": {},
     "output_type": "execute_result"
    }
   ],
   "source": [
    "# 디렉토리 경로가 존재하는지 체크하기,\n",
    "os.path.isdir(currentPath)"
   ]
  },
  {
   "cell_type": "code",
   "execution_count": 37,
   "metadata": {},
   "outputs": [
    {
     "data": {
      "text/plain": [
       "False"
      ]
     },
     "execution_count": 37,
     "metadata": {},
     "output_type": "execute_result"
    }
   ],
   "source": [
    "# 파일 경로가 존재하는지 체크하기,\n",
    "os.path.isfile(a_txt_path)"
   ]
  },
  {
   "cell_type": "code",
   "execution_count": 39,
   "metadata": {},
   "outputs": [
    {
     "data": {
      "text/plain": [
       "5"
      ]
     },
     "execution_count": 39,
     "metadata": {},
     "output_type": "execute_result"
    }
   ],
   "source": [
    "# 파일의 크기,\n",
    "!echo \"1234\">{a_txt_path}\n",
    "os.path.getsize(a_txt_path)"
   ]
  },
  {
   "cell_type": "code",
   "execution_count": null,
   "metadata": {},
   "outputs": [],
   "source": []
  },
  {
   "cell_type": "code",
   "execution_count": null,
   "metadata": {},
   "outputs": [],
   "source": []
  },
  {
   "cell_type": "code",
   "execution_count": null,
   "metadata": {},
   "outputs": [],
   "source": []
  },
  {
   "cell_type": "code",
   "execution_count": null,
   "metadata": {},
   "outputs": [],
   "source": []
  },
  {
   "cell_type": "code",
   "execution_count": null,
   "metadata": {},
   "outputs": [],
   "source": []
  },
  {
   "cell_type": "code",
   "execution_count": null,
   "metadata": {},
   "outputs": [],
   "source": []
  },
  {
   "cell_type": "code",
   "execution_count": null,
   "metadata": {},
   "outputs": [],
   "source": []
  },
  {
   "cell_type": "markdown",
   "metadata": {},
   "source": [
    "# pathlib.Path\n",
    "* Manual : <https://docs.python.org/3/library/pathlib.html>\n",
    "\n"
   ]
  },
  {
   "cell_type": "code",
   "execution_count": 4,
   "metadata": {},
   "outputs": [
    {
     "data": {
      "text/plain": [
       "PosixPath('/usr/local/lib/python3.8')"
      ]
     },
     "execution_count": 4,
     "metadata": {},
     "output_type": "execute_result"
    }
   ],
   "source": [
    "from pathlib import Path\n",
    "parentPath=Path(basePath).parent\n",
    "# join(os.path.abspath( join(basePath,\"..\") )\n",
    "parentPath"
   ]
  },
  {
   "cell_type": "markdown",
   "metadata": {},
   "source": [
    "# Examples\n",
    "## full example"
   ]
  },
  {
   "cell_type": "code",
   "execution_count": null,
   "metadata": {},
   "outputs": [],
   "source": [
    "import os\n",
    "import sys\n",
    "from pathlib import Path\n",
    "\n",
    "basePath=os.path.dirname(sys.argv[0])\n",
    "\n",
    "childPath=os.path.join(basePath,\"test\")\n",
    "\n",
    "os.makedirs(childPath)\n",
    "print(os.listdir(basePath))\n",
    "parentPath=Path(basePath).parent\n",
    "# join(os.path.abspath( join(basePath,\"..\") )\n",
    "executedPath=os.getcwd()\n",
    "\n",
    "os.path.isdir(basePath)\n",
    "\n",
    "os.path.isfile(basePath)\n"
   ]
  },
  {
   "cell_type": "code",
   "execution_count": null,
   "metadata": {},
   "outputs": [],
   "source": []
  }
 ],
 "metadata": {
  "kernelspec": {
   "display_name": "Python 3",
   "language": "python",
   "name": "python3"
  },
  "language_info": {
   "codemirror_mode": {
    "name": "ipython",
    "version": 3
   },
   "file_extension": ".py",
   "mimetype": "text/x-python",
   "name": "python",
   "nbconvert_exporter": "python",
   "pygments_lexer": "ipython3",
   "version": "3.8.9"
  }
 },
 "nbformat": 4,
 "nbformat_minor": 4
}
