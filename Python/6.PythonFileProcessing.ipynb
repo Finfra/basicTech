{
 "cells": [
  {
   "cell_type": "markdown",
   "metadata": {
    "id": "lM41V2MLCg1s"
   },
   "source": [
    "# 기본 처리\n",
    "## 파일 쓰기"
   ]
  },
  {
   "cell_type": "code",
   "execution_count": null,
   "metadata": {
    "id": "b2F5N2J3Cg1w",
    "outputId": "ae44d574-f670-4cca-fb76-fe5e9f25de70"
   },
   "outputs": [
    {
     "name": "stdout",
     "output_type": "stream",
     "text": [
      "hi\n",
      "bye\n",
      "hello\n"
     ]
    }
   ],
   "source": [
    "with open('a.txt','w') as f:\n",
    "  f.writelines(['hi\\n','bye\\n'])\n",
    "  f.write('hello\\n')\n",
    "\n",
    "!cat a.txt    "
   ]
  },
  {
   "cell_type": "markdown",
   "metadata": {
    "id": "IznngmpTCg1y"
   },
   "source": [
    "## 파일 읽기"
   ]
  },
  {
   "cell_type": "code",
   "execution_count": null,
   "metadata": {
    "id": "B6ZXReoHCg1y",
    "outputId": "bc5418b5-7af3-45c8-c2cc-0df2955d6d89"
   },
   "outputs": [
    {
     "name": "stdout",
     "output_type": "stream",
     "text": [
      "['hi\\n', 'bye\\n', 'hello\\n']\n"
     ]
    }
   ],
   "source": [
    "with open('a.txt','r') as f:\n",
    "  lines=f.readlines()\n",
    "  print(lines)"
   ]
  },
  {
   "cell_type": "markdown",
   "metadata": {
    "id": "M2Tf8UTTCSc8"
   },
   "source": [
    "## with 문으로 파일 open"
   ]
  },
  {
   "cell_type": "code",
   "execution_count": null,
   "metadata": {
    "colab": {
     "base_uri": "https://localhost:8080/"
    },
    "executionInfo": {
     "elapsed": 18,
     "status": "ok",
     "timestamp": 1628146752909,
     "user": {
      "displayName": "시니어",
      "photoUrl": "",
      "userId": "08171692844966868129"
     },
     "user_tz": -540
    },
    "id": "wKtoPQTI01Im",
    "outputId": "12aaa8a2-e7b1-4833-8d5b-e5b73bfcda6e"
   },
   "outputs": [
    {
     "name": "stdout",
     "output_type": "stream",
     "text": [
      "['[\\n', '  {\"Series\":\"I\", \"X\":10.0, \"Y\":8.04},\\n', '  {\"Series\":\"I\", \"X\":8.0, \"Y\":6.95},\\n', '  {\"Series\":\"I\", \"X\":13.0, \"Y\":7.58},\\n', '  {\"Series\":\"I\", \"X\":9.0, \"Y\":8.81},\\n', '  {\"Series\":\"I\", \"X\":11.0, \"Y\":8.33},\\n', '  {\"Series\":\"I\", \"X\":14.0, \"Y\":9.96},\\n', '  {\"Series\":\"I\", \"X\":6.0, \"Y\":7.24},\\n', '  {\"Series\":\"I\", \"X\":4.0, \"Y\":4.26},\\n', '  {\"Series\":\"I\", \"X\":12.0, \"Y\":10.84},\\n', '  {\"Series\":\"I\", \"X\":7.0, \"Y\":4.81},\\n', '  {\"Series\":\"I\", \"X\":5.0, \"Y\":5.68},\\n', '\\n', '  {\"Series\":\"II\", \"X\":10.0, \"Y\":9.14},\\n', '  {\"Series\":\"II\", \"X\":8.0, \"Y\":8.14},\\n', '  {\"Series\":\"II\", \"X\":13.0, \"Y\":8.74},\\n', '  {\"Series\":\"II\", \"X\":9.0, \"Y\":8.77},\\n', '  {\"Series\":\"II\", \"X\":11.0, \"Y\":9.26},\\n', '  {\"Series\":\"II\", \"X\":14.0, \"Y\":8.10},\\n', '  {\"Series\":\"II\", \"X\":6.0, \"Y\":6.13},\\n', '  {\"Series\":\"II\", \"X\":4.0, \"Y\":3.10},\\n', '  {\"Series\":\"II\", \"X\":12.0, \"Y\":9.13},\\n', '  {\"Series\":\"II\", \"X\":7.0, \"Y\":7.26},\\n', '  {\"Series\":\"II\", \"X\":5.0, \"Y\":4.74},\\n', '\\n', '  {\"Series\":\"III\", \"X\":10.0, \"Y\":7.46},\\n', '  {\"Series\":\"III\", \"X\":8.0, \"Y\":6.77},\\n', '  {\"Series\":\"III\", \"X\":13.0, \"Y\":12.74},\\n', '  {\"Series\":\"III\", \"X\":9.0, \"Y\":7.11},\\n', '  {\"Series\":\"III\", \"X\":11.0, \"Y\":7.81},\\n', '  {\"Series\":\"III\", \"X\":14.0, \"Y\":8.84},\\n', '  {\"Series\":\"III\", \"X\":6.0, \"Y\":6.08},\\n', '  {\"Series\":\"III\", \"X\":4.0, \"Y\":5.39},\\n', '  {\"Series\":\"III\", \"X\":12.0, \"Y\":8.15},\\n', '  {\"Series\":\"III\", \"X\":7.0, \"Y\":6.42},\\n', '  {\"Series\":\"III\", \"X\":5.0, \"Y\":5.73},\\n', '\\n', '  {\"Series\":\"IV\", \"X\":8.0, \"Y\":6.58},\\n', '  {\"Series\":\"IV\", \"X\":8.0, \"Y\":5.76},\\n', '  {\"Series\":\"IV\", \"X\":8.0, \"Y\":7.71},\\n', '  {\"Series\":\"IV\", \"X\":8.0, \"Y\":8.84},\\n', '  {\"Series\":\"IV\", \"X\":8.0, \"Y\":8.47},\\n', '  {\"Series\":\"IV\", \"X\":8.0, \"Y\":7.04},\\n', '  {\"Series\":\"IV\", \"X\":8.0, \"Y\":5.25},\\n', '  {\"Series\":\"IV\", \"X\":19.0, \"Y\":12.50},\\n', '  {\"Series\":\"IV\", \"X\":8.0, \"Y\":5.56},\\n', '  {\"Series\":\"IV\", \"X\":8.0, \"Y\":7.91},\\n', '  {\"Series\":\"IV\", \"X\":8.0, \"Y\":6.89}\\n', ']\\n']\n"
     ]
    }
   ],
   "source": [
    "with open('/content/sample_data/anscombe.json','r') as f:\n",
    "  print( f.readlines() )\n",
    "# f.close()"
   ]
  },
  {
   "cell_type": "markdown",
   "metadata": {
    "id": "At2F5YVv_k8E"
   },
   "source": [
    "참고사항.\n",
    "- with 를 쓰는 경우 close를 쓰지 않아도 알아서 닫아줍니다."
   ]
  },
  {
   "cell_type": "markdown",
   "metadata": {
    "id": "PFI7wol4Cg1z"
   },
   "source": [
    "# Os Liberary로 처리"
   ]
  },
  {
   "cell_type": "code",
   "execution_count": null,
   "metadata": {
    "id": "p1T3RsjFCg1z"
   },
   "outputs": [],
   "source": [
    "import os\n",
    "from os.path import join,isfile,isdir\n",
    "# dir(os.path)\n",
    "# 'abspath','altsep','basename','commonpath','commonprefix','curdir','defpath','devnull',\n",
    "# 'dirname','exists','expanduser','expandvars','extsep','genericpath','getatime','getctime',\n",
    "# 'getmtime','getsize','isabs','isdir','isfile','islink','ismount','join','lexists','normcase',\n",
    "# 'normpath','os','pardir','pathsep','realpath','relpath','samefile','sameopenfile','samestat',\n",
    "# 'sep','split','splitdrive','splitext','stat','supports_unicode_filenames','sys'"
   ]
  },
  {
   "cell_type": "markdown",
   "metadata": {
    "id": "ygYu907QCg1z"
   },
   "source": [
    "## cd,pwd"
   ]
  },
  {
   "cell_type": "code",
   "execution_count": null,
   "metadata": {
    "id": "OiC95uUyCg10",
    "outputId": "c736af21-49e6-4d8c-e54d-6fcf18e4a087"
   },
   "outputs": [
    {
     "name": "stdout",
     "output_type": "stream",
     "text": [
      "/Users/nowage/GoogleDrive_finfra/Git/NumpyAndPandas/Numpy\n",
      "/\n",
      "/Users/nowage/GoogleDrive_finfra/Git/NumpyAndPandas/Numpy\n"
     ]
    }
   ],
   "source": [
    "currentPath=os.getcwd()\n",
    "\n",
    "print (os.getcwd()) #현재 디렉토리의\n",
    "\n",
    "os.chdir(\"/\")\n",
    "\n",
    "print (os.getcwd()) #현재 디렉토리의\n",
    "\n",
    "\n",
    "os.chdir(currentPath)\n",
    "print (os.getcwd()) #현재 디렉토리의\n"
   ]
  },
  {
   "cell_type": "markdown",
   "metadata": {
    "id": "1IDERmWWCg11"
   },
   "source": [
    "## join"
   ]
  },
  {
   "cell_type": "code",
   "execution_count": null,
   "metadata": {
    "id": "RO2S4kzLCg12",
    "outputId": "681ce3f4-e394-481f-a954-7f0e76ba1810"
   },
   "outputs": [
    {
     "data": {
      "text/plain": [
       "'/Users/nowage/GoogleDrive_finfra/Git/NumpyAndPandas/Numpy/a.txt'"
      ]
     },
     "execution_count": 61,
     "metadata": {},
     "output_type": "execute_result"
    }
   ],
   "source": [
    "a_txt_path=join(currentPath,'a.txt')\n",
    "a_txt_path\n",
    "\n"
   ]
  },
  {
   "cell_type": "markdown",
   "metadata": {
    "id": "T6y-Rt-KCg12"
   },
   "source": [
    "## isfile "
   ]
  },
  {
   "cell_type": "code",
   "execution_count": null,
   "metadata": {
    "id": "LXCKlr4WCg12",
    "outputId": "debca50b-11c1-4435-de6a-b241493ec27e"
   },
   "outputs": [
    {
     "data": {
      "text/plain": [
       "True"
      ]
     },
     "execution_count": 62,
     "metadata": {},
     "output_type": "execute_result"
    }
   ],
   "source": [
    "isfile(a_txt_path)"
   ]
  },
  {
   "cell_type": "markdown",
   "metadata": {
    "id": "LafquI_LCg13"
   },
   "source": [
    "## isdir"
   ]
  },
  {
   "cell_type": "code",
   "execution_count": null,
   "metadata": {
    "id": "MuhVS4dyCg13",
    "outputId": "310298a9-38c9-4623-c614-9a1bdde6d96c"
   },
   "outputs": [
    {
     "data": {
      "text/plain": [
       "True"
      ]
     },
     "execution_count": 63,
     "metadata": {},
     "output_type": "execute_result"
    }
   ],
   "source": [
    "isdir(currentPath)"
   ]
  },
  {
   "cell_type": "markdown",
   "metadata": {
    "id": "t5z72NRxCg13"
   },
   "source": [
    "## ls"
   ]
  },
  {
   "cell_type": "code",
   "execution_count": null,
   "metadata": {
    "id": "cc9K72a6Cg14",
    "outputId": "5f81ca4d-2bc8-4b91-cd24-24f8ee2ab5b2"
   },
   "outputs": [
    {
     "name": "stdout",
     "output_type": "stream",
     "text": [
      "['.DS_Store', '01_Numpy_Intro.ipynb', '04_Numpy_Library.ipynb', 'Orignal', 'a.txt', 'README.md', '02_Numpy_Function.ipynb', '.ipynb_checkpoints', '03_Numpy_Matrix.ipynb']\n"
     ]
    }
   ],
   "source": [
    "print(os.listdir(os.getcwd()))\n"
   ]
  },
  {
   "cell_type": "code",
   "execution_count": null,
   "metadata": {
    "id": "w7ZyDUCwCg14",
    "outputId": "5026c13b-3bb3-41d6-bdea-3877db91d864"
   },
   "outputs": [
    {
     "data": {
      "text/plain": [
       "'/Users/nowage/GoogleDrive_finfra/Git/basicTech/Python'"
      ]
     },
     "execution_count": 8,
     "metadata": {},
     "output_type": "execute_result"
    }
   ],
   "source": [
    "# 현재 작업 폴더 얻기,\n",
    "os.getcwd()"
   ]
  },
  {
   "cell_type": "code",
   "execution_count": null,
   "metadata": {
    "id": "Vfal0VihCg14",
    "outputId": "ec81b4e0-8b88-42f0-c27c-a1d7a14a1855"
   },
   "outputs": [
    {
     "data": {
      "text/plain": [
       "'/Users/nowage/GoogleDrive_finfra/Git/basicTech/Python/a.txt'"
      ]
     },
     "execution_count": 15,
     "metadata": {},
     "output_type": "execute_result"
    }
   ],
   "source": [
    "# 특정 경로에 대해 절대 경로 얻기,\n",
    "os.path.abspath(\"./Scripts\")"
   ]
  },
  {
   "cell_type": "code",
   "execution_count": null,
   "metadata": {
    "id": "1VWjdq_ACg15",
    "outputId": "c28ff3de-4df6-4246-81d1-52c7355677d6"
   },
   "outputs": [
    {
     "data": {
      "text/plain": [
       "'/Users/nowage/GoogleDrive_finfra/Git/basicTech/Python'"
      ]
     },
     "execution_count": 19,
     "metadata": {},
     "output_type": "execute_result"
    }
   ],
   "source": [
    "# 경로 중 디렉토리명만 얻기,\n",
    "currentPath=os.getcwd()\n",
    "a_txt_path=join(currentPath,'a.txt')\n",
    "os.path.dirname(a_txt_path)\n"
   ]
  },
  {
   "cell_type": "code",
   "execution_count": null,
   "metadata": {
    "id": "c8cOk3XyCg15",
    "outputId": "65fc5c97-a3e2-4b3d-f323-65db35b62c70"
   },
   "outputs": [
    {
     "data": {
      "text/plain": [
       "'a.txt'"
      ]
     },
     "execution_count": 23,
     "metadata": {},
     "output_type": "execute_result"
    }
   ],
   "source": [
    "# 파일명을 얻기,\n",
    "os.path.basename(a_txt_path)"
   ]
  },
  {
   "cell_type": "code",
   "execution_count": null,
   "metadata": {
    "id": "oNDAszsmCg15",
    "outputId": "deec3674-aca8-4be4-daf1-3728dd5fccf4"
   },
   "outputs": [
    {
     "data": {
      "text/plain": [
       "('/Users/nowage/GoogleDrive_finfra/Git/basicTech/Python', 'a.txt')"
      ]
     },
     "execution_count": 24,
     "metadata": {},
     "output_type": "execute_result"
    }
   ],
   "source": [
    "# \"파일 각 경로를 나눠 리스트로 리턴하기,\n",
    "os.path.split(a_txt_path)"
   ]
  },
  {
   "cell_type": "code",
   "execution_count": null,
   "metadata": {
    "id": "50B_3-qSCg16",
    "outputId": "b2d4da06-0cf7-43f1-cf43-63545bdf675f"
   },
   "outputs": [
    {
     "data": {
      "text/plain": [
       "['',\n",
       " 'Users',\n",
       " 'nowage',\n",
       " 'GoogleDrive_finfra',\n",
       " 'Git',\n",
       " 'basicTech',\n",
       " 'Python',\n",
       " 'a.txt']"
      ]
     },
     "execution_count": 25,
     "metadata": {},
     "output_type": "execute_result"
    }
   ],
   "source": [
    "# os.path.sep은 OS별 경로 분리자\",\n",
    "a_txt_path.split(os.path.sep)"
   ]
  },
  {
   "cell_type": "code",
   "execution_count": null,
   "metadata": {
    "id": "gIPYq35DCg16",
    "outputId": "9dd1ff1b-81af-42da-d8d6-66f0cf2ea261"
   },
   "outputs": [
    {
     "data": {
      "text/plain": [
       "['3.PythonPractice_problem1.ipynb',\n",
       " '9.연습문제2.ipynb',\n",
       " '1.PythonBasic.ipynb',\n",
       " 'working',\n",
       " '4.Python-if,while,for.ipynb',\n",
       " '8.연습문제1.ipynb',\n",
       " 'orignal',\n",
       " '2.PythonIntrospection.ipynb',\n",
       " 'README.md',\n",
       " '7.PythonAdvanced.ipynb',\n",
       " '.ipynb_checkpoints',\n",
       " '5.String_Advanced.ipynb',\n",
       " '6.PythonFileProcessing.ipynb',\n",
       " 'to정리']"
      ]
     },
     "execution_count": 29,
     "metadata": {},
     "output_type": "execute_result"
    }
   ],
   "source": [
    "# 디렉토리 안의 파일/서브디렉토리 리스트,\n",
    "os.listdir(currentPath)"
   ]
  },
  {
   "cell_type": "code",
   "execution_count": null,
   "metadata": {
    "id": "Z6XPii3MCg16",
    "outputId": "72264fa3-ba56-4a50-d5b3-1bc109999066"
   },
   "outputs": [
    {
     "data": {
      "text/plain": [
       "(False, True)"
      ]
     },
     "execution_count": 35,
     "metadata": {},
     "output_type": "execute_result"
    }
   ],
   "source": [
    "# 파일 혹은 디렉토리 경로가 존재하는지 체크하기,\n",
    "os.path.exists(a_txt_path), os.path.exists(currentPath)"
   ]
  },
  {
   "cell_type": "code",
   "execution_count": null,
   "metadata": {
    "id": "OXjjs-pkCg16",
    "outputId": "7f979703-e03f-4017-867f-2e26651d0dd4"
   },
   "outputs": [
    {
     "data": {
      "text/plain": [
       "True"
      ]
     },
     "execution_count": 36,
     "metadata": {},
     "output_type": "execute_result"
    }
   ],
   "source": [
    "# 디렉토리 경로가 존재하는지 체크하기,\n",
    "os.path.isdir(currentPath)"
   ]
  },
  {
   "cell_type": "code",
   "execution_count": null,
   "metadata": {
    "id": "QZEGVIQvCg17",
    "outputId": "019392a9-e457-4947-b9ba-4d620615fc17"
   },
   "outputs": [
    {
     "data": {
      "text/plain": [
       "False"
      ]
     },
     "execution_count": 37,
     "metadata": {},
     "output_type": "execute_result"
    }
   ],
   "source": [
    "# 파일 경로가 존재하는지 체크하기,\n",
    "os.path.isfile(a_txt_path)"
   ]
  },
  {
   "cell_type": "code",
   "execution_count": null,
   "metadata": {
    "id": "Co0I6c7TCg17",
    "outputId": "178754a3-84d5-45b4-80da-5ca23aa3e72a"
   },
   "outputs": [
    {
     "data": {
      "text/plain": [
       "5"
      ]
     },
     "execution_count": 39,
     "metadata": {},
     "output_type": "execute_result"
    }
   ],
   "source": [
    "# 파일의 크기,\n",
    "!echo \"1234\">{a_txt_path}\n",
    "os.path.getsize(a_txt_path)"
   ]
  },
  {
   "cell_type": "code",
   "execution_count": null,
   "metadata": {
    "id": "8lw4VE2dCg17"
   },
   "outputs": [],
   "source": []
  },
  {
   "cell_type": "code",
   "execution_count": null,
   "metadata": {
    "id": "63b2WDAcCg17"
   },
   "outputs": [],
   "source": []
  },
  {
   "cell_type": "code",
   "execution_count": null,
   "metadata": {
    "id": "mYpvHM9UCg17"
   },
   "outputs": [],
   "source": []
  },
  {
   "cell_type": "code",
   "execution_count": null,
   "metadata": {
    "id": "8XpA13e2Cg17"
   },
   "outputs": [],
   "source": []
  },
  {
   "cell_type": "code",
   "execution_count": null,
   "metadata": {
    "id": "pOsUoGVQCg17"
   },
   "outputs": [],
   "source": []
  },
  {
   "cell_type": "code",
   "execution_count": null,
   "metadata": {
    "id": "_K8QGXPkCg17"
   },
   "outputs": [],
   "source": []
  },
  {
   "cell_type": "code",
   "execution_count": null,
   "metadata": {
    "id": "qvud6nVvCg18"
   },
   "outputs": [],
   "source": []
  },
  {
   "cell_type": "markdown",
   "metadata": {
    "id": "QAlkCbeyCg18"
   },
   "source": [
    "# pathlib.Path\n",
    "* Manual : <https://docs.python.org/3/library/pathlib.html>\n",
    "\n"
   ]
  },
  {
   "cell_type": "code",
   "execution_count": null,
   "metadata": {
    "id": "GnOEABdECg18",
    "outputId": "a63278f8-3187-41fd-bae4-6c2d292cc172"
   },
   "outputs": [
    {
     "data": {
      "text/plain": [
       "PosixPath('/usr/local/lib/python3.8')"
      ]
     },
     "execution_count": 4,
     "metadata": {},
     "output_type": "execute_result"
    }
   ],
   "source": [
    "from pathlib import Path\n",
    "parentPath=Path(basePath).parent\n",
    "# join(os.path.abspath( join(basePath,\"..\") )\n",
    "parentPath"
   ]
  },
  {
   "cell_type": "markdown",
   "metadata": {},
   "source": [
    "## Mkdir\n"
   ]
  },
  {
   "cell_type": "code",
   "execution_count": 3,
   "metadata": {},
   "outputs": [],
   "source": [
    "import os\n",
    "directory='/tmp/xx/yy'\n",
    "if not os.path.exists(directory):\n",
    "    os.makedirs(directory)"
   ]
  },
  {
   "cell_type": "code",
   "execution_count": 4,
   "metadata": {},
   "outputs": [
    {
     "name": "stdout",
     "output_type": "stream",
     "text": [
      "\u001B[1m\u001B[34myy\u001B[m\u001B[m\n"
     ]
    }
   ],
   "source": [
    "!ls /tmp/xx"
   ]
  },
  {
   "cell_type": "markdown",
   "metadata": {
    "id": "X6P_n-xMCg18"
   },
   "source": [
    "# Examples\n",
    "## full example"
   ]
  },
  {
   "cell_type": "code",
   "execution_count": null,
   "metadata": {
    "id": "EXQ5HqAUCg18"
   },
   "outputs": [],
   "source": [
    "import os\n",
    "import sys\n",
    "from pathlib import Path\n",
    "\n",
    "basePath=os.path.dirname(sys.argv[0])\n",
    "\n",
    "childPath=os.path.join(basePath,\"test\")\n",
    "\n",
    "os.makedirs(childPath)\n",
    "print(os.listdir(basePath))\n",
    "parentPath=Path(basePath).parent\n",
    "# join(os.path.abspath( join(basePath,\"..\") )\n",
    "executedPath=os.getcwd()\n",
    "\n",
    "os.path.isdir(basePath)\n",
    "\n",
    "os.path.isfile(basePath)\n"
   ]
  },
  {
   "cell_type": "code",
   "execution_count": null,
   "metadata": {
    "id": "pIKVdhUCCg18"
   },
   "outputs": [],
   "source": []
  }
 ],
 "metadata": {
  "colab": {
   "name": "6.PythonFileProcessing.ipynb",
   "provenance": [],
   "toc_visible": true
  },
  "kernelspec": {
   "display_name": "Python 3 (ipykernel)",
   "language": "python",
   "name": "python3"
  },
  "language_info": {
   "codemirror_mode": {
    "name": "ipython",
    "version": 3
   },
   "file_extension": ".py",
   "mimetype": "text/x-python",
   "name": "python",
   "nbconvert_exporter": "python",
   "pygments_lexer": "ipython3",
   "version": "3.8.9"
  }
 },
 "nbformat": 4,
 "nbformat_minor": 4
}