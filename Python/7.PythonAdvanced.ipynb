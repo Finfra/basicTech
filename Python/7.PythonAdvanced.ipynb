<<<<<<< HEAD
{"nbformat":4,"nbformat_minor":0,"metadata":{"kernelspec":{"display_name":"Python 3","language":"python","name":"python3"},"language_info":{"codemirror_mode":{"name":"ipython","version":3},"file_extension":".py","mimetype":"text/x-python","name":"python","nbconvert_exporter":"python","pygments_lexer":"ipython3","version":"3.8.9"},"toc-autonumbering":false,"toc-showmarkdowntxt":true,"toc-showtags":false,"colab":{"name":"7.PythonAdvanced.ipynb","provenance":[],"toc_visible":true}},"cells":[{"cell_type":"markdown","metadata":{"id":"r0B87XHpwti2"},"source":["# Major Function"]},{"cell_type":"markdown","metadata":{"id":"qorSLlhzwti8"},"source":["## Exception\n","* Exception list : https://docs.python.org/3/library/exceptions.html\n","\n","### Basic Example"]},{"cell_type":"code","metadata":{"colab":{"base_uri":"https://localhost:8080/"},"id":"BrUsgb8ewti9","executionInfo":{"status":"ok","timestamp":1633593743777,"user_tz":-540,"elapsed":321,"user":{"displayName":"김성국","photoUrl":"https://lh3.googleusercontent.com/a/default-user=s64","userId":"14454204284131910272"}},"outputId":"8c061ba9-b66e-4fc3-e2ca-5c6aed7f4df8"},"source":["i=1\n","try:\n","    print(1/(3-i)^10)\n","except  ZeroDivisionError as err:\n","    print(\"0으로 나누지 마세요.\")\n","    print(err)\n","    print(err.args)\n","except TypeError:\n","    print(\"type err\")\n","except  Exception as err:\n","    print(\"--------------------\")\n","    logging.exception('')\n","    print(\"--------------------\")\n","    print(err.args)\n","else:\n","    print(\"None Error\")\n","finally:\n","    print(\"--------------------\")"],"execution_count":42,"outputs":[{"output_type":"stream","name":"stdout","text":["type err\n","--------------------\n"]}]},{"cell_type":"markdown","metadata":{"id":"AA_94WIbwti_"},"source":["### Raise"]},{"cell_type":"code","metadata":{"colab":{"base_uri":"https://localhost:8080/"},"id":"HG5wES88wtjA","executionInfo":{"status":"ok","timestamp":1633593744751,"user_tz":-540,"elapsed":540,"user":{"displayName":"김성국","photoUrl":"https://lh3.googleusercontent.com/a/default-user=s64","userId":"14454204284131910272"}},"outputId":"5e6e7b92-e10c-4140-9161-477fa7f8d6f8"},"source":["try:\n","    raise Exception('spam', 'eggs')\n","except Exception as inst:\n","    print(type(inst))    # the exception instance\n","    print(inst.args)     # arguments stored in .args\n","    print(inst)          # __str__ allows args to be printed directly,\n","                         # but may be overridden in exception subclasses\n","    x, y = inst.args     # unpack args\n","    print('x =', x)\n","    print('y =', y)\n","\n"],"execution_count":43,"outputs":[{"output_type":"stream","name":"stdout","text":["<class 'Exception'>\n","('spam', 'eggs')\n","('spam', 'eggs')\n","x = spam\n","y = eggs\n"]}]},{"cell_type":"markdown","metadata":{"id":"isDr0tY2wtjB"},"source":["## Lambda"]},{"cell_type":"markdown","metadata":{"id":"wjxy8lMzwtjB"},"source":["### Lamdba Operator"]},{"cell_type":"code","metadata":{"colab":{"base_uri":"https://localhost:8080/"},"id":"OK0lEjTSwtjC","executionInfo":{"status":"ok","timestamp":1633593744751,"user_tz":-540,"elapsed":25,"user":{"displayName":"김성국","photoUrl":"https://lh3.googleusercontent.com/a/default-user=s64","userId":"14454204284131910272"}},"outputId":"474b7e9b-fd41-46e0-d20f-ffdf6b2a8201"},"source":["f=lambda x: x**2\n","f(3)"],"execution_count":44,"outputs":[{"output_type":"execute_result","data":{"text/plain":["9"]},"metadata":{},"execution_count":44}]},{"cell_type":"code","metadata":{"colab":{"base_uri":"https://localhost:8080/"},"id":"JRurl299wtjD","executionInfo":{"status":"ok","timestamp":1633593744751,"user_tz":-540,"elapsed":23,"user":{"displayName":"김성국","photoUrl":"https://lh3.googleusercontent.com/a/default-user=s64","userId":"14454204284131910272"}},"outputId":"c6392c89-26f8-4204-dfad-7a8bf5769b14"},"source":["def inc(n):\n"," return lambda x: x + n\n","\n","f=inc(2)\n","\n","print(f(12))\n","\n","print(inc(2)(12))\n","\n","# 출처: https://offbyone.tistory.com/73 [쉬고 싶은 개발자]"],"execution_count":45,"outputs":[{"output_type":"stream","name":"stdout","text":["14\n","14\n"]}]},{"cell_type":"markdown","metadata":{"id":"EXL83ROgwtjE"},"source":["### Map\n"]},{"cell_type":"code","metadata":{"colab":{"base_uri":"https://localhost:8080/"},"id":"9L1qjLT9wtjF","executionInfo":{"status":"ok","timestamp":1633593744752,"user_tz":-540,"elapsed":22,"user":{"displayName":"김성국","photoUrl":"https://lh3.googleusercontent.com/a/default-user=s64","userId":"14454204284131910272"}},"outputId":"74747c55-02b2-4048-99c4-b9634f2df983"},"source":["a=[1, 2, 3, 4]\n","b=[10,20,30,40]\n","list(map(lambda x, y:x+y, a,b))\n"],"execution_count":46,"outputs":[{"output_type":"execute_result","data":{"text/plain":["[11, 22, 33, 44]"]},"metadata":{},"execution_count":46}]},{"cell_type":"markdown","metadata":{"id":"QZJQsRSGwtjG"},"source":["### Filter"]},{"cell_type":"code","metadata":{"colab":{"base_uri":"https://localhost:8080/"},"id":"72U4W_KXwtjG","executionInfo":{"status":"ok","timestamp":1633593744752,"user_tz":-540,"elapsed":20,"user":{"displayName":"김성국","photoUrl":"https://lh3.googleusercontent.com/a/default-user=s64","userId":"14454204284131910272"}},"outputId":"a9adac71-b058-44ab-ad42-4b0f81b1b347"},"source":["foo = [2, 18, 9, 22, 17, 24, 8, 12, 27]\n","list( filter(lambda x: x % 3 == 0, foo))"],"execution_count":47,"outputs":[{"output_type":"execute_result","data":{"text/plain":["[18, 9, 24, 12, 27]"]},"metadata":{},"execution_count":47}]},{"cell_type":"markdown","metadata":{"id":"Ias5YYiDwtjH"},"source":["### Reduce"]},{"cell_type":"code","metadata":{"colab":{"base_uri":"https://localhost:8080/"},"id":"XAQGqrvuwtjH","executionInfo":{"status":"ok","timestamp":1633593744752,"user_tz":-540,"elapsed":17,"user":{"displayName":"김성국","photoUrl":"https://lh3.googleusercontent.com/a/default-user=s64","userId":"14454204284131910272"}},"outputId":"01c3d79d-6e25-4714-bcf4-132807c9a759"},"source":["from functools import reduce\n","reduce(lambda x,y: x+y, [1,2,3,4,5])\n"],"execution_count":48,"outputs":[{"output_type":"execute_result","data":{"text/plain":["15"]},"metadata":{},"execution_count":48}]},{"cell_type":"code","metadata":{"id":"9weW9h16wtjI","executionInfo":{"status":"ok","timestamp":1633593744753,"user_tz":-540,"elapsed":16,"user":{"displayName":"김성국","photoUrl":"https://lh3.googleusercontent.com/a/default-user=s64","userId":"14454204284131910272"}}},"source":[""],"execution_count":48,"outputs":[]},{"cell_type":"code","metadata":{"id":"ICsOBxtmwtjI","executionInfo":{"status":"ok","timestamp":1633593744753,"user_tz":-540,"elapsed":15,"user":{"displayName":"김성국","photoUrl":"https://lh3.googleusercontent.com/a/default-user=s64","userId":"14454204284131910272"}}},"source":[""],"execution_count":48,"outputs":[]},{"cell_type":"markdown","metadata":{"id":"xIWX07VowtjJ"},"source":["### python2"]},{"cell_type":"code","metadata":{"id":"fm6lwitLwtjJ","executionInfo":{"status":"ok","timestamp":1633593744753,"user_tz":-540,"elapsed":15,"user":{"displayName":"김성국","photoUrl":"https://lh3.googleusercontent.com/a/default-user=s64","userId":"14454204284131910272"}}},"source":["# map(lambda x: x**2, [0,1,2,3])\n","# reduce(lambda x,y: x+y, [0,1,2,3])\n","# filter(lambda x: x < 5, range(10))"],"execution_count":49,"outputs":[]},{"cell_type":"markdown","metadata":{"id":"E_s-3wvBwtjJ"},"source":["# Builtin Function"]},{"cell_type":"markdown","metadata":{"id":"jXVOjc7GwtjK"},"source":["## eval\n","* 문자열을 코드로 실행 가능하게 함. "]},{"cell_type":"code","metadata":{"colab":{"base_uri":"https://localhost:8080/"},"id":"_P0hRiJ7wtjK","executionInfo":{"status":"ok","timestamp":1633593744754,"user_tz":-540,"elapsed":16,"user":{"displayName":"김성국","photoUrl":"https://lh3.googleusercontent.com/a/default-user=s64","userId":"14454204284131910272"}},"outputId":"19eac35f-c11e-4638-ab12-13e05581895f"},"source":["x=3\n","str='3+x'\n","print(eval(str))"],"execution_count":50,"outputs":[{"output_type":"stream","name":"stdout","text":["6\n"]}]},{"cell_type":"markdown","metadata":{"id":"xUeUOnONwtjL"},"source":["* 단, 변수를 정의할때는 안되므로, local()['변수명']으로 사용"]},{"cell_type":"code","metadata":{"id":"3tPEnLZ4wtjL","executionInfo":{"status":"ok","timestamp":1633593744754,"user_tz":-540,"elapsed":14,"user":{"displayName":"김성국","photoUrl":"https://lh3.googleusercontent.com/a/default-user=s64","userId":"14454204284131910272"}}},"source":["#fail : eval('y=1')\n","locals()['y'] = 1"],"execution_count":51,"outputs":[]},{"cell_type":"code","metadata":{"id":"mokCjLWDwtjL","executionInfo":{"status":"ok","timestamp":1633593744754,"user_tz":-540,"elapsed":14,"user":{"displayName":"김성국","photoUrl":"https://lh3.googleusercontent.com/a/default-user=s64","userId":"14454204284131910272"}}},"source":["## zip"],"execution_count":52,"outputs":[]},{"cell_type":"code","metadata":{"colab":{"base_uri":"https://localhost:8080/"},"id":"ZK-Yatr6wtjM","executionInfo":{"status":"ok","timestamp":1633593744754,"user_tz":-540,"elapsed":13,"user":{"displayName":"김성국","photoUrl":"https://lh3.googleusercontent.com/a/default-user=s64","userId":"14454204284131910272"}},"outputId":"18a9cca0-d3b5-4f5a-c70d-5f49a5f98b77"},"source":["a=[1,2,3]\n","b=[4,5,6]\n","[i for  i in zip(a,b)]"],"execution_count":53,"outputs":[{"output_type":"execute_result","data":{"text/plain":["[(1, 4), (2, 5), (3, 6)]"]},"metadata":{},"execution_count":53}]},{"cell_type":"markdown","metadata":{"id":"ncMeHKuuwtjM"},"source":["## struct\n","- Python 문자열로 표현된 C structs와 Python Value 간의 변환\n","- Link : http://hextracker.tistory.com/141\n","- 특징\n","    + 파일에 Binary Data를 저장하거나 Network Connection 시 사용\n","- 주요 Fuction\n","    + struct.pack(fmt,v1,v2,...)\n","        지정된 Format에 따라 v1,v2,..의 Values를 Pack을 수행하며 그 결과는 String으로 리턴\n","\n","    + struct.unpack(fmt,string)\n","        지정된 Format에 따라 String을 Unpack을 수행하며 그 결과는 Tuple로 리턴"]},{"cell_type":"code","metadata":{"colab":{"base_uri":"https://localhost:8080/"},"id":"5pQl9auHwtjN","executionInfo":{"status":"ok","timestamp":1633593744755,"user_tz":-540,"elapsed":14,"user":{"displayName":"김성국","photoUrl":"https://lh3.googleusercontent.com/a/default-user=s64","userId":"14454204284131910272"}},"outputId":"bf019a69-413b-464f-dd32-26f1a5eb14cb"},"source":["import struct\n","\n","def getDword(s, offset) :\n","    return struct.unpack(\"<L\", s[offset:offset+4])[0]\n","\n","str = b\"123456789\"\n","tmp = getDword(str,0)\n","print(hex(tmp))\n","\n"],"execution_count":54,"outputs":[{"output_type":"stream","name":"stdout","text":["0x34333231\n"]}]},{"cell_type":"markdown","metadata":{"id":"iia2WZX7wtjN"},"source":["### Byte Order\n","|Character|Byte Order           |Size     |Alignment|\n","|---------|---------------------|---------|----------|\n","| @        |Native               |Native   |Native    |\n","| =        |Native               |Standard|None      |\n","| <        |Little-Endian        |Standard|None      |\n","| >        |Big-Endian           |Standard|None      |\n","| !        |network(=Big-Endian) |Standard|None      |\n","\n","###  Format Characters\n","|Format|C Types           |Python Type        |Standard Size|\n","|------|------------------|-------------------|--------------|\n","| x    |Pad Byte          |No Value           |              |\n","| c    |char              |String of length 1 |1             |\n","| b    |signed char       |integer            |1             |\n","| B    |unsigned char     |integer            |1             |\n","| ?    |_Bool             |bool               |1             |\n","| h    |short             |integer            |2             |\n","| H    |unsigned short    |integer            |2             |\n","| i    |int               |integer            |4             |\n","| I    |unsigned int      |integer            |4             |\n","| l    |long              |integer            |4             |\n","| L    |unsigned long     |integer            |4             |\n","| q    |long long         |integer            |8             |\n","| Q    |unsigned long long|integer            |8             |\n","| f    |float             |float              |4             |\n","| d    |double            |float              |8             |\n","| s    |char[]            |string             |              |\n","| p    |char[]            |string             |              |\n","| P    |void *            |integer            |              |"]},{"cell_type":"markdown","metadata":{"id":"PNEfphaNwtjO"},"source":["# Builtin Library"]},{"cell_type":"markdown","metadata":{"id":"oeMqZC4twtjP"},"source":["## OS명령"]},{"cell_type":"code","metadata":{"colab":{"base_uri":"https://localhost:8080/"},"id":"dDuNiKm4wtjQ","executionInfo":{"status":"ok","timestamp":1633593744755,"user_tz":-540,"elapsed":13,"user":{"displayName":"김성국","photoUrl":"https://lh3.googleusercontent.com/a/default-user=s64","userId":"14454204284131910272"}},"outputId":"c12144e5-cba0-431b-a261-b755e97eca1a"},"source":["import os\n","print(os.system('touch /tmp/x123') )\n","!ls /tmp/x123"],"execution_count":55,"outputs":[{"output_type":"stream","name":"stdout","text":["0\n","/tmp/x123\n"]}]},{"cell_type":"markdown","metadata":{"id":"Dz1Q3gkOwtjQ"},"source":["## Pickle\n","* 파이썬객체를 저장하고 읽음. "]},{"cell_type":"code","metadata":{"colab":{"base_uri":"https://localhost:8080/"},"id":"CeuhoVy5wtjQ","executionInfo":{"status":"ok","timestamp":1633593744755,"user_tz":-540,"elapsed":11,"user":{"displayName":"김성국","photoUrl":"https://lh3.googleusercontent.com/a/default-user=s64","userId":"14454204284131910272"}},"outputId":"c05d983d-eeea-42ce-c8a0-e324a0d67592"},"source":["import pickle\n","\n","thePath=\"/tmp/tmp\"\n","obj=[1,2,3,4]\n","with open(thePath, \"wb\") as f:\n","  pickle.dump(obj,f)\n","\n","\n","with open(thePath, \"rb\") as f:\n","    obj2 = pickle.load(f)\n","\n","obj2\n","\n","\n"],"execution_count":56,"outputs":[{"output_type":"execute_result","data":{"text/plain":["[1, 2, 3, 4]"]},"metadata":{},"execution_count":56}]},{"cell_type":"markdown","metadata":{"id":"HHMg_4LwwtjR"},"source":["## Default Dict\n","* 없는 키값을 리턴해도 에러를 발생시키기 않는 Dictionary"]},{"cell_type":"code","metadata":{"id":"RjaX-bCswtjR","executionInfo":{"status":"ok","timestamp":1633593744755,"user_tz":-540,"elapsed":11,"user":{"displayName":"김성국","photoUrl":"https://lh3.googleusercontent.com/a/default-user=s64","userId":"14454204284131910272"}}},"source":["from collections import defaultdict\n","d=defaultdict(lambda: None)\n","d[\"a\"]       # no error, return None\n","\n"],"execution_count":57,"outputs":[]},{"cell_type":"code","metadata":{"colab":{"base_uri":"https://localhost:8080/"},"id":"EbKeqyTOwtjS","executionInfo":{"status":"ok","timestamp":1633593744756,"user_tz":-540,"elapsed":11,"user":{"displayName":"김성국","photoUrl":"https://lh3.googleusercontent.com/a/default-user=s64","userId":"14454204284131910272"}},"outputId":"1e87442d-927f-4682-c580-cca591b4e54d"},"source":["d[\"b\"]=3\n","d.keys()"],"execution_count":58,"outputs":[{"output_type":"execute_result","data":{"text/plain":["dict_keys(['a', 'b'])"]},"metadata":{},"execution_count":58}]},{"cell_type":"code","metadata":{"colab":{"base_uri":"https://localhost:8080/"},"id":"wKZFw-KlwtjS","executionInfo":{"status":"ok","timestamp":1633593744756,"user_tz":-540,"elapsed":11,"user":{"displayName":"김성국","photoUrl":"https://lh3.googleusercontent.com/a/default-user=s64","userId":"14454204284131910272"}},"outputId":"9f0dc952-390a-461d-9a5c-ca2873bbd90c"},"source":["print(d[\"c\"])\n","d.keys()"],"execution_count":59,"outputs":[{"output_type":"stream","name":"stdout","text":["None\n"]},{"output_type":"execute_result","data":{"text/plain":["dict_keys(['a', 'b', 'c'])"]},"metadata":{},"execution_count":59}]},{"cell_type":"markdown","metadata":{"id":"gWDtXZdEwtjS"},"source":["## Regular Expression"]},{"cell_type":"code","metadata":{"id":"l2lzd6QawtjS","executionInfo":{"status":"ok","timestamp":1633593745436,"user_tz":-540,"elapsed":35,"user":{"displayName":"김성국","photoUrl":"https://lh3.googleusercontent.com/a/default-user=s64","userId":"14454204284131910272"}}},"source":["import re"],"execution_count":60,"outputs":[]},{"cell_type":"markdown","metadata":{"id":"mSr5r5NXwtjT"},"source":["### re.escape"]},{"cell_type":"markdown","metadata":{"id":"GUKx9_a0wtjT"},"source":["### re.findall"]},{"cell_type":"code","metadata":{"colab":{"base_uri":"https://localhost:8080/"},"id":"3kZBHUb5wtjU","executionInfo":{"status":"ok","timestamp":1633593745437,"user_tz":-540,"elapsed":34,"user":{"displayName":"김성국","photoUrl":"https://lh3.googleusercontent.com/a/default-user=s64","userId":"14454204284131910272"}},"outputId":"3757ddce-ea52-4bb5-e7f0-d00f15a46e00"},"source":["re.findall('a','apache')\n","# ['a', 'a']"],"execution_count":61,"outputs":[{"output_type":"execute_result","data":{"text/plain":["['a', 'a']"]},"metadata":{},"execution_count":61}]},{"cell_type":"markdown","metadata":{"id":"MJ5GXMlawtjU"},"source":["#### MultiLine Examples"]},{"cell_type":"code","metadata":{"colab":{"base_uri":"https://localhost:8080/"},"id":"w0kuaSyWwtjU","executionInfo":{"status":"ok","timestamp":1633593745441,"user_tz":-540,"elapsed":37,"user":{"displayName":"김성국","photoUrl":"https://lh3.googleusercontent.com/a/default-user=s64","userId":"14454204284131910272"}},"outputId":"d19072e3-374f-40c1-9936-540ee1138a35"},"source":["import re\n","s='''\n","aa\n","bbb cc\n","dd\n","'''\n","re.findall('bb.*$',s,re.DOTALL)"],"execution_count":62,"outputs":[{"output_type":"execute_result","data":{"text/plain":["['bbb cc\\ndd\\n']"]},"metadata":{},"execution_count":62}]},{"cell_type":"markdown","metadata":{"id":"AeSoX8AvwtjV"},"source":["### re.finditer"]},{"cell_type":"markdown","metadata":{"id":"Jn4HKyXTwtjV"},"source":["### re.fullmatch"]},{"cell_type":"markdown","metadata":{"id":"r7d2BykVwtjV"},"source":["### re.functools"]},{"cell_type":"markdown","metadata":{"id":"hAacdkIKwtjV"},"source":["### re.match\n","* 주의 정확히 일치 해야 함."]},{"cell_type":"code","metadata":{"colab":{"base_uri":"https://localhost:8080/"},"id":"sk4Lp2W4wtjW","executionInfo":{"status":"ok","timestamp":1633593745441,"user_tz":-540,"elapsed":35,"user":{"displayName":"김성국","photoUrl":"https://lh3.googleusercontent.com/a/default-user=s64","userId":"14454204284131910272"}},"outputId":"a213c06a-7313-45fa-a533-a5ea044091a7"},"source":["p=re.compile('[a-z]+')\n","if p.match(\"python\"):\n","  print('Match')\n","\n","\n","if not re.match('a$',\"ca\"):\n","     print(\"Match\")\n","else:\n","     print(\"NoMatch\") # <==요게 나옴 정확히 않맞으니까."],"execution_count":63,"outputs":[{"output_type":"stream","name":"stdout","text":["Match\n","Match\n"]}]},{"cell_type":"markdown","metadata":{"id":"B3fWlcN1wtjW"},"source":["### re.search/compile/group\n","* match Object의 메서드들\n","    - Method,  Descrption\n","    - group(), 일치된 문자열을 반환한다.\n","    - start(), 일치된 문자열의 시작 위치를 반환한다.\n","    - end(),   일치된 문자열의 끝 위치를 반환한다.\n","    - span(),  일치된 문자열의 (시작 위치, 끝 위치) 튜플을 반환한다.\n","* Example Simple\n","\n"]},{"cell_type":"code","metadata":{"colab":{"base_uri":"https://localhost:8080/","height":0},"id":"8kQ1PaSIwtjW","executionInfo":{"status":"ok","timestamp":1633593745443,"user_tz":-540,"elapsed":36,"user":{"displayName":"김성국","photoUrl":"https://lh3.googleusercontent.com/a/default-user=s64","userId":"14454204284131910272"}},"outputId":"d91decc4-e481-4a84-ed8b-5208ebd72e54"},"source":["regex = re.compile('(a+).*(c+)')\n","mo = regex.search('abc')\n","mo.group(2)\n","# 'c'"],"execution_count":64,"outputs":[{"output_type":"execute_result","data":{"application/vnd.google.colaboratory.intrinsic+json":{"type":"string"},"text/plain":["'c'"]},"metadata":{},"execution_count":64}]},{"cell_type":"markdown","metadata":{"id":"4dwwgHhJwtjW"},"source":["* Example Full"]},{"cell_type":"code","metadata":{"colab":{"base_uri":"https://localhost:8080/"},"id":"zSoI2JlowtjX","executionInfo":{"status":"ok","timestamp":1633593745444,"user_tz":-540,"elapsed":34,"user":{"displayName":"김성국","photoUrl":"https://lh3.googleusercontent.com/a/default-user=s64","userId":"14454204284131910272"}},"outputId":"3fa75ec8-d968-4798-94b3-4561e61f2ee3"},"source":["import re\n","\n","matchObj = re.search('s+', \"a a ss a ssss\")\n","print(matchObj)\n","\n","regex=re.compile('(a)(b)(.*)')\n","mo=regex.search('abca')\n","print(mo.group(1))\n","\n","print(matchObj.group())\n","# ss\n","print(matchObj.start())\n","# 4\n","print(matchObj.end())\n","# 6\n","print(matchObj.span())\n","# (4,6)"],"execution_count":65,"outputs":[{"output_type":"stream","name":"stdout","text":["<re.Match object; span=(4, 6), match='ss'>\n","a\n","ss\n","4\n","6\n","(4, 6)\n"]}]},{"cell_type":"markdown","metadata":{"id":"yRAmdZ1lwtjX"},"source":["### re.split"]},{"cell_type":"markdown","metadata":{"id":"8i58e61SwtjX"},"source":["### re.sub"]},{"cell_type":"code","metadata":{"colab":{"base_uri":"https://localhost:8080/","height":0},"id":"ze8L56gbwtjX","executionInfo":{"status":"ok","timestamp":1633593745446,"user_tz":-540,"elapsed":35,"user":{"displayName":"김성국","photoUrl":"https://lh3.googleusercontent.com/a/default-user=s64","userId":"14454204284131910272"}},"outputId":"d2f42520-db91-48c3-f589-c192f44f4036"},"source":["re.sub(r\"18|28\",r\"xx\",\"She is 18, her sister is 28.\")"],"execution_count":66,"outputs":[{"output_type":"execute_result","data":{"application/vnd.google.colaboratory.intrinsic+json":{"type":"string"},"text/plain":["'She is xx, her sister is xx.'"]},"metadata":{},"execution_count":66}]},{"cell_type":"code","metadata":{"colab":{"base_uri":"https://localhost:8080/"},"id":"FlwMEJ2PwtjY","executionInfo":{"status":"ok","timestamp":1633593745446,"user_tz":-540,"elapsed":34,"user":{"displayName":"김성국","photoUrl":"https://lh3.googleusercontent.com/a/default-user=s64","userId":"14454204284131910272"}},"outputId":"c6a7f328-d660-467b-e248-2ecc234aac4d"},"source":["### re.subn\n","re.subn(r\"18|28\",r\"xx\",\"She is 18, her sister is 28.\")\n","# ('She is xx, her sister is xx.', 2)\n","\n","re.subn(r\"18\",r\"xx\",\"She is 18, her sister is 28.\")\n","# ('She is xx, her sister is 28.', 1)"],"execution_count":67,"outputs":[{"output_type":"execute_result","data":{"text/plain":["('She is xx, her sister is 28.', 1)"]},"metadata":{},"execution_count":67}]},{"cell_type":"markdown","metadata":{"id":"MVH3QFMTwtjY"},"source":["### Examples"]},{"cell_type":"code","metadata":{"id":"WQqq6IV6wtjY","executionInfo":{"status":"ok","timestamp":1633593745448,"user_tz":-540,"elapsed":34,"user":{"displayName":"김성국","photoUrl":"https://lh3.googleusercontent.com/a/default-user=s64","userId":"14454204284131910272"}}},"source":["import re\n","operater = '[\\+|\\-|\\/|\\*|\\(|\\)]+'\n","e=\"(3+4)*5\"\n","operaters=re.findall(operater,e)\n","variables=re.split(operater, e)\n"],"execution_count":68,"outputs":[]},{"cell_type":"markdown","metadata":{"id":"bxckoHcTwtjZ"},"source":["## json"]},{"cell_type":"code","metadata":{"id":"PPCV5ZfmwtjZ","executionInfo":{"status":"ok","timestamp":1633593745448,"user_tz":-540,"elapsed":34,"user":{"displayName":"김성국","photoUrl":"https://lh3.googleusercontent.com/a/default-user=s64","userId":"14454204284131910272"}}},"source":["!echo '{\"aa\":1,\"bb\":[1,2,3]}' > \"/tmp/xx.json\""],"execution_count":69,"outputs":[]},{"cell_type":"code","metadata":{"colab":{"base_uri":"https://localhost:8080/"},"id":"_oehyJN2wtjZ","executionInfo":{"status":"ok","timestamp":1633593745450,"user_tz":-540,"elapsed":35,"user":{"displayName":"김성국","photoUrl":"https://lh3.googleusercontent.com/a/default-user=s64","userId":"14454204284131910272"}},"outputId":"dc26e2b5-23f6-47d2-99fc-b6e8a13717ba"},"source":["import json\n","json_data=open('/tmp/xx.json').read()\n","d=json.loads(json_data)\n","print(d)\n","print(d['bb'])"],"execution_count":70,"outputs":[{"output_type":"stream","name":"stdout","text":["{'aa': 1, 'bb': [1, 2, 3]}\n","[1, 2, 3]\n"]}]},{"cell_type":"markdown","metadata":{"id":"-oPshisbwtja"},"source":["## dateutil\n","* String to Date"]},{"cell_type":"code","metadata":{"colab":{"base_uri":"https://localhost:8080/"},"id":"dgBCrgJDwtja","executionInfo":{"status":"ok","timestamp":1633593745451,"user_tz":-540,"elapsed":34,"user":{"displayName":"김성국","photoUrl":"https://lh3.googleusercontent.com/a/default-user=s64","userId":"14454204284131910272"}},"outputId":"234961c2-5bc4-4491-a73a-deeb515b4f98"},"source":["from dateutil.parser import parse\n","parse('2000-01-01')"],"execution_count":71,"outputs":[{"output_type":"execute_result","data":{"text/plain":["datetime.datetime(2000, 1, 1, 0, 0)"]},"metadata":{},"execution_count":71}]},{"cell_type":"markdown","metadata":{"id":"RU1ZGpHBwtja"},"source":["* Date add"]},{"cell_type":"code","metadata":{"colab":{"base_uri":"https://localhost:8080/"},"id":"Yb7cAns8wtja","executionInfo":{"status":"ok","timestamp":1633593745452,"user_tz":-540,"elapsed":34,"user":{"displayName":"김성국","photoUrl":"https://lh3.googleusercontent.com/a/default-user=s64","userId":"14454204284131910272"}},"outputId":"8dcd3137-3d82-428e-c0e0-1d6cc55f58d5"},"source":["import datetime\n","from dateutil.parser import parse\n","d=parse('2010-01-01')-parse('2000-01-01')\n","print(d)\n","print(parse('2010-01-01') + datetime.timedelta(days=10) )"],"execution_count":72,"outputs":[{"output_type":"stream","name":"stdout","text":["3653 days, 0:00:00\n","2010-01-11 00:00:00\n"]}]},{"cell_type":"markdown","metadata":{"id":"rXp_eCXjwtja"},"source":["## pdb\n","* Source : http://pythonstudy.xyz/python/article/505-Python-디버깅-PDB\n","```\n","import pdb; pdb.set_trace()\n","```\n","### PDB Syntax\n","\n","|PDB     |명령어\t실행내용                           |\n","|--------|-----------------------------------|\n","|help    |도움말                                |\n","|next    |다음 문장으로 이동                         |\n","|print   |변수값 화면에 표시                         |\n","|list    |소스코드 리스트 출력. 현재 위치 화살표로 표시됨        |\n","|where   |콜스택 출력                             |\n","|continue|계속 실행. 다음 중단점에 멈추거나 중단점 없으면 끝까지 실행|\n","|step    |Step Into 하여 함수 내부로 들어감            |\n","|return  |현재 함수의 리턴 직전까지 실행                  |\n","|!변수명 = 값|변수에 값 재설정                          |"]},{"cell_type":"markdown","metadata":{"id":"LU2lEHYJwtjb"},"source":["## subprocess"]},{"cell_type":"code","metadata":{"colab":{"base_uri":"https://localhost:8080/","height":0},"id":"oBsG01wawtjb","executionInfo":{"status":"ok","timestamp":1633593745453,"user_tz":-540,"elapsed":34,"user":{"displayName":"김성국","photoUrl":"https://lh3.googleusercontent.com/a/default-user=s64","userId":"14454204284131910272"}},"outputId":"1846216b-cdac-4553-8bf7-9e7330c828e4"},"source":["import subprocess\n","p = subprocess.Popen('df -h', shell=True, stdout=subprocess.PIPE)\n","p.communicate()[0].decode('utf-8')\n","# python2 :  print(str(p.communicate()[0], 'utf-8'))"],"execution_count":73,"outputs":[{"output_type":"execute_result","data":{"application/vnd.google.colaboratory.intrinsic+json":{"type":"string"},"text/plain":["'Filesystem      Size  Used Avail Use% Mounted on\\noverlay         108G   44G   65G  41% /\\ntmpfs            64M     0   64M   0% /dev\\ntmpfs           6.4G     0  6.4G   0% /sys/fs/cgroup\\nshm             5.9G     0  5.9G   0% /dev/shm\\n/dev/root       2.0G  1.2G  821M  59% /sbin/docker-init\\ntmpfs           6.4G   28K  6.4G   1% /var/colab\\n/dev/sda1        81G   48G   33G  60% /etc/hosts\\ntmpfs           6.4G     0  6.4G   0% /proc/acpi\\ntmpfs           6.4G     0  6.4G   0% /proc/scsi\\ntmpfs           6.4G     0  6.4G   0% /sys/firmware\\n'"]},"metadata":{},"execution_count":73}]},{"cell_type":"markdown","metadata":{"id":"MI3HJDfZwtjb"},"source":["## Requests"]},{"cell_type":"markdown","metadata":{"id":"eGpEP5Cswtjb"},"source":["* Example from : https://gosmcom.tistory.com/130"]},{"cell_type":"markdown","metadata":{"id":"AQwahwXIwtjc"},"source":["### Request Example"]},{"cell_type":"code","metadata":{"id":"LXJBd5iCwtjc","executionInfo":{"status":"ok","timestamp":1633593745454,"user_tz":-540,"elapsed":33,"user":{"displayName":"김성국","photoUrl":"https://lh3.googleusercontent.com/a/default-user=s64","userId":"14454204284131910272"}}},"source":["import requests\n","r = requests.get('https://api.github.com/events')"],"execution_count":74,"outputs":[]},{"cell_type":"code","metadata":{"id":"-6CvPy0Xwtjc","executionInfo":{"status":"ok","timestamp":1633593745777,"user_tz":-540,"elapsed":356,"user":{"displayName":"김성국","photoUrl":"https://lh3.googleusercontent.com/a/default-user=s64","userId":"14454204284131910272"}}},"source":["r = requests.post('https://httpbin.org/post', data = {'key':'value'})"],"execution_count":75,"outputs":[]},{"cell_type":"code","metadata":{"id":"xsA9Tjf-wtjc","executionInfo":{"status":"ok","timestamp":1633593745778,"user_tz":-540,"elapsed":19,"user":{"displayName":"김성국","photoUrl":"https://lh3.googleusercontent.com/a/default-user=s64","userId":"14454204284131910272"}}},"source":["r = requests.put('https://httpbin.org/put', data = {'key':'value'})"],"execution_count":76,"outputs":[]},{"cell_type":"code","metadata":{"id":"XY6ICAPIwtjc","executionInfo":{"status":"ok","timestamp":1633593745780,"user_tz":-540,"elapsed":19,"user":{"displayName":"김성국","photoUrl":"https://lh3.googleusercontent.com/a/default-user=s64","userId":"14454204284131910272"}}},"source":["r = requests.delete('https://httpbin.org/delete')"],"execution_count":77,"outputs":[]},{"cell_type":"code","metadata":{"id":"FdOmwWFhwtjc","executionInfo":{"status":"ok","timestamp":1633593745781,"user_tz":-540,"elapsed":14,"user":{"displayName":"김성국","photoUrl":"https://lh3.googleusercontent.com/a/default-user=s64","userId":"14454204284131910272"}}},"source":["r = requests.head('https://httpbin.org/get')"],"execution_count":78,"outputs":[]},{"cell_type":"code","metadata":{"id":"R_HS2rY6wtjc","executionInfo":{"status":"ok","timestamp":1633593746094,"user_tz":-540,"elapsed":325,"user":{"displayName":"김성국","photoUrl":"https://lh3.googleusercontent.com/a/default-user=s64","userId":"14454204284131910272"}}},"source":["r = requests.options('https://httpbin.org/get')"],"execution_count":79,"outputs":[]},{"cell_type":"markdown","metadata":{"id":"Gw_0IhjNwtjd"},"source":["### Request with Header"]},{"cell_type":"code","metadata":{"collapsed":true,"jupyter":{"outputs_hidden":true},"colab":{"base_uri":"https://localhost:8080/"},"id":"MMJjDrGkwtjd","executionInfo":{"status":"ok","timestamp":1633593747983,"user_tz":-540,"elapsed":1893,"user":{"displayName":"김성국","photoUrl":"https://lh3.googleusercontent.com/a/default-user=s64","userId":"14454204284131910272"}},"outputId":"d0fff9bf-d7aa-4f87-896f-e60758dee446"},"source":["import requests\n","url = 'http://www.ichangtou.com/#company:data_000008.html'\n","headers = {'User-Agent': 'Mozilla/5.0 (Macintosh; Intel Mac OS X 10_10_1) AppleWebKit/537.36 (KHTML, like Gecko) Chrome/39.0.2171.95 Safari/537.36'}\n","response = requests.get(url, headers=headers)\n","print(response.content)"],"execution_count":80,"outputs":[{"output_type":"stream","name":"stdout","text":["b'<!DOCTYPE html>\\r\\n<html>\\r\\n\\r\\n<head>\\r\\n\\t<meta charset=\"utf-8\">\\r\\n\\t<title>\\xe9\\x95\\xbf\\xe6\\x8a\\x95\\xe5\\xad\\xa6\\xe5\\xa0\\x82 | \\xe7\\x90\\x86\\xe8\\xb4\\xa2\\xe5\\xb0\\xb1\\xe6\\x98\\xaf\\xe7\\x90\\x86\\xe7\\x94\\x9f\\xe6\\xb4\\xbb</title>\\r\\n\\t<meta name=\"keywords\" content=\"\\xe9\\x95\\xbf\\xe6\\x8a\\x95\\xe5\\xad\\xa6\\xe5\\xa0\\x82|\\xe7\\x90\\x86\\xe8\\xb4\\xa2\\xe5\\xb0\\xb1\\xe6\\x98\\xaf\\xe7\\x90\\x86\\xe7\\x94\\x9f\\xe6\\xb4\\xbb\">\\r\\n\\t<meta name=\"description\" content=\"\\xe5\\x9b\\xbd\\xe5\\x86\\x85\\xe7\\x8e\\x87\\xe5\\x85\\x88\\xe6\\x8e\\xa8\\xe5\\x87\\xba\\xe5\\xae\\x9a\\xe5\\x88\\xb6\\xe5\\x8c\\x96\\xe8\\xaf\\xbe\\xe7\\xa8\\x8b\\xe7\\x9a\\x84\\xe5\\x9c\\xa8\\xe7\\xba\\xbf\\xe7\\x90\\x86\\xe8\\xb4\\xa2\\xe6\\x95\\x99\\xe8\\x82\\xb2\\xe6\\x9c\\xba\\xe6\\x9e\\x84\\xef\\xbc\\x8c\\xe5\\x85\\xb7\\xe5\\xa4\\x87\\xe5\\xae\\x8c\\xe5\\x96\\x84\\xe7\\x9a\\x84\\xe8\\xaf\\xbe\\xe7\\xa8\\x8b\\xe4\\xbd\\x93\\xe7\\xb3\\xbb\\xef\\xbc\\x8c\\xe5\\xb7\\xb2\\xe6\\x9c\\x89\\xe8\\xb6\\x85\\xe8\\xbf\\x87500\\xe4\\xb8\\x87\\xe7\\x94\\xa8\\xe6\\x88\\xb7\\xe5\\x9c\\xa8\\xe7\\xba\\xbf\\xe5\\xad\\xa6\\xe4\\xb9\\xa0\\xe3\\x80\\x82\">\\r\\n\\t<meta name=\"viewport\" content=\"initial-scale=1, maximum-scale=1, minimum-scale=1, user-scalable=no\">\\r\\n\\t<meta http-equiv=\"X-UA-Compatible\" content=\"IE=edge,chrome=1\" />\\r\\n\\t<meta http-equiv=\"Cache-Control\" content=\"no-siteapp\" />\\r\\n\\t<meta name=\"apple-mobile-web-app-capable\" content=\"yes\" />\\r\\n\\t<link rel=\"shortcut icon\" href=\"images/favicon.ico\" type=\"image/x-icon\" />\\r\\n\\t<link rel=\"stylesheet\" type=\"text/css\" href=\"css/reset.css\" />\\r\\n\\t<link rel=\"stylesheet\" type=\"text/css\" href=\"css/global.css\" />\\r\\n\\t<link href=\"lib/animate.min.css\" rel=\"stylesheet\">\\r\\n\\t<script src=\"lib/jquery.min.js\"></script>\\r\\n\\t<!-- swiper -->\\r\\n\\t<link href=\"lib/swiper.min.css\" rel=\"stylesheet\">\\r\\n\\t<script src=\"lib/swiper.min.js\"></script>\\r\\n\\t<!-- wow -->\\r\\n\\t<script src=\"lib/wow.min.js\"></script>\\r\\n\\t<link rel=\"stylesheet\" type=\"text/css\" href=\"css/style.css\" />\\r\\n\\t<!-- sensorsdata -->\\r\\n\\t<script src=\"./js/sensorsdata.js\" type=\"text/javascript\" charset=\"utf-8\"></script>\\r\\n\\t<script src=\"lib/tingyun-rum.js\" type=\"text/javascript\" charset=\"utf-8\"></script>\\r\\n</head>\\r\\n<style type=\"text/css\">\\r\\n\\t.window-video,\\r\\n\\t.window-video2,\\r\\n\\t.window-video3 {\\r\\n\\t\\tposition: fixed;\\r\\n\\t\\ttop: 0;\\r\\n\\t\\tleft: 0;\\r\\n\\t\\tz-index: 9;\\r\\n\\t\\twidth: 100%;\\r\\n\\t\\tmin-width: 1200px;\\r\\n\\t\\theight: 100%;\\r\\n\\t\\tbackground: rgba(0, 0, 0, 0.6);\\r\\n\\t\\topacity: 0;\\r\\n\\t\\tvisibility: hidden;\\r\\n\\t\\tdisplay: flex;\\r\\n\\t\\talign-items: center;\\r\\n\\t\\tjustify-content: center;\\r\\n\\t\\ttransition: all .3s;\\r\\n\\t}\\r\\n\\r\\n\\t.window-video-box,\\r\\n\\t.window-video-box2,\\r\\n\\t.window-video-box3 {\\r\\n\\t\\tposition: relative;\\r\\n\\t}\\r\\n\\r\\n\\t.window-video-box video,\\r\\n\\t.window-video-box2 video,\\r\\n\\t.window-video-box3 video {\\r\\n\\t\\toutline: none;\\r\\n\\t}\\r\\n\\r\\n\\t.window-video-close {\\r\\n\\t\\tposition: absolute;\\r\\n\\t\\ttop: 0;\\r\\n\\t\\tright: -68px;\\r\\n\\t\\twidth: 48px;\\r\\n\\t\\theight: 48px;\\r\\n\\t\\tborder-radius: 50%;\\r\\n\\t\\tcursor: pointer;\\r\\n\\t}\\r\\n\\r\\n\\t.show-video {\\r\\n\\t\\tvisibility: visible;\\r\\n\\t\\topacity: 1\\r\\n\\t}\\r\\n\\r\\n\\t.swiper-button-next,\\r\\n\\t.swiper-button-prev {\\r\\n\\t\\toutline: none;\\r\\n\\t\\twidth: 40px;\\r\\n\\t\\theight: 40px;\\r\\n\\t\\tbackground-size: 40px 40px;\\r\\n\\t}\\r\\n\\r\\n\\t.banner .swiper-button-prev {\\r\\n\\t\\tleft: 24px;\\r\\n\\t\\tbackground-image: url(./images/banner/l.png);\\r\\n\\t}\\r\\n\\r\\n\\t.banner .swiper-button-next {\\r\\n\\t\\tright: 24px;\\r\\n\\t\\tbackground-image: url(./images/banner/r.png);\\r\\n\\t}\\r\\n\\r\\n\\t.about-honor .swiper-button-prev {\\r\\n\\t\\tleft: -10px;\\r\\n\\t\\tbackground-image: url(./images/banner/l.png);\\r\\n\\t}\\r\\n\\r\\n\\t.about-honor .swiper-button-next {\\r\\n\\t\\tright: -10px;\\r\\n\\t\\tbackground-image: url(./images/banner/r.png);\\r\\n\\t}\\r\\n\\r\\n\\t.index-auth .swiper-button-prev {\\r\\n\\t\\tleft: -10px;\\r\\n\\t\\tbackground-image: url(./images/banner/l.png);\\r\\n\\t}\\r\\n\\r\\n\\t.index-auth .swiper-button-next {\\r\\n\\t\\tright: -10px;\\r\\n\\t\\tbackground-image: url(./images/banner/r.png);\\r\\n\\t}\\r\\n</style>\\r\\n\\r\\n<body>\\r\\n\\t<!-- ./ -->\\r\\n\\t<div class=\"window-video\">\\r\\n\\t\\t<div class=\"window-video-box\">\\r\\n\\t\\t\\t<video width=\"990\" controls=\"\" preload=\"none\">\\r\\n\\t\\t\\t\\t<source src=\"https://market-source.oss-cn-hangzhou.aliyuncs.com/video/20200506.mp4\" type=\"video/mp4\">\\r\\n\\t\\t\\t\\t</source>\\r\\n\\t\\t\\t\\t\\xe5\\xbd\\x93\\xe5\\x89\\x8d\\xe6\\xb5\\x8f\\xe8\\xa7\\x88\\xe5\\x99\\xa8\\xe4\\xb8\\x8d\\xe6\\x94\\xaf\\xe6\\x8c\\x81 video\\xe7\\x9b\\xb4\\xe6\\x8e\\xa5\\xe6\\x92\\xad\\xe6\\x94\\xbe\\r\\n\\t\\t\\t</video>\\r\\n\\t\\t</div>\\r\\n\\t</div>\\r\\n\\t<div class=\"window-video2\">\\r\\n\\t\\t<div class=\"window-video-box2\">\\r\\n\\t\\t\\t<video width=\"990\" controls=\"\" preload=\"none\">\\r\\n\\t\\t\\t\\t<source src=\"https://market-source.oss-cn-hangzhou.aliyuncs.com/video/20210126.mp4\" type=\"video/mp4\">\\r\\n\\t\\t\\t\\t</source>\\r\\n\\t\\t\\t\\t\\xe5\\xbd\\x93\\xe5\\x89\\x8d\\xe6\\xb5\\x8f\\xe8\\xa7\\x88\\xe5\\x99\\xa8\\xe4\\xb8\\x8d\\xe6\\x94\\xaf\\xe6\\x8c\\x81 video\\xe7\\x9b\\xb4\\xe6\\x8e\\xa5\\xe6\\x92\\xad\\xe6\\x94\\xbe\\r\\n\\t\\t\\t</video>\\r\\n\\t\\t</div>\\r\\n\\t</div>\\r\\n\\t<div class=\"window-video3\">\\r\\n\\t\\t<div class=\"window-video-box3\">\\r\\n\\t\\t\\t<video width=\"990\" controls=\"\" preload=\"none\">\\r\\n\\t\\t\\t\\t<source src=\"https://market-source.oss-cn-hangzhou.aliyuncs.com/video/20210202.mp4\" type=\"video/mp4\">\\r\\n\\t\\t\\t\\t</source>\\r\\n\\t\\t\\t\\t\\xe5\\xbd\\x93\\xe5\\x89\\x8d\\xe6\\xb5\\x8f\\xe8\\xa7\\x88\\xe5\\x99\\xa8\\xe4\\xb8\\x8d\\xe6\\x94\\xaf\\xe6\\x8c\\x81 video\\xe7\\x9b\\xb4\\xe6\\x8e\\xa5\\xe6\\x92\\xad\\xe6\\x94\\xbe\\r\\n\\t\\t\\t</video>\\r\\n\\t\\t</div>\\r\\n\\t</div>\\r\\n\\t<!-- ./\\xe8\\xa7\\x86\\xe9\\xa2\\x91\\xe5\\xae\\xb9\\xe5\\x99\\xa8 -->\\r\\n\\t<div class=\"header\">\\r\\n\\t\\t<div class=\"container-width clearfix\">\\r\\n\\t\\t\\t<a href=\"index.html\" class=\"fl logo\">\\r\\n\\t\\t\\t\\t<img src=\"images/logo.png\" title=\"\" alt=\"\">\\r\\n\\t\\t\\t</a>\\r\\n\\t\\t\\t<!-- ./logo -->\\r\\n\\t\\t\\t<div class=\"fr nav\">\\r\\n\\t\\t\\t\\t<ul class=\"clearfix\">\\r\\n\\t\\t\\t\\t\\t<li><a href=\"index.html\" class=\"on\">\\xe9\\xa6\\x96\\xe9\\xa1\\xb5</a></li>\\r\\n\\t\\t\\t\\t\\t<li><a href=\"project.html\">\\xe8\\xaf\\xbe\\xe7\\xa8\\x8b\\xe4\\xb8\\xad\\xe5\\xbf\\x83</a></li>\\r\\n\\t\\t\\t\\t\\t<li><a href=\"about.html\">\\xe5\\x85\\xb3\\xe4\\xba\\x8e\\xe6\\x88\\x91\\xe4\\xbb\\xac</a></li>\\r\\n\\t\\t\\t\\t\\t<li><a href=\"https://app.mokahr.com/apply/ichangtou/25919#/?_k=kwthw4\">\\xe5\\x8a\\xa0\\xe5\\x85\\xa5\\xe6\\x88\\x91\\xe4\\xbb\\xac</a></li>\\r\\n\\t\\t\\t\\t</ul>\\r\\n\\t\\t\\t</div>\\r\\n\\t\\t\\t<!-- ./nav -->\\r\\n\\t\\t</div>\\r\\n\\t</div>\\r\\n\\t<!-- ./header -->\\r\\n\\t<div class=\"banner\">\\r\\n\\t\\t<div class=\"swiper-container swiper-no-swiping\">\\r\\n\\t\\t\\t<div class=\"swiper-wrapper\">\\r\\n\\t\\t\\t\\t<!-- \\xe8\\xa7\\x86\\xe9\\xa2\\x913 -->\\r\\n\\t\\t\\t\\t<!-- <div class=\"swiper-slide clearfix\" onclick=\"Gsend(\\'\\',\\'\\xe8\\xbd\\xae\\xe6\\x92\\xad\\xe4\\xbd\\x8d9\\',\\'\\',this)\">\\r\\n\\t\\t\\t\\t\\t\\t<a href=\"javascript:;\" id=\"show-video-btn3\">\\r\\n\\t\\t\\t\\t\\t\\t\\t<div class=\"banner-position\">\\r\\n\\t\\t\\t\\t\\t\\t\\t\\t<div class=\"container-width o-hidden\">\\r\\n\\t\\t\\t\\t\\t\\t\\t\\t\\t<div class=\"banner-text ani-text\">\\r\\n\\t\\t\\t\\t\\t\\t\\t\\t\\t\\t<h3>\\xe7\\x90\\x86\\xe8\\xb4\\xa2\\xe5\\xb0\\xb1\\xe6\\x98\\xaf\\xe7\\x90\\x86\\xe7\\x94\\x9f\\xe6\\xb4\\xbb</h3>\\r\\n\\t\\t\\t\\t\\t\\t\\t\\t\\t\\t<p>\\r\\n\\t\\t\\t\\t\\t\\t\\t\\t\\t\\t\\t\\xe5\\x8d\\x81\\xe5\\xb9\\xb4\\xe6\\x8b\\xa5\\xe6\\x9c\\x89\\xe8\\xb6\\x85500\\xe4\\xb8\\x87\\xe7\\x94\\xa8\\xe6\\x88\\xb7 <br/>\\xe8\\xae\\xa9\\xe4\\xba\\xba\\xe4\\xba\\xba\\xe9\\x83\\xbd\\xe8\\x83\\xbd\\xe4\\xba\\xab\\xe5\\x8f\\x97\\xe8\\xb4\\xa2\\xe5\\xaf\\x8c\\xe7\\x9a\\x84\\xe4\\xb9\\x90\\xe8\\xb6\\xa3\\r\\n\\t\\t\\t\\t\\t\\t\\t\\t\\t\\t</p>\\r\\n\\t\\t\\t\\t\\t\\t\\t\\t\\t\\t<div class=\"more banner-more\">\\r\\n\\t\\t\\t\\t\\t\\t\\t\\t\\t\\t\\t<span class=\"btn-more\">\\xe7\\x82\\xb9\\xe5\\x87\\xbb\\xe6\\x9f\\xa5\\xe7\\x9c\\x8b\\xe5\\x8d\\x81\\xe5\\xb9\\xb4\\xe7\\x9a\\x84\\xe6\\x95\\x85\\xe4\\xba\\x8b<b></b></span>\\r\\n\\t\\t\\t\\t\\t\\t\\t\\t\\t\\t</div>\\r\\n\\t\\t\\t\\t\\t\\t\\t\\t\\t</div>\\r\\n\\t\\t\\t\\t\\t\\t\\t\\t</div>\\r\\n\\t\\t\\t\\t\\t\\t\\t</div>\\r\\n\\t\\t\\t\\t\\t\\t\\t<div class=\"banner-img ani-a\" style=\"background-image: url(images/banner/bg-9.png);\"></div>\\r\\n\\t\\t\\t\\t\\t\\t</a>\\r\\n\\t\\t\\t\\t\\t</div> -->\\r\\n\\t\\t\\t\\t<div class=\"swiper-slide clearfix\" onclick=\"Gsend(\\'\\',\\'\\xe8\\xbd\\xae\\xe6\\x92\\xad\\xe4\\xbd\\x8d3\\',\\'\\',this)\">\\r\\n\\t\\t\\t\\t\\t<a href=\"about.html\">\\r\\n\\t\\t\\t\\t\\t\\t<div class=\"banner-position\">\\r\\n\\t\\t\\t\\t\\t\\t\\t<div class=\"container-width o-hidden\">\\r\\n\\t\\t\\t\\t\\t\\t\\t\\t<div class=\"banner-text ani-text\">\\r\\n\\t\\t\\t\\t\\t\\t\\t\\t\\t<h3>\\xe7\\x90\\x86\\xe8\\xb4\\xa2\\xe5\\xb0\\xb1\\xe6\\x98\\xaf\\xe7\\x90\\x86\\xe7\\x94\\x9f\\xe6\\xb4\\xbb</h3>\\r\\n\\t\\t\\t\\t\\t\\t\\t\\t\\t<p>\\xe5\\x8d\\x81\\xe5\\xb9\\xb4\\xe6\\x8b\\xa5\\xe6\\x9c\\x89\\xe8\\xb6\\x85500\\xe4\\xb8\\x87\\xe7\\x94\\xa8\\xe6\\x88\\xb7<br>\\xe8\\xae\\xa9\\xe4\\xba\\xba\\xe4\\xba\\xba\\xe9\\x83\\xbd\\xe8\\x83\\xbd\\xe4\\xba\\xab\\xe5\\x8f\\x97\\xe8\\xb4\\xa2\\xe5\\xaf\\x8c\\xe7\\x9a\\x84\\xe4\\xb9\\x90\\xe8\\xb6\\xa3</p>\\r\\n\\t\\t\\t\\t\\t\\t\\t\\t\\t<div class=\"more banner-more\">\\r\\n\\t\\t\\t\\t\\t\\t\\t\\t\\t\\t<span class=\"btn-more\">\\xe7\\x82\\xb9\\xe5\\x87\\xbb\\xe6\\x9f\\xa5\\xe7\\x9c\\x8b\\xe5\\x8d\\x81\\xe5\\xb9\\xb4\\xe7\\x9a\\x84\\xe6\\x95\\x85\\xe4\\xba\\x8b <b></b></span>\\r\\n\\t\\t\\t\\t\\t\\t\\t\\t\\t</div>\\r\\n\\t\\t\\t\\t\\t\\t\\t\\t</div>\\r\\n\\t\\t\\t\\t\\t\\t\\t</div>\\r\\n\\t\\t\\t\\t\\t\\t</div>\\r\\n\\t\\t\\t\\t\\t\\t<div class=\"banner-img ani-a\" style=\"background-image: url(images/banner/bg-9.png);\">\\r\\n\\t\\t\\t\\t\\t\\t\\t<!-- <img src=\"images/banner/item-1-1.png\" title=\"\" alt=\"\" class=\"ani-img\"> -->\\r\\n\\t\\t\\t\\t\\t\\t</div>\\r\\n\\t\\t\\t\\t\\t</a>\\r\\n\\t\\t\\t\\t</div>\\r\\n\\r\\n\\t\\t\\t\\t<!-- \\xe8\\xa7\\x86\\xe9\\xa2\\x912 -->\\r\\n\\t\\t\\t\\t<div class=\"swiper-slide clearfix\" onclick=\"Gsend(\\'\\',\\'\\xe8\\xbd\\xae\\xe6\\x92\\xad\\xe4\\xbd\\x8d8\\',\\'\\',this)\">\\r\\n\\t\\t\\t\\t\\t<a href=\"javascript:;\" id=\"show-video-btn2\">\\r\\n\\t\\t\\t\\t\\t\\t<div class=\"banner-position\">\\r\\n\\t\\t\\t\\t\\t\\t\\t<div class=\"container-width o-hidden\">\\r\\n\\t\\t\\t\\t\\t\\t\\t\\t<div class=\"banner-text ani-text\">\\r\\n\\t\\t\\t\\t\\t\\t\\t\\t\\t<h3>\\xe6\\x88\\x91\\xe7\\x9a\\x84\\xe8\\x87\\xaa\\xe7\\x94\\xb1\\xe4\\xba\\xba\\xe7\\x94\\x9f</h3>\\r\\n\\t\\t\\t\\t\\t\\t\\t\\t\\t<p>\\r\\n\\t\\t\\t\\t\\t\\t\\t\\t\\t\\t\\xe6\\x94\\xb9\\xe5\\x8f\\x98\\xe8\\xb6\\x81\\xe7\\x8e\\xb0\\xe5\\x9c\\xa8\\xef\\xbc\\x8c\\xe8\\x87\\xaa\\xe7\\x94\\xb1\\xe6\\x89\\x8d\\xe5\\x8f\\xaf\\xe8\\x83\\xbd <br />\\r\\n\\t\\t\\t\\t\\t\\t\\t\\t\\t\\t<span style=\"color: #64697F; font-size: 15px; margin-top: 0px; letter-spacing: 3px;\\r\\n\\t\\t\\t\\t\\t\\t\\t\\t\\t\\t\\tfont-family: PingFangSC-Regular, PingFang SC;\">\\xe9\\x95\\xbf\\xe6\\x8a\\x95\\xe5\\xad\\xa6\\xe5\\xa0\\x82\\xe5\\x8d\\x81\\xe5\\x91\\xa8\\xe5\\xb9\\xb4\\xe7\\x9c\\x9f\\xe5\\xae\\x9e\\xe7\\x94\\xa8\\xe6\\x88\\xb7\\xe6\\x95\\x85\\xe4\\xba\\x8b\\xe7\\xb3\\xbb\\xe5\\x88\\x97\\xe7\\x9f\\xad\\xe7\\x89\\x87</span>\\r\\n\\t\\t\\t\\t\\t\\t\\t\\t\\t</p>\\r\\n\\t\\t\\t\\t\\t\\t\\t\\t\\t<div class=\"more banner-more\">\\r\\n\\t\\t\\t\\t\\t\\t\\t\\t\\t\\t<span class=\"btn-more\">\\xe7\\x82\\xb9\\xe5\\x87\\xbb\\xe6\\x9f\\xa5\\xe7\\x9c\\x8b\\xe4\\xbb\\x96\\xe4\\xbb\\xac\\xe7\\x9a\\x84\\xe6\\x94\\xb9\\xe5\\x8f\\x98\\xe6\\x95\\x85\\xe4\\xba\\x8b<b></b></span>\\r\\n\\t\\t\\t\\t\\t\\t\\t\\t\\t</div>\\r\\n\\t\\t\\t\\t\\t\\t\\t\\t</div>\\r\\n\\t\\t\\t\\t\\t\\t\\t</div>\\r\\n\\t\\t\\t\\t\\t\\t</div>\\r\\n\\t\\t\\t\\t\\t\\t<div class=\"banner-img ani-a\" style=\"background-image: url(images/banner/bg-8.png);\"></div>\\r\\n\\t\\t\\t\\t\\t</a>\\r\\n\\t\\t\\t\\t</div>\\r\\n\\r\\n\\t\\t\\t\\t<div class=\"swiper-slide clearfix\" onclick=\"Gsend(\\'\\',\\'\\xe8\\xbd\\xae\\xe6\\x92\\xad\\xe4\\xbd\\x8d7\\',\\'\\',this)\">\\r\\n\\t\\t\\t\\t\\t<a href=\"https://mp.weixin.qq.com/s/SJ-TMahePQ-qP__NL76TCA\" target=\"_blank\">\\r\\n\\t\\t\\t\\t\\t\\t<div class=\"banner-position\">\\r\\n\\t\\t\\t\\t\\t\\t\\t<div class=\"container-width o-hidden\">\\r\\n\\t\\t\\t\\t\\t\\t\\t\\t<div class=\"banner-text ani-text\">\\r\\n\\t\\t\\t\\t\\t\\t\\t\\t\\t<h3>\\xe6\\x88\\x91\\xe5\\x92\\x8c\\xe6\\x88\\x91\\xe7\\x9a\\x84\\xe7\\x94\\x9f\\xe6\\xb4\\xbb</h3>\\r\\n\\t\\t\\t\\t\\t\\t\\t\\t\\t<p>\\xe9\\x95\\xbf\\xe6\\x8a\\x95\\xe5\\xad\\xa6\\xe5\\xa0\\x82\\xe8\\x81\\x94\\xe5\\x90\\x88\\xe3\\x80\\x8a\\xe4\\xb8\\xad\\xe5\\x9b\\xbd\\xe9\\x9d\\x92\\xe5\\xb9\\xb4\\xe6\\x8a\\xa5\\xe3\\x80\\x8b<br>\\xe6\\x8e\\xa8\\xe5\\x87\\xba\\xe9\\x9d\\x92\\xe5\\xb9\\xb4\\xe7\\x94\\x9f\\xe6\\xb4\\xbb\\xe6\\x80\\x81\\xe5\\xba\\xa6\\xe7\\xba\\xbf\\xe4\\xb8\\x8a\\xe6\\xb2\\x99\\xe9\\xbe\\x99</p>\\r\\n\\t\\t\\t\\t\\t\\t\\t\\t\\t<div class=\"more banner-more\">\\r\\n\\t\\t\\t\\t\\t\\t\\t\\t\\t\\t<span class=\"btn-more\">\\xe7\\x82\\xb9\\xe5\\x87\\xbb\\xe6\\x9f\\xa5\\xe7\\x9c\\x8b\\xe8\\xaf\\xa6\\xe6\\x83\\x85 <b></b></span>\\r\\n\\t\\t\\t\\t\\t\\t\\t\\t\\t</div>\\r\\n\\t\\t\\t\\t\\t\\t\\t\\t</div>\\r\\n\\t\\t\\t\\t\\t\\t\\t</div>\\r\\n\\t\\t\\t\\t\\t\\t</div>\\r\\n\\t\\t\\t\\t\\t\\t<div class=\"banner-img ani-a\" style=\"background-image: url(images/banner/bg-7.png);\">\\r\\n\\t\\t\\t\\t\\t\\t\\t<!-- <img src=\"images/banner/item-3-1.png\" title=\"\" alt=\"\" class=\"ani-img\"> -->\\r\\n\\t\\t\\t\\t\\t\\t</div>\\r\\n\\t\\t\\t\\t\\t</a>\\r\\n\\t\\t\\t\\t</div>\\r\\n\\r\\n\\t\\t\\t\\t<div class=\"swiper-slide clearfix\" onclick=\"Gsend(\\'\\',\\'\\xe8\\xbd\\xae\\xe6\\x92\\xad\\xe4\\xbd\\x8d5\\',\\'\\',this)\">\\r\\n\\t\\t\\t\\t\\t<a href=\"http://www.sh.chinanews.com/chanjing/2020-09-17/80566.shtml\" target=\"_blank\">\\r\\n\\t\\t\\t\\t\\t\\t<div class=\"banner-position\">\\r\\n\\t\\t\\t\\t\\t\\t\\t<div class=\"container-width o-hidden\">\\r\\n\\t\\t\\t\\t\\t\\t\\t\\t<div class=\"banner-text ani-text\">\\r\\n\\t\\t\\t\\t\\t\\t\\t\\t\\t<h3>\\xe9\\x95\\xbf\\xe6\\x8a\\x95\\xe5\\xad\\xa6\\xe5\\xa0\\x82\\xe4\\xb8\\x8e<br>\\r\\n\\t\\t\\t\\t\\t\\t\\t\\t\\t\\t\\xe4\\xb8\\x8a\\xe6\\xb5\\xb7\\xe8\\xb4\\xa2\\xe7\\xbb\\x8f\\xe5\\xa4\\xa7\\xe5\\xad\\xa6\\xe5\\x90\\x88\\xe4\\xbd\\x9c</h3>\\r\\n\\t\\t\\t\\t\\t\\t\\t\\t\\t<p>\\xe9\\x95\\xbf\\xe6\\x8a\\x95\\xe5\\xad\\xa6\\xe5\\xa0\\x82\\xe4\\xb8\\x8e\\xe4\\xb8\\x8a\\xe6\\xb5\\xb7\\xe8\\xb4\\xa2\\xe7\\xbb\\x8f\\xe5\\xa4\\xa7\\xe5\\xad\\xa6\\xe8\\xbe\\xbe\\xe6\\x88\\x90\\xe6\\x88\\x98\\xe7\\x95\\xa5\\xe5\\x90\\x88\\xe4\\xbd\\x9c<br>\\xe5\\x85\\xb1\\xe5\\x90\\x8c\\xe6\\x8e\\xa8\\xe8\\xbf\\x9b\\xe4\\xb8\\xad\\xe5\\x9b\\xbd\\xe5\\xa4\\xa7\\xe4\\xbc\\x97\\xe8\\xb4\\xa2\\xe5\\x95\\x86\\xe6\\x95\\x99\\xe8\\x82\\xb2\\xe5\\x8f\\x91\\xe5\\xb1\\x95</p>\\r\\n\\t\\t\\t\\t\\t\\t\\t\\t\\t<div class=\"more banner-more\">\\r\\n\\t\\t\\t\\t\\t\\t\\t\\t\\t\\t<span class=\"btn-more\">\\xe6\\x9f\\xa5\\xe7\\x9c\\x8b\\xe8\\xaf\\xa6\\xe6\\x83\\x85 <b></b></span>\\r\\n\\t\\t\\t\\t\\t\\t\\t\\t\\t</div>\\r\\n\\t\\t\\t\\t\\t\\t\\t\\t</div>\\r\\n\\t\\t\\t\\t\\t\\t\\t</div>\\r\\n\\t\\t\\t\\t\\t\\t</div>\\r\\n\\r\\n\\t\\t\\t\\t\\t\\t<div class=\"banner-img ani-a\" style=\"background-image: url(images/banner/bg-5.png);\">\\r\\n\\t\\t\\t\\t\\t\\t\\t<!-- <img src=\"images/banner/item-3-1.png\" title=\"\" alt=\"\" class=\"ani-img\"> -->\\r\\n\\t\\t\\t\\t\\t\\t</div>\\r\\n\\t\\t\\t\\t\\t</a>\\r\\n\\t\\t\\t\\t</div>\\r\\n\\t\\t\\t\\t<div class=\"swiper-slide clearfix\" onclick=\"Gsend(\\'\\',\\'\\xe8\\xbd\\xae\\xe6\\x92\\xad\\xe4\\xbd\\x8d4\\',\\'\\',this)\">\\r\\n\\t\\t\\t\\t\\t<a href=\"javascript:;\" id=\"show-video-btn\">\\r\\n\\t\\t\\t\\t\\t\\t<div class=\"banner-position\">\\r\\n\\t\\t\\t\\t\\t\\t\\t<div class=\"container-width o-hidden\">\\r\\n\\t\\t\\t\\t\\t\\t\\t\\t<div class=\"banner-text ani-text\">\\r\\n\\t\\t\\t\\t\\t\\t\\t\\t\\t<h3><img src=\"images/banner/item-4-1.png\" title=\"\" alt=\"\"></h3>\\r\\n\\t\\t\\t\\t\\t\\t\\t\\t\\t<p>\\xe9\\x80\\x86\\xe8\\xa2\\xad\\xe4\\xba\\xba\\xe7\\x94\\x9f\\xef\\xbc\\x8c\\xe4\\xbd\\xa0\\xe4\\xb9\\x9f\\xe5\\x8f\\xaf\\xe4\\xbb\\xa5\\xef\\xbc\\x81</p>\\r\\n\\t\\t\\t\\t\\t\\t\\t\\t\\t<div class=\"more banner-more\">\\r\\n\\t\\t\\t\\t\\t\\t\\t\\t\\t\\t<span class=\"btn-more\">\\xe7\\xab\\x8b\\xe5\\x8d\\xb3\\xe7\\x82\\xb9\\xe5\\x87\\xbb\\xef\\xbc\\x8c\\xe8\\x8e\\xb7\\xe5\\xbe\\x97\\xe6\\x94\\xb9\\xe5\\x8f\\x98\\xe7\\xa7\\x98\\xe7\\xb1\\x8d<b></b></span>\\r\\n\\t\\t\\t\\t\\t\\t\\t\\t\\t</div>\\r\\n\\t\\t\\t\\t\\t\\t\\t\\t</div>\\r\\n\\t\\t\\t\\t\\t\\t\\t</div>\\r\\n\\t\\t\\t\\t\\t\\t</div>\\r\\n\\t\\t\\t\\t\\t\\t<div class=\"banner-img ani-a\" style=\"background-image: url(images/banner/bg-4.png);\"></div>\\r\\n\\t\\t\\t\\t\\t</a>\\r\\n\\t\\t\\t\\t</div>\\r\\n\\t\\t\\t\\t<div class=\"swiper-slide clearfix\" onclick=\"Gsend(\\'\\',\\'\\xe8\\xbd\\xae\\xe6\\x92\\xad\\xe4\\xbd\\x8d2\\',\\'\\',this)\">\\r\\n\\t\\t\\t\\t\\t<a href=\"project-r1.html\">\\r\\n\\t\\t\\t\\t\\t\\t<div class=\"banner-position\">\\r\\n\\t\\t\\t\\t\\t\\t\\t<div class=\"container-width o-hidden\">\\r\\n\\t\\t\\t\\t\\t\\t\\t\\t<div class=\"banner-text ani-text\">\\r\\n\\t\\t\\t\\t\\t\\t\\t\\t\\t<!-- <h3>\\xe4\\xbb\\x85\\xe9\\x9c\\x80<i>9\\xe5\\x85\\x83</i><br> -->\\r\\n\\t\\t\\t\\t\\t\\t\\t\\t\\t<h3>\\xe5\\xbc\\x80\\xe5\\x90\\xaf14\\xe5\\xa4\\xa9\\xe5\\xb0\\x8f\\xe7\\x99\\xbd\\xe7\\x90\\x86\\xe8\\xb4\\xa2\\xe8\\xaf\\xbe\\xe7\\xa8\\x8b</h3>\\r\\n\\t\\t\\t\\t\\t\\t\\t\\t\\t<p>\\xe7\\x9b\\xb4\\xe5\\xa5\\x94\\xe8\\xb4\\xa2\\xe5\\xaf\\x8c\\xe8\\x87\\xaa\\xe7\\x94\\xb1\\xe4\\xb9\\x8b\\xe8\\xb7\\xaf<br>\\xe6\\x94\\xb6\\xe8\\x8e\\xb7\\xe9\\x9b\\xb6\\xe5\\x9f\\xba\\xe7\\xa1\\x80\\xe7\\x90\\x86\\xe8\\xb4\\xa2\\xe5\\xb9\\xb2\\xe8\\xb4\\xa7</p>\\r\\n\\t\\t\\t\\t\\t\\t\\t\\t\\t<div class=\"more banner-more\">\\r\\n\\t\\t\\t\\t\\t\\t\\t\\t\\t\\t<span class=\"btn-more\">\\xe4\\xb8\\x80\\xe8\\xb5\\xb7\\xe6\\x9d\\xa5\\xe5\\xad\\xa6\\xe4\\xb9\\xa0\\xe5\\x90\\xa7 <b></b></span>\\r\\n\\t\\t\\t\\t\\t\\t\\t\\t\\t</div>\\r\\n\\t\\t\\t\\t\\t\\t\\t\\t</div>\\r\\n\\t\\t\\t\\t\\t\\t\\t</div>\\r\\n\\t\\t\\t\\t\\t\\t</div>\\r\\n\\t\\t\\t\\t\\t\\t<div class=\"banner-img ani-a\" style=\"background-image: url(images/banner/bg-2.png);\">\\r\\n\\t\\t\\t\\t\\t\\t\\t<img src=\"images/banner/item-2-1.png\" title=\"\" alt=\"\" class=\"ani-img\">\\r\\n\\t\\t\\t\\t\\t\\t</div>\\r\\n\\t\\t\\t\\t\\t</a>\\r\\n\\t\\t\\t\\t</div>\\r\\n\\t\\t\\t</div>\\r\\n\\t\\t\\t<!-- Add Pagination -->\\r\\n\\t\\t\\t<div class=\"swiper-pagination\"></div>\\r\\n\\t\\t\\t<div class=\"swiper-button-prev\"></div>\\r\\n\\t\\t\\t<!--\\xe5\\xb7\\xa6\\xe7\\xae\\xad\\xe5\\xa4\\xb4\\xe3\\x80\\x82\\xe5\\xa6\\x82\\xe6\\x9e\\x9c\\xe6\\x94\\xbe\\xe7\\xbd\\xae\\xe5\\x9c\\xa8swiper-container\\xe5\\xa4\\x96\\xe9\\x9d\\xa2\\xef\\xbc\\x8c\\xe9\\x9c\\x80\\xe8\\xa6\\x81\\xe8\\x87\\xaa\\xe5\\xae\\x9a\\xe4\\xb9\\x89\\xe6\\xa0\\xb7\\xe5\\xbc\\x8f\\xe3\\x80\\x82-->\\r\\n\\t\\t\\t<div class=\"swiper-button-next\"></div>\\r\\n\\t\\t\\t<!--\\xe5\\x8f\\xb3\\xe7\\xae\\xad\\xe5\\xa4\\xb4\\xe3\\x80\\x82\\xe5\\xa6\\x82\\xe6\\x9e\\x9c\\xe6\\x94\\xbe\\xe7\\xbd\\xae\\xe5\\x9c\\xa8swiper-container\\xe5\\xa4\\x96\\xe9\\x9d\\xa2\\xef\\xbc\\x8c\\xe9\\x9c\\x80\\xe8\\xa6\\x81\\xe8\\x87\\xaa\\xe5\\xae\\x9a\\xe4\\xb9\\x89\\xe6\\xa0\\xb7\\xe5\\xbc\\x8f\\xe3\\x80\\x82-->\\r\\n\\t\\t</div>\\r\\n\\t</div>\\r\\n\\r\\n\\t<script type=\"text/javascript\">\\r\\n\\t\\t$(\"#show-video-btn\").on(\"click\", function () {\\r\\n\\t\\t\\t$(\".window-video video\")[0].play();\\r\\n\\t\\t\\t$(\".window-video\").addClass(\"show-video\");\\r\\n\\t\\t});\\r\\n\\t\\t$(\".window-video-box\").on(\"click\", function (e) {\\r\\n\\t\\t\\te.stopPropagation();\\r\\n\\t\\t});\\r\\n\\t\\t$(\".window-video\").on(\"click\", function () {\\r\\n\\t\\t\\t$(\".window-video video\")[0].pause();\\r\\n\\t\\t\\t$(\".window-video\").removeClass(\"show-video\");\\r\\n\\t\\t});\\r\\n\\t\\t// \\xe8\\xa7\\x86\\xe9\\xa2\\x912\\r\\n\\t\\t$(\"#show-video-btn2\").on(\"click\", function () {\\r\\n\\t\\t\\t$(\".window-video2 video\")[0].play();\\r\\n\\t\\t\\t$(\".window-video2\").addClass(\"show-video\");\\r\\n\\t\\t});\\r\\n\\t\\t$(\".window-video-box2\").on(\"click\", function (e) {\\r\\n\\t\\t\\te.stopPropagation();\\r\\n\\t\\t});\\r\\n\\t\\t$(\".window-video2\").on(\"click\", function () {\\r\\n\\t\\t\\t$(\".window-video2 video\")[0].pause();\\r\\n\\t\\t\\t$(\".window-video2\").removeClass(\"show-video\");\\r\\n\\t\\t});\\r\\n\\t\\t// \\xe8\\xa7\\x86\\xe9\\xa2\\x913\\r\\n\\t\\t$(\"#show-video-btn3\").on(\"click\", function () {\\r\\n\\t\\t\\t$(\".window-video3 video\")[0].play();\\r\\n\\t\\t\\t$(\".window-video3\").addClass(\"show-video\");\\r\\n\\t\\t});\\r\\n\\t\\t$(\".window-video-box3\").on(\"click\", function (e) {\\r\\n\\t\\t\\te.stopPropagation();\\r\\n\\t\\t});\\r\\n\\t\\t$(\".window-video3\").on(\"click\", function () {\\r\\n\\t\\t\\t$(\".window-video3 video\")[0].pause();\\r\\n\\t\\t\\t$(\".window-video3\").removeClass(\"show-video\");\\r\\n\\t\\t});\\r\\n\\t</script>\\r\\n\\t<!-- ./banner -->\\r\\n\\t<div class=\"index-project pd50\">\\r\\n\\t\\t<div class=\"index-title\">\\r\\n\\t\\t\\t<h3 data-wow-delay=\".6s\" class=\" wow titleDown\">\\xe7\\xb2\\xbe\\xe9\\x80\\x89\\xe8\\xaf\\xbe\\xe7\\xa8\\x8b<span><strong>selected courses</strong></span></h3>\\r\\n\\t\\t</div>\\r\\n\\t\\t<div class=\"more more-default\">\\r\\n\\t\\t\\t<a href=\"project.html\" class=\"btn-more wow fadeIn\" data-wow-delay=\"1s\"\\r\\n\\t\\t\\t\\tonclick=\"Gsend(\\'\\',\\'\\xe6\\x9f\\xa5\\xe7\\x9c\\x8b\\xe6\\x9b\\xb4\\xe5\\xa4\\x9a\\xe8\\xaf\\xbe\\xe7\\xa8\\x8b\\',\\'\\',this)\">\\xe6\\x9f\\xa5\\xe7\\x9c\\x8b\\xe6\\x9b\\xb4\\xe5\\xa4\\x9a\\xe8\\xaf\\xbe\\xe7\\xa8\\x8b\\r\\n\\t\\t\\t\\t<b></b></a>\\r\\n\\t\\t</div>\\r\\n\\t\\t<!-- ./title -->\\r\\n\\t\\t<div class=\"container-width\">\\r\\n\\t\\t\\t<ul class=\"clearfix\">\\r\\n\\t\\t\\t\\t<li data-wow-delay=\".3s\" class=\"wow goUp\">\\r\\n\\t\\t\\t\\t\\t<a href=\"project-r1.html\" class=\"index-project-box\" onclick=\"Gsend(\\'\\xe9\\xa6\\x96\\xe9\\xa1\\xb5\\',\\'\\xe8\\xaf\\xbe\\xe7\\xa8\\x8b\\xe4\\xbd\\x8d1\\',\\'\\',this)\">\\r\\n\\t\\t\\t\\t\\t\\t<div class=\"index-project-pic\">\\r\\n\\t\\t\\t\\t\\t\\t\\t<img src=\"images/project-p1.jpg\">\\r\\n\\t\\t\\t\\t\\t\\t</div>\\r\\n\\t\\t\\t\\t\\t\\t<div class=\"index-project-content\">\\r\\n\\t\\t\\t\\t\\t\\t\\t<h1>\\xe5\\xb0\\x8f\\xe7\\x99\\xbd\\xe7\\x90\\x86\\xe8\\xb4\\xa2\\xe8\\xae\\xad\\xe7\\xbb\\x83\\xe8\\x90\\xa5</h1>\\r\\n\\t\\t\\t\\t\\t\\t\\t<!-- <p>\\xe6\\xaf\\x8f\\xe5\\xa4\\xa910\\xe5\\x88\\x86\\xe9\\x92\\x9f\\xef\\xbc\\x8c\\xe4\\xbb\\x8e\\xe5\\xb0\\x8f\\xe7\\x99\\xbd\\xe5\\x88\\xb0\\xe6\\x8b\\xa5\\xe6\\x9c\\x89\\xe7\\xac\\xac\\xe4\\xb8\\x80\\xe6\\xa1\\xb6\\xe9\\x87\\x91</p> -->\\r\\n\\t\\t\\t\\t\\t\\t\\t<div class=\"more\">\\r\\n\\t\\t\\t\\t\\t\\t\\t\\t<span class=\"btn-more\">\\xe4\\xba\\x86\\xe8\\xa7\\xa3\\xe8\\xaf\\xa6\\xe6\\x83\\x85 <b></b></span>\\r\\n\\t\\t\\t\\t\\t\\t\\t</div>\\r\\n\\t\\t\\t\\t\\t\\t</div>\\r\\n\\t\\t\\t\\t\\t</a>\\r\\n\\t\\t\\t\\t</li>\\r\\n\\t\\t\\t\\t<li data-wow-delay=\".6s\" class=\"wow goUp\">\\r\\n\\t\\t\\t\\t\\t<a href=\"project-j2.html\" class=\"index-project-box\" onclick=\"Gsend(\\'\\xe9\\xa6\\x96\\xe9\\xa1\\xb5\\',\\'\\xe8\\xaf\\xbe\\xe7\\xa8\\x8b\\xe4\\xbd\\x8d2\\',\\'\\',this)\">\\r\\n\\t\\t\\t\\t\\t\\t<div class=\"index-project-pic\">\\r\\n\\t\\t\\t\\t\\t\\t\\t<img src=\"images/project-p2.jpg\">\\r\\n\\t\\t\\t\\t\\t\\t</div>\\r\\n\\t\\t\\t\\t\\t\\t<div class=\"index-project-content\">\\r\\n\\t\\t\\t\\t\\t\\t\\t<h1>\\xe5\\x9f\\xba\\xe9\\x87\\x91\\xe6\\x8a\\x95\\xe8\\xb5\\x84\\xe8\\xae\\xad\\xe7\\xbb\\x83\\xe8\\x90\\xa5</h1>\\r\\n\\t\\t\\t\\t\\t\\t\\t<!-- <p>0\\xe5\\x9f\\xba\\xe7\\xa1\\x80\\xe4\\xb9\\x9f\\xe8\\x83\\xbd\\xe5\\xbc\\x80\\xe5\\x90\\xaf\\xe8\\xba\\xba\\xe8\\xb5\\x9a\\xe4\\xb9\\x8b\\xe8\\xb7\\xaf</p> -->\\r\\n\\t\\t\\t\\t\\t\\t\\t<div class=\"more\">\\r\\n\\t\\t\\t\\t\\t\\t\\t\\t<span class=\"btn-more\">\\xe4\\xba\\x86\\xe8\\xa7\\xa3\\xe8\\xaf\\xa6\\xe6\\x83\\x85 <b></b></span>\\r\\n\\t\\t\\t\\t\\t\\t\\t</div>\\r\\n\\t\\t\\t\\t\\t\\t</div>\\r\\n\\t\\t\\t\\t\\t</a>\\r\\n\\t\\t\\t\\t</li>\\r\\n\\t\\t\\t\\t<li data-wow-delay=\".9s\" class=\"wow goUp\">\\r\\n\\t\\t\\t\\t\\t<a href=\"project-j1.html\" class=\"index-project-box\" onclick=\"Gsend(\\'\\xe9\\xa6\\x96\\xe9\\xa1\\xb5 \\',\\'\\xe8\\xaf\\xbe\\xe7\\xa8\\x8b\\xe4\\xbd\\x8d3\\',\\'\\',this)\">\\r\\n\\t\\t\\t\\t\\t\\t<div class=\"index-project-pic\">\\r\\n\\t\\t\\t\\t\\t\\t\\t<img src=\"images/project-p3.jpg\">\\r\\n\\t\\t\\t\\t\\t\\t</div>\\r\\n\\t\\t\\t\\t\\t\\t<div class=\"index-project-content\">\\r\\n\\t\\t\\t\\t\\t\\t\\t<h1>\\xe8\\x82\\xa1\\xe7\\xa5\\xa8\\xe6\\x8a\\x95\\xe8\\xb5\\x84\\xe8\\xae\\xad\\xe7\\xbb\\x83\\xe8\\x90\\xa5</h1>\\r\\n\\t\\t\\t\\t\\t\\t\\t<!-- <p>\\xe6\\x95\\x99\\xe4\\xbd\\xa0\\xe6\\x88\\x90\\xe4\\xb8\\xba\\xe8\\x82\\xa1\\xe5\\xb8\\x82\\xe4\\xb8\\xad\\xe8\\xb5\\x9a\\xe9\\x92\\xb1\\xe7\\x9a\\x8410%</p> -->\\r\\n\\t\\t\\t\\t\\t\\t\\t<div class=\"more\">\\r\\n\\t\\t\\t\\t\\t\\t\\t\\t<span class=\"btn-more\">\\xe4\\xba\\x86\\xe8\\xa7\\xa3\\xe8\\xaf\\xa6\\xe6\\x83\\x85 <b></b></span>\\r\\n\\t\\t\\t\\t\\t\\t\\t</div>\\r\\n\\t\\t\\t\\t\\t\\t</div>\\r\\n\\t\\t\\t\\t\\t</a>\\r\\n\\t\\t\\t\\t</li>\\r\\n\\t\\t\\t</ul>\\r\\n\\t\\t</div>\\r\\n\\t</div>\\r\\n\\t<!-- ./\\xe8\\xaf\\xbe\\xe7\\xa8\\x8b -->\\r\\n\\t<div class=\"index-advantage pd50\">\\r\\n\\t\\t<div class=\"index-title\">\\r\\n\\t\\t\\t<h3 data-wow-delay=\".6s\" class=\" wow titleDown\">\\xe6\\x88\\x91\\xe4\\xbb\\xac\\xe7\\x9a\\x84\\xe4\\xbc\\x98\\xe5\\x8a\\xbf<span><strong>advantages</strong></span></h3>\\r\\n\\t\\t</div>\\r\\n\\t\\t<!-- ./title -->\\r\\n\\t\\t<div class=\"container-width\">\\r\\n\\t\\t\\t<ul class=\"clearfix\">\\r\\n\\t\\t\\t\\t<li data-wow-delay=\".6s\" class=\"wow goUp\">\\r\\n\\t\\t\\t\\t\\t<div class=\"index-advantage-left\">\\r\\n\\t\\t\\t\\t\\t\\t<img src=\"./images/adv/1.png\" alt=\"\">\\r\\n\\t\\t\\t\\t\\t</div>\\r\\n\\t\\t\\t\\t\\t<div class=\"index-advantage-right\">\\r\\n\\t\\t\\t\\t\\t\\t<h3>\\xe7\\xb3\\xbb\\xe7\\xbb\\x9f\\xe5\\x85\\xa8\\xe9\\x9d\\xa2\\xe7\\x9a\\x84\\xe8\\xaf\\xbe\\xe7\\xa8\\x8b\\xe4\\xbd\\x93\\xe7\\xb3\\xbb</h3>\\r\\n\\t\\t\\t\\t\\t\\t<p>\\xe5\\x85\\xa8\\xe9\\x9d\\xa2\\xe6\\xb6\\xb5\\xe7\\x9b\\x96\\xe5\\x9f\\xba\\xe9\\x87\\x91\\xe3\\x80\\x81\\xe8\\x82\\xa1\\xe7\\xa5\\xa8\\xe3\\x80\\x81\\xe4\\xbf\\x9d\\xe9\\x99\\xa9\\xe3\\x80\\x81\\xe5\\x8f\\xaf\\xe8\\xbd\\xac\\xe5\\x80\\xba\\xe7\\xad\\x89\\xef\\xbc\\x8c\\xe5\\xb8\\xae\\xe5\\x8a\\xa9\\xe5\\xad\\xa6\\xe5\\x91\\x98\\xe4\\xb8\\x80\\xe7\\xab\\x99\\xe5\\xbc\\x8f\\xe6\\x99\\x8b\\xe5\\x8d\\x87\\xe7\\x90\\x86\\xe8\\xb4\\xa2\\xe8\\xbe\\xbe\\xe4\\xba\\xba</p>\\r\\n\\t\\t\\t\\t\\t</div>\\r\\n\\t\\t\\t\\t</li>\\r\\n\\t\\t\\t\\t<li data-wow-delay=\".7s\" class=\"wow goUp\">\\r\\n\\t\\t\\t\\t\\t<div class=\"index-advantage-left\">\\r\\n\\t\\t\\t\\t\\t\\t<img src=\"./images/adv/2.png\" alt=\"\">\\r\\n\\t\\t\\t\\t\\t</div>\\r\\n\\t\\t\\t\\t\\t<div class=\"index-advantage-right\">\\r\\n\\t\\t\\t\\t\\t\\t<h3>\\xe4\\xb8\\x93\\xe4\\xb8\\x9a\\xe5\\xae\\x9e\\xe7\\x94\\xa8\\xe7\\x9a\\x84\\xe8\\xaf\\xbe\\xe7\\xa8\\x8b\\xe5\\x86\\x85\\xe5\\xae\\xb9</h3>\\r\\n\\t\\t\\t\\t\\t\\t<p>\\xe4\\xb8\\x93\\xe4\\xb8\\x9a\\xe7\\x90\\x86\\xe8\\xb4\\xa2\\xe5\\x88\\x86\\xe6\\x9e\\x90\\xe5\\xb8\\x88\\xe5\\x8f\\x8a\\xe7\\xa0\\x94\\xe5\\x8f\\x91\\xe5\\x9b\\xa2\\xe9\\x98\\x9f\\xef\\xbc\\x8c\\xe4\\xbb\\xa510\\xe4\\xbd\\x99\\xe5\\xb9\\xb4\\xe7\\xbb\\x8f\\xe9\\xaa\\x8c\\xe6\\x89\\x93\\xe9\\x80\\xa0\\xe9\\xab\\x98\\xe8\\xb4\\xa8\\xe9\\x87\\x8f\\xe7\\x90\\x86\\xe8\\xb4\\xa2\\xe8\\xaf\\xbe\\xe7\\xa8\\x8b</p>\\r\\n\\t\\t\\t\\t\\t</div>\\r\\n\\t\\t\\t\\t</li>\\r\\n\\t\\t\\t\\t<li data-wow-delay=\"0.6s\" class=\"wow goUp\">\\r\\n\\t\\t\\t\\t\\t<div class=\"index-advantage-left\">\\r\\n\\t\\t\\t\\t\\t\\t<img src=\"./images/adv/3.png\" alt=\"\">\\r\\n\\t\\t\\t\\t\\t</div>\\r\\n\\t\\t\\t\\t\\t<div class=\"index-advantage-right\">\\r\\n\\t\\t\\t\\t\\t\\t<h3>\\xe6\\x98\\x93\\xe5\\xad\\xa6\\xe5\\xae\\x9e\\xe6\\x95\\x88\\xe7\\x9a\\x84\\xe6\\x95\\x99\\xe5\\xad\\xa6\\xe6\\x96\\xb9\\xe6\\xb3\\x95</h3>\\r\\n\\t\\t\\t\\t\\t\\t<p>\\xe5\\xb0\\x86\\xe4\\xb8\\x93\\xe4\\xb8\\x9a\\xe7\\x90\\x86\\xe8\\xb4\\xa2\\xe7\\x9f\\xa5\\xe8\\xaf\\x86\\xe6\\x8b\\x86\\xe8\\xa7\\xa3\\xe4\\xb8\\xba\\xe6\\x9c\\x89\\xe8\\xb6\\xa3\\xe6\\x98\\x93\\xe6\\x87\\x82\\xe7\\x9a\\x84\\xe5\\x86\\x85\\xe5\\xae\\xb9\\xef\\xbc\\x8c\\xe4\\xbe\\xbf\\xe4\\xba\\x8e\\xe5\\xbf\\xab\\xe9\\x80\\x9f\\xe5\\x90\\xb8\\xe6\\x94\\xb6\\xe5\\x92\\x8c\\xe4\\xb8\\x8a\\xe6\\x89\\x8b\\xe5\\xae\\x9e\\xe6\\x93\\x8d</p>\\r\\n\\t\\t\\t\\t\\t</div>\\r\\n\\t\\t\\t\\t</li>\\r\\n\\t\\t\\t\\t<li data-wow-delay=\"0.7s\" class=\"wow goUp\">\\r\\n\\t\\t\\t\\t\\t<div class=\"index-advantage-left\">\\r\\n\\t\\t\\t\\t\\t\\t<img src=\"./images/adv/4.png\" alt=\"\">\\r\\n\\t\\t\\t\\t\\t</div>\\r\\n\\t\\t\\t\\t\\t<div class=\"index-advantage-right\">\\r\\n\\t\\t\\t\\t\\t\\t<h3>\\xe6\\xb8\\xa9\\xe6\\x9a\\x96\\xe4\\xba\\xb2\\xe5\\x88\\x87\\xe7\\x9a\\x84\\xe7\\xa4\\xbe\\xe7\\xbe\\xa4\\xe6\\xa8\\xa1\\xe5\\xbc\\x8f</h3>\\r\\n\\t\\t\\t\\t\\t\\t<p>\\xe6\\x8f\\x90\\xe4\\xbe\\x9b\\xe9\\x99\\xaa\\xe4\\xbc\\xb4\\xe5\\xbc\\x8f\\xe7\\xa4\\xbe\\xe7\\xbe\\xa4\\xe6\\x95\\x99\\xe5\\xad\\xa6\\xe6\\x9c\\x8d\\xe5\\x8a\\xa1\\xef\\xbc\\x8c\\xe7\\x94\\xb1\\xe7\\x8f\\xad\\xe4\\xb8\\xbb\\xe4\\xbb\\xbb\\xe5\\x85\\xa8\\xe7\\xa8\\x8b\\xe6\\x89\\x8b\\xe6\\x8a\\x8a\\xe6\\x89\\x8b\\xe6\\x8c\\x87\\xe5\\xaf\\xbc\\xef\\xbc\\x8c\\xe9\\x9b\\xb6\\xe5\\x9f\\xba\\xe7\\xa1\\x80\\xe4\\xb9\\x9f\\xe8\\x83\\xbd\\xe8\\xbd\\xbb\\xe6\\x9d\\xbe\\xe5\\xad\\xa6\\xe4\\xbc\\x9a</p>\\r\\n\\t\\t\\t\\t\\t</div>\\r\\n\\t\\t\\t\\t</li>\\r\\n\\t\\t\\t</ul>\\r\\n\\t\\t</div>\\r\\n\\t</div>\\r\\n\\t<!-- ./\\xe4\\xbc\\x98\\xe5\\x8a\\xbf -->\\r\\n\\t<div class=\"about-honor\">\\r\\n\\t\\t<div class=\"index-title\">\\r\\n\\t\\t\\t<h3 data-wow-delay=\".6s\" class=\" wow titleDown\">\\xe8\\x8d\\xa3\\xe8\\xaa\\x89\\xe8\\xb5\\x84\\xe8\\xb4\\xa8<span><strong>HONORS AND QUALIFICATIONS</strong></span>\\r\\n\\t\\t\\t</h3>\\r\\n\\t\\t</div>\\r\\n\\t\\t<div class=\"swiper-container wow goLeft\" data-wow-delay=\"1s\">\\r\\n\\t\\t\\t<div class=\"swiper-wrapper\">\\r\\n\\t\\t\\t\\t<div class=\"swiper-slide\">\\r\\n\\t\\t\\t\\t\\t<div>\\r\\n\\t\\t\\t\\t\\t\\t<h3>\\xe8\\x85\\xbe\\xe8\\xae\\xaf\\xe2\\x80\\x9c2020\\xe5\\xb9\\xb4\\xe5\\xba\\xa6\\xe8\\xa1\\x8c\\xe4\\xb8\\x9a\\xe6\\xa0\\x87\\xe6\\x9d\\x86\\xe6\\x95\\x99\\xe8\\x82\\xb2\\xe9\\x9b\\x86\\xe5\\x9b\\xa2\\xe2\\x80\\x9d</h3>\\r\\n\\t\\t\\t\\t\\t\\t<img src=\"images/about/honor-p1.jpg\" width=\"344\" height=\"280px\">\\r\\n\\t\\t\\t\\t\\t</div>\\r\\n\\t\\t\\t\\t</div>\\r\\n\\t\\t\\t\\t<div class=\"swiper-slide\">\\r\\n\\t\\t\\t\\t\\t<div>\\r\\n\\t\\t\\t\\t\\t\\t<h3>\\xe6\\x96\\xb0\\xe5\\x8d\\x8e\\xe7\\xbd\\x91\\xe2\\x80\\x9c2020\\xe5\\xb9\\xb4\\xe5\\xba\\xa6\\xe5\\xbd\\xb1\\xe5\\x93\\x8d\\xe5\\x8a\\x9b\\xe5\\x9c\\xa8\\xe7\\xba\\xbf\\xe6\\x95\\x99\\xe8\\x82\\xb2\\xe5\\x93\\x81\\xe7\\x89\\x8c\\xe2\\x80\\x9d</h3>\\r\\n\\t\\t\\t\\t\\t\\t<img src=\"images/about/honor-p2.jpg\" width=\"344\" height=\"280px\">\\r\\n\\t\\t\\t\\t\\t</div>\\r\\n\\t\\t\\t\\t</div>\\r\\n\\t\\t\\t\\t<div class=\"swiper-slide\">\\r\\n\\t\\t\\t\\t\\t<div>\\r\\n\\t\\t\\t\\t\\t\\t<h3>36\\xe6\\xb0\\xaa\\xe2\\x80\\x9c2020\\xe6\\x96\\xb0\\xe7\\xbb\\x8f\\xe6\\xb5\\x8e\\xe4\\xb9\\x8b\\xe7\\x8e\\x8b\\xe6\\x9c\\x80\\xe5\\x85\\xb7\\xe5\\xbd\\xb1\\xe5\\x93\\x8d\\xe5\\x8a\\x9b\\xe4\\xbc\\x81\\xe4\\xb8\\x9a\\xe5\\xa5\\x96\\xe2\\x80\\x9d</h3>\\r\\n\\t\\t\\t\\t\\t\\t<img src=\"images/about/honor-p3.jpg\" width=\"344\" height=\"280px\">\\r\\n\\t\\t\\t\\t\\t</div>\\r\\n\\t\\t\\t\\t</div>\\r\\n\\t\\t\\t\\t<div class=\"swiper-slide\">\\r\\n\\t\\t\\t\\t\\t<div>\\r\\n\\t\\t\\t\\t\\t\\t<h3>\\xe9\\x95\\xbf\\xe6\\x8a\\x95\\xe5\\xad\\xa6\\xe5\\xa0\\x82\\xe5\\x88\\x9b\\xe5\\xa7\\x8b\\xe4\\xba\\xba\\xe5\\x85\\xbcCEO\\xe6\\x9d\\xa8\\xe4\\xb9\\x90\\xe8\\x8d\\xa3\\xe8\\x8e\\xb7\\xe6\\x96\\xb0\\xe5\\x8d\\x8e\\xe7\\xbd\\x91\\xe2\\x80\\x9c2020\\xe5\\xb9\\xb4\\xe5\\xba\\xa6\\xe6\\x95\\x99\\xe8\\x82\\xb2\\xe8\\xa1\\x8c\\xe4\\xb8\\x9a\\xe6\\x9d\\xb0\\xe5\\x87\\xba\\xe4\\xba\\xba\\xe7\\x89\\xa9\\xe2\\x80\\x9d</h3>\\r\\n\\t\\t\\t\\t\\t\\t<img src=\"images/about/honor-p4.jpg\" width=\"344\" height=\"280px\">\\r\\n\\t\\t\\t\\t\\t</div>\\r\\n\\t\\t\\t\\t</div>\\r\\n\\t\\t\\t\\t<div class=\"swiper-slide\">\\r\\n\\t\\t\\t\\t\\t<div>\\r\\n\\t\\t\\t\\t\\t\\t<h3>\\xe6\\x96\\xb0\\xe5\\x8d\\x8e\\xe7\\xbd\\x91\\xe2\\x80\\x9c2019\\xe5\\xb9\\xb4\\xe5\\xba\\xa6\\xe5\\x93\\x81\\xe7\\x89\\x8c\\xe5\\xbd\\xb1\\xe5\\x93\\x8d\\xe5\\x8a\\x9b\\xe5\\x9c\\xa8\\xe7\\xba\\xbf\\xe6\\x95\\x99\\xe8\\x82\\xb2\\xe6\\x9c\\xba\\xe6\\x9e\\x84\\xe2\\x80\\x9d</h3>\\r\\n\\t\\t\\t\\t\\t\\t<img src=\"images/about/honor-p5.jpg\" width=\"344\" height=\"280px\">\\r\\n\\t\\t\\t\\t\\t</div>\\r\\n\\t\\t\\t\\t</div>\\r\\n\\t\\t\\t\\t<div class=\"swiper-slide\">\\r\\n\\t\\t\\t\\t\\t<div>\\r\\n\\t\\t\\t\\t\\t\\t<h3>21\\xe4\\xb8\\x96\\xe7\\xba\\xaa\\xe4\\xba\\x9a\\xe6\\xb4\\xb2\\xe9\\x87\\x91\\xe8\\x9e\\x8d\\xe7\\xab\\x9e\\xe4\\xba\\x89\\xe5\\x8a\\x9b\\xe2\\x80\\x9c2019\\xe5\\xb9\\xb4\\xe5\\xba\\xa6\\xe7\\x90\\x86\\xe8\\xb4\\xa2\\xe6\\x95\\x99\\xe8\\x82\\xb2\\xe6\\x9c\\x8d\\xe5\\x8a\\xa1\\xe5\\x88\\x9b\\xe6\\x96\\xb0\\xe6\\x88\\x90\\xe5\\xb0\\xb1\\xe5\\xa5\\x96\\xe2\\x80\\x9d</h3>\\r\\n\\t\\t\\t\\t\\t\\t<img src=\"images/about/honor-p6.jpg\" width=\"344\" height=\"280px\">\\r\\n\\t\\t\\t\\t\\t</div>\\r\\n\\t\\t\\t\\t</div>\\r\\n\\t\\t\\t\\t<div class=\"swiper-slide\">\\r\\n\\t\\t\\t\\t\\t<div>\\r\\n\\t\\t\\t\\t\\t\\t<h3>\\xe7\\xbd\\x91\\xe6\\x98\\x93\\xe6\\x96\\xb0\\xe9\\x97\\xbb\\xe2\\x80\\x9c2019\\xe5\\xb9\\xb4\\xe5\\xba\\xa6\\xe6\\x9c\\x80\\xe5\\x85\\xb7\\xe6\\xbd\\x9c\\xe5\\x8a\\x9bMCN\\xe6\\x9c\\xba\\xe6\\x9e\\x84\\xe2\\x80\\x9d</h3>\\r\\n\\t\\t\\t\\t\\t\\t<img src=\"images/about/honor-p7.jpg\" width=\"344\" height=\"280px\">\\r\\n\\t\\t\\t\\t\\t</div>\\r\\n\\t\\t\\t\\t</div>\\r\\n\\t\\t\\t\\t<div class=\"swiper-slide\">\\r\\n\\t\\t\\t\\t\\t<div>\\r\\n\\t\\t\\t\\t\\t\\t<h3>2019\\xe8\\xbd\\xaf\\xe4\\xbb\\xb6\\xe5\\xbc\\x80\\xe5\\x8f\\x91\\xe4\\xb8\\x8e\\xe6\\xb5\\x8b\\xe8\\xaf\\x95\\xef\\xbc\\x88\\xe4\\xba\\xba\\xe5\\xb7\\xa5\\xe6\\x99\\xba\\xe8\\x83\\xbd\\xe7\\xbc\\x96\\xe7\\xa8\\x8b\\xef\\xbc\\x89\\xe7\\xab\\x9e\\xe8\\xb5\\x9b\\xe4\\xbc\\x98\\xe8\\x83\\x9c\\xe5\\xa5\\x96</h3>\\r\\n\\t\\t\\t\\t\\t\\t<img src=\"images/about/honor-p8.jpg\" width=\"344\" height=\"280px\">\\r\\n\\t\\t\\t\\t\\t</div>\\r\\n\\t\\t\\t\\t</div>\\r\\n\\t\\t\\t\\t<div class=\"swiper-slide\">\\r\\n\\t\\t\\t\\t\\t<div>\\r\\n\\t\\t\\t\\t\\t\\t<h3>\\xe8\\x85\\xbe\\xe8\\xae\\xaf\\xe6\\x95\\x99\\xe8\\x82\\xb2\\xe2\\x80\\x9c2018\\xe5\\xb9\\xb4\\xe7\\x9f\\xa5\\xe5\\x90\\x8d\\xe5\\x9c\\xa8\\xe7\\xba\\xbf\\xe6\\x95\\x99\\xe8\\x82\\xb2\\xe5\\x93\\x81\\xe7\\x89\\x8c\\xe2\\x80\\x9d</h3>\\r\\n\\t\\t\\t\\t\\t\\t<img src=\"images/about/honor-p9.jpg\" width=\"344\" height=\"280px\">\\r\\n\\t\\t\\t\\t\\t</div>\\r\\n\\t\\t\\t\\t</div>\\r\\n\\t\\t\\t\\t<div class=\"swiper-slide\">\\r\\n\\t\\t\\t\\t\\t<div>\\r\\n\\t\\t\\t\\t\\t\\t<h3>\\xe9\\x95\\xbf\\xe6\\x8a\\x95\\xe5\\xad\\xa6\\xe5\\xa0\\x82\\xe8\\x8d\\xa3\\xe8\\x8e\\xb7\\xe2\\x80\\x9c\\xe9\\xab\\x98\\xe6\\x96\\xb0\\xe6\\x8a\\x80\\xe6\\x9c\\xaf\\xe4\\xbc\\x81\\xe4\\xb8\\x9a\\xe8\\xaf\\x81\\xe4\\xb9\\xa6\\xe2\\x80\\x9d</h3>\\r\\n\\t\\t\\t\\t\\t\\t<img src=\"images/about/honor-p10.jpg\" width=\"344\" height=\"280px\">\\r\\n\\t\\t\\t\\t\\t</div>\\r\\n\\t\\t\\t\\t</div>\\r\\n\\t\\t\\t</div>\\r\\n\\t\\t\\t<!-- Add Pagination -->\\r\\n\\t\\t\\t<div class=\"swiper-pagination\"></div>\\r\\n\\t\\t\\t<div class=\"swiper-button-prev\"></div>\\r\\n\\t\\t\\t<div class=\"swiper-button-next\"></div>\\r\\n\\t\\t</div>\\r\\n\\t</div>\\r\\n\\t<div class=\"about-honor-scale\">\\r\\n\\t\\t<div>\\r\\n\\t\\t\\t<img src=\"images/about/arr-left.png\" id=\"about-honor-arrleft\">\\r\\n\\t\\t\\t<div id=\"about-honor-img\">\\r\\n\\t\\t\\t\\t<img src=\"\" width=\"600\" height=\"488\">\\r\\n\\t\\t\\t\\t<h3>ISO20000\\xe4\\xbf\\xa1\\xe6\\x81\\xaf\\xe6\\x8a\\x80\\xe6\\x9c\\xaf\\xe6\\x9c\\x8d\\xe5\\x8a\\xa1\\xe7\\xae\\xa1\\xe7\\x90\\x86\\xe4\\xbd\\x93\\xe7\\xb3\\xbb\\xe8\\xae\\xa4\\xe8\\xaf\\x81\\xe8\\xaf\\x81\\xe4\\xb9\\xa6</h3>\\r\\n\\t\\t\\t</div>\\r\\n\\t\\t\\t<img src=\"images/about/arr-right.png\" id=\"about-honor-arrright\">\\r\\n\\t\\t</div>\\r\\n\\t</div>\\r\\n\\t<!-- ./\\xe8\\x8d\\xa3\\xe8\\xaa\\x89\\xe8\\xb5\\x84\\xe8\\xb4\\xa8 -->\\r\\n\\t<div class=\"index-auth\">\\r\\n\\t\\t<div class=\"index-title\">\\r\\n\\t\\t\\t<h3 data-wow-delay=\".8s\" class=\" wow titleDown\">\\xe8\\xaf\\xbe\\xe7\\xa8\\x8b\\xe8\\xae\\xa4\\xe8\\xaf\\x81<span><strong>COURSE CERTIFICATIONS</strong></span></h3>\\r\\n\\t\\t</div>\\r\\n\\t\\t<div class=\"swiper-container wow goLeft\" data-wow-delay=\"1.1s\">\\r\\n\\t\\t\\t<div class=\"swiper-wrapper\">\\r\\n\\t\\t\\t\\t<div class=\"swiper-slide\">\\r\\n\\t\\t\\t\\t\\t<div>\\r\\n\\t\\t\\t\\t\\t\\t<h3>\\xe9\\x95\\xbf\\xe6\\x8a\\x95\\xe5\\xad\\xa6\\xe5\\xa0\\x82-\\xe8\\xb4\\xa2\\xe6\\x8a\\xa5\\xe5\\x88\\x86\\xe6\\x9e\\x90\\xe8\\xae\\xad\\xe7\\xbb\\x83\\xe8\\x90\\xa5</h3><img src=\"images/auth/1.png\" width=\"344\" height=\"280px\">\\r\\n\\t\\t\\t\\t\\t</div>\\r\\n\\t\\t\\t\\t</div>\\r\\n\\t\\t\\t\\t<div class=\"swiper-slide\">\\r\\n\\t\\t\\t\\t\\t<div>\\r\\n\\t\\t\\t\\t\\t\\t<h3>\\xe9\\x95\\xbf\\xe6\\x8a\\x95\\xe5\\xad\\xa6\\xe5\\xa0\\x82\\xe8\\x82\\xa1\\xe7\\xa5\\xa8\\xe5\\x88\\x9d\\xe5\\xa7\\x8b\\xe7\\xba\\xa7\\xe8\\xaf\\xbe</h3><img src=\"images/auth/2.png\" width=\"344\" height=\"280px\">\\r\\n\\t\\t\\t\\t\\t</div>\\r\\n\\t\\t\\t\\t</div>\\r\\n\\t\\t\\t\\t<div class=\"swiper-slide\">\\r\\n\\t\\t\\t\\t\\t<div>\\r\\n\\t\\t\\t\\t\\t\\t<h3>\\xe9\\x95\\xbf\\xe6\\x8a\\x95\\xe5\\xad\\xa6\\xe5\\xa0\\x82\\xe8\\x82\\xa1\\xe7\\xa5\\xa8\\xe8\\xbf\\x9b\\xe9\\x98\\xb6\\xe8\\xaf\\xbe</h3><img src=\"images/auth/3.png\" width=\"344\" height=\"280px\">\\r\\n\\t\\t\\t\\t\\t</div>\\r\\n\\t\\t\\t\\t</div>\\r\\n\\t\\t\\t\\t<div class=\"swiper-slide\">\\r\\n\\t\\t\\t\\t\\t<div>\\r\\n\\t\\t\\t\\t\\t\\t<h3>\\xe9\\x95\\xbf\\xe6\\x8a\\x95\\xe5\\xad\\xa6\\xe5\\xa0\\x82\\xe5\\x9f\\xba\\xe9\\x87\\x91\\xe8\\xaf\\xbe</h3><img src=\"images/auth/4.png\" width=\"344\" height=\"280px\">\\r\\n\\t\\t\\t\\t\\t</div>\\r\\n\\t\\t\\t\\t</div>\\r\\n\\t\\t\\t\\t<div class=\"swiper-slide\">\\r\\n\\t\\t\\t\\t\\t<div>\\r\\n\\t\\t\\t\\t\\t\\t<h3>\\xe5\\x9f\\xba\\xe9\\x87\\x91\\xe8\\xbf\\x9b\\xe9\\x98\\xb6\\xe8\\xae\\xad\\xe7\\xbb\\x83\\xe8\\x90\\xa5</h3><img src=\"images/auth/5.png\" width=\"344\" height=\"280px\">\\r\\n\\t\\t\\t\\t\\t</div>\\r\\n\\t\\t\\t\\t</div>\\r\\n\\t\\t\\t\\t<div class=\"swiper-slide\">\\r\\n\\t\\t\\t\\t\\t<div>\\r\\n\\t\\t\\t\\t\\t\\t<h3>\\xe9\\x95\\xbf\\xe6\\x8a\\x95\\xe5\\xad\\xa6\\xe5\\xa0\\x82\\xe4\\xbf\\x9d\\xe9\\x99\\xa9\\xe5\\xae\\x9e\\xe6\\x88\\x98\\xe8\\xaf\\xbe</h3><img src=\"images/auth/6.png\" width=\"344\" height=\"280px\">\\r\\n\\t\\t\\t\\t\\t</div>\\r\\n\\t\\t\\t\\t</div>\\r\\n\\t\\t\\t\\t<div class=\"swiper-slide\">\\r\\n\\t\\t\\t\\t\\t<div>\\r\\n\\t\\t\\t\\t\\t\\t<h3>\\xe5\\x8f\\xaf\\xe8\\xbd\\xac\\xe5\\x80\\xba\\xe6\\x8a\\x95\\xe8\\xb5\\x84\\xe8\\xaf\\xbe</h3><img src=\"images/auth/7.png\" width=\"344\" height=\"280px\">\\r\\n\\t\\t\\t\\t\\t</div>\\r\\n\\t\\t\\t\\t</div>\\r\\n\\t\\t\\t\\t<div class=\"swiper-slide\">\\r\\n\\t\\t\\t\\t\\t<div>\\r\\n\\t\\t\\t\\t\\t\\t<h3>\\xe9\\x95\\xbf\\xe6\\x8a\\x95\\xe5\\xad\\xa6\\xe5\\xa0\\x82\\xe5\\xb0\\x8f\\xe7\\x99\\xbd\\xe8\\x90\\xa58\\xe8\\xaf\\xbe\\xe9\\x9f\\xb3\\xe9\\xa2\\x91\\xe7\\xa8\\xbf</h3><img src=\"images/auth/8.png\" width=\"344\" height=\"280px\">\\r\\n\\t\\t\\t\\t\\t</div>\\r\\n\\t\\t\\t\\t</div>\\r\\n\\t\\t\\t\\t<div class=\"swiper-slide\">\\r\\n\\t\\t\\t\\t\\t<div>\\r\\n\\t\\t\\t\\t\\t\\t<h3>\\xe6\\xb8\\xaf\\xe8\\x82\\xa1\\xe6\\x89\\x93\\xe6\\x96\\xb0\\xe8\\xaf\\xbe</h3><img src=\"images/auth/9.png\" width=\"344\" height=\"280px\">\\r\\n\\t\\t\\t\\t\\t</div>\\r\\n\\t\\t\\t\\t</div>\\r\\n\\t\\t\\t\\t<div class=\"swiper-slide\">\\r\\n\\t\\t\\t\\t\\t<div>\\r\\n\\t\\t\\t\\t\\t\\t<h3>\\xe5\\xbc\\x80\\xe6\\xba\\x90\\xe8\\xb5\\x9a\\xe9\\x92\\xb1\\xe8\\xaf\\xbe</h3><img src=\"images/auth/10.png\" width=\"344\" height=\"280px\">\\r\\n\\t\\t\\t\\t\\t</div>\\r\\n\\t\\t\\t\\t</div>\\r\\n\\t\\t\\t\\t<div class=\"swiper-slide\">\\r\\n\\t\\t\\t\\t\\t<div>\\r\\n\\t\\t\\t\\t\\t\\t<h3>\\xe9\\x95\\xbf\\xe6\\x8a\\x95\\xe5\\xad\\xa6\\xe5\\xa0\\x82\\xe5\\xae\\xb6\\xe5\\xba\\xad\\xe7\\x90\\x86\\xe8\\xb4\\xa2\\xe8\\xa7\\x84\\xe5\\x88\\x92\\xe8\\xaf\\xbe</h3><img src=\"images/auth/11.png\" width=\"344\" height=\"280px\">\\r\\n\\t\\t\\t\\t\\t</div>\\r\\n\\t\\t\\t\\t</div>\\r\\n\\t\\t\\t\\t<div class=\"swiper-slide\">\\r\\n\\t\\t\\t\\t\\t<div>\\r\\n\\t\\t\\t\\t\\t\\t<h3>\\xe9\\x95\\xbf\\xe6\\x8a\\x95\\xe5\\xad\\xa6\\xe5\\xa0\\x82\\xe8\\xb5\\x84\\xe4\\xba\\xa7\\xe9\\x85\\x8d\\xe7\\xbd\\xae\\xe8\\xaf\\xbe</h3><img src=\"images/auth/12.png\" width=\"344\" height=\"280px\">\\r\\n\\t\\t\\t\\t\\t</div>\\r\\n\\t\\t\\t\\t</div>\\r\\n\\t\\t\\t\\t<div class=\"swiper-slide\">\\r\\n\\t\\t\\t\\t\\t<div>\\r\\n\\t\\t\\t\\t\\t\\t<h3>\\xe9\\x95\\xbf\\xe6\\x8a\\x95\\xe5\\xad\\xa6\\xe5\\xa0\\x82\\xe4\\xbd\\x8e\\xe9\\xa3\\x8e\\xe9\\x99\\xa9\\xe7\\x90\\x86\\xe8\\xb4\\xa2\\xe8\\xaf\\xbe</h3><img src=\"images/auth/13.png\" width=\"344\" height=\"280px\">\\r\\n\\t\\t\\t\\t\\t</div>\\r\\n\\t\\t\\t\\t</div>\\r\\n\\t\\t\\t\\t<div class=\"swiper-slide\">\\r\\n\\t\\t\\t\\t\\t<div>\\r\\n\\t\\t\\t\\t\\t\\t<h3>\\xe9\\x93\\xb6\\xe8\\xa1\\x8c\\xe7\\x90\\x86\\xe8\\xb4\\xa2\\xe8\\xaf\\xbe</h3><img src=\"images/auth/14.png\" width=\"344\" height=\"280px\">\\r\\n\\t\\t\\t\\t\\t</div>\\r\\n\\t\\t\\t\\t</div>\\r\\n\\t\\t\\t\\t<div class=\"swiper-slide\">\\r\\n\\t\\t\\t\\t\\t<div>\\r\\n\\t\\t\\t\\t\\t\\t<h3>\\xe9\\x95\\xbf\\xe6\\x8a\\x95\\xe5\\xad\\xa6\\xe5\\xa0\\x82\\xe6\\x9c\\x9f\\xe8\\xb4\\xa7\\xe6\\x9c\\x9f\\xe6\\x9d\\x83\\xe5\\x85\\xa5\\xe9\\x97\\xa8</h3><img src=\"images/auth/15.png\" width=\"344\" height=\"280px\">\\r\\n\\t\\t\\t\\t\\t</div>\\r\\n\\t\\t\\t\\t</div>\\r\\n\\t\\t\\t</div>\\r\\n\\t\\t\\t<!-- Add Pagination -->\\r\\n\\t\\t\\t<div class=\"swiper-pagination\"></div>\\r\\n\\t\\t\\t<div class=\"swiper-button-prev\"></div>\\r\\n\\t\\t\\t<div class=\"swiper-button-next\"></div>\\r\\n\\t\\t</div>\\r\\n\\t</div>\\r\\n\\t<div class=\"index-auth-scale\">\\r\\n\\t\\t<div>\\r\\n\\t\\t\\t<img src=\"images/about/arr-left.png\" id=\"index-auth-arrleft\">\\r\\n\\t\\t\\t<div id=\"index-auth-img\">\\r\\n\\t\\t\\t\\t<img src=\"\" width=\"600\" height=\"488\">\\r\\n\\t\\t\\t\\t<h3>\\xe9\\x95\\xbf\\xe6\\x8a\\x95\\xe5\\xad\\xa6\\xe5\\xa0\\x82-\\xe8\\xb4\\xa2\\xe6\\x8a\\xa5\\xe5\\x88\\x86\\xe6\\x9e\\x90\\xe8\\xae\\xad\\xe7\\xbb\\x83\\xe8\\x90\\xa5</h3>\\r\\n\\t\\t\\t</div>\\r\\n\\t\\t\\t<img src=\"images/about/arr-right.png\" id=\"index-auth-arrright\">\\r\\n\\t\\t</div>\\r\\n\\t</div>\\r\\n\\r\\n\\t<!-- ./ -->\\r\\n\\t<div class=\"index-news pd50\">\\r\\n\\t\\t<div class=\"index-title\">\\r\\n\\t\\t\\t<h3 data-wow-delay=\".6s\" class=\" wow titleDown\">\\xe5\\x85\\xac\\xe5\\x8f\\xb8\\xe5\\x8a\\xa8\\xe6\\x80\\x81<span><strong>company news</strong></span></h3>\\r\\n\\t\\t</div>\\r\\n\\t\\t<div class=\"more more-default\">\\r\\n\\t\\t\\t<a href=\"news.html\" class=\"btn-more wow fadeIn\" data-wow-delay=\"1s\"\\r\\n\\t\\t\\t\\tonclick=\"Gsend(\\'\\',\\'\\xe6\\x9f\\xa5\\xe7\\x9c\\x8b\\xe6\\x9b\\xb4\\xe5\\xa4\\x9a\\xe5\\x8a\\xa8\\xe6\\x80\\x81\\',\\'\\',this)\">\\xe6\\x9f\\xa5\\xe7\\x9c\\x8b\\xe6\\x9b\\xb4\\xe5\\xa4\\x9a\\xe5\\x8a\\xa8\\xe6\\x80\\x81 <b></b></a>\\r\\n\\t\\t</div>\\r\\n\\t\\t<!-- ./title -->\\r\\n\\t\\t<div class=\"container-width\">\\r\\n\\t\\t\\t<ul class=\"clearfix\">\\r\\n\\t\\t\\t</ul>\\r\\n\\t\\t</div>\\r\\n\\t</div>\\r\\n\\t<!-- ./\\xe6\\x96\\xb0\\xe9\\x97\\xbb -->\\r\\n\\t<div class=\"index-fdlink\">\\r\\n\\t\\t<div class=\"index-title\">\\r\\n\\t\\t\\t<h3 data-wow-delay=\".8s\" class=\" wow titleDown\">\\xe9\\xab\\x98\\xe6\\xa0\\xa1\\xe8\\x81\\x94\\xe5\\x8a\\xa8<span><strong>Cooperative Universities</strong></span>\\r\\n\\t\\t\\t</h3>\\r\\n\\t\\t</div>\\r\\n\\t\\t<!-- ./title -->\\r\\n\\t\\t<div class=\"container-width o-hidden\">\\r\\n\\t\\t\\t<ul class=\"university-list\">\\r\\n\\t\\t\\t</ul>\\r\\n\\t\\t</div>\\r\\n\\t</div>\\r\\n\\t<!-- ./\\xe9\\xab\\x98\\xe6\\xa0\\xa1\\xe8\\x81\\x94\\xe5\\x8a\\xa8 -->\\r\\n\\t<div class=\"index-fdlink\">\\r\\n\\t\\t<div class=\"index-title\">\\r\\n\\t\\t\\t<h3 data-wow-delay=\".8s\" class=\" wow titleDown\">\\xe5\\x90\\x88\\xe4\\xbd\\x9c\\xe4\\xbc\\x99\\xe4\\xbc\\xb4<span><strong>partners</strong></span></h3>\\r\\n\\t\\t</div>\\r\\n\\t\\t<!-- ./title -->\\r\\n\\t\\t<div class=\"container-width o-hidden\">\\r\\n\\t\\t\\t<ul class=\"clearfix partners-list\">\\r\\n\\t\\t\\t</ul>\\r\\n\\t\\t</div>\\r\\n\\t</div>\\r\\n\\t<!-- ./\\xe5\\x90\\x88\\xe4\\xbd\\x9c\\xe4\\xbc\\x99\\xe4\\xbc\\xb4 -->\\r\\n\\t<script src=\"js/index.js\"></script>\\r\\n\\t<!-- ./main -->\\r\\n\\t<script src=\"js/global.js\" type=\"text/javascript\" charset=\"utf-8\"></script>\\r\\n\\t<div class=\"footer\">\\r\\n\\t\\t<div class=\"container-width clearfix o-hidden\">\\r\\n\\t\\t\\t<div class=\"footer-left\">\\r\\n\\t\\t\\t\\t<p>\\xe5\\x85\\xac\\xe5\\x8f\\xb8\\xe5\\x90\\x8d\\xe7\\xa7\\xb0\\xef\\xbc\\x9a\\xe4\\xb8\\x8a\\xe6\\xb5\\xb7\\xe6\\x98\\x8c\\xe6\\x8a\\x95\\xe7\\xbd\\x91\\xe7\\xbb\\x9c\\xe7\\xa7\\x91\\xe6\\x8a\\x80\\xe6\\x9c\\x89\\xe9\\x99\\x90\\xe5\\x85\\xac\\xe5\\x8f\\xb8</p>\\r\\n\\t\\t\\t\\t<p>\\xe5\\x85\\xac\\xe5\\x8f\\xb8\\xe5\\x9c\\xb0\\xe5\\x9d\\x80\\xef\\xbc\\x9a\\xe4\\xb8\\x8a\\xe6\\xb5\\xb7\\xe5\\xb8\\x82\\xe6\\xb5\\xa6\\xe4\\xb8\\x9c\\xe6\\x96\\xb0\\xe5\\x8c\\xba\\xe9\\xbe\\x99\\xe4\\xb8\\x9c\\xe5\\xa4\\xa7\\xe9\\x81\\x933000\\xe5\\x8f\\xb7\\xe5\\xbc\\x98\\xe6\\xba\\x90\\xe7\\xa7\\x91\\xe5\\x88\\x9b\\xe5\\xa4\\xa7\\xe5\\x8e\\xa6<a class=\"hidden\" href=\"know.html\">.</a></p>\\r\\n\\t\\t\\t\\t<p>\\xe8\\x81\\x94\\xe7\\xb3\\xbb\\xe7\\x94\\xb5\\xe8\\xaf\\x9d\\xef\\xbc\\x9a021-58942390\\xef\\xbc\\x88\\xe5\\x91\\xa8\\xe4\\xb8\\x80\\xe8\\x87\\xb3\\xe5\\x91\\xa8\\xe4\\xba\\x949:00-18:00\\xef\\xbc\\x89</p>\\r\\n\\t\\t\\t\\t<h3>\\xc2\\xa9 AII Rights Reserved \\xe4\\xb8\\x8a\\xe6\\xb5\\xb7\\xe6\\x98\\x8c\\xe6\\x8a\\x95\\xe7\\xbd\\x91\\xe7\\xbb\\x9c\\xe7\\xa7\\x91\\xe6\\x8a\\x80\\xe6\\x9c\\x89\\xe9\\x99\\x90\\xe5\\x85\\xac\\xe5\\x8f\\xb8\\xe4\\xb8\\xa8\\xef\\xbc\\x88\\xe6\\xb2\\xaa\\xef\\xbc\\x89\\xe5\\xad\\x97\\xe7\\xac\\xac03358\\xe5\\x8f\\xb7\\xe4\\xb8\\xa8\\xe6\\xb2\\xaa\\xe5\\x85\\xac\\xe7\\xbd\\x91\\xe5\\xae\\x89\\xe5\\xa4\\x8731011502008402\\xe5\\x8f\\xb7 |\\r\\n\\t\\t\\t\\t\\t<a href=\"https://beian.miit.gov.cn\" target=\"_blank\">\\xe6\\xb2\\xaaICP\\xe5\\xa4\\x8713007095\\xe5\\x8f\\xb7-1</a>\\r\\n\\t\\t\\t\\t</h3>\\r\\n\\t\\t\\t</div>\\r\\n\\t\\t\\t<!-- ./left -->\\r\\n\\t\\t\\t<div class=\"footer-right\">\\r\\n\\t\\t\\t\\t<span>\\r\\n\\t\\t\\t\\t\\t<img src=\"images/wx.png\" title=\"\" alt=\"\">\\r\\n\\t\\t\\t\\t\\t<p>\\xe5\\xae\\x98\\xe6\\x96\\xb9\\xe5\\xbe\\xae\\xe5\\x8d\\x9a</p>\\r\\n\\t\\t\\t\\t</span>\\r\\n\\t\\t\\t\\t<span>\\r\\n\\t\\t\\t\\t\\t<img src=\"images/wx1.png\" title=\"\" alt=\"\">\\r\\n\\t\\t\\t\\t\\t<p>\\xe5\\xbe\\xae\\xe4\\xbf\\xa1\\xe6\\x9c\\x8d\\xe5\\x8a\\xa1\\xe5\\x8f\\xb7</p>\\r\\n\\t\\t\\t\\t</span>\\r\\n\\t\\t\\t</div>\\r\\n\\t\\t\\t<!-- ./right -->\\r\\n\\t\\t</div>\\r\\n\\t</div>\\r\\n\\t<!-- ./footer -->\\r\\n\\r\\n\\t<div class=\"window-service\">\\r\\n\\t\\t<ul class=\"clearfix\">\\r\\n\\t\\t\\t<li class=\"window-service-wx\">\\r\\n\\t\\t\\t\\t<div class=\"window-service-wx-pic\">\\r\\n\\t\\t\\t\\t\\t<img src=\"images/kefu.png\" width=\"80\">\\r\\n\\t\\t\\t\\t\\t<h3>\\xe6\\x89\\xab\\xe6\\x8f\\x8f\\xe4\\xba\\x8c\\xe7\\xbb\\xb4\\xe7\\xa0\\x81<br>\\xe8\\x81\\x94\\xe7\\xb3\\xbb\\xe5\\xae\\xa2\\xe6\\x9c\\x8d</h3>\\r\\n\\t\\t\\t\\t</div>\\r\\n\\t\\t\\t\\t<p><img src=\"images/ico-kefu.png\" width=\"50\"></p>\\r\\n\\t\\t\\t</li>\\r\\n\\t\\t\\t<li class=\"window-service-wx\">\\r\\n\\t\\t\\t\\t<div class=\"window-service-wx-pic\">\\r\\n\\t\\t\\t\\t\\t<img src=\"images/app.png\" width=\"80\">\\r\\n\\t\\t\\t\\t\\t<h3>\\xe6\\x89\\xab\\xe6\\x8f\\x8f\\xe4\\xba\\x8c\\xe7\\xbb\\xb4\\xe7\\xa0\\x81<br>\\xe4\\xb8\\x8b\\xe8\\xbd\\xbdAPP</h3>\\r\\n\\t\\t\\t\\t</div>\\r\\n\\t\\t\\t\\t<p>APP</p>\\r\\n\\t\\t\\t</li>\\r\\n\\t\\t</ul>\\r\\n\\t</div>\\r\\n\\t<!-- w-tools -->\\r\\n\\t<script type=\"text/javascript\">\\r\\n\\t\\twindow.sensorsdata.track(\\'pageView\\', {\\r\\n\\t\\t\\tpageUrl: window.location.href,\\r\\n\\t\\t\\tpageTitle: \\'\\xe9\\xa6\\x96\\xe9\\xa1\\xb5\\',\\r\\n\\t\\t\\tmoduleTitle: \\'\\xe9\\x95\\xbf\\xe6\\x8a\\x95\\xe5\\xae\\x98\\xe7\\xbd\\x91\\'\\r\\n\\t\\t});\\r\\n\\t\\tfor (var i = 1; i < 16; i++) {\\r\\n\\t\\t\\tvar list = \\'<li class=\"wow goUp\">\\' +\\r\\n\\t\\t\\t\\t\\'<a href=\"javascript:void(0);\">\\' +\\r\\n\\t\\t\\t\\t\\'<img src=\"images/partner/\\' + i + \\'.png\" title=\"\" alt=\"\" width=\"229\" height=\"48\">\\' +\\r\\n\\t\\t\\t\\t\\'</a>\\' +\\r\\n\\t\\t\\t\\t\\'</li>\\';\\r\\n\\t\\t\\t$(\\'.partners-list\\').append(list);\\r\\n\\t\\t}\\r\\n\\t\\tfor (var i = 1; i < 4; i++) {\\r\\n\\t\\t\\tvar list = \\'<li class=\"wow goUp\">\\' +\\r\\n\\t\\t\\t\\t\\'<a href=\"javascript:void(0);\">\\' +\\r\\n\\t\\t\\t\\t\\'<img src=\"images/university/\\' + i + \\'.png\" title=\"\" alt=\"\" width=\"229\" height=\"48\">\\' +\\r\\n\\t\\t\\t\\t\\'</a>\\' +\\r\\n\\t\\t\\t\\t\\'</li>\\';\\r\\n\\t\\t\\t$(\\'.university-list\\').append(list);\\r\\n\\t\\t}\\r\\n\\t</script>\\r\\n\\t<script type=\"text/javascript\">\\r\\n\\t\\tvar arrText = [\\'\\xe8\\x85\\xbe\\xe8\\xae\\xaf\\xe2\\x80\\x9c2020\\xe5\\xb9\\xb4\\xe5\\xba\\xa6\\xe8\\xa1\\x8c\\xe4\\xb8\\x9a\\xe6\\xa0\\x87\\xe6\\x9d\\x86\\xe6\\x95\\x99\\xe8\\x82\\xb2\\xe9\\x9b\\x86\\xe5\\x9b\\xa2\\xe2\\x80\\x9d\\', \\'\\xe6\\x96\\xb0\\xe5\\x8d\\x8e\\xe7\\xbd\\x91\\xe2\\x80\\x9c2020\\xe5\\xb9\\xb4\\xe5\\xba\\xa6\\xe5\\xbd\\xb1\\xe5\\x93\\x8d\\xe5\\x8a\\x9b\\xe5\\x9c\\xa8\\xe7\\xba\\xbf\\xe6\\x95\\x99\\xe8\\x82\\xb2\\xe5\\x93\\x81\\xe7\\x89\\x8c\\xe2\\x80\\x9d\\', \\'36\\xe6\\xb0\\xaa\\xe2\\x80\\x9c2020\\xe6\\x96\\xb0\\xe7\\xbb\\x8f\\xe6\\xb5\\x8e\\xe4\\xb9\\x8b\\xe7\\x8e\\x8b\\xe6\\x9c\\x80\\xe5\\x85\\xb7\\xe5\\xbd\\xb1\\xe5\\x93\\x8d\\xe5\\x8a\\x9b\\xe4\\xbc\\x81\\xe4\\xb8\\x9a\\xe5\\xa5\\x96\\xe2\\x80\\x9d\\', \\'\\xe9\\x95\\xbf\\xe6\\x8a\\x95\\xe5\\xad\\xa6\\xe5\\xa0\\x82\\xe5\\x88\\x9b\\xe5\\xa7\\x8b\\xe4\\xba\\xba\\xe5\\x85\\xbcCEO\\xe6\\x9d\\xa8\\xe4\\xb9\\x90\\xe8\\x8d\\xa3\\xe8\\x8e\\xb7\\xe6\\x96\\xb0\\xe5\\x8d\\x8e\\xe7\\xbd\\x91\\xe2\\x80\\x9c2020\\xe5\\xb9\\xb4\\xe5\\xba\\xa6\\xe6\\x95\\x99\\xe8\\x82\\xb2\\xe8\\xa1\\x8c\\xe4\\xb8\\x9a\\xe6\\x9d\\xb0\\xe5\\x87\\xba\\xe4\\xba\\xba\\xe7\\x89\\xa9\\xe2\\x80\\x9d\\',\\r\\n\\t\\t\\t\\'\\xe6\\x96\\xb0\\xe5\\x8d\\x8e\\xe7\\xbd\\x91\\xe2\\x80\\x9c2019\\xe5\\xb9\\xb4\\xe5\\xba\\xa6\\xe5\\x93\\x81\\xe7\\x89\\x8c\\xe5\\xbd\\xb1\\xe5\\x93\\x8d\\xe5\\x8a\\x9b\\xe5\\x9c\\xa8\\xe7\\xba\\xbf\\xe6\\x95\\x99\\xe8\\x82\\xb2\\xe6\\x9c\\xba\\xe6\\x9e\\x84\\xe2\\x80\\x9d\\', \\'21\\xe4\\xb8\\x96\\xe7\\xba\\xaa\\xe4\\xba\\x9a\\xe6\\xb4\\xb2\\xe9\\x87\\x91\\xe8\\x9e\\x8d\\xe7\\xab\\x9e\\xe4\\xba\\x89\\xe5\\x8a\\x9b\\xe2\\x80\\x9c2019\\xe5\\xb9\\xb4\\xe5\\xba\\xa6\\xe7\\x90\\x86\\xe8\\xb4\\xa2\\xe6\\x95\\x99\\xe8\\x82\\xb2\\xe6\\x9c\\x8d\\xe5\\x8a\\xa1\\xe5\\x88\\x9b\\xe6\\x96\\xb0\\xe6\\x88\\x90\\xe5\\xb0\\xb1\\xe5\\xa5\\x96\\xe2\\x80\\x9d\\', \\'\\xe7\\xbd\\x91\\xe6\\x98\\x93\\xe6\\x96\\xb0\\xe9\\x97\\xbb\\xe2\\x80\\x9c2019\\xe5\\xb9\\xb4\\xe5\\xba\\xa6\\xe6\\x9c\\x80\\xe5\\x85\\xb7\\xe6\\xbd\\x9c\\xe5\\x8a\\x9bMCN\\xe6\\x9c\\xba\\xe6\\x9e\\x84\\xe2\\x80\\x9d\\', \\'2019\\xe8\\xbd\\xaf\\xe4\\xbb\\xb6\\xe5\\xbc\\x80\\xe5\\x8f\\x91\\xe4\\xb8\\x8e\\xe6\\xb5\\x8b\\xe8\\xaf\\x95\\xef\\xbc\\x88\\xe4\\xba\\xba\\xe5\\xb7\\xa5\\xe6\\x99\\xba\\xe8\\x83\\xbd\\xe7\\xbc\\x96\\xe7\\xa8\\x8b\\xef\\xbc\\x89\\xe7\\xab\\x9e\\xe8\\xb5\\x9b\\xe4\\xbc\\x98\\xe8\\x83\\x9c\\xe5\\xa5\\x96\\', \\'\\xe8\\x85\\xbe\\xe8\\xae\\xaf\\xe6\\x95\\x99\\xe8\\x82\\xb2\\xe2\\x80\\x9c2018\\xe5\\xb9\\xb4\\xe7\\x9f\\xa5\\xe5\\x90\\x8d\\xe5\\x9c\\xa8\\xe7\\xba\\xbf\\xe6\\x95\\x99\\xe8\\x82\\xb2\\xe5\\x93\\x81\\xe7\\x89\\x8c\\xe2\\x80\\x9d\\', \\'\\xe9\\x95\\xbf\\xe6\\x8a\\x95\\xe5\\xad\\xa6\\xe5\\xa0\\x82\\xe8\\x8d\\xa3\\xe8\\x8e\\xb7\\xe2\\x80\\x9c\\xe9\\xab\\x98\\xe6\\x96\\xb0\\xe6\\x8a\\x80\\xe6\\x9c\\xaf\\xe4\\xbc\\x81\\xe4\\xb8\\x9a\\xe8\\xaf\\x81\\xe4\\xb9\\xa6\\xe2\\x80\\x9d\\'\\r\\n\\t\\t];\\r\\n\\t\\tvar honor = new Swiper(\\'.about-honor .swiper-container\\', {\\r\\n\\t\\t\\tslidesPerView: 3,\\r\\n\\t\\t\\tslidesPerGroup: 3,\\r\\n\\t\\t\\tloop: true,\\r\\n\\t\\t\\tspaceBetween: 0,\\r\\n\\t\\t\\tautoplay: {\\r\\n\\t\\t\\t\\tdelay: 5000,\\r\\n\\t\\t\\t\\tdisableOnInteraction: false,\\r\\n\\t\\t\\t\\twaitForTransition: false,\\r\\n\\t\\t\\t},\\r\\n\\t\\t\\tpagination: {\\r\\n\\t\\t\\t\\tel: \\'.about-honor .swiper-pagination\\',\\r\\n\\t\\t\\t\\tbulletActiveClass: \\'timer-cl\\',\\r\\n\\t\\t\\t\\tclickable: true,\\r\\n\\t\\t\\t},\\r\\n\\t\\t\\tnavigation: {\\r\\n\\t\\t\\t\\tnextEl: \\'.swiper-button-next\\',\\r\\n\\t\\t\\t\\tprevEl: \\'.swiper-button-prev\\',\\r\\n\\t\\t\\t}\\r\\n\\t\\t});\\r\\n\\r\\n\\t\\t$(\\'.about-honor .swiper-slide\\').on(\"click\", function () {\\r\\n\\t\\t\\tvar index = Number($(this).attr(\\'data-swiper-slide-index\\'));\\r\\n\\t\\t\\t$(\\'.about-honor-scale\\').addClass(\\'show\\');\\r\\n\\t\\t\\timgCheck(index);\\r\\n\\t\\t});\\r\\n\\t\\t$(\\'.about-honor-scale\\').on(\\'click\\', function (e) {\\r\\n\\t\\t\\t$(this).removeClass(\\'show\\');\\r\\n\\t\\t})\\r\\n\\r\\n\\t\\tfunction imgCheck(index) {\\r\\n\\t\\t\\tif (index != undefined) {\\r\\n\\t\\t\\t\\t$(\\'#about-honor-img img\\').attr(\\'src\\', \\'images/about/honor-p\\' + (index + 1) + \\'.jpg\\');\\r\\n\\t\\t\\t}\\r\\n\\t\\t\\t$(\\'#about-honor-img h3\\').text(arrText[index]);\\r\\n\\t\\t\\t$(\\'#about-honor-arrleft\\').on(\\'click\\', function (e) {\\r\\n\\t\\t\\t\\te.stopPropagation();\\r\\n\\t\\t\\t\\tif (index > 0) {\\r\\n\\t\\t\\t\\t\\tindex--;\\r\\n\\t\\t\\t\\t\\t$(\\'#about-honor-img img\\').attr(\\'src\\', \\'images/about/honor-p\\' + (index + 1) + \\'.jpg\\');\\r\\n\\t\\t\\t\\t\\t$(\\'#about-honor-img h3\\').text(arrText[index]);\\r\\n\\t\\t\\t\\t}\\r\\n\\t\\t\\t});\\r\\n\\t\\t\\t$(\\'#about-honor-arrright\\').on(\\'click\\', function (e) {\\r\\n\\t\\t\\t\\te.stopPropagation();\\r\\n\\t\\t\\t\\tif (index < arrText.length - 1) {\\r\\n\\t\\t\\t\\t\\tindex++;\\r\\n\\t\\t\\t\\t\\t$(\\'#about-honor-img img\\').attr(\\'src\\', \\'images/about/honor-p\\' + (index + 1) + \\'.jpg\\');\\r\\n\\t\\t\\t\\t\\t$(\\'#about-honor-img h3\\').text(arrText[index]);\\r\\n\\t\\t\\t\\t}\\r\\n\\t\\t\\t});\\r\\n\\t\\t}\\r\\n\\t\\timgCheck();\\r\\n\\t</script>\\r\\n\\r\\n\\t<script type=\"text/javascript\">\\r\\n\\t\\tvar arrText2 = [\\'\\xe9\\x95\\xbf\\xe6\\x8a\\x95\\xe5\\xad\\xa6\\xe5\\xa0\\x82-\\xe8\\xb4\\xa2\\xe6\\x8a\\xa5\\xe5\\x88\\x86\\xe6\\x9e\\x90\\xe8\\xae\\xad\\xe7\\xbb\\x83\\xe8\\x90\\xa5\\', \\'\\xe9\\x95\\xbf\\xe6\\x8a\\x95\\xe5\\xad\\xa6\\xe5\\xa0\\x82\\xe8\\x82\\xa1\\xe7\\xa5\\xa8\\xe5\\x88\\x9d\\xe5\\xa7\\x8b\\xe7\\xba\\xa7\\xe8\\xaf\\xbe\\', \\'\\xe9\\x95\\xbf\\xe6\\x8a\\x95\\xe5\\xad\\xa6\\xe5\\xa0\\x82\\xe8\\x82\\xa1\\xe7\\xa5\\xa8\\xe8\\xbf\\x9b\\xe9\\x98\\xb6\\xe8\\xaf\\xbe\\', \\'\\xe9\\x95\\xbf\\xe6\\x8a\\x95\\xe5\\xad\\xa6\\xe5\\xa0\\x82\\xe5\\x9f\\xba\\xe9\\x87\\x91\\xe8\\xaf\\xbe\\', \\'\\xe5\\x9f\\xba\\xe9\\x87\\x91\\xe8\\xbf\\x9b\\xe9\\x98\\xb6\\xe8\\xae\\xad\\xe7\\xbb\\x83\\xe8\\x90\\xa5\\',\\r\\n\\t\\t\\t\\'\\xe9\\x95\\xbf\\xe6\\x8a\\x95\\xe5\\xad\\xa6\\xe5\\xa0\\x82\\xe4\\xbf\\x9d\\xe9\\x99\\xa9\\xe5\\xae\\x9e\\xe6\\x88\\x98\\xe8\\xaf\\xbe\\', \\'\\xe5\\x8f\\xaf\\xe8\\xbd\\xac\\xe5\\x80\\xba\\xe6\\x8a\\x95\\xe8\\xb5\\x84\\xe8\\xaf\\xbe\\', \\'\\xe9\\x95\\xbf\\xe6\\x8a\\x95\\xe5\\xad\\xa6\\xe5\\xa0\\x82\\xe5\\xb0\\x8f\\xe7\\x99\\xbd\\xe8\\x90\\xa58\\xe8\\xaf\\xbe\\xe9\\x9f\\xb3\\xe9\\xa2\\x91\\xe7\\xa8\\xbf\\',\\r\\n\\t\\t\\t\\'\\xe6\\xb8\\xaf\\xe8\\x82\\xa1\\xe6\\x89\\x93\\xe6\\x96\\xb0\\xe8\\xaf\\xbe\\', \\'\\xe5\\xbc\\x80\\xe6\\xba\\x90\\xe8\\xb5\\x9a\\xe9\\x92\\xb1\\xe8\\xaf\\xbe\\', \\'\\xe9\\x95\\xbf\\xe6\\x8a\\x95\\xe5\\xad\\xa6\\xe5\\xa0\\x82\\xe5\\xae\\xb6\\xe5\\xba\\xad\\xe7\\x90\\x86\\xe8\\xb4\\xa2\\xe8\\xa7\\x84\\xe5\\x88\\x92\\xe8\\xaf\\xbe\\', \\'\\xe9\\x95\\xbf\\xe6\\x8a\\x95\\xe5\\xad\\xa6\\xe5\\xa0\\x82\\xe8\\xb5\\x84\\xe4\\xba\\xa7\\xe9\\x85\\x8d\\xe7\\xbd\\xae\\xe8\\xaf\\xbe\\', \\'\\xe9\\x95\\xbf\\xe6\\x8a\\x95\\xe5\\xad\\xa6\\xe5\\xa0\\x82\\xe4\\xbd\\x8e\\xe9\\xa3\\x8e\\xe9\\x99\\xa9\\xe7\\x90\\x86\\xe8\\xb4\\xa2\\xe8\\xaf\\xbe\\', \\'\\xe9\\x93\\xb6\\xe8\\xa1\\x8c\\xe7\\x90\\x86\\xe8\\xb4\\xa2\\xe8\\xaf\\xbe\\', \\'\\xe9\\x95\\xbf\\xe6\\x8a\\x95\\xe5\\xad\\xa6\\xe5\\xa0\\x82\\xe6\\x9c\\x9f\\xe8\\xb4\\xa7\\xe6\\x9c\\x9f\\xe6\\x9d\\x83\\xe5\\x85\\xa5\\xe9\\x97\\xa8\\'];\\r\\n\\t\\tvar honor = new Swiper(\\'.index-auth .swiper-container\\', {\\r\\n\\t\\t\\tslidesPerView: 3,\\r\\n\\t\\t\\tslidesPerGroup: 3,\\r\\n\\t\\t\\tloop: true,\\r\\n\\t\\t\\tspaceBetween: 0,\\r\\n\\t\\t\\tautoplay: {\\r\\n\\t\\t\\t\\tdelay: 4200,\\r\\n\\t\\t\\t\\tdisableOnInteraction: false,\\r\\n\\t\\t\\t\\twaitForTransition: false,\\r\\n\\t\\t\\t},\\r\\n\\t\\t\\tpagination: {\\r\\n\\t\\t\\t\\tel: \\'.index-auth .swiper-pagination\\',\\r\\n\\t\\t\\t\\tbulletActiveClass: \\'timer-cl\\',\\r\\n\\t\\t\\t\\tclickable: true,\\r\\n\\t\\t\\t},\\r\\n\\t\\t\\tnavigation: {\\r\\n\\t\\t\\t\\tnextEl: \\'.swiper-button-next\\',\\r\\n\\t\\t\\t\\tprevEl: \\'.swiper-button-prev\\',\\r\\n\\t\\t\\t}\\r\\n\\t\\t});\\r\\n\\r\\n\\t\\t$(\\'.index-auth .swiper-slide\\').on(\"click\", function () {\\r\\n\\t\\t\\tvar index2 = Number($(this).attr(\\'data-swiper-slide-index\\'));\\r\\n\\t\\t\\t$(\\'.index-auth-scale\\').addClass(\\'show\\');\\r\\n\\t\\t\\timgCheck2(index2);\\r\\n\\t\\t});\\r\\n\\t\\t$(\\'.index-auth-scale\\').on(\\'click\\', function (e) {\\r\\n\\t\\t\\t$(this).removeClass(\\'show\\');\\r\\n\\t\\t});\\r\\n\\r\\n\\t\\tfunction imgCheck2(index2) {\\r\\n\\t\\t\\tconsole.log(\\'%c \\xf0\\x9f\\x8d\\xa1 index2: \\', \\'font-size:20px;background-color: #7F2B82;color:#fff;\\', index2);\\r\\n\\t\\t\\tif (index2 != undefined) {\\r\\n\\t\\t\\t\\t$(\\'#index-auth-img img\\').attr(\\'src\\', \\'images/auth/\\' + (index2 + 1) + \\'.png\\');\\r\\n\\t\\t\\t}\\r\\n\\t\\t\\t$(\\'#index-auth-img h3\\').text(arrText2[index2]);\\r\\n\\t\\t\\t$(\\'#index-auth-arrleft\\').on(\\'click\\', function (e) {\\r\\n\\t\\t\\t\\te.stopPropagation();\\r\\n\\t\\t\\t\\tif (index2 > 0) {\\r\\n\\t\\t\\t\\t\\tindex2--;\\r\\n\\t\\t\\t\\t\\t$(\\'#index-auth-img img\\').attr(\\'src\\', \\'images/auth/\\' + (index2 + 1) + \\'.png\\');\\r\\n\\t\\t\\t\\t\\t$(\\'#index-auth-img h3\\').text(arrText2[index2]);\\r\\n\\t\\t\\t\\t}\\r\\n\\t\\t\\t});\\r\\n\\t\\t\\t$(\\'#index-auth-arrright\\').on(\\'click\\', function (e) {\\r\\n\\t\\t\\t\\te.stopPropagation();\\r\\n\\t\\t\\t\\tif (index2 < arrText2.length - 1) {\\r\\n\\t\\t\\t\\t\\tindex2++;\\r\\n\\t\\t\\t\\t\\t$(\\'#index-auth-img img\\').attr(\\'src\\', \\'images/auth/\\' + (index2 + 1) + \\'.png\\');\\r\\n\\t\\t\\t\\t\\t$(\\'#index-auth-img h3\\').text(arrText2[index2]);\\r\\n\\t\\t\\t\\t}\\r\\n\\t\\t\\t});\\r\\n\\t\\t}\\r\\n\\t\\timgCheck2();\\r\\n\\t</script>\\r\\n\\r\\n\\t<!-- ./ -->\\r\\n</body>\\r\\n\\r\\n</html>'\n"]}]},{"cell_type":"markdown","metadata":{"id":"0TfAYtZTwtjd"},"source":["### Request with Post(file)"]},{"cell_type":"code","metadata":{"id":"gtVlCc-Kwtjd","executionInfo":{"status":"ok","timestamp":1633593747990,"user_tz":-540,"elapsed":26,"user":{"displayName":"김성국","photoUrl":"https://lh3.googleusercontent.com/a/default-user=s64","userId":"14454204284131910272"}}},"source":["import requests\n","url = 'https://httpbin.org/post'\n","files = {'file': open('f.png', 'rb')}\n","r = requests.post(url, files=files)\n"],"execution_count":81,"outputs":[]},{"cell_type":"markdown","metadata":{"id":"ZVPr2mMDwtjd"},"source":["# etc"]},{"cell_type":"markdown","metadata":{"id":"4-eMMJe4wtjd"},"source":["## String Format\n","* cf: https://brownbears.tistory.com/421\n"]},{"cell_type":"markdown","metadata":{"id":"zcjuJTs3wtje"},"source":["### % 기반"]},{"cell_type":"code","metadata":{"colab":{"base_uri":"https://localhost:8080/"},"id":"Hbcqggyzwtje","executionInfo":{"status":"ok","timestamp":1633593747990,"user_tz":-540,"elapsed":25,"user":{"displayName":"김성국","photoUrl":"https://lh3.googleusercontent.com/a/default-user=s64","userId":"14454204284131910272"}},"outputId":"4093080f-e253-4629-96d0-36e8daf84b6f"},"source":["print('-- %d --'%3)\n","print('-- %d -- %s --'%(3,'hi'))"],"execution_count":82,"outputs":[{"output_type":"stream","name":"stdout","text":["-- 3 --\n","-- 3 -- hi --\n"]}]},{"cell_type":"code","metadata":{"colab":{"base_uri":"https://localhost:8080/"},"id":"fL0HDQ9Zwtje","executionInfo":{"status":"ok","timestamp":1633593747991,"user_tz":-540,"elapsed":21,"user":{"displayName":"김성국","photoUrl":"https://lh3.googleusercontent.com/a/default-user=s64","userId":"14454204284131910272"}},"outputId":"4c0ef033-b146-4777-e1ed-a81c73dcdc69"},"source":["for i in range(1,1000,77):\n","    print(\"%10.2f , %10d\"%(i/3,i))"],"execution_count":83,"outputs":[{"output_type":"stream","name":"stdout","text":["      0.33 ,          1\n","     26.00 ,         78\n","     51.67 ,        155\n","     77.33 ,        232\n","    103.00 ,        309\n","    128.67 ,        386\n","    154.33 ,        463\n","    180.00 ,        540\n","    205.67 ,        617\n","    231.33 ,        694\n","    257.00 ,        771\n","    282.67 ,        848\n","    308.33 ,        925\n"]}]},{"cell_type":"markdown","metadata":{"id":"d3eHQsiEwtje"},"source":["### str.format"]},{"cell_type":"code","metadata":{"colab":{"base_uri":"https://localhost:8080/"},"id":"an-fLINtwtje","executionInfo":{"status":"ok","timestamp":1633593747991,"user_tz":-540,"elapsed":19,"user":{"displayName":"김성국","photoUrl":"https://lh3.googleusercontent.com/a/default-user=s64","userId":"14454204284131910272"}},"outputId":"95f4228e-0863-4d9a-e887-805ef2293c13"},"source":["print( \"Hi, {}\".format('steve') )\n","print( \"{0}, {1}, {0}\".format('2','steve') )\n","print( \"{id}, {name}\".format(id='2',name='steve') )\n"],"execution_count":84,"outputs":[{"output_type":"stream","name":"stdout","text":["Hi, steve\n","2, steve, 2\n","2, steve\n"]}]},{"cell_type":"markdown","metadata":{"id":"c55D7SSzwtje"},"source":["### f-string\n","* from Python3.6"]},{"cell_type":"code","metadata":{"colab":{"base_uri":"https://localhost:8080/"},"id":"bnXnHZ4nwtje","executionInfo":{"status":"ok","timestamp":1633593747991,"user_tz":-540,"elapsed":17,"user":{"displayName":"김성국","photoUrl":"https://lh3.googleusercontent.com/a/default-user=s64","userId":"14454204284131910272"}},"outputId":"cdd5b9cc-6f38-40e6-9ba1-bf4c8d64a700"},"source":["name=\"Steve\"\n","print(f'Hello {name}')"],"execution_count":85,"outputs":[{"output_type":"stream","name":"stdout","text":["Hello Steve\n"]}]},{"cell_type":"markdown","metadata":{"id":"FT04YWq7wtjf"},"source":["## closure : Dynamic Function"]},{"cell_type":"code","metadata":{"colab":{"base_uri":"https://localhost:8080/"},"id":"mPrRvOTPwtjf","executionInfo":{"status":"ok","timestamp":1633593747992,"user_tz":-540,"elapsed":18,"user":{"displayName":"김성국","photoUrl":"https://lh3.googleusercontent.com/a/default-user=s64","userId":"14454204284131910272"}},"outputId":"950c05f4-b1aa-4833-eeae-984b966ea75a"},"source":["def f(a=1,b=2):\n","    print(a,b)\n","    return a+b\n","\n","def mf(a,b):\n","    def f1():\n","        return f(a,b)\n","    return f1\n","\n","fn1=mf(1,1)\n","fn2=mf(1,2)\n","fn1()\n","fn2()\n"],"execution_count":86,"outputs":[{"output_type":"stream","name":"stdout","text":["1 1\n","1 2\n"]},{"output_type":"execute_result","data":{"text/plain":["3"]},"metadata":{},"execution_count":86}]},{"cell_type":"code","metadata":{"id":"UyfMYJTUwtjf","executionInfo":{"status":"ok","timestamp":1633593747992,"user_tz":-540,"elapsed":17,"user":{"displayName":"김성국","photoUrl":"https://lh3.googleusercontent.com/a/default-user=s64","userId":"14454204284131910272"}}},"source":[""],"execution_count":86,"outputs":[]},{"cell_type":"code","metadata":{"id":"Ymjdo8Qowtjg","executionInfo":{"status":"ok","timestamp":1633593747992,"user_tz":-540,"elapsed":16,"user":{"displayName":"김성국","photoUrl":"https://lh3.googleusercontent.com/a/default-user=s64","userId":"14454204284131910272"}}},"source":[""],"execution_count":86,"outputs":[]},{"cell_type":"markdown","metadata":{"id":"yJvEeneJwtjg"},"source":["## Shell에서 Python구현\n"]},{"cell_type":"code","metadata":{"colab":{"base_uri":"https://localhost:8080/"},"id":"jDqDBcmQwtjg","executionInfo":{"status":"ok","timestamp":1633593748322,"user_tz":-540,"elapsed":346,"user":{"displayName":"김성국","photoUrl":"https://lh3.googleusercontent.com/a/default-user=s64","userId":"14454204284131910272"}},"outputId":"93b84224-8dc7-430e-b728-49942ff21794"},"source":["%%bash\n","echo '\n","print(\"   Column1, Column2\")\n","for i in range(1,1000,40):\n","       print(\"%10.2f , %10d\"%(i/3,i))\n","' |python > /tmp/a.csv\n","cat /tmp/a.csv\n"],"execution_count":87,"outputs":[{"output_type":"stream","name":"stdout","text":["   Column1, Column2\n","      0.33 ,          1\n","     13.67 ,         41\n","     27.00 ,         81\n","     40.33 ,        121\n","     53.67 ,        161\n","     67.00 ,        201\n","     80.33 ,        241\n","     93.67 ,        281\n","    107.00 ,        321\n","    120.33 ,        361\n","    133.67 ,        401\n","    147.00 ,        441\n","    160.33 ,        481\n","    173.67 ,        521\n","    187.00 ,        561\n","    200.33 ,        601\n","    213.67 ,        641\n","    227.00 ,        681\n","    240.33 ,        721\n","    253.67 ,        761\n","    267.00 ,        801\n","    280.33 ,        841\n","    293.67 ,        881\n","    307.00 ,        921\n","    320.33 ,        961\n"]}]},{"cell_type":"markdown","metadata":{"id":"vsGQY_zuwtjg"},"source":["##  freeze and -r"]},{"cell_type":"code","metadata":{"id":"eEKGNEYtwtjg","executionInfo":{"status":"ok","timestamp":1633593749080,"user_tz":-540,"elapsed":766,"user":{"displayName":"김성국","photoUrl":"https://lh3.googleusercontent.com/a/default-user=s64","userId":"14454204284131910272"}}},"source":["%%bash\n","pip freeze > /tmp/requirements.txt\n","\n","\n","# requirements.txt를 새로운 시스템으로 파일 이동후 사용하거나 ==를 >=로 바꿔서 사용\n","\n","# pip install -r requirements.txt\n"],"execution_count":88,"outputs":[]},{"cell_type":"code","metadata":{"colab":{"base_uri":"https://localhost:8080/"},"id":"q3GbPihSwtjh","executionInfo":{"status":"ok","timestamp":1633593749688,"user_tz":-540,"elapsed":611,"user":{"displayName":"김성국","photoUrl":"https://lh3.googleusercontent.com/a/default-user=s64","userId":"14454204284131910272"}},"outputId":"707f3e15-01e2-413b-a730-ae65122137e8"},"source":["!cat /tmp/requirements.txt"],"execution_count":89,"outputs":[{"output_type":"stream","name":"stdout","text":["absl-py==0.12.0\n","alabaster==0.7.12\n","albumentations==0.1.12\n","altair==4.1.0\n","appdirs==1.4.4\n","argcomplete==1.12.3\n","argon2-cffi==21.1.0\n","arviz==0.11.2\n","astor==0.8.1\n","astropy==4.3.1\n","astunparse==1.6.3\n","atari-py==0.2.9\n","atomicwrites==1.4.0\n","attrs==21.2.0\n","audioread==2.1.9\n","autograd==1.3\n","Babel==2.9.1\n","backcall==0.2.0\n","beautifulsoup4==4.6.3\n","bleach==4.1.0\n","blis==0.4.1\n","bokeh==2.3.3\n","Bottleneck==1.3.2\n","branca==0.4.2\n","bs4==0.0.1\n","CacheControl==0.12.6\n","cached-property==1.5.2\n","cachetools==4.2.4\n","catalogue==1.0.0\n","certifi==2021.5.30\n","cffi==1.14.6\n","cftime==1.5.1\n","chardet==3.0.4\n","charset-normalizer==2.0.6\n","clang==5.0\n","click==7.1.2\n","cloudpickle==1.3.0\n","cmake==3.12.0\n","cmdstanpy==0.9.5\n","colorcet==2.0.6\n","colorlover==0.3.0\n","community==1.0.0b1\n","contextlib2==0.5.5\n","convertdate==2.3.2\n","coverage==3.7.1\n","coveralls==0.5\n","crcmod==1.7\n","cufflinks==0.17.3\n","cvxopt==1.2.7\n","cvxpy==1.0.31\n","cycler==0.10.0\n","cymem==2.0.5\n","Cython==0.29.24\n","daft==0.0.4\n","dask==2.12.0\n","datascience==0.10.6\n","debugpy==1.0.0\n","decorator==4.4.2\n","defusedxml==0.7.1\n","descartes==1.1.0\n","dill==0.3.4\n","distributed==1.25.3\n","dlib @ file:///dlib-19.18.0-cp37-cp37m-linux_x86_64.whl\n","dm-tree==0.1.6\n","docopt==0.6.2\n","docutils==0.17.1\n","dopamine-rl==1.0.5\n","earthengine-api==0.1.284\n","easydict==1.9\n","ecos==2.0.7.post1\n","editdistance==0.5.3\n","en-core-web-sm @ https://github.com/explosion/spacy-models/releases/download/en_core_web_sm-2.2.5/en_core_web_sm-2.2.5.tar.gz\n","entrypoints==0.3\n","ephem==4.1\n","et-xmlfile==1.1.0\n","fa2==0.3.5\n","fastai==1.0.61\n","fastdtw==0.3.4\n","fastprogress==1.0.0\n","fastrlock==0.6\n","fbprophet==0.7.1\n","feather-format==0.4.1\n","filelock==3.2.0\n","firebase-admin==4.4.0\n","fix-yahoo-finance==0.0.22\n","Flask==1.1.4\n","flatbuffers==1.12\n","folium==0.8.3\n","future==0.16.0\n","gast==0.4.0\n","GDAL==2.2.2\n","gdown==3.6.4\n","gensim==3.6.0\n","geographiclib==1.52\n","geopy==1.17.0\n","gin-config==0.4.0\n","glob2==0.7\n","google==2.0.3\n","google-api-core==1.26.3\n","google-api-python-client==1.12.8\n","google-auth==1.35.0\n","google-auth-httplib2==0.0.4\n","google-auth-oauthlib==0.4.6\n","google-cloud-bigquery==1.21.0\n","google-cloud-bigquery-storage==1.1.0\n","google-cloud-core==1.0.3\n","google-cloud-datastore==1.8.0\n","google-cloud-firestore==1.7.0\n","google-cloud-language==1.2.0\n","google-cloud-storage==1.18.1\n","google-cloud-translate==1.5.0\n","google-colab @ file:///colabtools/dist/google-colab-1.0.0.tar.gz\n","google-pasta==0.2.0\n","google-resumable-media==0.4.1\n","googleapis-common-protos==1.53.0\n","googledrivedownloader==0.4\n","graphviz==0.10.1\n","greenlet==1.1.2\n","grpcio==1.41.0\n","gspread==3.0.1\n","gspread-dataframe==3.0.8\n","gym==0.17.3\n","h5py==3.1.0\n","HeapDict==1.0.1\n","hijri-converter==2.2.2\n","holidays==0.10.5.2\n","holoviews==1.14.6\n","html5lib==1.0.1\n","httpimport==0.5.18\n","httplib2==0.17.4\n","httplib2shim==0.0.3\n","humanize==0.5.1\n","hyperopt==0.1.2\n","ideep4py==2.0.0.post3\n","idna==2.10\n","imageio==2.4.1\n","imagesize==1.2.0\n","imbalanced-learn==0.4.3\n","imblearn==0.0\n","imgaug==0.2.9\n","importlib-metadata==4.8.1\n","importlib-resources==5.2.2\n","imutils==0.5.4\n","inflect==2.1.0\n","iniconfig==1.1.1\n","intel-openmp==2021.4.0\n","intervaltree==2.1.0\n","ipykernel==4.10.1\n","ipython==5.5.0\n","ipython-genutils==0.2.0\n","ipython-sql==0.3.9\n","ipywidgets==7.6.5\n","itsdangerous==1.1.0\n","jax==0.2.21\n","jaxlib @ https://storage.googleapis.com/jax-releases/cuda111/jaxlib-0.1.71+cuda111-cp37-none-manylinux2010_x86_64.whl\n","jdcal==1.4.1\n","jedi==0.18.0\n","jieba==0.42.1\n","Jinja2==2.11.3\n","joblib==1.0.1\n","jpeg4py==0.1.4\n","jsonschema==2.6.0\n","jupyter==1.0.0\n","jupyter-client==5.3.5\n","jupyter-console==5.2.0\n","jupyter-core==4.8.1\n","jupyterlab-pygments==0.1.2\n","jupyterlab-widgets==1.0.2\n","kaggle==1.5.12\n","kapre==0.3.5\n","keras==2.6.0\n","Keras-Preprocessing==1.1.2\n","keras-vis==0.4.1\n","kiwisolver==1.3.2\n","korean-lunar-calendar==0.2.1\n","librosa==0.8.1\n","lightgbm==2.2.3\n","llvmlite==0.34.0\n","lmdb==0.99\n","LunarCalendar==0.0.9\n","lxml==4.2.6\n","Markdown==3.3.4\n","MarkupSafe==2.0.1\n","matplotlib==3.2.2\n","matplotlib-inline==0.1.3\n","matplotlib-venn==0.11.6\n","missingno==0.5.0\n","mistune==0.8.4\n","mizani==0.6.0\n","mkl==2019.0\n","mlxtend==0.14.0\n","more-itertools==8.10.0\n","moviepy==0.2.3.5\n","mpmath==1.2.1\n","msgpack==1.0.2\n","multiprocess==0.70.12.2\n","multitasking==0.0.9\n","murmurhash==1.0.5\n","music21==5.5.0\n","natsort==5.5.0\n","nbclient==0.5.4\n","nbconvert==5.6.1\n","nbformat==5.1.3\n","nest-asyncio==1.5.1\n","netCDF4==1.5.7\n","networkx==2.6.3\n","nibabel==3.0.2\n","nltk==3.2.5\n","notebook==5.3.1\n","numba==0.51.2\n","numexpr==2.7.3\n","numpy==1.19.5\n","nvidia-ml-py3==7.352.0\n","oauth2client==4.1.3\n","oauthlib==3.1.1\n","okgrade==0.4.3\n","opencv-contrib-python==4.1.2.30\n","opencv-python==4.1.2.30\n","openpyxl==2.5.9\n","opt-einsum==3.3.0\n","osqp==0.6.2.post0\n","packaging==21.0\n","palettable==3.3.0\n","pandas==1.1.5\n","pandas-datareader==0.9.0\n","pandas-gbq==0.13.3\n","pandas-profiling==1.4.1\n","pandocfilters==1.5.0\n","panel==0.12.1\n","param==1.11.1\n","parso==0.8.2\n","pathlib==1.0.1\n","patsy==0.5.2\n","pep517==0.11.0\n","pexpect==4.8.0\n","pickleshare==0.7.5\n","Pillow==7.1.2\n","pip-tools==6.2.0\n","plac==1.1.3\n","plotly==4.4.1\n","plotnine==0.6.0\n","pluggy==0.7.1\n","pooch==1.5.1\n","portpicker==1.3.9\n","prefetch-generator==1.0.1\n","preshed==3.0.5\n","prettytable==2.2.1\n","progressbar2==3.38.0\n","prometheus-client==0.11.0\n","promise==2.3\n","prompt-toolkit==1.0.18\n","protobuf==3.17.3\n","psutil==5.4.8\n","psycopg2==2.7.6.1\n","ptyprocess==0.7.0\n","py==1.10.0\n","pyarrow==3.0.0\n","pyasn1==0.4.8\n","pyasn1-modules==0.2.8\n","pycocotools==2.0.2\n","pycparser==2.20\n","pyct==0.4.8\n","pydata-google-auth==1.2.0\n","pydot==1.3.0\n","pydot-ng==2.0.0\n","pydotplus==2.0.2\n","PyDrive==1.3.1\n","pyemd==0.5.1\n","pyerfa==2.0.0\n","pyglet==1.5.0\n","Pygments==2.6.1\n","pygobject==3.26.1\n","pymc3==3.11.4\n","PyMeeus==0.5.11\n","pymongo==3.12.0\n","pymystem3==0.2.0\n","PyOpenGL==3.1.5\n","pyparsing==2.4.7\n","pyrsistent==0.18.0\n","pysndfile==1.3.8\n","PySocks==1.7.1\n","pystan==2.19.1.1\n","pytest==3.6.4\n","python-apt==0.0.0\n","python-chess==0.23.11\n","python-dateutil==2.8.2\n","python-louvain==0.15\n","python-slugify==5.0.2\n","python-utils==2.5.6\n","pytz==2018.9\n","pyviz-comms==2.1.0\n","PyWavelets==1.1.1\n","PyYAML==3.13\n","pyzmq==22.3.0\n","qdldl==0.1.5.post0\n","qtconsole==5.1.1\n","QtPy==1.11.2\n","regex==2019.12.20\n","requests==2.23.0\n","requests-oauthlib==1.3.0\n","resampy==0.2.2\n","retrying==1.3.3\n","rpy2==3.4.5\n","rsa==4.7.2\n","scikit-image==0.16.2\n","scikit-learn==0.22.2.post1\n","scipy==1.4.1\n","screen-resolution-extra==0.0.0\n","scs==2.1.4\n","seaborn==0.11.2\n","semver==2.13.0\n","Send2Trash==1.8.0\n","setuptools-git==1.2\n","Shapely==1.7.1\n","simplegeneric==0.8.1\n","six==1.15.0\n","sklearn==0.0\n","sklearn-pandas==1.8.0\n","smart-open==5.2.1\n","snowballstemmer==2.1.0\n","sortedcontainers==2.4.0\n","SoundFile==0.10.3.post1\n","spacy==2.2.4\n","Sphinx==1.8.5\n","sphinxcontrib-serializinghtml==1.1.5\n","sphinxcontrib-websupport==1.2.4\n","SQLAlchemy==1.4.25\n","sqlparse==0.4.2\n","srsly==1.0.5\n","statsmodels==0.10.2\n","sympy==1.7.1\n","tables==3.4.4\n","tabulate==0.8.9\n","tblib==1.7.0\n","tensorboard==2.6.0\n","tensorboard-data-server==0.6.1\n","tensorboard-plugin-wit==1.8.0\n","tensorflow @ file:///tensorflow-2.6.0-cp37-cp37m-linux_x86_64.whl\n","tensorflow-datasets==4.0.1\n","tensorflow-estimator==2.6.0\n","tensorflow-gcs-config==2.6.0\n","tensorflow-hub==0.12.0\n","tensorflow-metadata==1.2.0\n","tensorflow-probability==0.14.1\n","termcolor==1.1.0\n","terminado==0.12.1\n","testpath==0.5.0\n","text-unidecode==1.3\n","textblob==0.15.3\n","Theano-PyMC==1.1.2\n","thinc==7.4.0\n","tifffile==2021.8.30\n","toml==0.10.2\n","tomli==1.2.1\n","toolz==0.11.1\n","torch @ https://download.pytorch.org/whl/cu102/torch-1.9.0%2Bcu102-cp37-cp37m-linux_x86_64.whl\n","torchsummary==1.5.1\n","torchtext==0.10.0\n","torchvision @ https://download.pytorch.org/whl/cu102/torchvision-0.10.0%2Bcu102-cp37-cp37m-linux_x86_64.whl\n","tornado==5.1.1\n","tqdm==4.62.3\n","traitlets==5.1.0\n","tweepy==3.10.0\n","typeguard==2.7.1\n","typing-extensions==3.7.4.3\n","tzlocal==1.5.1\n","uritemplate==3.0.1\n","urllib3==1.24.3\n","vega-datasets==0.9.0\n","wasabi==0.8.2\n","wcwidth==0.2.5\n","webencodings==0.5.1\n","Werkzeug==1.0.1\n","widgetsnbextension==3.5.1\n","wordcloud==1.5.0\n","wrapt==1.12.1\n","xarray==0.18.2\n","xgboost==0.90\n","xkit==0.0.0\n","xlrd==1.1.0\n","xlwt==1.3.0\n","yellowbrick==0.9.1\n","zict==2.0.0\n","zipp==3.6.0\n"]}]},{"cell_type":"markdown","metadata":{"id":"M_OwxHnwwtjh"},"source":["## Windows 환경에서 주의사항\n","1. windows10에 git-scm 사용시 : python을 호출 못하는 경우 있음.\n","2. \"#!/usr/bin/env python\" 문을 사용하면 안됨.\n","3. 경로에 xx.py를 넣어두고 실행하는 것 안됨(xx.bat에서 호출해서 사용할 것)\n"]},{"cell_type":"markdown","metadata":{"id":"9Y8U-H8Owtjh"},"source":["## CodeReversor"]},{"cell_type":"code","metadata":{"colab":{"base_uri":"https://localhost:8080/"},"id":"na_Cp0c9wtjh","executionInfo":{"status":"ok","timestamp":1633593749688,"user_tz":-540,"elapsed":30,"user":{"displayName":"김성국","photoUrl":"https://lh3.googleusercontent.com/a/default-user=s64","userId":"14454204284131910272"}},"outputId":"804e6633-04c3-4cbb-af70-54c3f891410e"},"source":["data=['aaa','bbb','ccc']\n","enc={ r[1]:r[0]   for r in  enumerate(data)}\n","def corderReversor(corder):\n","  k=enc.keys()\n","  return { corder[i]:i for i in k}\n","\n","dec=corderReversor(enc)\n","\n","print(\"Encoder = \" , enc)\n","print(\"Decoder = \" , dec)\n"],"execution_count":90,"outputs":[{"output_type":"stream","name":"stdout","text":["Encoder =  {'aaa': 0, 'bbb': 1, 'ccc': 2}\n","Decoder =  {0: 'aaa', 1: 'bbb', 2: 'ccc'}\n"]}]},{"cell_type":"markdown","metadata":{"id":"82cJcrLKwtji"},"source":["## list to 2D-Matrix"]},{"cell_type":"code","metadata":{"colab":{"base_uri":"https://localhost:8080/"},"id":"mTk1lskIwtjk","executionInfo":{"status":"ok","timestamp":1633593749689,"user_tz":-540,"elapsed":28,"user":{"displayName":"김성국","photoUrl":"https://lh3.googleusercontent.com/a/default-user=s64","userId":"14454204284131910272"}},"outputId":"fb98e0a2-b106-4646-dcb3-6c3917eef357"},"source":["a=[0.0,8.04,10.0,9.14,10.0,7.46,8.0,6.58,8.0,6.95,8.0,8.14,8.0,6.77,8.0,5.76,13.0,7.58,13.0,8.74,13.0,12.74,8.0,7.71,9.0,8.81,9.0,8.77,9.0,7.11,8.0,8.84,11.0,8.33,11.0,9.26,11.0,7.81,8.0,8.47,14.0,9.96,14.0,8.10,14.0,8.84,8.0,7.04,6.0,7.24,6.0,6.13,6.0,6.08,8.0,5.25,4.0,4.26,4.0,3.10,4.0,5.39,19.0,12.50,12.0,10.84,12.0,9.13,12.0,8.15,8.0,5.56,7.0,4.82,7.0,7.26,7.0,6.42,8.0,7.91,5.0,5.68,5.0,4.74,5.0,5.73,8.0,6.89]\n","it=iter(a)\n","rowCnt=8\n","x = [[i for i in range(rowCnt)] for j in range(int(len(a)/rowCnt))]\n","print(x)"],"execution_count":91,"outputs":[{"output_type":"stream","name":"stdout","text":["[[0, 1, 2, 3, 4, 5, 6, 7], [0, 1, 2, 3, 4, 5, 6, 7], [0, 1, 2, 3, 4, 5, 6, 7], [0, 1, 2, 3, 4, 5, 6, 7], [0, 1, 2, 3, 4, 5, 6, 7], [0, 1, 2, 3, 4, 5, 6, 7], [0, 1, 2, 3, 4, 5, 6, 7], [0, 1, 2, 3, 4, 5, 6, 7], [0, 1, 2, 3, 4, 5, 6, 7], [0, 1, 2, 3, 4, 5, 6, 7], [0, 1, 2, 3, 4, 5, 6, 7]]\n"]}]},{"cell_type":"markdown","metadata":{"id":"EvElHQv5wtjl"},"source":["## 날짜 범위를 리스트로 만들기"]},{"cell_type":"code","metadata":{"colab":{"base_uri":"https://localhost:8080/"},"id":"HgBzT7rfwtjl","executionInfo":{"status":"ok","timestamp":1633593749690,"user_tz":-540,"elapsed":26,"user":{"displayName":"김성국","photoUrl":"https://lh3.googleusercontent.com/a/default-user=s64","userId":"14454204284131910272"}},"outputId":"36bbe371-7d2f-4521-9194-228dd033262a"},"source":["import datetime\n","start = datetime.datetime.strptime(\"20130129\",\"%Y%m%d\")\n","end = datetime.datetime.strptime(\"20130203\", \"%Y%m%d\")\n","date_generated = [start + datetime.timedelta(days=x) for x in range(0, (end-start).days)]\n","for date in date_generated:\n","    print(date.strftime(\"%Y%m%d\"))"],"execution_count":92,"outputs":[{"output_type":"stream","name":"stdout","text":["20130129\n","20130130\n","20130131\n","20130201\n","20130202\n"]}]},{"cell_type":"markdown","metadata":{"id":"RVnu3smFwtjm"},"source":["## 대화형 입력 : expect\n","```python\n","import pexpect\n","child = pexpect.spawn ('login :')\n","child.sendline('admin')\n","child.sendline('xxxx')\n","```\n","\n","### 설치\n","```bash\n","    https://pypi.python.org/pypi/pexpect/ 에서 받거나\n","    easy_install pip\n","    pip pexpect\n","```\n","- 수동 설치\n","    ```bash\n","    tar xzvf pexpect-4.0.1.tar.gz\n","    cd pexpect-4.0.1\n","    python setup.py install\n","    ```\n"]},{"cell_type":"markdown","metadata":{"id":"O6pK_nGNwtjm"},"source":["## list에서 Matching 해서 list인덱스 배열로 리턴하기"]},{"cell_type":"code","metadata":{"colab":{"base_uri":"https://localhost:8080/"},"id":"EPXwI0D-wtjn","executionInfo":{"status":"ok","timestamp":1633593749691,"user_tz":-540,"elapsed":25,"user":{"displayName":"김성국","photoUrl":"https://lh3.googleusercontent.com/a/default-user=s64","userId":"14454204284131910272"}},"outputId":"26c8c5d8-e034-4722-ba71-b25e5c47aeca"},"source":["x=[11,22,33,44]\n","y=[11,33,22,44,44]\n","[x.index(i) for i in y if i in y]"],"execution_count":93,"outputs":[{"output_type":"execute_result","data":{"text/plain":["[0, 2, 1, 3, 3]"]},"metadata":{},"execution_count":93}]},{"cell_type":"markdown","metadata":{"id":"CZu9xrOGwtjn"},"source":["## list → Dictionary → onehot encoding (enumerate)\n","* enumerate로 encoder만들기"]},{"cell_type":"code","metadata":{"id":"Vo3tjARcwtjn","executionInfo":{"status":"ok","timestamp":1633593749691,"user_tz":-540,"elapsed":22,"user":{"displayName":"김성국","photoUrl":"https://lh3.googleusercontent.com/a/default-user=s64","userId":"14454204284131910272"}}},"source":["a=[\"a\",\"b\",\"c\"]\n","l={ k:v for k,v in enumerate(a)}"],"execution_count":94,"outputs":[]},{"cell_type":"markdown","metadata":{"id":"AQ0pxHtOwtjn"},"source":["* list → dictionary → onehot"]},{"cell_type":"code","metadata":{"id":"ITnC1IeZwtjo","executionInfo":{"status":"ok","timestamp":1633593749692,"user_tz":-540,"elapsed":22,"user":{"displayName":"김성국","photoUrl":"https://lh3.googleusercontent.com/a/default-user=s64","userId":"14454204284131910272"}}},"source":["import numpy as np\n","dictionary_data=[\"aa\",\"bb\",\"cc\",\"dd\"]\n","\n","encoder_dic={ k:v for v,k in enumerate(dictionary_data)}\n","encoder_dic\n","decoder_dic={ k:v for k,v in enumerate(dictionary_data)}\n","decoder_dic\n","\n","org_data=[\"aa\",\"bb\",\"bb\",\"cc\",\"cc\",\"cc\",\"dd\",\"dd\",\"dd\",\"dd\"]\n","encoded_data=[encoder_dic[i] for i in org_data]\n","encoded_data\n","\n","decoded_data=[decoder_dic[i] for i in encoded_data]\n","decoded_data\n","\n","\n","one_hot=np.identity( len(encoder_dic.keys()) )"],"execution_count":95,"outputs":[]},{"cell_type":"markdown","metadata":{"id":"qvz-UdpXwtjo"},"source":["## File Read\n","* basic Example"]},{"cell_type":"code","metadata":{"colab":{"base_uri":"https://localhost:8080/"},"id":"363kA6Fcwtjo","executionInfo":{"status":"ok","timestamp":1633593749692,"user_tz":-540,"elapsed":20,"user":{"displayName":"김성국","photoUrl":"https://lh3.googleusercontent.com/a/default-user=s64","userId":"14454204284131910272"}},"outputId":"5a198b48-dc8e-455b-9da9-5db417ed388c"},"source":["#@title\n","!echo \"abcdefg\">/tmp/a.txt\n","with open('/tmp/a.txt','r') as f:\n","    print(f.readline())"],"execution_count":96,"outputs":[{"output_type":"stream","name":"stdout","text":["abcdefg\n","\n"]}]},{"cell_type":"markdown","metadata":{"id":"k9QWlWgpwtjo"},"source":["* 여러줄 읽기"]},{"cell_type":"code","metadata":{"colab":{"base_uri":"https://localhost:8080/"},"id":"TcsIxA-zwtjp","executionInfo":{"status":"ok","timestamp":1633593749693,"user_tz":-540,"elapsed":19,"user":{"displayName":"김성국","photoUrl":"https://lh3.googleusercontent.com/a/default-user=s64","userId":"14454204284131910272"}},"outputId":"f51f48ff-543a-49df-8bf4-0b96f1b65727"},"source":["#@title\n","with open(\"/tmp/a.txt\", 'r') as f:\n","  while True:\n","    line = f.readline()\n","    if not line: break\n","    print(line)\n","  f.close()"],"execution_count":97,"outputs":[{"output_type":"stream","name":"stdout","text":["abcdefg\n","\n"]}]},{"cell_type":"markdown","metadata":{"id":"BtOodqIHx-6I"},"source":["## itertools\n","효율적인 루핑을 위한 이터레이터를 만드는 함수"]},{"cell_type":"code","metadata":{"id":"a9XbBj2Tx-wJ","executionInfo":{"status":"ok","timestamp":1633594092418,"user_tz":-540,"elapsed":326,"user":{"displayName":"김성국","photoUrl":"https://lh3.googleusercontent.com/a/default-user=s64","userId":"14454204284131910272"}}},"source":["import itertools\n","iterables =[[1,2,3],[88,99],['a','b']]\n","result = list()\n","# for i in itertools.product(*iterables):\n","#   print(list(i))\n","#   result.append(list(i))\n","result = [list(i) for i in itertools.product(*iterables)]"],"execution_count":102,"outputs":[]},{"cell_type":"code","metadata":{"colab":{"base_uri":"https://localhost:8080/"},"id":"2eb_7gflyMVZ","executionInfo":{"status":"ok","timestamp":1633594093974,"user_tz":-540,"elapsed":14,"user":{"displayName":"김성국","photoUrl":"https://lh3.googleusercontent.com/a/default-user=s64","userId":"14454204284131910272"}},"outputId":"451b099d-93f4-4977-ff9a-0aafbeae917b"},"source":["result"],"execution_count":103,"outputs":[{"output_type":"execute_result","data":{"text/plain":["[[1, 88, 'a'],\n"," [1, 88, 'b'],\n"," [1, 99, 'a'],\n"," [1, 99, 'b'],\n"," [2, 88, 'a'],\n"," [2, 88, 'b'],\n"," [2, 99, 'a'],\n"," [2, 99, 'b'],\n"," [3, 88, 'a'],\n"," [3, 88, 'b'],\n"," [3, 99, 'a'],\n"," [3, 99, 'b']]"]},"metadata":{},"execution_count":103}]},{"cell_type":"code","metadata":{"id":"fjhU_1oXyd7_"},"source":[""],"execution_count":null,"outputs":[]}]}
=======
{
 "cells": [
  {
   "cell_type": "markdown",
   "metadata": {},
   "source": [
    "# Major Function"
   ]
  },
  {
   "cell_type": "markdown",
   "metadata": {},
   "source": [
    "## tuples as function arguments "
   ]
  },
  {
   "cell_type": "code",
   "execution_count": 1,
   "metadata": {},
   "outputs": [
    {
     "name": "stdout",
     "output_type": "stream",
     "text": [
      "5\n"
     ]
    }
   ],
   "source": [
    "def f1(x,y):\n",
    "    return (x,y)\n",
    "def f2(x,y):\n",
    "    print(x+y)\n",
    "    \n",
    "f2(*f1(2,3) )    "
   ]
  },
  {
   "cell_type": "markdown",
   "metadata": {},
   "source": [
    "## Exception\n",
    "* Exception list : https://docs.python.org/3/library/exceptions.html\n",
    "\n",
    "### Basic Example"
   ]
  },
  {
   "cell_type": "code",
   "execution_count": 3,
   "metadata": {},
   "outputs": [
    {
     "name": "stdout",
     "output_type": "stream",
     "text": [
      "type err\n",
      "--------------------\n"
     ]
    }
   ],
   "source": [
    "i=1\n",
    "try:\n",
    "    print(1/(3-i)^10)\n",
    "except  ZeroDivisionError as err:\n",
    "    print(\"0으로 나누지 마세요.\")\n",
    "    print(err)\n",
    "    print(err.args)\n",
    "except TypeError:\n",
    "    print(\"type err\")\n",
    "except  Exception as err:\n",
    "    print(\"--------------------\")\n",
    "    logging.exception('')\n",
    "    print(\"--------------------\")\n",
    "    print(err.args)\n",
    "else:\n",
    "    print(\"None Error\")\n",
    "finally:\n",
    "    print(\"--------------------\")"
   ]
  },
  {
   "cell_type": "markdown",
   "metadata": {},
   "source": [
    "### Raise"
   ]
  },
  {
   "cell_type": "code",
   "execution_count": 4,
   "metadata": {},
   "outputs": [
    {
     "name": "stdout",
     "output_type": "stream",
     "text": [
      "<class 'Exception'>\n",
      "('spam', 'eggs')\n",
      "('spam', 'eggs')\n",
      "x = spam\n",
      "y = eggs\n"
     ]
    }
   ],
   "source": [
    "try:\n",
    "    raise Exception('spam', 'eggs')\n",
    "except Exception as inst:\n",
    "    print(type(inst))    # the exception instance\n",
    "    print(inst.args)     # arguments stored in .args\n",
    "    print(inst)          # __str__ allows args to be printed directly,\n",
    "                         # but may be overridden in exception subclasses\n",
    "    x, y = inst.args     # unpack args\n",
    "    print('x =', x)\n",
    "    print('y =', y)\n",
    "\n"
   ]
  },
  {
   "cell_type": "markdown",
   "metadata": {},
   "source": [
    "## Lambda"
   ]
  },
  {
   "cell_type": "markdown",
   "metadata": {},
   "source": [
    "### Lamdba Operator"
   ]
  },
  {
   "cell_type": "code",
   "execution_count": 5,
   "metadata": {},
   "outputs": [
    {
     "data": {
      "text/plain": [
       "9"
      ]
     },
     "execution_count": 5,
     "metadata": {},
     "output_type": "execute_result"
    }
   ],
   "source": [
    "f=lambda x: x**2\n",
    "f(3)"
   ]
  },
  {
   "cell_type": "code",
   "execution_count": 6,
   "metadata": {},
   "outputs": [
    {
     "name": "stdout",
     "output_type": "stream",
     "text": [
      "14\n",
      "14\n"
     ]
    }
   ],
   "source": [
    "def inc(n):\n",
    " return lambda x: x + n\n",
    "\n",
    "f=inc(2)\n",
    "\n",
    "print(f(12))\n",
    "\n",
    "print(inc(2)(12))\n",
    "\n",
    "# 출처: https://offbyone.tistory.com/73 [쉬고 싶은 개발자]"
   ]
  },
  {
   "cell_type": "markdown",
   "metadata": {},
   "source": [
    "### Map\n"
   ]
  },
  {
   "cell_type": "code",
   "execution_count": 7,
   "metadata": {},
   "outputs": [
    {
     "data": {
      "text/plain": [
       "[11, 22, 33, 44]"
      ]
     },
     "execution_count": 7,
     "metadata": {},
     "output_type": "execute_result"
    }
   ],
   "source": [
    "a=[1, 2, 3, 4]\n",
    "b=[10,20,30,40]\n",
    "list(map(lambda x, y:x+y, a,b))\n"
   ]
  },
  {
   "cell_type": "markdown",
   "metadata": {},
   "source": [
    "### Filter"
   ]
  },
  {
   "cell_type": "code",
   "execution_count": 8,
   "metadata": {},
   "outputs": [
    {
     "data": {
      "text/plain": [
       "[18, 9, 24, 12, 27]"
      ]
     },
     "execution_count": 8,
     "metadata": {},
     "output_type": "execute_result"
    }
   ],
   "source": [
    "foo = [2, 18, 9, 22, 17, 24, 8, 12, 27]\n",
    "list( filter(lambda x: x % 3 == 0, foo))"
   ]
  },
  {
   "cell_type": "markdown",
   "metadata": {},
   "source": [
    "### Reduce"
   ]
  },
  {
   "cell_type": "code",
   "execution_count": 9,
   "metadata": {},
   "outputs": [
    {
     "data": {
      "text/plain": [
       "15"
      ]
     },
     "execution_count": 9,
     "metadata": {},
     "output_type": "execute_result"
    }
   ],
   "source": [
    "from functools import reduce\n",
    "reduce(lambda x,y: x+y, [1,2,3,4,5])\n"
   ]
  },
  {
   "cell_type": "code",
   "execution_count": null,
   "metadata": {},
   "outputs": [],
   "source": []
  },
  {
   "cell_type": "code",
   "execution_count": null,
   "metadata": {},
   "outputs": [],
   "source": []
  },
  {
   "cell_type": "markdown",
   "metadata": {},
   "source": [
    "### python2"
   ]
  },
  {
   "cell_type": "code",
   "execution_count": 10,
   "metadata": {},
   "outputs": [],
   "source": [
    "# map(lambda x: x**2, [0,1,2,3])\n",
    "# reduce(lambda x,y: x+y, [0,1,2,3])\n",
    "# filter(lambda x: x < 5, range(10))"
   ]
  },
  {
   "cell_type": "markdown",
   "metadata": {},
   "source": [
    "# Builtin Function"
   ]
  },
  {
   "cell_type": "markdown",
   "metadata": {},
   "source": [
    "## eval\n",
    "* 문자열을 코드로 실행 가능하게 함. "
   ]
  },
  {
   "cell_type": "code",
   "execution_count": 11,
   "metadata": {},
   "outputs": [
    {
     "name": "stdout",
     "output_type": "stream",
     "text": [
      "6\n"
     ]
    }
   ],
   "source": [
    "x=3\n",
    "str='3+x'\n",
    "print(eval(str))"
   ]
  },
  {
   "cell_type": "markdown",
   "metadata": {},
   "source": [
    "* 단, 변수를 정의할때는 안되므로, local()['변수명']으로 사용"
   ]
  },
  {
   "cell_type": "code",
   "execution_count": 12,
   "metadata": {},
   "outputs": [],
   "source": [
    "#fail : eval('y=1')\n",
    "locals()['y'] = 1"
   ]
  },
  {
   "cell_type": "code",
   "execution_count": 13,
   "metadata": {},
   "outputs": [],
   "source": [
    "## zip"
   ]
  },
  {
   "cell_type": "code",
   "execution_count": 14,
   "metadata": {},
   "outputs": [
    {
     "data": {
      "text/plain": [
       "[(1, 4), (2, 5), (3, 6)]"
      ]
     },
     "execution_count": 14,
     "metadata": {},
     "output_type": "execute_result"
    }
   ],
   "source": [
    "a=[1,2,3]\n",
    "b=[4,5,6]\n",
    "[i for  i in zip(a,b)]"
   ]
  },
  {
   "cell_type": "markdown",
   "metadata": {},
   "source": [
    "## struct\n",
    "    - Python 문자열로 표현된 C structs와 Python Value 간의 변환\n",
    "    - Link : http://hextracker.tistory.com/141\n",
    "    - 특징\n",
    "        + 파일에 Binary Data를 저장하거나 Network Connection 시 사용\n",
    "    - 주요 Fuction\n",
    "        + struct.pack(fmt,v1,v2,...)\n",
    "            지정된 Format에 따라 v1,v2,..의 Values를 Pack을 수행하며 그 결과는 String으로 리턴\n",
    "\n",
    "        + struct.unpack(fmt,string)\n",
    "            지정된 Format에 따라 String을 Unpack을 수행하며 그 결과는 Tuple로 리턴"
   ]
  },
  {
   "cell_type": "code",
   "execution_count": 17,
   "metadata": {},
   "outputs": [
    {
     "name": "stdout",
     "output_type": "stream",
     "text": [
      "0x34333231\n"
     ]
    }
   ],
   "source": [
    "import struct\n",
    "\n",
    "def getDword(s, offset) :\n",
    "    return struct.unpack(\"<L\", s[offset:offset+4])[0]\n",
    "\n",
    "str = b\"123456789\"\n",
    "tmp = getDword(str,0)\n",
    "print(hex(tmp))\n",
    "\n"
   ]
  },
  {
   "cell_type": "markdown",
   "metadata": {},
   "source": [
    "### Byte Order\n",
    "|Character|Byte Order           |Size     |Alignment|\n",
    "|---------|---------------------|---------|----------|\n",
    "| @        |Native               |Native   |Native    |\n",
    "| =        |Native               |Standard|None      |\n",
    "| <        |Little-Endian        |Standard|None      |\n",
    "| >        |Big-Endian           |Standard|None      |\n",
    "| !        |network(=Big-Endian) |Standard|None      |\n",
    "\n",
    "###  Format Characters\n",
    "|Format|C Types           |Python Type        |Standard Size|\n",
    "|------|------------------|-------------------|--------------|\n",
    "| x    |Pad Byte          |No Value           |              |\n",
    "| c    |char              |String of length 1 |1             |\n",
    "| b    |signed char       |integer            |1             |\n",
    "| B    |unsigned char     |integer            |1             |\n",
    "| ?    |_Bool             |bool               |1             |\n",
    "| h    |short             |integer            |2             |\n",
    "| H    |unsigned short    |integer            |2             |\n",
    "| i    |int               |integer            |4             |\n",
    "| I    |unsigned int      |integer            |4             |\n",
    "| l    |long              |integer            |4             |\n",
    "| L    |unsigned long     |integer            |4             |\n",
    "| q    |long long         |integer            |8             |\n",
    "| Q    |unsigned long long|integer            |8             |\n",
    "| f    |float             |float              |4             |\n",
    "| d    |double            |float              |8             |\n",
    "| s    |char[]            |string             |              |\n",
    "| p    |char[]            |string             |              |\n",
    "| P    |void *            |integer            |              |"
   ]
  },
  {
   "cell_type": "markdown",
   "metadata": {},
   "source": [
    "# Builtin Library"
   ]
  },
  {
   "cell_type": "markdown",
   "metadata": {},
   "source": [
    "## OS명령"
   ]
  },
  {
   "cell_type": "code",
   "execution_count": 18,
   "metadata": {},
   "outputs": [
    {
     "name": "stdout",
     "output_type": "stream",
     "text": [
      "0\n",
      "/tmp/x123\n"
     ]
    }
   ],
   "source": [
    "import os\n",
    "print(os.system('touch /tmp/x123') )\n",
    "!ls /tmp/x123"
   ]
  },
  {
   "cell_type": "markdown",
   "metadata": {},
   "source": [
    "## Pickle\n",
    "* 파이썬객체를 저장하고 읽음. "
   ]
  },
  {
   "cell_type": "code",
   "execution_count": 19,
   "metadata": {},
   "outputs": [
    {
     "data": {
      "text/plain": [
       "[1, 2, 3, 4]"
      ]
     },
     "execution_count": 19,
     "metadata": {},
     "output_type": "execute_result"
    }
   ],
   "source": [
    "import pickle\n",
    "\n",
    "thePath=\"/tmp/tmp\"\n",
    "obj=[1,2,3,4]\n",
    "with open(thePath, \"wb\") as f:\n",
    "  pickle.dump(obj,f)\n",
    "\n",
    "\n",
    "with open(thePath, \"rb\") as f:\n",
    "    obj2 = pickle.load(f)\n",
    "\n",
    "obj2\n",
    "\n",
    "\n"
   ]
  },
  {
   "cell_type": "markdown",
   "metadata": {},
   "source": [
    "## Default Dict\n",
    "* 없는 키값을 리턴해도 에러를 발생시키기 않는 Dictionary"
   ]
  },
  {
   "cell_type": "code",
   "execution_count": 20,
   "metadata": {},
   "outputs": [],
   "source": [
    "from collections import defaultdict\n",
    "d=defaultdict(lambda: None)\n",
    "d[\"a\"]       # no error, return None\n",
    "\n"
   ]
  },
  {
   "cell_type": "code",
   "execution_count": 21,
   "metadata": {},
   "outputs": [
    {
     "data": {
      "text/plain": [
       "dict_keys(['a', 'b'])"
      ]
     },
     "execution_count": 21,
     "metadata": {},
     "output_type": "execute_result"
    }
   ],
   "source": [
    "d[\"b\"]=3\n",
    "d.keys()"
   ]
  },
  {
   "cell_type": "code",
   "execution_count": 22,
   "metadata": {},
   "outputs": [
    {
     "name": "stdout",
     "output_type": "stream",
     "text": [
      "None\n"
     ]
    },
    {
     "data": {
      "text/plain": [
       "dict_keys(['a', 'b', 'c'])"
      ]
     },
     "execution_count": 22,
     "metadata": {},
     "output_type": "execute_result"
    }
   ],
   "source": [
    "print(d[\"c\"])\n",
    "d.keys()"
   ]
  },
  {
   "cell_type": "markdown",
   "metadata": {},
   "source": [
    "## Regular Expression"
   ]
  },
  {
   "cell_type": "code",
   "execution_count": 23,
   "metadata": {},
   "outputs": [],
   "source": [
    "import re"
   ]
  },
  {
   "cell_type": "markdown",
   "metadata": {},
   "source": [
    "### re.escape"
   ]
  },
  {
   "cell_type": "markdown",
   "metadata": {},
   "source": [
    "### re.findall"
   ]
  },
  {
   "cell_type": "code",
   "execution_count": 24,
   "metadata": {},
   "outputs": [
    {
     "data": {
      "text/plain": [
       "['a', 'a']"
      ]
     },
     "execution_count": 24,
     "metadata": {},
     "output_type": "execute_result"
    }
   ],
   "source": [
    "re.findall('a','apache')\n",
    "# ['a', 'a']"
   ]
  },
  {
   "cell_type": "markdown",
   "metadata": {},
   "source": [
    "#### MultiLine Examples"
   ]
  },
  {
   "cell_type": "code",
   "execution_count": 25,
   "metadata": {},
   "outputs": [
    {
     "data": {
      "text/plain": [
       "['bbb cc\\ndd\\n']"
      ]
     },
     "execution_count": 25,
     "metadata": {},
     "output_type": "execute_result"
    }
   ],
   "source": [
    "import re\n",
    "s='''\n",
    "aa\n",
    "bbb cc\n",
    "dd\n",
    "'''\n",
    "re.findall('bb.*$',s,re.DOTALL)"
   ]
  },
  {
   "cell_type": "markdown",
   "metadata": {},
   "source": [
    "### re.finditer"
   ]
  },
  {
   "cell_type": "markdown",
   "metadata": {},
   "source": [
    "### re.fullmatch"
   ]
  },
  {
   "cell_type": "markdown",
   "metadata": {},
   "source": [
    "### re.functools"
   ]
  },
  {
   "cell_type": "markdown",
   "metadata": {},
   "source": [
    "### re.match\n",
    "* 주의 정확히 일치 해야 함."
   ]
  },
  {
   "cell_type": "code",
   "execution_count": 26,
   "metadata": {},
   "outputs": [
    {
     "name": "stdout",
     "output_type": "stream",
     "text": [
      "Match\n",
      "Match\n"
     ]
    }
   ],
   "source": [
    "p=re.compile('[a-z]+')\n",
    "if p.match(\"python\"):\n",
    "  print('Match')\n",
    "\n",
    "\n",
    "if not re.match('a$',\"ca\"):\n",
    "     print(\"Match\")\n",
    "else:\n",
    "     print(\"NoMatch\") # <==요게 나옴 정확히 않맞으니까."
   ]
  },
  {
   "cell_type": "markdown",
   "metadata": {},
   "source": [
    "### re.search/compile/group\n",
    "* match Object의 메서드들\n",
    "    - Method,  Descrption\n",
    "    - group(), 일치된 문자열을 반환한다.\n",
    "    - start(), 일치된 문자열의 시작 위치를 반환한다.\n",
    "    - end(),   일치된 문자열의 끝 위치를 반환한다.\n",
    "    - span(),  일치된 문자열의 (시작 위치, 끝 위치) 튜플을 반환한다.\n",
    "* Example Simple\n",
    "\n"
   ]
  },
  {
   "cell_type": "code",
   "execution_count": 27,
   "metadata": {},
   "outputs": [
    {
     "data": {
      "text/plain": [
       "'c'"
      ]
     },
     "execution_count": 27,
     "metadata": {},
     "output_type": "execute_result"
    }
   ],
   "source": [
    "regex = re.compile('(a+).*(c+)')\n",
    "mo = regex.search('abc')\n",
    "mo.group(2)\n",
    "# 'c'"
   ]
  },
  {
   "cell_type": "markdown",
   "metadata": {},
   "source": [
    "* Example Full"
   ]
  },
  {
   "cell_type": "code",
   "execution_count": 28,
   "metadata": {},
   "outputs": [
    {
     "name": "stdout",
     "output_type": "stream",
     "text": [
      "<re.Match object; span=(4, 6), match='ss'>\n",
      "a\n",
      "ss\n",
      "4\n",
      "6\n",
      "(4, 6)\n"
     ]
    }
   ],
   "source": [
    "import re\n",
    "\n",
    "matchObj = re.search('s+', \"a a ss a ssss\")\n",
    "print(matchObj)\n",
    "\n",
    "regex=re.compile('(a)(b)(.*)')\n",
    "mo=regex.search('abca')\n",
    "print(mo.group(1))\n",
    "\n",
    "print(matchObj.group())\n",
    "# ss\n",
    "print(matchObj.start())\n",
    "# 4\n",
    "print(matchObj.end())\n",
    "# 6\n",
    "print(matchObj.span())\n",
    "# (4,6)"
   ]
  },
  {
   "cell_type": "markdown",
   "metadata": {},
   "source": [
    "### re.split"
   ]
  },
  {
   "cell_type": "markdown",
   "metadata": {},
   "source": [
    "### re.sub"
   ]
  },
  {
   "cell_type": "code",
   "execution_count": 29,
   "metadata": {},
   "outputs": [
    {
     "data": {
      "text/plain": [
       "'She is xx, her sister is xx.'"
      ]
     },
     "execution_count": 29,
     "metadata": {},
     "output_type": "execute_result"
    }
   ],
   "source": [
    "re.sub(r\"18|28\",r\"xx\",\"She is 18, her sister is 28.\")"
   ]
  },
  {
   "cell_type": "code",
   "execution_count": 30,
   "metadata": {},
   "outputs": [
    {
     "data": {
      "text/plain": [
       "('She is xx, her sister is 28.', 1)"
      ]
     },
     "execution_count": 30,
     "metadata": {},
     "output_type": "execute_result"
    }
   ],
   "source": [
    "### re.subn\n",
    "re.subn(r\"18|28\",r\"xx\",\"She is 18, her sister is 28.\")\n",
    "# ('She is xx, her sister is xx.', 2)\n",
    "\n",
    "re.subn(r\"18\",r\"xx\",\"She is 18, her sister is 28.\")\n",
    "# ('She is xx, her sister is 28.', 1)"
   ]
  },
  {
   "cell_type": "markdown",
   "metadata": {},
   "source": [
    "### Examples"
   ]
  },
  {
   "cell_type": "code",
   "execution_count": 31,
   "metadata": {},
   "outputs": [],
   "source": [
    "import re\n",
    "operater = '[\\+|\\-|\\/|\\*|\\(|\\)]+'\n",
    "e=\"(3+4)*5\"\n",
    "operaters=re.findall(operater,e)\n",
    "variables=re.split(operater, e)\n"
   ]
  },
  {
   "cell_type": "markdown",
   "metadata": {},
   "source": [
    "## json"
   ]
  },
  {
   "cell_type": "code",
   "execution_count": 32,
   "metadata": {},
   "outputs": [],
   "source": [
    "!echo '{\"aa\":1,\"bb\":[1,2,3]}' > \"/tmp/xx.json\""
   ]
  },
  {
   "cell_type": "code",
   "execution_count": 33,
   "metadata": {},
   "outputs": [
    {
     "name": "stdout",
     "output_type": "stream",
     "text": [
      "{'aa': 1, 'bb': [1, 2, 3]}\n",
      "[1, 2, 3]\n"
     ]
    }
   ],
   "source": [
    "import json\n",
    "json_data=open('/tmp/xx.json').read()\n",
    "d=json.loads(json_data)\n",
    "print(d)\n",
    "print(d['bb'])"
   ]
  },
  {
   "cell_type": "markdown",
   "metadata": {},
   "source": [
    "## dateutil\n",
    "* String to Date"
   ]
  },
  {
   "cell_type": "code",
   "execution_count": 34,
   "metadata": {},
   "outputs": [
    {
     "data": {
      "text/plain": [
       "datetime.datetime(2000, 1, 1, 0, 0)"
      ]
     },
     "execution_count": 34,
     "metadata": {},
     "output_type": "execute_result"
    }
   ],
   "source": [
    "from dateutil.parser import parse\n",
    "parse('2000-01-01')"
   ]
  },
  {
   "cell_type": "markdown",
   "metadata": {},
   "source": [
    "* Date add"
   ]
  },
  {
   "cell_type": "code",
   "execution_count": 35,
   "metadata": {},
   "outputs": [
    {
     "name": "stdout",
     "output_type": "stream",
     "text": [
      "3653 days, 0:00:00\n",
      "2010-01-11 00:00:00\n"
     ]
    }
   ],
   "source": [
    "import datetime\n",
    "from dateutil.parser import parse\n",
    "d=parse('2010-01-01')-parse('2000-01-01')\n",
    "print(d)\n",
    "print(parse('2010-01-01') + datetime.timedelta(days=10) )"
   ]
  },
  {
   "cell_type": "markdown",
   "metadata": {},
   "source": [
    "## pdb\n",
    "* Source : http://pythonstudy.xyz/python/article/505-Python-디버깅-PDB\n",
    "```\n",
    "import pdb; pdb.set_trace()\n",
    "```\n",
    "### PDB Syntax\n",
    "\n",
    "|PDB     |명령어\t실행내용                           |\n",
    "|--------|-----------------------------------|\n",
    "|help    |도움말                                |\n",
    "|next    |다음 문장으로 이동                         |\n",
    "|print   |변수값 화면에 표시                         |\n",
    "|list    |소스코드 리스트 출력. 현재 위치 화살표로 표시됨        |\n",
    "|where   |콜스택 출력                             |\n",
    "|continue|계속 실행. 다음 중단점에 멈추거나 중단점 없으면 끝까지 실행|\n",
    "|step    |Step Into 하여 함수 내부로 들어감            |\n",
    "|return  |현재 함수의 리턴 직전까지 실행                  |\n",
    "|!변수명 = 값|변수에 값 재설정                          |"
   ]
  },
  {
   "cell_type": "markdown",
   "metadata": {},
   "source": [
    "## subprocess"
   ]
  },
  {
   "cell_type": "code",
   "execution_count": 67,
   "metadata": {},
   "outputs": [
    {
     "data": {
      "text/plain": [
       "'Filesystem                                                          Size   Used  Avail Capacity  iused       ifree %iused  Mounted on\\n/dev/disk1s5                                                       1.8Ti   10Gi  810Gi     2%   488254 19538540506    0%   /\\ndevfs                                                              205Ki  205Ki    0Bi   100%      709           0  100%   /dev\\n/dev/disk1s1                                                       1.8Ti  1.0Ti  810Gi    57%  6711564 19532317196    0%   /System/Volumes/Data\\n/dev/disk1s4                                                       1.8Ti  3.0Gi  810Gi     1%        3 19539028757    0%   /private/var/vm\\nmap auto_home                                                        0Bi    0Bi    0Bi   100%        0           0  100%   /System/Volumes/Data/home\\n/dev/disk2s2                                                       1.8Ti  1.2Ti  678Gi    64% 10421172  4284546107    0%   /Volumes/2TB-TimeMachine2021\\n/dev/disk3s2                                                        15Ti  5.4Ti  9.2Ti    37%  4175545  4290791750    0%   /Volumes/16T\\n/dev/disk1s3                                                       1.8Ti  504Mi  810Gi     1%       51 19539028709    0%   /Volumes/Recovery\\n/dev/disk4s1                                                       140Ki   96Ki   44Ki    69%      512           0  100%   /Volumes/LAUNCHPAD\\n/dev/disk5s2                                                       2.7Ti  1.0Ti  1.7Ti    37%  8702986  4286264293    0%   /Volumes/Da-New\\n//DRIVE@localhost:55656/finfra@gmail.com%20-%20Google%20Drive      300Gi   19Gi  281Gi     7%  4937876    73705322    6%   /Volumes/GoogleDrive\\n//DRIVE@localhost:55665/nowage73@gmail.com%20-%20Google%20Drive    100Gi  317Mi  100Gi     1%    81277    26133121    0%   /Volumes/GoogleDrive-113096305687776344771\\n//DRIVE@localhost:55678/finfra.com@gmail.com%20-%20Google%20Drive   15Gi    0Bi   15Gi     0% 18446744073709551614     3932160 469125199793842%   /Volumes/GoogleDrive-108296306654199140521\\n//DRIVE@localhost:55684/nowage@gmail.com%20-%20Google%20Drive       17Gi  8.8Gi  8.2Gi    52%  2300446     2156000   52%   /Volumes/GoogleDrive-104987625894480788821\\n'"
      ]
     },
     "execution_count": 67,
     "metadata": {},
     "output_type": "execute_result"
    }
   ],
   "source": [
    "import subprocess\n",
    "p = subprocess.Popen('df -h', shell=True, stdout=subprocess.PIPE)\n",
    "p.communicate()[0].decode('utf-8')\n",
    "# python2 :  print(str(p.communicate()[0], 'utf-8'))"
   ]
  },
  {
   "cell_type": "markdown",
   "metadata": {},
   "source": [
    "## Requests"
   ]
  },
  {
   "cell_type": "markdown",
   "metadata": {},
   "source": [
    "* Example from : https://gosmcom.tistory.com/130"
   ]
  },
  {
   "cell_type": "markdown",
   "metadata": {},
   "source": [
    "### Request Example"
   ]
  },
  {
   "cell_type": "code",
   "execution_count": 38,
   "metadata": {},
   "outputs": [],
   "source": [
    "import requests\n",
    "r = requests.get('https://api.github.com/events')"
   ]
  },
  {
   "cell_type": "code",
   "execution_count": 39,
   "metadata": {},
   "outputs": [],
   "source": [
    "r = requests.post('https://httpbin.org/post', data = {'key':'value'})"
   ]
  },
  {
   "cell_type": "code",
   "execution_count": 40,
   "metadata": {},
   "outputs": [],
   "source": [
    "r = requests.put('https://httpbin.org/put', data = {'key':'value'})"
   ]
  },
  {
   "cell_type": "code",
   "execution_count": 41,
   "metadata": {},
   "outputs": [],
   "source": [
    "r = requests.delete('https://httpbin.org/delete')"
   ]
  },
  {
   "cell_type": "code",
   "execution_count": 42,
   "metadata": {},
   "outputs": [],
   "source": [
    "r = requests.head('https://httpbin.org/get')"
   ]
  },
  {
   "cell_type": "code",
   "execution_count": 43,
   "metadata": {},
   "outputs": [],
   "source": [
    "r = requests.options('https://httpbin.org/get')"
   ]
  },
  {
   "cell_type": "markdown",
   "metadata": {},
   "source": [
    "### Request with Header"
   ]
  },
  {
   "cell_type": "code",
   "execution_count": 46,
   "metadata": {
    "collapsed": true,
    "jupyter": {
     "outputs_hidden": true
    }
   },
   "outputs": [
    {
     "name": "stdout",
     "output_type": "stream",
     "text": [
      "b'<!DOCTYPE html>\\r\\n<html>\\r\\n\\r\\n<head>\\r\\n\\t<meta charset=\"utf-8\">\\r\\n\\t<title>\\xe9\\x95\\xbf\\xe6\\x8a\\x95\\xe5\\xad\\xa6\\xe5\\xa0\\x82 | \\xe7\\x90\\x86\\xe8\\xb4\\xa2\\xe5\\xb0\\xb1\\xe6\\x98\\xaf\\xe7\\x90\\x86\\xe7\\x94\\x9f\\xe6\\xb4\\xbb</title>\\r\\n\\t<meta name=\"keywords\" content=\"\\xe9\\x95\\xbf\\xe6\\x8a\\x95\\xe5\\xad\\xa6\\xe5\\xa0\\x82|\\xe7\\x90\\x86\\xe8\\xb4\\xa2\\xe5\\xb0\\xb1\\xe6\\x98\\xaf\\xe7\\x90\\x86\\xe7\\x94\\x9f\\xe6\\xb4\\xbb\">\\r\\n\\t<meta name=\"description\" content=\"\\xe5\\x9b\\xbd\\xe5\\x86\\x85\\xe7\\x8e\\x87\\xe5\\x85\\x88\\xe6\\x8e\\xa8\\xe5\\x87\\xba\\xe5\\xae\\x9a\\xe5\\x88\\xb6\\xe5\\x8c\\x96\\xe8\\xaf\\xbe\\xe7\\xa8\\x8b\\xe7\\x9a\\x84\\xe5\\x9c\\xa8\\xe7\\xba\\xbf\\xe7\\x90\\x86\\xe8\\xb4\\xa2\\xe6\\x95\\x99\\xe8\\x82\\xb2\\xe6\\x9c\\xba\\xe6\\x9e\\x84\\xef\\xbc\\x8c\\xe5\\x85\\xb7\\xe5\\xa4\\x87\\xe5\\xae\\x8c\\xe5\\x96\\x84\\xe7\\x9a\\x84\\xe8\\xaf\\xbe\\xe7\\xa8\\x8b\\xe4\\xbd\\x93\\xe7\\xb3\\xbb\\xef\\xbc\\x8c\\xe5\\xb7\\xb2\\xe6\\x9c\\x89\\xe8\\xb6\\x85\\xe8\\xbf\\x87500\\xe4\\xb8\\x87\\xe7\\x94\\xa8\\xe6\\x88\\xb7\\xe5\\x9c\\xa8\\xe7\\xba\\xbf\\xe5\\xad\\xa6\\xe4\\xb9\\xa0\\xe3\\x80\\x82\">\\r\\n\\t<meta name=\"viewport\" content=\"initial-scale=1, maximum-scale=1, minimum-scale=1, user-scalable=no\">\\r\\n\\t<meta http-equiv=\"X-UA-Compatible\" content=\"IE=edge,chrome=1\" />\\r\\n\\t<meta http-equiv=\"Cache-Control\" content=\"no-siteapp\" />\\r\\n\\t<meta name=\"apple-mobile-web-app-capable\" content=\"yes\" />\\r\\n\\t<link rel=\"shortcut icon\" href=\"images/favicon.ico\" type=\"image/x-icon\" />\\r\\n\\t<link rel=\"stylesheet\" type=\"text/css\" href=\"css/reset.css\" />\\r\\n\\t<link rel=\"stylesheet\" type=\"text/css\" href=\"css/global.css\" />\\r\\n\\t<link href=\"lib/animate.min.css\" rel=\"stylesheet\">\\r\\n\\t<script src=\"lib/jquery.min.js\"></script>\\r\\n\\t<!-- swiper -->\\r\\n\\t<link href=\"lib/swiper.min.css\" rel=\"stylesheet\">\\r\\n\\t<script src=\"lib/swiper.min.js\"></script>\\r\\n\\t<!-- wow -->\\r\\n\\t<script src=\"lib/wow.min.js\"></script>\\r\\n\\t<link rel=\"stylesheet\" type=\"text/css\" href=\"css/style.css\" />\\r\\n\\t<!-- sensorsdata -->\\r\\n\\t<script src=\"./js/sensorsdata.js\" type=\"text/javascript\" charset=\"utf-8\"></script>\\r\\n\\t<script src=\"lib/tingyun-rum.js\" type=\"text/javascript\" charset=\"utf-8\"></script>\\r\\n</head>\\r\\n<style type=\"text/css\">\\r\\n\\t.window-video,\\r\\n\\t.window-video2,\\r\\n\\t.window-video3 {\\r\\n\\t\\tposition: fixed;\\r\\n\\t\\ttop: 0;\\r\\n\\t\\tleft: 0;\\r\\n\\t\\tz-index: 9;\\r\\n\\t\\twidth: 100%;\\r\\n\\t\\tmin-width: 1200px;\\r\\n\\t\\theight: 100%;\\r\\n\\t\\tbackground: rgba(0, 0, 0, 0.6);\\r\\n\\t\\topacity: 0;\\r\\n\\t\\tvisibility: hidden;\\r\\n\\t\\tdisplay: flex;\\r\\n\\t\\talign-items: center;\\r\\n\\t\\tjustify-content: center;\\r\\n\\t\\ttransition: all .3s;\\r\\n\\t}\\r\\n\\r\\n\\t.window-video-box,\\r\\n\\t.window-video-box2,\\r\\n\\t.window-video-box3 {\\r\\n\\t\\tposition: relative;\\r\\n\\t}\\r\\n\\r\\n\\t.window-video-box video,\\r\\n\\t.window-video-box2 video,\\r\\n\\t.window-video-box3 video {\\r\\n\\t\\toutline: none;\\r\\n\\t}\\r\\n\\r\\n\\t.window-video-close {\\r\\n\\t\\tposition: absolute;\\r\\n\\t\\ttop: 0;\\r\\n\\t\\tright: -68px;\\r\\n\\t\\twidth: 48px;\\r\\n\\t\\theight: 48px;\\r\\n\\t\\tborder-radius: 50%;\\r\\n\\t\\tcursor: pointer;\\r\\n\\t}\\r\\n\\r\\n\\t.show-video {\\r\\n\\t\\tvisibility: visible;\\r\\n\\t\\topacity: 1\\r\\n\\t}\\r\\n\\r\\n\\t.swiper-button-next,\\r\\n\\t.swiper-button-prev {\\r\\n\\t\\toutline: none;\\r\\n\\t\\twidth: 40px;\\r\\n\\t\\theight: 40px;\\r\\n\\t\\tbackground-size: 40px 40px;\\r\\n\\t}\\r\\n\\r\\n\\t.banner .swiper-button-prev {\\r\\n\\t\\tleft: 24px;\\r\\n\\t\\tbackground-image: url(./images/banner/l.png);\\r\\n\\t}\\r\\n\\r\\n\\t.banner .swiper-button-next {\\r\\n\\t\\tright: 24px;\\r\\n\\t\\tbackground-image: url(./images/banner/r.png);\\r\\n\\t}\\r\\n\\r\\n\\t.about-honor .swiper-button-prev {\\r\\n\\t\\tleft: -10px;\\r\\n\\t\\tbackground-image: url(./images/banner/l.png);\\r\\n\\t}\\r\\n\\r\\n\\t.about-honor .swiper-button-next {\\r\\n\\t\\tright: -10px;\\r\\n\\t\\tbackground-image: url(./images/banner/r.png);\\r\\n\\t}\\r\\n\\r\\n\\t.index-auth .swiper-button-prev {\\r\\n\\t\\tleft: -10px;\\r\\n\\t\\tbackground-image: url(./images/banner/l.png);\\r\\n\\t}\\r\\n\\r\\n\\t.index-auth .swiper-button-next {\\r\\n\\t\\tright: -10px;\\r\\n\\t\\tbackground-image: url(./images/banner/r.png);\\r\\n\\t}\\r\\n</style>\\r\\n\\r\\n<body>\\r\\n\\t<!-- ./ -->\\r\\n\\t<div class=\"window-video\">\\r\\n\\t\\t<div class=\"window-video-box\">\\r\\n\\t\\t\\t<video width=\"990\" controls=\"\" preload=\"none\">\\r\\n\\t\\t\\t\\t<source src=\"https://market-source.oss-cn-hangzhou.aliyuncs.com/video/20200506.mp4\" type=\"video/mp4\">\\r\\n\\t\\t\\t\\t</source>\\r\\n\\t\\t\\t\\t\\xe5\\xbd\\x93\\xe5\\x89\\x8d\\xe6\\xb5\\x8f\\xe8\\xa7\\x88\\xe5\\x99\\xa8\\xe4\\xb8\\x8d\\xe6\\x94\\xaf\\xe6\\x8c\\x81 video\\xe7\\x9b\\xb4\\xe6\\x8e\\xa5\\xe6\\x92\\xad\\xe6\\x94\\xbe\\r\\n\\t\\t\\t</video>\\r\\n\\t\\t</div>\\r\\n\\t</div>\\r\\n\\t<div class=\"window-video2\">\\r\\n\\t\\t<div class=\"window-video-box2\">\\r\\n\\t\\t\\t<video width=\"990\" controls=\"\" preload=\"none\">\\r\\n\\t\\t\\t\\t<source src=\"https://market-source.oss-cn-hangzhou.aliyuncs.com/video/20210126.mp4\" type=\"video/mp4\">\\r\\n\\t\\t\\t\\t</source>\\r\\n\\t\\t\\t\\t\\xe5\\xbd\\x93\\xe5\\x89\\x8d\\xe6\\xb5\\x8f\\xe8\\xa7\\x88\\xe5\\x99\\xa8\\xe4\\xb8\\x8d\\xe6\\x94\\xaf\\xe6\\x8c\\x81 video\\xe7\\x9b\\xb4\\xe6\\x8e\\xa5\\xe6\\x92\\xad\\xe6\\x94\\xbe\\r\\n\\t\\t\\t</video>\\r\\n\\t\\t</div>\\r\\n\\t</div>\\r\\n\\t<div class=\"window-video3\">\\r\\n\\t\\t<div class=\"window-video-box3\">\\r\\n\\t\\t\\t<video width=\"990\" controls=\"\" preload=\"none\">\\r\\n\\t\\t\\t\\t<source src=\"https://market-source.oss-cn-hangzhou.aliyuncs.com/video/20210202.mp4\" type=\"video/mp4\">\\r\\n\\t\\t\\t\\t</source>\\r\\n\\t\\t\\t\\t\\xe5\\xbd\\x93\\xe5\\x89\\x8d\\xe6\\xb5\\x8f\\xe8\\xa7\\x88\\xe5\\x99\\xa8\\xe4\\xb8\\x8d\\xe6\\x94\\xaf\\xe6\\x8c\\x81 video\\xe7\\x9b\\xb4\\xe6\\x8e\\xa5\\xe6\\x92\\xad\\xe6\\x94\\xbe\\r\\n\\t\\t\\t</video>\\r\\n\\t\\t</div>\\r\\n\\t</div>\\r\\n\\t<!-- ./\\xe8\\xa7\\x86\\xe9\\xa2\\x91\\xe5\\xae\\xb9\\xe5\\x99\\xa8 -->\\r\\n\\t<div class=\"header\">\\r\\n\\t\\t<div class=\"container-width clearfix\">\\r\\n\\t\\t\\t<a href=\"index.html\" class=\"fl logo\">\\r\\n\\t\\t\\t\\t<img src=\"images/logo.png\" title=\"\" alt=\"\">\\r\\n\\t\\t\\t</a>\\r\\n\\t\\t\\t<!-- ./logo -->\\r\\n\\t\\t\\t<div class=\"fr nav\">\\r\\n\\t\\t\\t\\t<ul class=\"clearfix\">\\r\\n\\t\\t\\t\\t\\t<li><a href=\"index.html\" class=\"on\">\\xe9\\xa6\\x96\\xe9\\xa1\\xb5</a></li>\\r\\n\\t\\t\\t\\t\\t<li><a href=\"project.html\">\\xe8\\xaf\\xbe\\xe7\\xa8\\x8b\\xe4\\xb8\\xad\\xe5\\xbf\\x83</a></li>\\r\\n\\t\\t\\t\\t\\t<li><a href=\"about.html\">\\xe5\\x85\\xb3\\xe4\\xba\\x8e\\xe6\\x88\\x91\\xe4\\xbb\\xac</a></li>\\r\\n\\t\\t\\t\\t\\t<li><a href=\"https://app.mokahr.com/apply/ichangtou/25919#/?_k=kwthw4\">\\xe5\\x8a\\xa0\\xe5\\x85\\xa5\\xe6\\x88\\x91\\xe4\\xbb\\xac</a></li>\\r\\n\\t\\t\\t\\t</ul>\\r\\n\\t\\t\\t</div>\\r\\n\\t\\t\\t<!-- ./nav -->\\r\\n\\t\\t</div>\\r\\n\\t</div>\\r\\n\\t<!-- ./header -->\\r\\n\\t<div class=\"banner\">\\r\\n\\t\\t<div class=\"swiper-container swiper-no-swiping\">\\r\\n\\t\\t\\t<div class=\"swiper-wrapper\">\\r\\n\\t\\t\\t\\t<!-- \\xe8\\xa7\\x86\\xe9\\xa2\\x913 -->\\r\\n\\t\\t\\t\\t<!-- <div class=\"swiper-slide clearfix\" onclick=\"Gsend(\\'\\',\\'\\xe8\\xbd\\xae\\xe6\\x92\\xad\\xe4\\xbd\\x8d9\\',\\'\\',this)\">\\r\\n\\t\\t\\t\\t\\t\\t<a href=\"javascript:;\" id=\"show-video-btn3\">\\r\\n\\t\\t\\t\\t\\t\\t\\t<div class=\"banner-position\">\\r\\n\\t\\t\\t\\t\\t\\t\\t\\t<div class=\"container-width o-hidden\">\\r\\n\\t\\t\\t\\t\\t\\t\\t\\t\\t<div class=\"banner-text ani-text\">\\r\\n\\t\\t\\t\\t\\t\\t\\t\\t\\t\\t<h3>\\xe7\\x90\\x86\\xe8\\xb4\\xa2\\xe5\\xb0\\xb1\\xe6\\x98\\xaf\\xe7\\x90\\x86\\xe7\\x94\\x9f\\xe6\\xb4\\xbb</h3>\\r\\n\\t\\t\\t\\t\\t\\t\\t\\t\\t\\t<p>\\r\\n\\t\\t\\t\\t\\t\\t\\t\\t\\t\\t\\t\\xe5\\x8d\\x81\\xe5\\xb9\\xb4\\xe6\\x8b\\xa5\\xe6\\x9c\\x89\\xe8\\xb6\\x85500\\xe4\\xb8\\x87\\xe7\\x94\\xa8\\xe6\\x88\\xb7 <br/>\\xe8\\xae\\xa9\\xe4\\xba\\xba\\xe4\\xba\\xba\\xe9\\x83\\xbd\\xe8\\x83\\xbd\\xe4\\xba\\xab\\xe5\\x8f\\x97\\xe8\\xb4\\xa2\\xe5\\xaf\\x8c\\xe7\\x9a\\x84\\xe4\\xb9\\x90\\xe8\\xb6\\xa3\\r\\n\\t\\t\\t\\t\\t\\t\\t\\t\\t\\t</p>\\r\\n\\t\\t\\t\\t\\t\\t\\t\\t\\t\\t<div class=\"more banner-more\">\\r\\n\\t\\t\\t\\t\\t\\t\\t\\t\\t\\t\\t<span class=\"btn-more\">\\xe7\\x82\\xb9\\xe5\\x87\\xbb\\xe6\\x9f\\xa5\\xe7\\x9c\\x8b\\xe5\\x8d\\x81\\xe5\\xb9\\xb4\\xe7\\x9a\\x84\\xe6\\x95\\x85\\xe4\\xba\\x8b<b></b></span>\\r\\n\\t\\t\\t\\t\\t\\t\\t\\t\\t\\t</div>\\r\\n\\t\\t\\t\\t\\t\\t\\t\\t\\t</div>\\r\\n\\t\\t\\t\\t\\t\\t\\t\\t</div>\\r\\n\\t\\t\\t\\t\\t\\t\\t</div>\\r\\n\\t\\t\\t\\t\\t\\t\\t<div class=\"banner-img ani-a\" style=\"background-image: url(images/banner/bg-9.png);\"></div>\\r\\n\\t\\t\\t\\t\\t\\t</a>\\r\\n\\t\\t\\t\\t\\t</div> -->\\r\\n\\t\\t\\t\\t<div class=\"swiper-slide clearfix\" onclick=\"Gsend(\\'\\',\\'\\xe8\\xbd\\xae\\xe6\\x92\\xad\\xe4\\xbd\\x8d3\\',\\'\\',this)\">\\r\\n\\t\\t\\t\\t\\t<a href=\"about.html\">\\r\\n\\t\\t\\t\\t\\t\\t<div class=\"banner-position\">\\r\\n\\t\\t\\t\\t\\t\\t\\t<div class=\"container-width o-hidden\">\\r\\n\\t\\t\\t\\t\\t\\t\\t\\t<div class=\"banner-text ani-text\">\\r\\n\\t\\t\\t\\t\\t\\t\\t\\t\\t<h3>\\xe7\\x90\\x86\\xe8\\xb4\\xa2\\xe5\\xb0\\xb1\\xe6\\x98\\xaf\\xe7\\x90\\x86\\xe7\\x94\\x9f\\xe6\\xb4\\xbb</h3>\\r\\n\\t\\t\\t\\t\\t\\t\\t\\t\\t<p>\\xe5\\x8d\\x81\\xe5\\xb9\\xb4\\xe6\\x8b\\xa5\\xe6\\x9c\\x89\\xe8\\xb6\\x85500\\xe4\\xb8\\x87\\xe7\\x94\\xa8\\xe6\\x88\\xb7<br>\\xe8\\xae\\xa9\\xe4\\xba\\xba\\xe4\\xba\\xba\\xe9\\x83\\xbd\\xe8\\x83\\xbd\\xe4\\xba\\xab\\xe5\\x8f\\x97\\xe8\\xb4\\xa2\\xe5\\xaf\\x8c\\xe7\\x9a\\x84\\xe4\\xb9\\x90\\xe8\\xb6\\xa3</p>\\r\\n\\t\\t\\t\\t\\t\\t\\t\\t\\t<div class=\"more banner-more\">\\r\\n\\t\\t\\t\\t\\t\\t\\t\\t\\t\\t<span class=\"btn-more\">\\xe7\\x82\\xb9\\xe5\\x87\\xbb\\xe6\\x9f\\xa5\\xe7\\x9c\\x8b\\xe5\\x8d\\x81\\xe5\\xb9\\xb4\\xe7\\x9a\\x84\\xe6\\x95\\x85\\xe4\\xba\\x8b <b></b></span>\\r\\n\\t\\t\\t\\t\\t\\t\\t\\t\\t</div>\\r\\n\\t\\t\\t\\t\\t\\t\\t\\t</div>\\r\\n\\t\\t\\t\\t\\t\\t\\t</div>\\r\\n\\t\\t\\t\\t\\t\\t</div>\\r\\n\\t\\t\\t\\t\\t\\t<div class=\"banner-img ani-a\" style=\"background-image: url(images/banner/bg-9.png);\">\\r\\n\\t\\t\\t\\t\\t\\t\\t<!-- <img src=\"images/banner/item-1-1.png\" title=\"\" alt=\"\" class=\"ani-img\"> -->\\r\\n\\t\\t\\t\\t\\t\\t</div>\\r\\n\\t\\t\\t\\t\\t</a>\\r\\n\\t\\t\\t\\t</div>\\r\\n\\r\\n\\t\\t\\t\\t<!-- \\xe8\\xa7\\x86\\xe9\\xa2\\x912 -->\\r\\n\\t\\t\\t\\t<div class=\"swiper-slide clearfix\" onclick=\"Gsend(\\'\\',\\'\\xe8\\xbd\\xae\\xe6\\x92\\xad\\xe4\\xbd\\x8d8\\',\\'\\',this)\">\\r\\n\\t\\t\\t\\t\\t<a href=\"javascript:;\" id=\"show-video-btn2\">\\r\\n\\t\\t\\t\\t\\t\\t<div class=\"banner-position\">\\r\\n\\t\\t\\t\\t\\t\\t\\t<div class=\"container-width o-hidden\">\\r\\n\\t\\t\\t\\t\\t\\t\\t\\t<div class=\"banner-text ani-text\">\\r\\n\\t\\t\\t\\t\\t\\t\\t\\t\\t<h3>\\xe6\\x88\\x91\\xe7\\x9a\\x84\\xe8\\x87\\xaa\\xe7\\x94\\xb1\\xe4\\xba\\xba\\xe7\\x94\\x9f</h3>\\r\\n\\t\\t\\t\\t\\t\\t\\t\\t\\t<p>\\r\\n\\t\\t\\t\\t\\t\\t\\t\\t\\t\\t\\xe6\\x94\\xb9\\xe5\\x8f\\x98\\xe8\\xb6\\x81\\xe7\\x8e\\xb0\\xe5\\x9c\\xa8\\xef\\xbc\\x8c\\xe8\\x87\\xaa\\xe7\\x94\\xb1\\xe6\\x89\\x8d\\xe5\\x8f\\xaf\\xe8\\x83\\xbd <br />\\r\\n\\t\\t\\t\\t\\t\\t\\t\\t\\t\\t<span style=\"color: #64697F; font-size: 15px; margin-top: 0px; letter-spacing: 3px;\\r\\n\\t\\t\\t\\t\\t\\t\\t\\t\\t\\t\\tfont-family: PingFangSC-Regular, PingFang SC;\">\\xe9\\x95\\xbf\\xe6\\x8a\\x95\\xe5\\xad\\xa6\\xe5\\xa0\\x82\\xe5\\x8d\\x81\\xe5\\x91\\xa8\\xe5\\xb9\\xb4\\xe7\\x9c\\x9f\\xe5\\xae\\x9e\\xe7\\x94\\xa8\\xe6\\x88\\xb7\\xe6\\x95\\x85\\xe4\\xba\\x8b\\xe7\\xb3\\xbb\\xe5\\x88\\x97\\xe7\\x9f\\xad\\xe7\\x89\\x87</span>\\r\\n\\t\\t\\t\\t\\t\\t\\t\\t\\t</p>\\r\\n\\t\\t\\t\\t\\t\\t\\t\\t\\t<div class=\"more banner-more\">\\r\\n\\t\\t\\t\\t\\t\\t\\t\\t\\t\\t<span class=\"btn-more\">\\xe7\\x82\\xb9\\xe5\\x87\\xbb\\xe6\\x9f\\xa5\\xe7\\x9c\\x8b\\xe4\\xbb\\x96\\xe4\\xbb\\xac\\xe7\\x9a\\x84\\xe6\\x94\\xb9\\xe5\\x8f\\x98\\xe6\\x95\\x85\\xe4\\xba\\x8b<b></b></span>\\r\\n\\t\\t\\t\\t\\t\\t\\t\\t\\t</div>\\r\\n\\t\\t\\t\\t\\t\\t\\t\\t</div>\\r\\n\\t\\t\\t\\t\\t\\t\\t</div>\\r\\n\\t\\t\\t\\t\\t\\t</div>\\r\\n\\t\\t\\t\\t\\t\\t<div class=\"banner-img ani-a\" style=\"background-image: url(images/banner/bg-8.png);\"></div>\\r\\n\\t\\t\\t\\t\\t</a>\\r\\n\\t\\t\\t\\t</div>\\r\\n\\r\\n\\t\\t\\t\\t<div class=\"swiper-slide clearfix\" onclick=\"Gsend(\\'\\',\\'\\xe8\\xbd\\xae\\xe6\\x92\\xad\\xe4\\xbd\\x8d7\\',\\'\\',this)\">\\r\\n\\t\\t\\t\\t\\t<a href=\"https://mp.weixin.qq.com/s/SJ-TMahePQ-qP__NL76TCA\" target=\"_blank\">\\r\\n\\t\\t\\t\\t\\t\\t<div class=\"banner-position\">\\r\\n\\t\\t\\t\\t\\t\\t\\t<div class=\"container-width o-hidden\">\\r\\n\\t\\t\\t\\t\\t\\t\\t\\t<div class=\"banner-text ani-text\">\\r\\n\\t\\t\\t\\t\\t\\t\\t\\t\\t<h3>\\xe6\\x88\\x91\\xe5\\x92\\x8c\\xe6\\x88\\x91\\xe7\\x9a\\x84\\xe7\\x94\\x9f\\xe6\\xb4\\xbb</h3>\\r\\n\\t\\t\\t\\t\\t\\t\\t\\t\\t<p>\\xe9\\x95\\xbf\\xe6\\x8a\\x95\\xe5\\xad\\xa6\\xe5\\xa0\\x82\\xe8\\x81\\x94\\xe5\\x90\\x88\\xe3\\x80\\x8a\\xe4\\xb8\\xad\\xe5\\x9b\\xbd\\xe9\\x9d\\x92\\xe5\\xb9\\xb4\\xe6\\x8a\\xa5\\xe3\\x80\\x8b<br>\\xe6\\x8e\\xa8\\xe5\\x87\\xba\\xe9\\x9d\\x92\\xe5\\xb9\\xb4\\xe7\\x94\\x9f\\xe6\\xb4\\xbb\\xe6\\x80\\x81\\xe5\\xba\\xa6\\xe7\\xba\\xbf\\xe4\\xb8\\x8a\\xe6\\xb2\\x99\\xe9\\xbe\\x99</p>\\r\\n\\t\\t\\t\\t\\t\\t\\t\\t\\t<div class=\"more banner-more\">\\r\\n\\t\\t\\t\\t\\t\\t\\t\\t\\t\\t<span class=\"btn-more\">\\xe7\\x82\\xb9\\xe5\\x87\\xbb\\xe6\\x9f\\xa5\\xe7\\x9c\\x8b\\xe8\\xaf\\xa6\\xe6\\x83\\x85 <b></b></span>\\r\\n\\t\\t\\t\\t\\t\\t\\t\\t\\t</div>\\r\\n\\t\\t\\t\\t\\t\\t\\t\\t</div>\\r\\n\\t\\t\\t\\t\\t\\t\\t</div>\\r\\n\\t\\t\\t\\t\\t\\t</div>\\r\\n\\t\\t\\t\\t\\t\\t<div class=\"banner-img ani-a\" style=\"background-image: url(images/banner/bg-7.png);\">\\r\\n\\t\\t\\t\\t\\t\\t\\t<!-- <img src=\"images/banner/item-3-1.png\" title=\"\" alt=\"\" class=\"ani-img\"> -->\\r\\n\\t\\t\\t\\t\\t\\t</div>\\r\\n\\t\\t\\t\\t\\t</a>\\r\\n\\t\\t\\t\\t</div>\\r\\n\\r\\n\\t\\t\\t\\t<div class=\"swiper-slide clearfix\" onclick=\"Gsend(\\'\\',\\'\\xe8\\xbd\\xae\\xe6\\x92\\xad\\xe4\\xbd\\x8d5\\',\\'\\',this)\">\\r\\n\\t\\t\\t\\t\\t<a href=\"http://www.sh.chinanews.com/chanjing/2020-09-17/80566.shtml\" target=\"_blank\">\\r\\n\\t\\t\\t\\t\\t\\t<div class=\"banner-position\">\\r\\n\\t\\t\\t\\t\\t\\t\\t<div class=\"container-width o-hidden\">\\r\\n\\t\\t\\t\\t\\t\\t\\t\\t<div class=\"banner-text ani-text\">\\r\\n\\t\\t\\t\\t\\t\\t\\t\\t\\t<h3>\\xe9\\x95\\xbf\\xe6\\x8a\\x95\\xe5\\xad\\xa6\\xe5\\xa0\\x82\\xe4\\xb8\\x8e<br>\\r\\n\\t\\t\\t\\t\\t\\t\\t\\t\\t\\t\\xe4\\xb8\\x8a\\xe6\\xb5\\xb7\\xe8\\xb4\\xa2\\xe7\\xbb\\x8f\\xe5\\xa4\\xa7\\xe5\\xad\\xa6\\xe5\\x90\\x88\\xe4\\xbd\\x9c</h3>\\r\\n\\t\\t\\t\\t\\t\\t\\t\\t\\t<p>\\xe9\\x95\\xbf\\xe6\\x8a\\x95\\xe5\\xad\\xa6\\xe5\\xa0\\x82\\xe4\\xb8\\x8e\\xe4\\xb8\\x8a\\xe6\\xb5\\xb7\\xe8\\xb4\\xa2\\xe7\\xbb\\x8f\\xe5\\xa4\\xa7\\xe5\\xad\\xa6\\xe8\\xbe\\xbe\\xe6\\x88\\x90\\xe6\\x88\\x98\\xe7\\x95\\xa5\\xe5\\x90\\x88\\xe4\\xbd\\x9c<br>\\xe5\\x85\\xb1\\xe5\\x90\\x8c\\xe6\\x8e\\xa8\\xe8\\xbf\\x9b\\xe4\\xb8\\xad\\xe5\\x9b\\xbd\\xe5\\xa4\\xa7\\xe4\\xbc\\x97\\xe8\\xb4\\xa2\\xe5\\x95\\x86\\xe6\\x95\\x99\\xe8\\x82\\xb2\\xe5\\x8f\\x91\\xe5\\xb1\\x95</p>\\r\\n\\t\\t\\t\\t\\t\\t\\t\\t\\t<div class=\"more banner-more\">\\r\\n\\t\\t\\t\\t\\t\\t\\t\\t\\t\\t<span class=\"btn-more\">\\xe6\\x9f\\xa5\\xe7\\x9c\\x8b\\xe8\\xaf\\xa6\\xe6\\x83\\x85 <b></b></span>\\r\\n\\t\\t\\t\\t\\t\\t\\t\\t\\t</div>\\r\\n\\t\\t\\t\\t\\t\\t\\t\\t</div>\\r\\n\\t\\t\\t\\t\\t\\t\\t</div>\\r\\n\\t\\t\\t\\t\\t\\t</div>\\r\\n\\r\\n\\t\\t\\t\\t\\t\\t<div class=\"banner-img ani-a\" style=\"background-image: url(images/banner/bg-5.png);\">\\r\\n\\t\\t\\t\\t\\t\\t\\t<!-- <img src=\"images/banner/item-3-1.png\" title=\"\" alt=\"\" class=\"ani-img\"> -->\\r\\n\\t\\t\\t\\t\\t\\t</div>\\r\\n\\t\\t\\t\\t\\t</a>\\r\\n\\t\\t\\t\\t</div>\\r\\n\\t\\t\\t\\t<div class=\"swiper-slide clearfix\" onclick=\"Gsend(\\'\\',\\'\\xe8\\xbd\\xae\\xe6\\x92\\xad\\xe4\\xbd\\x8d4\\',\\'\\',this)\">\\r\\n\\t\\t\\t\\t\\t<a href=\"javascript:;\" id=\"show-video-btn\">\\r\\n\\t\\t\\t\\t\\t\\t<div class=\"banner-position\">\\r\\n\\t\\t\\t\\t\\t\\t\\t<div class=\"container-width o-hidden\">\\r\\n\\t\\t\\t\\t\\t\\t\\t\\t<div class=\"banner-text ani-text\">\\r\\n\\t\\t\\t\\t\\t\\t\\t\\t\\t<h3><img src=\"images/banner/item-4-1.png\" title=\"\" alt=\"\"></h3>\\r\\n\\t\\t\\t\\t\\t\\t\\t\\t\\t<p>\\xe9\\x80\\x86\\xe8\\xa2\\xad\\xe4\\xba\\xba\\xe7\\x94\\x9f\\xef\\xbc\\x8c\\xe4\\xbd\\xa0\\xe4\\xb9\\x9f\\xe5\\x8f\\xaf\\xe4\\xbb\\xa5\\xef\\xbc\\x81</p>\\r\\n\\t\\t\\t\\t\\t\\t\\t\\t\\t<div class=\"more banner-more\">\\r\\n\\t\\t\\t\\t\\t\\t\\t\\t\\t\\t<span class=\"btn-more\">\\xe7\\xab\\x8b\\xe5\\x8d\\xb3\\xe7\\x82\\xb9\\xe5\\x87\\xbb\\xef\\xbc\\x8c\\xe8\\x8e\\xb7\\xe5\\xbe\\x97\\xe6\\x94\\xb9\\xe5\\x8f\\x98\\xe7\\xa7\\x98\\xe7\\xb1\\x8d<b></b></span>\\r\\n\\t\\t\\t\\t\\t\\t\\t\\t\\t</div>\\r\\n\\t\\t\\t\\t\\t\\t\\t\\t</div>\\r\\n\\t\\t\\t\\t\\t\\t\\t</div>\\r\\n\\t\\t\\t\\t\\t\\t</div>\\r\\n\\t\\t\\t\\t\\t\\t<div class=\"banner-img ani-a\" style=\"background-image: url(images/banner/bg-4.png);\"></div>\\r\\n\\t\\t\\t\\t\\t</a>\\r\\n\\t\\t\\t\\t</div>\\r\\n\\t\\t\\t\\t<div class=\"swiper-slide clearfix\" onclick=\"Gsend(\\'\\',\\'\\xe8\\xbd\\xae\\xe6\\x92\\xad\\xe4\\xbd\\x8d2\\',\\'\\',this)\">\\r\\n\\t\\t\\t\\t\\t<a href=\"project-r1.html\">\\r\\n\\t\\t\\t\\t\\t\\t<div class=\"banner-position\">\\r\\n\\t\\t\\t\\t\\t\\t\\t<div class=\"container-width o-hidden\">\\r\\n\\t\\t\\t\\t\\t\\t\\t\\t<div class=\"banner-text ani-text\">\\r\\n\\t\\t\\t\\t\\t\\t\\t\\t\\t<!-- <h3>\\xe4\\xbb\\x85\\xe9\\x9c\\x80<i>9\\xe5\\x85\\x83</i><br> -->\\r\\n\\t\\t\\t\\t\\t\\t\\t\\t\\t<h3>\\xe5\\xbc\\x80\\xe5\\x90\\xaf14\\xe5\\xa4\\xa9\\xe5\\xb0\\x8f\\xe7\\x99\\xbd\\xe7\\x90\\x86\\xe8\\xb4\\xa2\\xe8\\xaf\\xbe\\xe7\\xa8\\x8b</h3>\\r\\n\\t\\t\\t\\t\\t\\t\\t\\t\\t<p>\\xe7\\x9b\\xb4\\xe5\\xa5\\x94\\xe8\\xb4\\xa2\\xe5\\xaf\\x8c\\xe8\\x87\\xaa\\xe7\\x94\\xb1\\xe4\\xb9\\x8b\\xe8\\xb7\\xaf<br>\\xe6\\x94\\xb6\\xe8\\x8e\\xb7\\xe9\\x9b\\xb6\\xe5\\x9f\\xba\\xe7\\xa1\\x80\\xe7\\x90\\x86\\xe8\\xb4\\xa2\\xe5\\xb9\\xb2\\xe8\\xb4\\xa7</p>\\r\\n\\t\\t\\t\\t\\t\\t\\t\\t\\t<div class=\"more banner-more\">\\r\\n\\t\\t\\t\\t\\t\\t\\t\\t\\t\\t<span class=\"btn-more\">\\xe4\\xb8\\x80\\xe8\\xb5\\xb7\\xe6\\x9d\\xa5\\xe5\\xad\\xa6\\xe4\\xb9\\xa0\\xe5\\x90\\xa7 <b></b></span>\\r\\n\\t\\t\\t\\t\\t\\t\\t\\t\\t</div>\\r\\n\\t\\t\\t\\t\\t\\t\\t\\t</div>\\r\\n\\t\\t\\t\\t\\t\\t\\t</div>\\r\\n\\t\\t\\t\\t\\t\\t</div>\\r\\n\\t\\t\\t\\t\\t\\t<div class=\"banner-img ani-a\" style=\"background-image: url(images/banner/bg-2.png);\">\\r\\n\\t\\t\\t\\t\\t\\t\\t<img src=\"images/banner/item-2-1.png\" title=\"\" alt=\"\" class=\"ani-img\">\\r\\n\\t\\t\\t\\t\\t\\t</div>\\r\\n\\t\\t\\t\\t\\t</a>\\r\\n\\t\\t\\t\\t</div>\\r\\n\\t\\t\\t</div>\\r\\n\\t\\t\\t<!-- Add Pagination -->\\r\\n\\t\\t\\t<div class=\"swiper-pagination\"></div>\\r\\n\\t\\t\\t<div class=\"swiper-button-prev\"></div>\\r\\n\\t\\t\\t<!--\\xe5\\xb7\\xa6\\xe7\\xae\\xad\\xe5\\xa4\\xb4\\xe3\\x80\\x82\\xe5\\xa6\\x82\\xe6\\x9e\\x9c\\xe6\\x94\\xbe\\xe7\\xbd\\xae\\xe5\\x9c\\xa8swiper-container\\xe5\\xa4\\x96\\xe9\\x9d\\xa2\\xef\\xbc\\x8c\\xe9\\x9c\\x80\\xe8\\xa6\\x81\\xe8\\x87\\xaa\\xe5\\xae\\x9a\\xe4\\xb9\\x89\\xe6\\xa0\\xb7\\xe5\\xbc\\x8f\\xe3\\x80\\x82-->\\r\\n\\t\\t\\t<div class=\"swiper-button-next\"></div>\\r\\n\\t\\t\\t<!--\\xe5\\x8f\\xb3\\xe7\\xae\\xad\\xe5\\xa4\\xb4\\xe3\\x80\\x82\\xe5\\xa6\\x82\\xe6\\x9e\\x9c\\xe6\\x94\\xbe\\xe7\\xbd\\xae\\xe5\\x9c\\xa8swiper-container\\xe5\\xa4\\x96\\xe9\\x9d\\xa2\\xef\\xbc\\x8c\\xe9\\x9c\\x80\\xe8\\xa6\\x81\\xe8\\x87\\xaa\\xe5\\xae\\x9a\\xe4\\xb9\\x89\\xe6\\xa0\\xb7\\xe5\\xbc\\x8f\\xe3\\x80\\x82-->\\r\\n\\t\\t</div>\\r\\n\\t</div>\\r\\n\\r\\n\\t<script type=\"text/javascript\">\\r\\n\\t\\t$(\"#show-video-btn\").on(\"click\", function () {\\r\\n\\t\\t\\t$(\".window-video video\")[0].play();\\r\\n\\t\\t\\t$(\".window-video\").addClass(\"show-video\");\\r\\n\\t\\t});\\r\\n\\t\\t$(\".window-video-box\").on(\"click\", function (e) {\\r\\n\\t\\t\\te.stopPropagation();\\r\\n\\t\\t});\\r\\n\\t\\t$(\".window-video\").on(\"click\", function () {\\r\\n\\t\\t\\t$(\".window-video video\")[0].pause();\\r\\n\\t\\t\\t$(\".window-video\").removeClass(\"show-video\");\\r\\n\\t\\t});\\r\\n\\t\\t// \\xe8\\xa7\\x86\\xe9\\xa2\\x912\\r\\n\\t\\t$(\"#show-video-btn2\").on(\"click\", function () {\\r\\n\\t\\t\\t$(\".window-video2 video\")[0].play();\\r\\n\\t\\t\\t$(\".window-video2\").addClass(\"show-video\");\\r\\n\\t\\t});\\r\\n\\t\\t$(\".window-video-box2\").on(\"click\", function (e) {\\r\\n\\t\\t\\te.stopPropagation();\\r\\n\\t\\t});\\r\\n\\t\\t$(\".window-video2\").on(\"click\", function () {\\r\\n\\t\\t\\t$(\".window-video2 video\")[0].pause();\\r\\n\\t\\t\\t$(\".window-video2\").removeClass(\"show-video\");\\r\\n\\t\\t});\\r\\n\\t\\t// \\xe8\\xa7\\x86\\xe9\\xa2\\x913\\r\\n\\t\\t$(\"#show-video-btn3\").on(\"click\", function () {\\r\\n\\t\\t\\t$(\".window-video3 video\")[0].play();\\r\\n\\t\\t\\t$(\".window-video3\").addClass(\"show-video\");\\r\\n\\t\\t});\\r\\n\\t\\t$(\".window-video-box3\").on(\"click\", function (e) {\\r\\n\\t\\t\\te.stopPropagation();\\r\\n\\t\\t});\\r\\n\\t\\t$(\".window-video3\").on(\"click\", function () {\\r\\n\\t\\t\\t$(\".window-video3 video\")[0].pause();\\r\\n\\t\\t\\t$(\".window-video3\").removeClass(\"show-video\");\\r\\n\\t\\t});\\r\\n\\t</script>\\r\\n\\t<!-- ./banner -->\\r\\n\\t<div class=\"index-project pd50\">\\r\\n\\t\\t<div class=\"index-title\">\\r\\n\\t\\t\\t<h3 data-wow-delay=\".6s\" class=\" wow titleDown\">\\xe7\\xb2\\xbe\\xe9\\x80\\x89\\xe8\\xaf\\xbe\\xe7\\xa8\\x8b<span><strong>selected courses</strong></span></h3>\\r\\n\\t\\t</div>\\r\\n\\t\\t<div class=\"more more-default\">\\r\\n\\t\\t\\t<a href=\"project.html\" class=\"btn-more wow fadeIn\" data-wow-delay=\"1s\"\\r\\n\\t\\t\\t\\tonclick=\"Gsend(\\'\\',\\'\\xe6\\x9f\\xa5\\xe7\\x9c\\x8b\\xe6\\x9b\\xb4\\xe5\\xa4\\x9a\\xe8\\xaf\\xbe\\xe7\\xa8\\x8b\\',\\'\\',this)\">\\xe6\\x9f\\xa5\\xe7\\x9c\\x8b\\xe6\\x9b\\xb4\\xe5\\xa4\\x9a\\xe8\\xaf\\xbe\\xe7\\xa8\\x8b\\r\\n\\t\\t\\t\\t<b></b></a>\\r\\n\\t\\t</div>\\r\\n\\t\\t<!-- ./title -->\\r\\n\\t\\t<div class=\"container-width\">\\r\\n\\t\\t\\t<ul class=\"clearfix\">\\r\\n\\t\\t\\t\\t<li data-wow-delay=\".3s\" class=\"wow goUp\">\\r\\n\\t\\t\\t\\t\\t<a href=\"project-r1.html\" class=\"index-project-box\" onclick=\"Gsend(\\'\\xe9\\xa6\\x96\\xe9\\xa1\\xb5\\',\\'\\xe8\\xaf\\xbe\\xe7\\xa8\\x8b\\xe4\\xbd\\x8d1\\',\\'\\',this)\">\\r\\n\\t\\t\\t\\t\\t\\t<div class=\"index-project-pic\">\\r\\n\\t\\t\\t\\t\\t\\t\\t<img src=\"images/project-p1.jpg\">\\r\\n\\t\\t\\t\\t\\t\\t</div>\\r\\n\\t\\t\\t\\t\\t\\t<div class=\"index-project-content\">\\r\\n\\t\\t\\t\\t\\t\\t\\t<h1>\\xe5\\xb0\\x8f\\xe7\\x99\\xbd\\xe7\\x90\\x86\\xe8\\xb4\\xa2\\xe8\\xae\\xad\\xe7\\xbb\\x83\\xe8\\x90\\xa5</h1>\\r\\n\\t\\t\\t\\t\\t\\t\\t<!-- <p>\\xe6\\xaf\\x8f\\xe5\\xa4\\xa910\\xe5\\x88\\x86\\xe9\\x92\\x9f\\xef\\xbc\\x8c\\xe4\\xbb\\x8e\\xe5\\xb0\\x8f\\xe7\\x99\\xbd\\xe5\\x88\\xb0\\xe6\\x8b\\xa5\\xe6\\x9c\\x89\\xe7\\xac\\xac\\xe4\\xb8\\x80\\xe6\\xa1\\xb6\\xe9\\x87\\x91</p> -->\\r\\n\\t\\t\\t\\t\\t\\t\\t<div class=\"more\">\\r\\n\\t\\t\\t\\t\\t\\t\\t\\t<span class=\"btn-more\">\\xe4\\xba\\x86\\xe8\\xa7\\xa3\\xe8\\xaf\\xa6\\xe6\\x83\\x85 <b></b></span>\\r\\n\\t\\t\\t\\t\\t\\t\\t</div>\\r\\n\\t\\t\\t\\t\\t\\t</div>\\r\\n\\t\\t\\t\\t\\t</a>\\r\\n\\t\\t\\t\\t</li>\\r\\n\\t\\t\\t\\t<li data-wow-delay=\".6s\" class=\"wow goUp\">\\r\\n\\t\\t\\t\\t\\t<a href=\"project-j2.html\" class=\"index-project-box\" onclick=\"Gsend(\\'\\xe9\\xa6\\x96\\xe9\\xa1\\xb5\\',\\'\\xe8\\xaf\\xbe\\xe7\\xa8\\x8b\\xe4\\xbd\\x8d2\\',\\'\\',this)\">\\r\\n\\t\\t\\t\\t\\t\\t<div class=\"index-project-pic\">\\r\\n\\t\\t\\t\\t\\t\\t\\t<img src=\"images/project-p2.jpg\">\\r\\n\\t\\t\\t\\t\\t\\t</div>\\r\\n\\t\\t\\t\\t\\t\\t<div class=\"index-project-content\">\\r\\n\\t\\t\\t\\t\\t\\t\\t<h1>\\xe5\\x9f\\xba\\xe9\\x87\\x91\\xe6\\x8a\\x95\\xe8\\xb5\\x84\\xe8\\xae\\xad\\xe7\\xbb\\x83\\xe8\\x90\\xa5</h1>\\r\\n\\t\\t\\t\\t\\t\\t\\t<!-- <p>0\\xe5\\x9f\\xba\\xe7\\xa1\\x80\\xe4\\xb9\\x9f\\xe8\\x83\\xbd\\xe5\\xbc\\x80\\xe5\\x90\\xaf\\xe8\\xba\\xba\\xe8\\xb5\\x9a\\xe4\\xb9\\x8b\\xe8\\xb7\\xaf</p> -->\\r\\n\\t\\t\\t\\t\\t\\t\\t<div class=\"more\">\\r\\n\\t\\t\\t\\t\\t\\t\\t\\t<span class=\"btn-more\">\\xe4\\xba\\x86\\xe8\\xa7\\xa3\\xe8\\xaf\\xa6\\xe6\\x83\\x85 <b></b></span>\\r\\n\\t\\t\\t\\t\\t\\t\\t</div>\\r\\n\\t\\t\\t\\t\\t\\t</div>\\r\\n\\t\\t\\t\\t\\t</a>\\r\\n\\t\\t\\t\\t</li>\\r\\n\\t\\t\\t\\t<li data-wow-delay=\".9s\" class=\"wow goUp\">\\r\\n\\t\\t\\t\\t\\t<a href=\"project-j1.html\" class=\"index-project-box\" onclick=\"Gsend(\\'\\xe9\\xa6\\x96\\xe9\\xa1\\xb5 \\',\\'\\xe8\\xaf\\xbe\\xe7\\xa8\\x8b\\xe4\\xbd\\x8d3\\',\\'\\',this)\">\\r\\n\\t\\t\\t\\t\\t\\t<div class=\"index-project-pic\">\\r\\n\\t\\t\\t\\t\\t\\t\\t<img src=\"images/project-p3.jpg\">\\r\\n\\t\\t\\t\\t\\t\\t</div>\\r\\n\\t\\t\\t\\t\\t\\t<div class=\"index-project-content\">\\r\\n\\t\\t\\t\\t\\t\\t\\t<h1>\\xe8\\x82\\xa1\\xe7\\xa5\\xa8\\xe6\\x8a\\x95\\xe8\\xb5\\x84\\xe8\\xae\\xad\\xe7\\xbb\\x83\\xe8\\x90\\xa5</h1>\\r\\n\\t\\t\\t\\t\\t\\t\\t<!-- <p>\\xe6\\x95\\x99\\xe4\\xbd\\xa0\\xe6\\x88\\x90\\xe4\\xb8\\xba\\xe8\\x82\\xa1\\xe5\\xb8\\x82\\xe4\\xb8\\xad\\xe8\\xb5\\x9a\\xe9\\x92\\xb1\\xe7\\x9a\\x8410%</p> -->\\r\\n\\t\\t\\t\\t\\t\\t\\t<div class=\"more\">\\r\\n\\t\\t\\t\\t\\t\\t\\t\\t<span class=\"btn-more\">\\xe4\\xba\\x86\\xe8\\xa7\\xa3\\xe8\\xaf\\xa6\\xe6\\x83\\x85 <b></b></span>\\r\\n\\t\\t\\t\\t\\t\\t\\t</div>\\r\\n\\t\\t\\t\\t\\t\\t</div>\\r\\n\\t\\t\\t\\t\\t</a>\\r\\n\\t\\t\\t\\t</li>\\r\\n\\t\\t\\t</ul>\\r\\n\\t\\t</div>\\r\\n\\t</div>\\r\\n\\t<!-- ./\\xe8\\xaf\\xbe\\xe7\\xa8\\x8b -->\\r\\n\\t<div class=\"index-advantage pd50\">\\r\\n\\t\\t<div class=\"index-title\">\\r\\n\\t\\t\\t<h3 data-wow-delay=\".6s\" class=\" wow titleDown\">\\xe6\\x88\\x91\\xe4\\xbb\\xac\\xe7\\x9a\\x84\\xe4\\xbc\\x98\\xe5\\x8a\\xbf<span><strong>advantages</strong></span></h3>\\r\\n\\t\\t</div>\\r\\n\\t\\t<!-- ./title -->\\r\\n\\t\\t<div class=\"container-width\">\\r\\n\\t\\t\\t<ul class=\"clearfix\">\\r\\n\\t\\t\\t\\t<li data-wow-delay=\".6s\" class=\"wow goUp\">\\r\\n\\t\\t\\t\\t\\t<div class=\"index-advantage-left\">\\r\\n\\t\\t\\t\\t\\t\\t<img src=\"./images/adv/1.png\" alt=\"\">\\r\\n\\t\\t\\t\\t\\t</div>\\r\\n\\t\\t\\t\\t\\t<div class=\"index-advantage-right\">\\r\\n\\t\\t\\t\\t\\t\\t<h3>\\xe7\\xb3\\xbb\\xe7\\xbb\\x9f\\xe5\\x85\\xa8\\xe9\\x9d\\xa2\\xe7\\x9a\\x84\\xe8\\xaf\\xbe\\xe7\\xa8\\x8b\\xe4\\xbd\\x93\\xe7\\xb3\\xbb</h3>\\r\\n\\t\\t\\t\\t\\t\\t<p>\\xe5\\x85\\xa8\\xe9\\x9d\\xa2\\xe6\\xb6\\xb5\\xe7\\x9b\\x96\\xe5\\x9f\\xba\\xe9\\x87\\x91\\xe3\\x80\\x81\\xe8\\x82\\xa1\\xe7\\xa5\\xa8\\xe3\\x80\\x81\\xe4\\xbf\\x9d\\xe9\\x99\\xa9\\xe3\\x80\\x81\\xe5\\x8f\\xaf\\xe8\\xbd\\xac\\xe5\\x80\\xba\\xe7\\xad\\x89\\xef\\xbc\\x8c\\xe5\\xb8\\xae\\xe5\\x8a\\xa9\\xe5\\xad\\xa6\\xe5\\x91\\x98\\xe4\\xb8\\x80\\xe7\\xab\\x99\\xe5\\xbc\\x8f\\xe6\\x99\\x8b\\xe5\\x8d\\x87\\xe7\\x90\\x86\\xe8\\xb4\\xa2\\xe8\\xbe\\xbe\\xe4\\xba\\xba</p>\\r\\n\\t\\t\\t\\t\\t</div>\\r\\n\\t\\t\\t\\t</li>\\r\\n\\t\\t\\t\\t<li data-wow-delay=\".7s\" class=\"wow goUp\">\\r\\n\\t\\t\\t\\t\\t<div class=\"index-advantage-left\">\\r\\n\\t\\t\\t\\t\\t\\t<img src=\"./images/adv/2.png\" alt=\"\">\\r\\n\\t\\t\\t\\t\\t</div>\\r\\n\\t\\t\\t\\t\\t<div class=\"index-advantage-right\">\\r\\n\\t\\t\\t\\t\\t\\t<h3>\\xe4\\xb8\\x93\\xe4\\xb8\\x9a\\xe5\\xae\\x9e\\xe7\\x94\\xa8\\xe7\\x9a\\x84\\xe8\\xaf\\xbe\\xe7\\xa8\\x8b\\xe5\\x86\\x85\\xe5\\xae\\xb9</h3>\\r\\n\\t\\t\\t\\t\\t\\t<p>\\xe4\\xb8\\x93\\xe4\\xb8\\x9a\\xe7\\x90\\x86\\xe8\\xb4\\xa2\\xe5\\x88\\x86\\xe6\\x9e\\x90\\xe5\\xb8\\x88\\xe5\\x8f\\x8a\\xe7\\xa0\\x94\\xe5\\x8f\\x91\\xe5\\x9b\\xa2\\xe9\\x98\\x9f\\xef\\xbc\\x8c\\xe4\\xbb\\xa510\\xe4\\xbd\\x99\\xe5\\xb9\\xb4\\xe7\\xbb\\x8f\\xe9\\xaa\\x8c\\xe6\\x89\\x93\\xe9\\x80\\xa0\\xe9\\xab\\x98\\xe8\\xb4\\xa8\\xe9\\x87\\x8f\\xe7\\x90\\x86\\xe8\\xb4\\xa2\\xe8\\xaf\\xbe\\xe7\\xa8\\x8b</p>\\r\\n\\t\\t\\t\\t\\t</div>\\r\\n\\t\\t\\t\\t</li>\\r\\n\\t\\t\\t\\t<li data-wow-delay=\"0.6s\" class=\"wow goUp\">\\r\\n\\t\\t\\t\\t\\t<div class=\"index-advantage-left\">\\r\\n\\t\\t\\t\\t\\t\\t<img src=\"./images/adv/3.png\" alt=\"\">\\r\\n\\t\\t\\t\\t\\t</div>\\r\\n\\t\\t\\t\\t\\t<div class=\"index-advantage-right\">\\r\\n\\t\\t\\t\\t\\t\\t<h3>\\xe6\\x98\\x93\\xe5\\xad\\xa6\\xe5\\xae\\x9e\\xe6\\x95\\x88\\xe7\\x9a\\x84\\xe6\\x95\\x99\\xe5\\xad\\xa6\\xe6\\x96\\xb9\\xe6\\xb3\\x95</h3>\\r\\n\\t\\t\\t\\t\\t\\t<p>\\xe5\\xb0\\x86\\xe4\\xb8\\x93\\xe4\\xb8\\x9a\\xe7\\x90\\x86\\xe8\\xb4\\xa2\\xe7\\x9f\\xa5\\xe8\\xaf\\x86\\xe6\\x8b\\x86\\xe8\\xa7\\xa3\\xe4\\xb8\\xba\\xe6\\x9c\\x89\\xe8\\xb6\\xa3\\xe6\\x98\\x93\\xe6\\x87\\x82\\xe7\\x9a\\x84\\xe5\\x86\\x85\\xe5\\xae\\xb9\\xef\\xbc\\x8c\\xe4\\xbe\\xbf\\xe4\\xba\\x8e\\xe5\\xbf\\xab\\xe9\\x80\\x9f\\xe5\\x90\\xb8\\xe6\\x94\\xb6\\xe5\\x92\\x8c\\xe4\\xb8\\x8a\\xe6\\x89\\x8b\\xe5\\xae\\x9e\\xe6\\x93\\x8d</p>\\r\\n\\t\\t\\t\\t\\t</div>\\r\\n\\t\\t\\t\\t</li>\\r\\n\\t\\t\\t\\t<li data-wow-delay=\"0.7s\" class=\"wow goUp\">\\r\\n\\t\\t\\t\\t\\t<div class=\"index-advantage-left\">\\r\\n\\t\\t\\t\\t\\t\\t<img src=\"./images/adv/4.png\" alt=\"\">\\r\\n\\t\\t\\t\\t\\t</div>\\r\\n\\t\\t\\t\\t\\t<div class=\"index-advantage-right\">\\r\\n\\t\\t\\t\\t\\t\\t<h3>\\xe6\\xb8\\xa9\\xe6\\x9a\\x96\\xe4\\xba\\xb2\\xe5\\x88\\x87\\xe7\\x9a\\x84\\xe7\\xa4\\xbe\\xe7\\xbe\\xa4\\xe6\\xa8\\xa1\\xe5\\xbc\\x8f</h3>\\r\\n\\t\\t\\t\\t\\t\\t<p>\\xe6\\x8f\\x90\\xe4\\xbe\\x9b\\xe9\\x99\\xaa\\xe4\\xbc\\xb4\\xe5\\xbc\\x8f\\xe7\\xa4\\xbe\\xe7\\xbe\\xa4\\xe6\\x95\\x99\\xe5\\xad\\xa6\\xe6\\x9c\\x8d\\xe5\\x8a\\xa1\\xef\\xbc\\x8c\\xe7\\x94\\xb1\\xe7\\x8f\\xad\\xe4\\xb8\\xbb\\xe4\\xbb\\xbb\\xe5\\x85\\xa8\\xe7\\xa8\\x8b\\xe6\\x89\\x8b\\xe6\\x8a\\x8a\\xe6\\x89\\x8b\\xe6\\x8c\\x87\\xe5\\xaf\\xbc\\xef\\xbc\\x8c\\xe9\\x9b\\xb6\\xe5\\x9f\\xba\\xe7\\xa1\\x80\\xe4\\xb9\\x9f\\xe8\\x83\\xbd\\xe8\\xbd\\xbb\\xe6\\x9d\\xbe\\xe5\\xad\\xa6\\xe4\\xbc\\x9a</p>\\r\\n\\t\\t\\t\\t\\t</div>\\r\\n\\t\\t\\t\\t</li>\\r\\n\\t\\t\\t</ul>\\r\\n\\t\\t</div>\\r\\n\\t</div>\\r\\n\\t<!-- ./\\xe4\\xbc\\x98\\xe5\\x8a\\xbf -->\\r\\n\\t<div class=\"about-honor\">\\r\\n\\t\\t<div class=\"index-title\">\\r\\n\\t\\t\\t<h3 data-wow-delay=\".6s\" class=\" wow titleDown\">\\xe8\\x8d\\xa3\\xe8\\xaa\\x89\\xe8\\xb5\\x84\\xe8\\xb4\\xa8<span><strong>HONORS AND QUALIFICATIONS</strong></span>\\r\\n\\t\\t\\t</h3>\\r\\n\\t\\t</div>\\r\\n\\t\\t<div class=\"swiper-container wow goLeft\" data-wow-delay=\"1s\">\\r\\n\\t\\t\\t<div class=\"swiper-wrapper\">\\r\\n\\t\\t\\t\\t<div class=\"swiper-slide\">\\r\\n\\t\\t\\t\\t\\t<div>\\r\\n\\t\\t\\t\\t\\t\\t<h3>\\xe8\\x85\\xbe\\xe8\\xae\\xaf\\xe2\\x80\\x9c2020\\xe5\\xb9\\xb4\\xe5\\xba\\xa6\\xe8\\xa1\\x8c\\xe4\\xb8\\x9a\\xe6\\xa0\\x87\\xe6\\x9d\\x86\\xe6\\x95\\x99\\xe8\\x82\\xb2\\xe9\\x9b\\x86\\xe5\\x9b\\xa2\\xe2\\x80\\x9d</h3>\\r\\n\\t\\t\\t\\t\\t\\t<img src=\"images/about/honor-p1.jpg\" width=\"344\" height=\"280px\">\\r\\n\\t\\t\\t\\t\\t</div>\\r\\n\\t\\t\\t\\t</div>\\r\\n\\t\\t\\t\\t<div class=\"swiper-slide\">\\r\\n\\t\\t\\t\\t\\t<div>\\r\\n\\t\\t\\t\\t\\t\\t<h3>\\xe6\\x96\\xb0\\xe5\\x8d\\x8e\\xe7\\xbd\\x91\\xe2\\x80\\x9c2020\\xe5\\xb9\\xb4\\xe5\\xba\\xa6\\xe5\\xbd\\xb1\\xe5\\x93\\x8d\\xe5\\x8a\\x9b\\xe5\\x9c\\xa8\\xe7\\xba\\xbf\\xe6\\x95\\x99\\xe8\\x82\\xb2\\xe5\\x93\\x81\\xe7\\x89\\x8c\\xe2\\x80\\x9d</h3>\\r\\n\\t\\t\\t\\t\\t\\t<img src=\"images/about/honor-p2.jpg\" width=\"344\" height=\"280px\">\\r\\n\\t\\t\\t\\t\\t</div>\\r\\n\\t\\t\\t\\t</div>\\r\\n\\t\\t\\t\\t<div class=\"swiper-slide\">\\r\\n\\t\\t\\t\\t\\t<div>\\r\\n\\t\\t\\t\\t\\t\\t<h3>36\\xe6\\xb0\\xaa\\xe2\\x80\\x9c2020\\xe6\\x96\\xb0\\xe7\\xbb\\x8f\\xe6\\xb5\\x8e\\xe4\\xb9\\x8b\\xe7\\x8e\\x8b\\xe6\\x9c\\x80\\xe5\\x85\\xb7\\xe5\\xbd\\xb1\\xe5\\x93\\x8d\\xe5\\x8a\\x9b\\xe4\\xbc\\x81\\xe4\\xb8\\x9a\\xe5\\xa5\\x96\\xe2\\x80\\x9d</h3>\\r\\n\\t\\t\\t\\t\\t\\t<img src=\"images/about/honor-p3.jpg\" width=\"344\" height=\"280px\">\\r\\n\\t\\t\\t\\t\\t</div>\\r\\n\\t\\t\\t\\t</div>\\r\\n\\t\\t\\t\\t<div class=\"swiper-slide\">\\r\\n\\t\\t\\t\\t\\t<div>\\r\\n\\t\\t\\t\\t\\t\\t<h3>\\xe9\\x95\\xbf\\xe6\\x8a\\x95\\xe5\\xad\\xa6\\xe5\\xa0\\x82\\xe5\\x88\\x9b\\xe5\\xa7\\x8b\\xe4\\xba\\xba\\xe5\\x85\\xbcCEO\\xe6\\x9d\\xa8\\xe4\\xb9\\x90\\xe8\\x8d\\xa3\\xe8\\x8e\\xb7\\xe6\\x96\\xb0\\xe5\\x8d\\x8e\\xe7\\xbd\\x91\\xe2\\x80\\x9c2020\\xe5\\xb9\\xb4\\xe5\\xba\\xa6\\xe6\\x95\\x99\\xe8\\x82\\xb2\\xe8\\xa1\\x8c\\xe4\\xb8\\x9a\\xe6\\x9d\\xb0\\xe5\\x87\\xba\\xe4\\xba\\xba\\xe7\\x89\\xa9\\xe2\\x80\\x9d</h3>\\r\\n\\t\\t\\t\\t\\t\\t<img src=\"images/about/honor-p4.jpg\" width=\"344\" height=\"280px\">\\r\\n\\t\\t\\t\\t\\t</div>\\r\\n\\t\\t\\t\\t</div>\\r\\n\\t\\t\\t\\t<div class=\"swiper-slide\">\\r\\n\\t\\t\\t\\t\\t<div>\\r\\n\\t\\t\\t\\t\\t\\t<h3>\\xe6\\x96\\xb0\\xe5\\x8d\\x8e\\xe7\\xbd\\x91\\xe2\\x80\\x9c2019\\xe5\\xb9\\xb4\\xe5\\xba\\xa6\\xe5\\x93\\x81\\xe7\\x89\\x8c\\xe5\\xbd\\xb1\\xe5\\x93\\x8d\\xe5\\x8a\\x9b\\xe5\\x9c\\xa8\\xe7\\xba\\xbf\\xe6\\x95\\x99\\xe8\\x82\\xb2\\xe6\\x9c\\xba\\xe6\\x9e\\x84\\xe2\\x80\\x9d</h3>\\r\\n\\t\\t\\t\\t\\t\\t<img src=\"images/about/honor-p5.jpg\" width=\"344\" height=\"280px\">\\r\\n\\t\\t\\t\\t\\t</div>\\r\\n\\t\\t\\t\\t</div>\\r\\n\\t\\t\\t\\t<div class=\"swiper-slide\">\\r\\n\\t\\t\\t\\t\\t<div>\\r\\n\\t\\t\\t\\t\\t\\t<h3>21\\xe4\\xb8\\x96\\xe7\\xba\\xaa\\xe4\\xba\\x9a\\xe6\\xb4\\xb2\\xe9\\x87\\x91\\xe8\\x9e\\x8d\\xe7\\xab\\x9e\\xe4\\xba\\x89\\xe5\\x8a\\x9b\\xe2\\x80\\x9c2019\\xe5\\xb9\\xb4\\xe5\\xba\\xa6\\xe7\\x90\\x86\\xe8\\xb4\\xa2\\xe6\\x95\\x99\\xe8\\x82\\xb2\\xe6\\x9c\\x8d\\xe5\\x8a\\xa1\\xe5\\x88\\x9b\\xe6\\x96\\xb0\\xe6\\x88\\x90\\xe5\\xb0\\xb1\\xe5\\xa5\\x96\\xe2\\x80\\x9d</h3>\\r\\n\\t\\t\\t\\t\\t\\t<img src=\"images/about/honor-p6.jpg\" width=\"344\" height=\"280px\">\\r\\n\\t\\t\\t\\t\\t</div>\\r\\n\\t\\t\\t\\t</div>\\r\\n\\t\\t\\t\\t<div class=\"swiper-slide\">\\r\\n\\t\\t\\t\\t\\t<div>\\r\\n\\t\\t\\t\\t\\t\\t<h3>\\xe7\\xbd\\x91\\xe6\\x98\\x93\\xe6\\x96\\xb0\\xe9\\x97\\xbb\\xe2\\x80\\x9c2019\\xe5\\xb9\\xb4\\xe5\\xba\\xa6\\xe6\\x9c\\x80\\xe5\\x85\\xb7\\xe6\\xbd\\x9c\\xe5\\x8a\\x9bMCN\\xe6\\x9c\\xba\\xe6\\x9e\\x84\\xe2\\x80\\x9d</h3>\\r\\n\\t\\t\\t\\t\\t\\t<img src=\"images/about/honor-p7.jpg\" width=\"344\" height=\"280px\">\\r\\n\\t\\t\\t\\t\\t</div>\\r\\n\\t\\t\\t\\t</div>\\r\\n\\t\\t\\t\\t<div class=\"swiper-slide\">\\r\\n\\t\\t\\t\\t\\t<div>\\r\\n\\t\\t\\t\\t\\t\\t<h3>2019\\xe8\\xbd\\xaf\\xe4\\xbb\\xb6\\xe5\\xbc\\x80\\xe5\\x8f\\x91\\xe4\\xb8\\x8e\\xe6\\xb5\\x8b\\xe8\\xaf\\x95\\xef\\xbc\\x88\\xe4\\xba\\xba\\xe5\\xb7\\xa5\\xe6\\x99\\xba\\xe8\\x83\\xbd\\xe7\\xbc\\x96\\xe7\\xa8\\x8b\\xef\\xbc\\x89\\xe7\\xab\\x9e\\xe8\\xb5\\x9b\\xe4\\xbc\\x98\\xe8\\x83\\x9c\\xe5\\xa5\\x96</h3>\\r\\n\\t\\t\\t\\t\\t\\t<img src=\"images/about/honor-p8.jpg\" width=\"344\" height=\"280px\">\\r\\n\\t\\t\\t\\t\\t</div>\\r\\n\\t\\t\\t\\t</div>\\r\\n\\t\\t\\t\\t<div class=\"swiper-slide\">\\r\\n\\t\\t\\t\\t\\t<div>\\r\\n\\t\\t\\t\\t\\t\\t<h3>\\xe8\\x85\\xbe\\xe8\\xae\\xaf\\xe6\\x95\\x99\\xe8\\x82\\xb2\\xe2\\x80\\x9c2018\\xe5\\xb9\\xb4\\xe7\\x9f\\xa5\\xe5\\x90\\x8d\\xe5\\x9c\\xa8\\xe7\\xba\\xbf\\xe6\\x95\\x99\\xe8\\x82\\xb2\\xe5\\x93\\x81\\xe7\\x89\\x8c\\xe2\\x80\\x9d</h3>\\r\\n\\t\\t\\t\\t\\t\\t<img src=\"images/about/honor-p9.jpg\" width=\"344\" height=\"280px\">\\r\\n\\t\\t\\t\\t\\t</div>\\r\\n\\t\\t\\t\\t</div>\\r\\n\\t\\t\\t\\t<div class=\"swiper-slide\">\\r\\n\\t\\t\\t\\t\\t<div>\\r\\n\\t\\t\\t\\t\\t\\t<h3>\\xe9\\x95\\xbf\\xe6\\x8a\\x95\\xe5\\xad\\xa6\\xe5\\xa0\\x82\\xe8\\x8d\\xa3\\xe8\\x8e\\xb7\\xe2\\x80\\x9c\\xe9\\xab\\x98\\xe6\\x96\\xb0\\xe6\\x8a\\x80\\xe6\\x9c\\xaf\\xe4\\xbc\\x81\\xe4\\xb8\\x9a\\xe8\\xaf\\x81\\xe4\\xb9\\xa6\\xe2\\x80\\x9d</h3>\\r\\n\\t\\t\\t\\t\\t\\t<img src=\"images/about/honor-p10.jpg\" width=\"344\" height=\"280px\">\\r\\n\\t\\t\\t\\t\\t</div>\\r\\n\\t\\t\\t\\t</div>\\r\\n\\t\\t\\t</div>\\r\\n\\t\\t\\t<!-- Add Pagination -->\\r\\n\\t\\t\\t<div class=\"swiper-pagination\"></div>\\r\\n\\t\\t\\t<div class=\"swiper-button-prev\"></div>\\r\\n\\t\\t\\t<div class=\"swiper-button-next\"></div>\\r\\n\\t\\t</div>\\r\\n\\t</div>\\r\\n\\t<div class=\"about-honor-scale\">\\r\\n\\t\\t<div>\\r\\n\\t\\t\\t<img src=\"images/about/arr-left.png\" id=\"about-honor-arrleft\">\\r\\n\\t\\t\\t<div id=\"about-honor-img\">\\r\\n\\t\\t\\t\\t<img src=\"\" width=\"600\" height=\"488\">\\r\\n\\t\\t\\t\\t<h3>ISO20000\\xe4\\xbf\\xa1\\xe6\\x81\\xaf\\xe6\\x8a\\x80\\xe6\\x9c\\xaf\\xe6\\x9c\\x8d\\xe5\\x8a\\xa1\\xe7\\xae\\xa1\\xe7\\x90\\x86\\xe4\\xbd\\x93\\xe7\\xb3\\xbb\\xe8\\xae\\xa4\\xe8\\xaf\\x81\\xe8\\xaf\\x81\\xe4\\xb9\\xa6</h3>\\r\\n\\t\\t\\t</div>\\r\\n\\t\\t\\t<img src=\"images/about/arr-right.png\" id=\"about-honor-arrright\">\\r\\n\\t\\t</div>\\r\\n\\t</div>\\r\\n\\t<!-- ./\\xe8\\x8d\\xa3\\xe8\\xaa\\x89\\xe8\\xb5\\x84\\xe8\\xb4\\xa8 -->\\r\\n\\t<div class=\"index-auth\">\\r\\n\\t\\t<div class=\"index-title\">\\r\\n\\t\\t\\t<h3 data-wow-delay=\".8s\" class=\" wow titleDown\">\\xe8\\xaf\\xbe\\xe7\\xa8\\x8b\\xe8\\xae\\xa4\\xe8\\xaf\\x81<span><strong>COURSE CERTIFICATIONS</strong></span></h3>\\r\\n\\t\\t</div>\\r\\n\\t\\t<div class=\"swiper-container wow goLeft\" data-wow-delay=\"1.1s\">\\r\\n\\t\\t\\t<div class=\"swiper-wrapper\">\\r\\n\\t\\t\\t\\t<div class=\"swiper-slide\">\\r\\n\\t\\t\\t\\t\\t<div>\\r\\n\\t\\t\\t\\t\\t\\t<h3>\\xe9\\x95\\xbf\\xe6\\x8a\\x95\\xe5\\xad\\xa6\\xe5\\xa0\\x82-\\xe8\\xb4\\xa2\\xe6\\x8a\\xa5\\xe5\\x88\\x86\\xe6\\x9e\\x90\\xe8\\xae\\xad\\xe7\\xbb\\x83\\xe8\\x90\\xa5</h3><img src=\"images/auth/1.png\" width=\"344\" height=\"280px\">\\r\\n\\t\\t\\t\\t\\t</div>\\r\\n\\t\\t\\t\\t</div>\\r\\n\\t\\t\\t\\t<div class=\"swiper-slide\">\\r\\n\\t\\t\\t\\t\\t<div>\\r\\n\\t\\t\\t\\t\\t\\t<h3>\\xe9\\x95\\xbf\\xe6\\x8a\\x95\\xe5\\xad\\xa6\\xe5\\xa0\\x82\\xe8\\x82\\xa1\\xe7\\xa5\\xa8\\xe5\\x88\\x9d\\xe5\\xa7\\x8b\\xe7\\xba\\xa7\\xe8\\xaf\\xbe</h3><img src=\"images/auth/2.png\" width=\"344\" height=\"280px\">\\r\\n\\t\\t\\t\\t\\t</div>\\r\\n\\t\\t\\t\\t</div>\\r\\n\\t\\t\\t\\t<div class=\"swiper-slide\">\\r\\n\\t\\t\\t\\t\\t<div>\\r\\n\\t\\t\\t\\t\\t\\t<h3>\\xe9\\x95\\xbf\\xe6\\x8a\\x95\\xe5\\xad\\xa6\\xe5\\xa0\\x82\\xe8\\x82\\xa1\\xe7\\xa5\\xa8\\xe8\\xbf\\x9b\\xe9\\x98\\xb6\\xe8\\xaf\\xbe</h3><img src=\"images/auth/3.png\" width=\"344\" height=\"280px\">\\r\\n\\t\\t\\t\\t\\t</div>\\r\\n\\t\\t\\t\\t</div>\\r\\n\\t\\t\\t\\t<div class=\"swiper-slide\">\\r\\n\\t\\t\\t\\t\\t<div>\\r\\n\\t\\t\\t\\t\\t\\t<h3>\\xe9\\x95\\xbf\\xe6\\x8a\\x95\\xe5\\xad\\xa6\\xe5\\xa0\\x82\\xe5\\x9f\\xba\\xe9\\x87\\x91\\xe8\\xaf\\xbe</h3><img src=\"images/auth/4.png\" width=\"344\" height=\"280px\">\\r\\n\\t\\t\\t\\t\\t</div>\\r\\n\\t\\t\\t\\t</div>\\r\\n\\t\\t\\t\\t<div class=\"swiper-slide\">\\r\\n\\t\\t\\t\\t\\t<div>\\r\\n\\t\\t\\t\\t\\t\\t<h3>\\xe5\\x9f\\xba\\xe9\\x87\\x91\\xe8\\xbf\\x9b\\xe9\\x98\\xb6\\xe8\\xae\\xad\\xe7\\xbb\\x83\\xe8\\x90\\xa5</h3><img src=\"images/auth/5.png\" width=\"344\" height=\"280px\">\\r\\n\\t\\t\\t\\t\\t</div>\\r\\n\\t\\t\\t\\t</div>\\r\\n\\t\\t\\t\\t<div class=\"swiper-slide\">\\r\\n\\t\\t\\t\\t\\t<div>\\r\\n\\t\\t\\t\\t\\t\\t<h3>\\xe9\\x95\\xbf\\xe6\\x8a\\x95\\xe5\\xad\\xa6\\xe5\\xa0\\x82\\xe4\\xbf\\x9d\\xe9\\x99\\xa9\\xe5\\xae\\x9e\\xe6\\x88\\x98\\xe8\\xaf\\xbe</h3><img src=\"images/auth/6.png\" width=\"344\" height=\"280px\">\\r\\n\\t\\t\\t\\t\\t</div>\\r\\n\\t\\t\\t\\t</div>\\r\\n\\t\\t\\t\\t<div class=\"swiper-slide\">\\r\\n\\t\\t\\t\\t\\t<div>\\r\\n\\t\\t\\t\\t\\t\\t<h3>\\xe5\\x8f\\xaf\\xe8\\xbd\\xac\\xe5\\x80\\xba\\xe6\\x8a\\x95\\xe8\\xb5\\x84\\xe8\\xaf\\xbe</h3><img src=\"images/auth/7.png\" width=\"344\" height=\"280px\">\\r\\n\\t\\t\\t\\t\\t</div>\\r\\n\\t\\t\\t\\t</div>\\r\\n\\t\\t\\t\\t<div class=\"swiper-slide\">\\r\\n\\t\\t\\t\\t\\t<div>\\r\\n\\t\\t\\t\\t\\t\\t<h3>\\xe9\\x95\\xbf\\xe6\\x8a\\x95\\xe5\\xad\\xa6\\xe5\\xa0\\x82\\xe5\\xb0\\x8f\\xe7\\x99\\xbd\\xe8\\x90\\xa58\\xe8\\xaf\\xbe\\xe9\\x9f\\xb3\\xe9\\xa2\\x91\\xe7\\xa8\\xbf</h3><img src=\"images/auth/8.png\" width=\"344\" height=\"280px\">\\r\\n\\t\\t\\t\\t\\t</div>\\r\\n\\t\\t\\t\\t</div>\\r\\n\\t\\t\\t\\t<div class=\"swiper-slide\">\\r\\n\\t\\t\\t\\t\\t<div>\\r\\n\\t\\t\\t\\t\\t\\t<h3>\\xe6\\xb8\\xaf\\xe8\\x82\\xa1\\xe6\\x89\\x93\\xe6\\x96\\xb0\\xe8\\xaf\\xbe</h3><img src=\"images/auth/9.png\" width=\"344\" height=\"280px\">\\r\\n\\t\\t\\t\\t\\t</div>\\r\\n\\t\\t\\t\\t</div>\\r\\n\\t\\t\\t\\t<div class=\"swiper-slide\">\\r\\n\\t\\t\\t\\t\\t<div>\\r\\n\\t\\t\\t\\t\\t\\t<h3>\\xe5\\xbc\\x80\\xe6\\xba\\x90\\xe8\\xb5\\x9a\\xe9\\x92\\xb1\\xe8\\xaf\\xbe</h3><img src=\"images/auth/10.png\" width=\"344\" height=\"280px\">\\r\\n\\t\\t\\t\\t\\t</div>\\r\\n\\t\\t\\t\\t</div>\\r\\n\\t\\t\\t\\t<div class=\"swiper-slide\">\\r\\n\\t\\t\\t\\t\\t<div>\\r\\n\\t\\t\\t\\t\\t\\t<h3>\\xe9\\x95\\xbf\\xe6\\x8a\\x95\\xe5\\xad\\xa6\\xe5\\xa0\\x82\\xe5\\xae\\xb6\\xe5\\xba\\xad\\xe7\\x90\\x86\\xe8\\xb4\\xa2\\xe8\\xa7\\x84\\xe5\\x88\\x92\\xe8\\xaf\\xbe</h3><img src=\"images/auth/11.png\" width=\"344\" height=\"280px\">\\r\\n\\t\\t\\t\\t\\t</div>\\r\\n\\t\\t\\t\\t</div>\\r\\n\\t\\t\\t\\t<div class=\"swiper-slide\">\\r\\n\\t\\t\\t\\t\\t<div>\\r\\n\\t\\t\\t\\t\\t\\t<h3>\\xe9\\x95\\xbf\\xe6\\x8a\\x95\\xe5\\xad\\xa6\\xe5\\xa0\\x82\\xe8\\xb5\\x84\\xe4\\xba\\xa7\\xe9\\x85\\x8d\\xe7\\xbd\\xae\\xe8\\xaf\\xbe</h3><img src=\"images/auth/12.png\" width=\"344\" height=\"280px\">\\r\\n\\t\\t\\t\\t\\t</div>\\r\\n\\t\\t\\t\\t</div>\\r\\n\\t\\t\\t\\t<div class=\"swiper-slide\">\\r\\n\\t\\t\\t\\t\\t<div>\\r\\n\\t\\t\\t\\t\\t\\t<h3>\\xe9\\x95\\xbf\\xe6\\x8a\\x95\\xe5\\xad\\xa6\\xe5\\xa0\\x82\\xe4\\xbd\\x8e\\xe9\\xa3\\x8e\\xe9\\x99\\xa9\\xe7\\x90\\x86\\xe8\\xb4\\xa2\\xe8\\xaf\\xbe</h3><img src=\"images/auth/13.png\" width=\"344\" height=\"280px\">\\r\\n\\t\\t\\t\\t\\t</div>\\r\\n\\t\\t\\t\\t</div>\\r\\n\\t\\t\\t\\t<div class=\"swiper-slide\">\\r\\n\\t\\t\\t\\t\\t<div>\\r\\n\\t\\t\\t\\t\\t\\t<h3>\\xe9\\x93\\xb6\\xe8\\xa1\\x8c\\xe7\\x90\\x86\\xe8\\xb4\\xa2\\xe8\\xaf\\xbe</h3><img src=\"images/auth/14.png\" width=\"344\" height=\"280px\">\\r\\n\\t\\t\\t\\t\\t</div>\\r\\n\\t\\t\\t\\t</div>\\r\\n\\t\\t\\t\\t<div class=\"swiper-slide\">\\r\\n\\t\\t\\t\\t\\t<div>\\r\\n\\t\\t\\t\\t\\t\\t<h3>\\xe9\\x95\\xbf\\xe6\\x8a\\x95\\xe5\\xad\\xa6\\xe5\\xa0\\x82\\xe6\\x9c\\x9f\\xe8\\xb4\\xa7\\xe6\\x9c\\x9f\\xe6\\x9d\\x83\\xe5\\x85\\xa5\\xe9\\x97\\xa8</h3><img src=\"images/auth/15.png\" width=\"344\" height=\"280px\">\\r\\n\\t\\t\\t\\t\\t</div>\\r\\n\\t\\t\\t\\t</div>\\r\\n\\t\\t\\t</div>\\r\\n\\t\\t\\t<!-- Add Pagination -->\\r\\n\\t\\t\\t<div class=\"swiper-pagination\"></div>\\r\\n\\t\\t\\t<div class=\"swiper-button-prev\"></div>\\r\\n\\t\\t\\t<div class=\"swiper-button-next\"></div>\\r\\n\\t\\t</div>\\r\\n\\t</div>\\r\\n\\t<div class=\"index-auth-scale\">\\r\\n\\t\\t<div>\\r\\n\\t\\t\\t<img src=\"images/about/arr-left.png\" id=\"index-auth-arrleft\">\\r\\n\\t\\t\\t<div id=\"index-auth-img\">\\r\\n\\t\\t\\t\\t<img src=\"\" width=\"600\" height=\"488\">\\r\\n\\t\\t\\t\\t<h3>\\xe9\\x95\\xbf\\xe6\\x8a\\x95\\xe5\\xad\\xa6\\xe5\\xa0\\x82-\\xe8\\xb4\\xa2\\xe6\\x8a\\xa5\\xe5\\x88\\x86\\xe6\\x9e\\x90\\xe8\\xae\\xad\\xe7\\xbb\\x83\\xe8\\x90\\xa5</h3>\\r\\n\\t\\t\\t</div>\\r\\n\\t\\t\\t<img src=\"images/about/arr-right.png\" id=\"index-auth-arrright\">\\r\\n\\t\\t</div>\\r\\n\\t</div>\\r\\n\\r\\n\\t<!-- ./ -->\\r\\n\\t<div class=\"index-news pd50\">\\r\\n\\t\\t<div class=\"index-title\">\\r\\n\\t\\t\\t<h3 data-wow-delay=\".6s\" class=\" wow titleDown\">\\xe5\\x85\\xac\\xe5\\x8f\\xb8\\xe5\\x8a\\xa8\\xe6\\x80\\x81<span><strong>company news</strong></span></h3>\\r\\n\\t\\t</div>\\r\\n\\t\\t<div class=\"more more-default\">\\r\\n\\t\\t\\t<a href=\"news.html\" class=\"btn-more wow fadeIn\" data-wow-delay=\"1s\"\\r\\n\\t\\t\\t\\tonclick=\"Gsend(\\'\\',\\'\\xe6\\x9f\\xa5\\xe7\\x9c\\x8b\\xe6\\x9b\\xb4\\xe5\\xa4\\x9a\\xe5\\x8a\\xa8\\xe6\\x80\\x81\\',\\'\\',this)\">\\xe6\\x9f\\xa5\\xe7\\x9c\\x8b\\xe6\\x9b\\xb4\\xe5\\xa4\\x9a\\xe5\\x8a\\xa8\\xe6\\x80\\x81 <b></b></a>\\r\\n\\t\\t</div>\\r\\n\\t\\t<!-- ./title -->\\r\\n\\t\\t<div class=\"container-width\">\\r\\n\\t\\t\\t<ul class=\"clearfix\">\\r\\n\\t\\t\\t</ul>\\r\\n\\t\\t</div>\\r\\n\\t</div>\\r\\n\\t<!-- ./\\xe6\\x96\\xb0\\xe9\\x97\\xbb -->\\r\\n\\t<div class=\"index-fdlink\">\\r\\n\\t\\t<div class=\"index-title\">\\r\\n\\t\\t\\t<h3 data-wow-delay=\".8s\" class=\" wow titleDown\">\\xe9\\xab\\x98\\xe6\\xa0\\xa1\\xe8\\x81\\x94\\xe5\\x8a\\xa8<span><strong>Cooperative Universities</strong></span>\\r\\n\\t\\t\\t</h3>\\r\\n\\t\\t</div>\\r\\n\\t\\t<!-- ./title -->\\r\\n\\t\\t<div class=\"container-width o-hidden\">\\r\\n\\t\\t\\t<ul class=\"university-list\">\\r\\n\\t\\t\\t</ul>\\r\\n\\t\\t</div>\\r\\n\\t</div>\\r\\n\\t<!-- ./\\xe9\\xab\\x98\\xe6\\xa0\\xa1\\xe8\\x81\\x94\\xe5\\x8a\\xa8 -->\\r\\n\\t<div class=\"index-fdlink\">\\r\\n\\t\\t<div class=\"index-title\">\\r\\n\\t\\t\\t<h3 data-wow-delay=\".8s\" class=\" wow titleDown\">\\xe5\\x90\\x88\\xe4\\xbd\\x9c\\xe4\\xbc\\x99\\xe4\\xbc\\xb4<span><strong>partners</strong></span></h3>\\r\\n\\t\\t</div>\\r\\n\\t\\t<!-- ./title -->\\r\\n\\t\\t<div class=\"container-width o-hidden\">\\r\\n\\t\\t\\t<ul class=\"clearfix partners-list\">\\r\\n\\t\\t\\t</ul>\\r\\n\\t\\t</div>\\r\\n\\t</div>\\r\\n\\t<!-- ./\\xe5\\x90\\x88\\xe4\\xbd\\x9c\\xe4\\xbc\\x99\\xe4\\xbc\\xb4 -->\\r\\n\\t<script src=\"js/index.js\"></script>\\r\\n\\t<!-- ./main -->\\r\\n\\t<script src=\"js/global.js\" type=\"text/javascript\" charset=\"utf-8\"></script>\\r\\n\\t<div class=\"footer\">\\r\\n\\t\\t<div class=\"container-width clearfix o-hidden\">\\r\\n\\t\\t\\t<div class=\"footer-left\">\\r\\n\\t\\t\\t\\t<p>\\xe5\\x85\\xac\\xe5\\x8f\\xb8\\xe5\\x90\\x8d\\xe7\\xa7\\xb0\\xef\\xbc\\x9a\\xe4\\xb8\\x8a\\xe6\\xb5\\xb7\\xe6\\x98\\x8c\\xe6\\x8a\\x95\\xe7\\xbd\\x91\\xe7\\xbb\\x9c\\xe7\\xa7\\x91\\xe6\\x8a\\x80\\xe6\\x9c\\x89\\xe9\\x99\\x90\\xe5\\x85\\xac\\xe5\\x8f\\xb8</p>\\r\\n\\t\\t\\t\\t<p>\\xe5\\x85\\xac\\xe5\\x8f\\xb8\\xe5\\x9c\\xb0\\xe5\\x9d\\x80\\xef\\xbc\\x9a\\xe4\\xb8\\x8a\\xe6\\xb5\\xb7\\xe5\\xb8\\x82\\xe6\\xb5\\xa6\\xe4\\xb8\\x9c\\xe6\\x96\\xb0\\xe5\\x8c\\xba\\xe9\\xbe\\x99\\xe4\\xb8\\x9c\\xe5\\xa4\\xa7\\xe9\\x81\\x933000\\xe5\\x8f\\xb7\\xe5\\xbc\\x98\\xe6\\xba\\x90\\xe7\\xa7\\x91\\xe5\\x88\\x9b\\xe5\\xa4\\xa7\\xe5\\x8e\\xa6<a class=\"hidden\" href=\"know.html\">.</a></p>\\r\\n\\t\\t\\t\\t<p>\\xe8\\x81\\x94\\xe7\\xb3\\xbb\\xe7\\x94\\xb5\\xe8\\xaf\\x9d\\xef\\xbc\\x9a021-58942390\\xef\\xbc\\x88\\xe5\\x91\\xa8\\xe4\\xb8\\x80\\xe8\\x87\\xb3\\xe5\\x91\\xa8\\xe4\\xba\\x949:00-18:00\\xef\\xbc\\x89</p>\\r\\n\\t\\t\\t\\t<h3>\\xc2\\xa9 AII Rights Reserved \\xe4\\xb8\\x8a\\xe6\\xb5\\xb7\\xe6\\x98\\x8c\\xe6\\x8a\\x95\\xe7\\xbd\\x91\\xe7\\xbb\\x9c\\xe7\\xa7\\x91\\xe6\\x8a\\x80\\xe6\\x9c\\x89\\xe9\\x99\\x90\\xe5\\x85\\xac\\xe5\\x8f\\xb8\\xe4\\xb8\\xa8\\xef\\xbc\\x88\\xe6\\xb2\\xaa\\xef\\xbc\\x89\\xe5\\xad\\x97\\xe7\\xac\\xac03358\\xe5\\x8f\\xb7\\xe4\\xb8\\xa8\\xe6\\xb2\\xaa\\xe5\\x85\\xac\\xe7\\xbd\\x91\\xe5\\xae\\x89\\xe5\\xa4\\x8731011502008402\\xe5\\x8f\\xb7 |\\r\\n\\t\\t\\t\\t\\t<a href=\"https://beian.miit.gov.cn\" target=\"_blank\">\\xe6\\xb2\\xaaICP\\xe5\\xa4\\x8713007095\\xe5\\x8f\\xb7-1</a>\\r\\n\\t\\t\\t\\t</h3>\\r\\n\\t\\t\\t</div>\\r\\n\\t\\t\\t<!-- ./left -->\\r\\n\\t\\t\\t<div class=\"footer-right\">\\r\\n\\t\\t\\t\\t<span>\\r\\n\\t\\t\\t\\t\\t<img src=\"images/wx.png\" title=\"\" alt=\"\">\\r\\n\\t\\t\\t\\t\\t<p>\\xe5\\xae\\x98\\xe6\\x96\\xb9\\xe5\\xbe\\xae\\xe5\\x8d\\x9a</p>\\r\\n\\t\\t\\t\\t</span>\\r\\n\\t\\t\\t\\t<span>\\r\\n\\t\\t\\t\\t\\t<img src=\"images/wx1.png\" title=\"\" alt=\"\">\\r\\n\\t\\t\\t\\t\\t<p>\\xe5\\xbe\\xae\\xe4\\xbf\\xa1\\xe6\\x9c\\x8d\\xe5\\x8a\\xa1\\xe5\\x8f\\xb7</p>\\r\\n\\t\\t\\t\\t</span>\\r\\n\\t\\t\\t</div>\\r\\n\\t\\t\\t<!-- ./right -->\\r\\n\\t\\t</div>\\r\\n\\t</div>\\r\\n\\t<!-- ./footer -->\\r\\n\\r\\n\\t<div class=\"window-service\">\\r\\n\\t\\t<ul class=\"clearfix\">\\r\\n\\t\\t\\t<li class=\"window-service-wx\">\\r\\n\\t\\t\\t\\t<div class=\"window-service-wx-pic\">\\r\\n\\t\\t\\t\\t\\t<img src=\"images/kefu.png\" width=\"80\">\\r\\n\\t\\t\\t\\t\\t<h3>\\xe6\\x89\\xab\\xe6\\x8f\\x8f\\xe4\\xba\\x8c\\xe7\\xbb\\xb4\\xe7\\xa0\\x81<br>\\xe8\\x81\\x94\\xe7\\xb3\\xbb\\xe5\\xae\\xa2\\xe6\\x9c\\x8d</h3>\\r\\n\\t\\t\\t\\t</div>\\r\\n\\t\\t\\t\\t<p><img src=\"images/ico-kefu.png\" width=\"50\"></p>\\r\\n\\t\\t\\t</li>\\r\\n\\t\\t\\t<li class=\"window-service-wx\">\\r\\n\\t\\t\\t\\t<div class=\"window-service-wx-pic\">\\r\\n\\t\\t\\t\\t\\t<img src=\"images/app.png\" width=\"80\">\\r\\n\\t\\t\\t\\t\\t<h3>\\xe6\\x89\\xab\\xe6\\x8f\\x8f\\xe4\\xba\\x8c\\xe7\\xbb\\xb4\\xe7\\xa0\\x81<br>\\xe4\\xb8\\x8b\\xe8\\xbd\\xbdAPP</h3>\\r\\n\\t\\t\\t\\t</div>\\r\\n\\t\\t\\t\\t<p>APP</p>\\r\\n\\t\\t\\t</li>\\r\\n\\t\\t</ul>\\r\\n\\t</div>\\r\\n\\t<!-- w-tools -->\\r\\n\\t<script type=\"text/javascript\">\\r\\n\\t\\twindow.sensorsdata.track(\\'pageView\\', {\\r\\n\\t\\t\\tpageUrl: window.location.href,\\r\\n\\t\\t\\tpageTitle: \\'\\xe9\\xa6\\x96\\xe9\\xa1\\xb5\\',\\r\\n\\t\\t\\tmoduleTitle: \\'\\xe9\\x95\\xbf\\xe6\\x8a\\x95\\xe5\\xae\\x98\\xe7\\xbd\\x91\\'\\r\\n\\t\\t});\\r\\n\\t\\tfor (var i = 1; i < 16; i++) {\\r\\n\\t\\t\\tvar list = \\'<li class=\"wow goUp\">\\' +\\r\\n\\t\\t\\t\\t\\'<a href=\"javascript:void(0);\">\\' +\\r\\n\\t\\t\\t\\t\\'<img src=\"images/partner/\\' + i + \\'.png\" title=\"\" alt=\"\" width=\"229\" height=\"48\">\\' +\\r\\n\\t\\t\\t\\t\\'</a>\\' +\\r\\n\\t\\t\\t\\t\\'</li>\\';\\r\\n\\t\\t\\t$(\\'.partners-list\\').append(list);\\r\\n\\t\\t}\\r\\n\\t\\tfor (var i = 1; i < 4; i++) {\\r\\n\\t\\t\\tvar list = \\'<li class=\"wow goUp\">\\' +\\r\\n\\t\\t\\t\\t\\'<a href=\"javascript:void(0);\">\\' +\\r\\n\\t\\t\\t\\t\\'<img src=\"images/university/\\' + i + \\'.png\" title=\"\" alt=\"\" width=\"229\" height=\"48\">\\' +\\r\\n\\t\\t\\t\\t\\'</a>\\' +\\r\\n\\t\\t\\t\\t\\'</li>\\';\\r\\n\\t\\t\\t$(\\'.university-list\\').append(list);\\r\\n\\t\\t}\\r\\n\\t</script>\\r\\n\\t<script type=\"text/javascript\">\\r\\n\\t\\tvar arrText = [\\'\\xe8\\x85\\xbe\\xe8\\xae\\xaf\\xe2\\x80\\x9c2020\\xe5\\xb9\\xb4\\xe5\\xba\\xa6\\xe8\\xa1\\x8c\\xe4\\xb8\\x9a\\xe6\\xa0\\x87\\xe6\\x9d\\x86\\xe6\\x95\\x99\\xe8\\x82\\xb2\\xe9\\x9b\\x86\\xe5\\x9b\\xa2\\xe2\\x80\\x9d\\', \\'\\xe6\\x96\\xb0\\xe5\\x8d\\x8e\\xe7\\xbd\\x91\\xe2\\x80\\x9c2020\\xe5\\xb9\\xb4\\xe5\\xba\\xa6\\xe5\\xbd\\xb1\\xe5\\x93\\x8d\\xe5\\x8a\\x9b\\xe5\\x9c\\xa8\\xe7\\xba\\xbf\\xe6\\x95\\x99\\xe8\\x82\\xb2\\xe5\\x93\\x81\\xe7\\x89\\x8c\\xe2\\x80\\x9d\\', \\'36\\xe6\\xb0\\xaa\\xe2\\x80\\x9c2020\\xe6\\x96\\xb0\\xe7\\xbb\\x8f\\xe6\\xb5\\x8e\\xe4\\xb9\\x8b\\xe7\\x8e\\x8b\\xe6\\x9c\\x80\\xe5\\x85\\xb7\\xe5\\xbd\\xb1\\xe5\\x93\\x8d\\xe5\\x8a\\x9b\\xe4\\xbc\\x81\\xe4\\xb8\\x9a\\xe5\\xa5\\x96\\xe2\\x80\\x9d\\', \\'\\xe9\\x95\\xbf\\xe6\\x8a\\x95\\xe5\\xad\\xa6\\xe5\\xa0\\x82\\xe5\\x88\\x9b\\xe5\\xa7\\x8b\\xe4\\xba\\xba\\xe5\\x85\\xbcCEO\\xe6\\x9d\\xa8\\xe4\\xb9\\x90\\xe8\\x8d\\xa3\\xe8\\x8e\\xb7\\xe6\\x96\\xb0\\xe5\\x8d\\x8e\\xe7\\xbd\\x91\\xe2\\x80\\x9c2020\\xe5\\xb9\\xb4\\xe5\\xba\\xa6\\xe6\\x95\\x99\\xe8\\x82\\xb2\\xe8\\xa1\\x8c\\xe4\\xb8\\x9a\\xe6\\x9d\\xb0\\xe5\\x87\\xba\\xe4\\xba\\xba\\xe7\\x89\\xa9\\xe2\\x80\\x9d\\',\\r\\n\\t\\t\\t\\'\\xe6\\x96\\xb0\\xe5\\x8d\\x8e\\xe7\\xbd\\x91\\xe2\\x80\\x9c2019\\xe5\\xb9\\xb4\\xe5\\xba\\xa6\\xe5\\x93\\x81\\xe7\\x89\\x8c\\xe5\\xbd\\xb1\\xe5\\x93\\x8d\\xe5\\x8a\\x9b\\xe5\\x9c\\xa8\\xe7\\xba\\xbf\\xe6\\x95\\x99\\xe8\\x82\\xb2\\xe6\\x9c\\xba\\xe6\\x9e\\x84\\xe2\\x80\\x9d\\', \\'21\\xe4\\xb8\\x96\\xe7\\xba\\xaa\\xe4\\xba\\x9a\\xe6\\xb4\\xb2\\xe9\\x87\\x91\\xe8\\x9e\\x8d\\xe7\\xab\\x9e\\xe4\\xba\\x89\\xe5\\x8a\\x9b\\xe2\\x80\\x9c2019\\xe5\\xb9\\xb4\\xe5\\xba\\xa6\\xe7\\x90\\x86\\xe8\\xb4\\xa2\\xe6\\x95\\x99\\xe8\\x82\\xb2\\xe6\\x9c\\x8d\\xe5\\x8a\\xa1\\xe5\\x88\\x9b\\xe6\\x96\\xb0\\xe6\\x88\\x90\\xe5\\xb0\\xb1\\xe5\\xa5\\x96\\xe2\\x80\\x9d\\', \\'\\xe7\\xbd\\x91\\xe6\\x98\\x93\\xe6\\x96\\xb0\\xe9\\x97\\xbb\\xe2\\x80\\x9c2019\\xe5\\xb9\\xb4\\xe5\\xba\\xa6\\xe6\\x9c\\x80\\xe5\\x85\\xb7\\xe6\\xbd\\x9c\\xe5\\x8a\\x9bMCN\\xe6\\x9c\\xba\\xe6\\x9e\\x84\\xe2\\x80\\x9d\\', \\'2019\\xe8\\xbd\\xaf\\xe4\\xbb\\xb6\\xe5\\xbc\\x80\\xe5\\x8f\\x91\\xe4\\xb8\\x8e\\xe6\\xb5\\x8b\\xe8\\xaf\\x95\\xef\\xbc\\x88\\xe4\\xba\\xba\\xe5\\xb7\\xa5\\xe6\\x99\\xba\\xe8\\x83\\xbd\\xe7\\xbc\\x96\\xe7\\xa8\\x8b\\xef\\xbc\\x89\\xe7\\xab\\x9e\\xe8\\xb5\\x9b\\xe4\\xbc\\x98\\xe8\\x83\\x9c\\xe5\\xa5\\x96\\', \\'\\xe8\\x85\\xbe\\xe8\\xae\\xaf\\xe6\\x95\\x99\\xe8\\x82\\xb2\\xe2\\x80\\x9c2018\\xe5\\xb9\\xb4\\xe7\\x9f\\xa5\\xe5\\x90\\x8d\\xe5\\x9c\\xa8\\xe7\\xba\\xbf\\xe6\\x95\\x99\\xe8\\x82\\xb2\\xe5\\x93\\x81\\xe7\\x89\\x8c\\xe2\\x80\\x9d\\', \\'\\xe9\\x95\\xbf\\xe6\\x8a\\x95\\xe5\\xad\\xa6\\xe5\\xa0\\x82\\xe8\\x8d\\xa3\\xe8\\x8e\\xb7\\xe2\\x80\\x9c\\xe9\\xab\\x98\\xe6\\x96\\xb0\\xe6\\x8a\\x80\\xe6\\x9c\\xaf\\xe4\\xbc\\x81\\xe4\\xb8\\x9a\\xe8\\xaf\\x81\\xe4\\xb9\\xa6\\xe2\\x80\\x9d\\'\\r\\n\\t\\t];\\r\\n\\t\\tvar honor = new Swiper(\\'.about-honor .swiper-container\\', {\\r\\n\\t\\t\\tslidesPerView: 3,\\r\\n\\t\\t\\tslidesPerGroup: 3,\\r\\n\\t\\t\\tloop: true,\\r\\n\\t\\t\\tspaceBetween: 0,\\r\\n\\t\\t\\tautoplay: {\\r\\n\\t\\t\\t\\tdelay: 5000,\\r\\n\\t\\t\\t\\tdisableOnInteraction: false,\\r\\n\\t\\t\\t\\twaitForTransition: false,\\r\\n\\t\\t\\t},\\r\\n\\t\\t\\tpagination: {\\r\\n\\t\\t\\t\\tel: \\'.about-honor .swiper-pagination\\',\\r\\n\\t\\t\\t\\tbulletActiveClass: \\'timer-cl\\',\\r\\n\\t\\t\\t\\tclickable: true,\\r\\n\\t\\t\\t},\\r\\n\\t\\t\\tnavigation: {\\r\\n\\t\\t\\t\\tnextEl: \\'.swiper-button-next\\',\\r\\n\\t\\t\\t\\tprevEl: \\'.swiper-button-prev\\',\\r\\n\\t\\t\\t}\\r\\n\\t\\t});\\r\\n\\r\\n\\t\\t$(\\'.about-honor .swiper-slide\\').on(\"click\", function () {\\r\\n\\t\\t\\tvar index = Number($(this).attr(\\'data-swiper-slide-index\\'));\\r\\n\\t\\t\\t$(\\'.about-honor-scale\\').addClass(\\'show\\');\\r\\n\\t\\t\\timgCheck(index);\\r\\n\\t\\t});\\r\\n\\t\\t$(\\'.about-honor-scale\\').on(\\'click\\', function (e) {\\r\\n\\t\\t\\t$(this).removeClass(\\'show\\');\\r\\n\\t\\t})\\r\\n\\r\\n\\t\\tfunction imgCheck(index) {\\r\\n\\t\\t\\tif (index != undefined) {\\r\\n\\t\\t\\t\\t$(\\'#about-honor-img img\\').attr(\\'src\\', \\'images/about/honor-p\\' + (index + 1) + \\'.jpg\\');\\r\\n\\t\\t\\t}\\r\\n\\t\\t\\t$(\\'#about-honor-img h3\\').text(arrText[index]);\\r\\n\\t\\t\\t$(\\'#about-honor-arrleft\\').on(\\'click\\', function (e) {\\r\\n\\t\\t\\t\\te.stopPropagation();\\r\\n\\t\\t\\t\\tif (index > 0) {\\r\\n\\t\\t\\t\\t\\tindex--;\\r\\n\\t\\t\\t\\t\\t$(\\'#about-honor-img img\\').attr(\\'src\\', \\'images/about/honor-p\\' + (index + 1) + \\'.jpg\\');\\r\\n\\t\\t\\t\\t\\t$(\\'#about-honor-img h3\\').text(arrText[index]);\\r\\n\\t\\t\\t\\t}\\r\\n\\t\\t\\t});\\r\\n\\t\\t\\t$(\\'#about-honor-arrright\\').on(\\'click\\', function (e) {\\r\\n\\t\\t\\t\\te.stopPropagation();\\r\\n\\t\\t\\t\\tif (index < arrText.length - 1) {\\r\\n\\t\\t\\t\\t\\tindex++;\\r\\n\\t\\t\\t\\t\\t$(\\'#about-honor-img img\\').attr(\\'src\\', \\'images/about/honor-p\\' + (index + 1) + \\'.jpg\\');\\r\\n\\t\\t\\t\\t\\t$(\\'#about-honor-img h3\\').text(arrText[index]);\\r\\n\\t\\t\\t\\t}\\r\\n\\t\\t\\t});\\r\\n\\t\\t}\\r\\n\\t\\timgCheck();\\r\\n\\t</script>\\r\\n\\r\\n\\t<script type=\"text/javascript\">\\r\\n\\t\\tvar arrText2 = [\\'\\xe9\\x95\\xbf\\xe6\\x8a\\x95\\xe5\\xad\\xa6\\xe5\\xa0\\x82-\\xe8\\xb4\\xa2\\xe6\\x8a\\xa5\\xe5\\x88\\x86\\xe6\\x9e\\x90\\xe8\\xae\\xad\\xe7\\xbb\\x83\\xe8\\x90\\xa5\\', \\'\\xe9\\x95\\xbf\\xe6\\x8a\\x95\\xe5\\xad\\xa6\\xe5\\xa0\\x82\\xe8\\x82\\xa1\\xe7\\xa5\\xa8\\xe5\\x88\\x9d\\xe5\\xa7\\x8b\\xe7\\xba\\xa7\\xe8\\xaf\\xbe\\', \\'\\xe9\\x95\\xbf\\xe6\\x8a\\x95\\xe5\\xad\\xa6\\xe5\\xa0\\x82\\xe8\\x82\\xa1\\xe7\\xa5\\xa8\\xe8\\xbf\\x9b\\xe9\\x98\\xb6\\xe8\\xaf\\xbe\\', \\'\\xe9\\x95\\xbf\\xe6\\x8a\\x95\\xe5\\xad\\xa6\\xe5\\xa0\\x82\\xe5\\x9f\\xba\\xe9\\x87\\x91\\xe8\\xaf\\xbe\\', \\'\\xe5\\x9f\\xba\\xe9\\x87\\x91\\xe8\\xbf\\x9b\\xe9\\x98\\xb6\\xe8\\xae\\xad\\xe7\\xbb\\x83\\xe8\\x90\\xa5\\',\\r\\n\\t\\t\\t\\'\\xe9\\x95\\xbf\\xe6\\x8a\\x95\\xe5\\xad\\xa6\\xe5\\xa0\\x82\\xe4\\xbf\\x9d\\xe9\\x99\\xa9\\xe5\\xae\\x9e\\xe6\\x88\\x98\\xe8\\xaf\\xbe\\', \\'\\xe5\\x8f\\xaf\\xe8\\xbd\\xac\\xe5\\x80\\xba\\xe6\\x8a\\x95\\xe8\\xb5\\x84\\xe8\\xaf\\xbe\\', \\'\\xe9\\x95\\xbf\\xe6\\x8a\\x95\\xe5\\xad\\xa6\\xe5\\xa0\\x82\\xe5\\xb0\\x8f\\xe7\\x99\\xbd\\xe8\\x90\\xa58\\xe8\\xaf\\xbe\\xe9\\x9f\\xb3\\xe9\\xa2\\x91\\xe7\\xa8\\xbf\\',\\r\\n\\t\\t\\t\\'\\xe6\\xb8\\xaf\\xe8\\x82\\xa1\\xe6\\x89\\x93\\xe6\\x96\\xb0\\xe8\\xaf\\xbe\\', \\'\\xe5\\xbc\\x80\\xe6\\xba\\x90\\xe8\\xb5\\x9a\\xe9\\x92\\xb1\\xe8\\xaf\\xbe\\', \\'\\xe9\\x95\\xbf\\xe6\\x8a\\x95\\xe5\\xad\\xa6\\xe5\\xa0\\x82\\xe5\\xae\\xb6\\xe5\\xba\\xad\\xe7\\x90\\x86\\xe8\\xb4\\xa2\\xe8\\xa7\\x84\\xe5\\x88\\x92\\xe8\\xaf\\xbe\\', \\'\\xe9\\x95\\xbf\\xe6\\x8a\\x95\\xe5\\xad\\xa6\\xe5\\xa0\\x82\\xe8\\xb5\\x84\\xe4\\xba\\xa7\\xe9\\x85\\x8d\\xe7\\xbd\\xae\\xe8\\xaf\\xbe\\', \\'\\xe9\\x95\\xbf\\xe6\\x8a\\x95\\xe5\\xad\\xa6\\xe5\\xa0\\x82\\xe4\\xbd\\x8e\\xe9\\xa3\\x8e\\xe9\\x99\\xa9\\xe7\\x90\\x86\\xe8\\xb4\\xa2\\xe8\\xaf\\xbe\\', \\'\\xe9\\x93\\xb6\\xe8\\xa1\\x8c\\xe7\\x90\\x86\\xe8\\xb4\\xa2\\xe8\\xaf\\xbe\\', \\'\\xe9\\x95\\xbf\\xe6\\x8a\\x95\\xe5\\xad\\xa6\\xe5\\xa0\\x82\\xe6\\x9c\\x9f\\xe8\\xb4\\xa7\\xe6\\x9c\\x9f\\xe6\\x9d\\x83\\xe5\\x85\\xa5\\xe9\\x97\\xa8\\'];\\r\\n\\t\\tvar honor = new Swiper(\\'.index-auth .swiper-container\\', {\\r\\n\\t\\t\\tslidesPerView: 3,\\r\\n\\t\\t\\tslidesPerGroup: 3,\\r\\n\\t\\t\\tloop: true,\\r\\n\\t\\t\\tspaceBetween: 0,\\r\\n\\t\\t\\tautoplay: {\\r\\n\\t\\t\\t\\tdelay: 4200,\\r\\n\\t\\t\\t\\tdisableOnInteraction: false,\\r\\n\\t\\t\\t\\twaitForTransition: false,\\r\\n\\t\\t\\t},\\r\\n\\t\\t\\tpagination: {\\r\\n\\t\\t\\t\\tel: \\'.index-auth .swiper-pagination\\',\\r\\n\\t\\t\\t\\tbulletActiveClass: \\'timer-cl\\',\\r\\n\\t\\t\\t\\tclickable: true,\\r\\n\\t\\t\\t},\\r\\n\\t\\t\\tnavigation: {\\r\\n\\t\\t\\t\\tnextEl: \\'.swiper-button-next\\',\\r\\n\\t\\t\\t\\tprevEl: \\'.swiper-button-prev\\',\\r\\n\\t\\t\\t}\\r\\n\\t\\t});\\r\\n\\r\\n\\t\\t$(\\'.index-auth .swiper-slide\\').on(\"click\", function () {\\r\\n\\t\\t\\tvar index2 = Number($(this).attr(\\'data-swiper-slide-index\\'));\\r\\n\\t\\t\\t$(\\'.index-auth-scale\\').addClass(\\'show\\');\\r\\n\\t\\t\\timgCheck2(index2);\\r\\n\\t\\t});\\r\\n\\t\\t$(\\'.index-auth-scale\\').on(\\'click\\', function (e) {\\r\\n\\t\\t\\t$(this).removeClass(\\'show\\');\\r\\n\\t\\t});\\r\\n\\r\\n\\t\\tfunction imgCheck2(index2) {\\r\\n\\t\\t\\tconsole.log(\\'%c \\xf0\\x9f\\x8d\\xa1 index2: \\', \\'font-size:20px;background-color: #7F2B82;color:#fff;\\', index2);\\r\\n\\t\\t\\tif (index2 != undefined) {\\r\\n\\t\\t\\t\\t$(\\'#index-auth-img img\\').attr(\\'src\\', \\'images/auth/\\' + (index2 + 1) + \\'.png\\');\\r\\n\\t\\t\\t}\\r\\n\\t\\t\\t$(\\'#index-auth-img h3\\').text(arrText2[index2]);\\r\\n\\t\\t\\t$(\\'#index-auth-arrleft\\').on(\\'click\\', function (e) {\\r\\n\\t\\t\\t\\te.stopPropagation();\\r\\n\\t\\t\\t\\tif (index2 > 0) {\\r\\n\\t\\t\\t\\t\\tindex2--;\\r\\n\\t\\t\\t\\t\\t$(\\'#index-auth-img img\\').attr(\\'src\\', \\'images/auth/\\' + (index2 + 1) + \\'.png\\');\\r\\n\\t\\t\\t\\t\\t$(\\'#index-auth-img h3\\').text(arrText2[index2]);\\r\\n\\t\\t\\t\\t}\\r\\n\\t\\t\\t});\\r\\n\\t\\t\\t$(\\'#index-auth-arrright\\').on(\\'click\\', function (e) {\\r\\n\\t\\t\\t\\te.stopPropagation();\\r\\n\\t\\t\\t\\tif (index2 < arrText2.length - 1) {\\r\\n\\t\\t\\t\\t\\tindex2++;\\r\\n\\t\\t\\t\\t\\t$(\\'#index-auth-img img\\').attr(\\'src\\', \\'images/auth/\\' + (index2 + 1) + \\'.png\\');\\r\\n\\t\\t\\t\\t\\t$(\\'#index-auth-img h3\\').text(arrText2[index2]);\\r\\n\\t\\t\\t\\t}\\r\\n\\t\\t\\t});\\r\\n\\t\\t}\\r\\n\\t\\timgCheck2();\\r\\n\\t</script>\\r\\n\\r\\n\\t<!-- ./ -->\\r\\n</body>\\r\\n\\r\\n</html>'\n"
     ]
    }
   ],
   "source": [
    "import requests\n",
    "url = 'http://www.ichangtou.com/#company:data_000008.html'\n",
    "headers = {'User-Agent': 'Mozilla/5.0 (Macintosh; Intel Mac OS X 10_10_1) AppleWebKit/537.36 (KHTML, like Gecko) Chrome/39.0.2171.95 Safari/537.36'}\n",
    "response = requests.get(url, headers=headers)\n",
    "print(response.content)"
   ]
  },
  {
   "cell_type": "markdown",
   "metadata": {},
   "source": [
    "### Request with Post(file)"
   ]
  },
  {
   "cell_type": "code",
   "execution_count": null,
   "metadata": {},
   "outputs": [],
   "source": [
    "import requests\n",
    "url = 'https://httpbin.org/post'\n",
    "files = {'file': open('f.png', 'rb')}\n",
    "r = requests.post(url, files=files)\n"
   ]
  },
  {
   "cell_type": "markdown",
   "metadata": {},
   "source": [
    "# etc"
   ]
  },
  {
   "cell_type": "markdown",
   "metadata": {},
   "source": [
    "## String Format\n",
    "* cf: https://brownbears.tistory.com/421\n"
   ]
  },
  {
   "cell_type": "markdown",
   "metadata": {},
   "source": [
    "### % 기반"
   ]
  },
  {
   "cell_type": "code",
   "execution_count": null,
   "metadata": {},
   "outputs": [],
   "source": [
    "print('-- %d --'%3)\n",
    "print('-- %d -- %s --'%(3,'hi'))"
   ]
  },
  {
   "cell_type": "code",
   "execution_count": null,
   "metadata": {},
   "outputs": [],
   "source": [
    "for i in range(1,1000,77):\n",
    "    print(\"%10.2f , %10d\"%(i/3,i))"
   ]
  },
  {
   "cell_type": "markdown",
   "metadata": {},
   "source": [
    "### str.format"
   ]
  },
  {
   "cell_type": "code",
   "execution_count": null,
   "metadata": {},
   "outputs": [],
   "source": [
    "print( \"Hi, {}\".format('steve') )\n",
    "print( \"{0}, {1}, {0}\".format('2','steve') )\n",
    "print( \"{id}, {name}\".format(id='2',name='steve') )\n"
   ]
  },
  {
   "cell_type": "markdown",
   "metadata": {},
   "source": [
    "### f-string\n",
    "* from Python3.6"
   ]
  },
  {
   "cell_type": "code",
   "execution_count": null,
   "metadata": {},
   "outputs": [],
   "source": [
    "name=\"Steve\"\n",
    "print(f'Hello {name}')"
   ]
  },
  {
   "cell_type": "markdown",
   "metadata": {},
   "source": [
    "## closure : Dynamic Function"
   ]
  },
  {
   "cell_type": "code",
   "execution_count": null,
   "metadata": {},
   "outputs": [],
   "source": [
    "def f(a=1,b=2):\n",
    "    print(a,b)\n",
    "    return a+b\n",
    "\n",
    "def mf(a,b):\n",
    "    def f1():\n",
    "        return f(a,b)\n",
    "    return f1\n",
    "\n",
    "fn1=mf(1,1)\n",
    "fn2=mf(1,2)\n",
    "fn1()\n",
    "fn2()\n"
   ]
  },
  {
   "cell_type": "code",
   "execution_count": null,
   "metadata": {},
   "outputs": [],
   "source": []
  },
  {
   "cell_type": "code",
   "execution_count": null,
   "metadata": {},
   "outputs": [],
   "source": []
  },
  {
   "cell_type": "markdown",
   "metadata": {},
   "source": [
    "## Shell에서 Python구현\n"
   ]
  },
  {
   "cell_type": "code",
   "execution_count": null,
   "metadata": {},
   "outputs": [],
   "source": [
    "%%bash\n",
    "echo '\n",
    "print(\"   Column1, Column2\")\n",
    "for i in range(1,1000,40):\n",
    "       print(\"%10.2f , %10d\"%(i/3,i))\n",
    "' |python > /tmp/a.csv\n",
    "cat /tmp/a.csv\n"
   ]
  },
  {
   "cell_type": "markdown",
   "metadata": {},
   "source": [
    "##  freeze and -r"
   ]
  },
  {
   "cell_type": "code",
   "execution_count": null,
   "metadata": {},
   "outputs": [],
   "source": [
    "%%bash\n",
    "pip freeze > /tmp/requirements.txt\n",
    "\n",
    "\n",
    "# requirements.txt를 새로운 시스템으로 파일 이동후 사용하거나 ==를 >=로 바꿔서 사용\n",
    "\n",
    "# pip install -r requirements.txt\n"
   ]
  },
  {
   "cell_type": "code",
   "execution_count": null,
   "metadata": {},
   "outputs": [],
   "source": [
    "!cat /tmp/requirements.txt"
   ]
  },
  {
   "cell_type": "markdown",
   "metadata": {},
   "source": [
    "## Windows 환경에서 주의사항\n",
    "1. windows10에 git-scm 사용시 : python을 호출 못하는 경우 있음.\n",
    "2. \"#!/usr/bin/env python\" 문을 사용하면 안됨.\n",
    "3. 경로에 xx.py를 넣어두고 실행하는 것 안됨(xx.bat에서 호출해서 사용할 것)\n"
   ]
  },
  {
   "cell_type": "markdown",
   "metadata": {},
   "source": [
    "## CodeReversor"
   ]
  },
  {
   "cell_type": "code",
   "execution_count": null,
   "metadata": {},
   "outputs": [],
   "source": [
    "data=['aaa','bbb','ccc']\n",
    "enc={ r[1]:r[0]   for r in  enumerate(data)}\n",
    "def corderReversor(corder):\n",
    "  k=enc.keys()\n",
    "  return { corder[i]:i for i in k}\n",
    "\n",
    "dec=corderReversor(enc)\n",
    "\n",
    "print(\"Encoder = \" , enc)\n",
    "print(\"Decoder = \" , dec)\n"
   ]
  },
  {
   "cell_type": "markdown",
   "metadata": {},
   "source": [
    "## list to 2D-Matrix"
   ]
  },
  {
   "cell_type": "code",
   "execution_count": null,
   "metadata": {},
   "outputs": [],
   "source": [
    "a=[0.0,8.04,10.0,9.14,10.0,7.46,8.0,6.58,8.0,6.95,8.0,8.14,8.0,6.77,8.0,5.76,13.0,7.58,13.0,8.74,13.0,12.74,8.0,7.71,9.0,8.81,9.0,8.77,9.0,7.11,8.0,8.84,11.0,8.33,11.0,9.26,11.0,7.81,8.0,8.47,14.0,9.96,14.0,8.10,14.0,8.84,8.0,7.04,6.0,7.24,6.0,6.13,6.0,6.08,8.0,5.25,4.0,4.26,4.0,3.10,4.0,5.39,19.0,12.50,12.0,10.84,12.0,9.13,12.0,8.15,8.0,5.56,7.0,4.82,7.0,7.26,7.0,6.42,8.0,7.91,5.0,5.68,5.0,4.74,5.0,5.73,8.0,6.89]\n",
    "it=iter(a)\n",
    "rowCnt=8\n",
    "x = [[i for i in range(rowCnt)] for j in range(int(len(a)/rowCnt))]\n",
    "print(x)"
   ]
  },
  {
   "cell_type": "markdown",
   "metadata": {},
   "source": [
    "## 날짜 범위를 리스트로 만들기"
   ]
  },
  {
   "cell_type": "code",
   "execution_count": null,
   "metadata": {},
   "outputs": [],
   "source": [
    "import datetime\n",
    "start = datetime.datetime.strptime(\"20130129\",\"%Y%m%d\")\n",
    "end = datetime.datetime.strptime(\"20130203\", \"%Y%m%d\")\n",
    "date_generated = [start + datetime.timedelta(days=x) for x in range(0, (end-start).days)]\n",
    "for date in date_generated:\n",
    "    print(date.strftime(\"%Y%m%d\"))"
   ]
  },
  {
   "cell_type": "markdown",
   "metadata": {},
   "source": [
    "## 대화형 입력 : expect\n",
    "```python\n",
    "import pexpect\n",
    "child = pexpect.spawn ('login :')\n",
    "child.sendline('admin')\n",
    "child.sendline('xxxx')\n",
    "```\n",
    "\n",
    "### 설치\n",
    "```bash\n",
    "    https://pypi.python.org/pypi/pexpect/ 에서 받거나\n",
    "    easy_install pip\n",
    "    pip pexpect\n",
    "```\n",
    "- 수동 설치\n",
    "    ```bash\n",
    "    tar xzvf pexpect-4.0.1.tar.gz\n",
    "    cd pexpect-4.0.1\n",
    "    python setup.py install\n",
    "    ```\n"
   ]
  },
  {
   "cell_type": "markdown",
   "metadata": {},
   "source": [
    "## list에서 Matching 해서 list인덱스 배열로 리턴하기"
   ]
  },
  {
   "cell_type": "code",
   "execution_count": null,
   "metadata": {},
   "outputs": [],
   "source": [
    "x=[11,22,33,44]\n",
    "y=[11,33,22,44,44]\n",
    "[x.index(i) for i in y if i in y]"
   ]
  },
  {
   "cell_type": "markdown",
   "metadata": {},
   "source": [
    "## list → Dictionary → onehot encoding (enumerate)\n",
    "* enumerate로 encoder만들기"
   ]
  },
  {
   "cell_type": "code",
   "execution_count": null,
   "metadata": {},
   "outputs": [],
   "source": [
    "a=[\"a\",\"b\",\"c\"]\n",
    "l={ k:v for k,v in enumerate(a)}"
   ]
  },
  {
   "cell_type": "markdown",
   "metadata": {},
   "source": [
    "* list → dictionary → onehot"
   ]
  },
  {
   "cell_type": "code",
   "execution_count": null,
   "metadata": {},
   "outputs": [],
   "source": [
    "import numpy as np\n",
    "dictionary_data=[\"aa\",\"bb\",\"cc\",\"dd\"]\n",
    "\n",
    "encoder_dic={ k:v for v,k in enumerate(dictionary_data)}\n",
    "encoder_dic\n",
    "decoder_dic={ k:v for k,v in enumerate(dictionary_data)}\n",
    "decoder_dic\n",
    "\n",
    "org_data=[\"aa\",\"bb\",\"bb\",\"cc\",\"cc\",\"cc\",\"dd\",\"dd\",\"dd\",\"dd\"]\n",
    "encoded_data=[encoder_dic[i] for i in org_data]\n",
    "encoded_data\n",
    "\n",
    "decoded_data=[decoder_dic[i] for i in encoded_data]\n",
    "decoded_data\n",
    "\n",
    "\n",
    "one_hot=np.identity( len(encoder_dic.keys()) )"
   ]
  },
  {
   "cell_type": "markdown",
   "metadata": {},
   "source": [
    "## File Read\n",
    "* basic Example"
   ]
  },
  {
   "cell_type": "code",
   "execution_count": null,
   "metadata": {},
   "outputs": [],
   "source": [
    "!echo \"abcdefg\">/tmp/a.txt\n",
    "with open('/tmp/a.txt','r') as f:\n",
    "    print(f.readline())"
   ]
  },
  {
   "cell_type": "markdown",
   "metadata": {},
   "source": [
    "* 여러줄 읽기"
   ]
  },
  {
   "cell_type": "code",
   "execution_count": null,
   "metadata": {},
   "outputs": [],
   "source": [
    "with open(\"/tmp/a.txt\", 'r') as f:\n",
    "  while True:\n",
    "    line = f.readline()\n",
    "    if not line: break\n",
    "    print(line)\n",
    "  f.close()"
   ]
  }
 ],
 "metadata": {
  "kernelspec": {
   "display_name": "Python 3",
   "language": "python",
   "name": "python3"
  },
  "language_info": {
   "codemirror_mode": {
    "name": "ipython",
    "version": 3
   },
   "file_extension": ".py",
   "mimetype": "text/x-python",
   "name": "python",
   "nbconvert_exporter": "python",
   "pygments_lexer": "ipython3",
   "version": "3.8.9"
  },
  "toc-autonumbering": false,
  "toc-showmarkdowntxt": true,
  "toc-showtags": false
 },
 "nbformat": 4,
 "nbformat_minor": 4
}
>>>>>>> update python : fileProcessing Advanced
