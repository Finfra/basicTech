{
 "cells": [
  {
   "cell_type": "markdown",
   "metadata": {},
   "source": [
    "# Major Function"
   ]
  },
  {
   "cell_type": "markdown",
   "metadata": {},
   "source": [
    "## Exception\n",
    "* Exception list : https://docs.python.org/3/library/exceptions.html\n",
    "\n",
    "### Basic Example"
   ]
  },
  {
   "cell_type": "code",
   "execution_count": 3,
   "metadata": {},
   "outputs": [
    {
     "name": "stdout",
     "output_type": "stream",
     "text": [
      "type err\n",
      "--------------------\n"
     ]
    }
   ],
   "source": [
    "i=1\n",
    "try:\n",
    "    print(1/(3-i)^10)\n",
    "except  ZeroDivisionError as err:\n",
    "    print(\"0으로 나누지 마세요.\")\n",
    "    print(err)\n",
    "    print(err.args)\n",
    "except TypeError:\n",
    "    print(\"type err\")\n",
    "except  Exception as err:\n",
    "    print(\"--------------------\")\n",
    "    logging.exception('')\n",
    "    print(\"--------------------\")\n",
    "    print(err.args)\n",
    "else:\n",
    "    print(\"None Error\")\n",
    "finally:\n",
    "    print(\"--------------------\")"
   ]
  },
  {
   "cell_type": "markdown",
   "metadata": {},
   "source": [
    "### Raise"
   ]
  },
  {
   "cell_type": "code",
   "execution_count": 4,
   "metadata": {},
   "outputs": [
    {
     "name": "stdout",
     "output_type": "stream",
     "text": [
      "<class 'Exception'>\n",
      "('spam', 'eggs')\n",
      "('spam', 'eggs')\n",
      "x = spam\n",
      "y = eggs\n"
     ]
    }
   ],
   "source": [
    "try:\n",
    "    raise Exception('spam', 'eggs')\n",
    "except Exception as inst:\n",
    "    print(type(inst))    # the exception instance\n",
    "    print(inst.args)     # arguments stored in .args\n",
    "    print(inst)          # __str__ allows args to be printed directly,\n",
    "                         # but may be overridden in exception subclasses\n",
    "    x, y = inst.args     # unpack args\n",
    "    print('x =', x)\n",
    "    print('y =', y)\n",
    "\n"
   ]
  },
  {
   "cell_type": "markdown",
   "metadata": {},
   "source": [
    "## Lambda"
   ]
  },
  {
   "cell_type": "markdown",
   "metadata": {},
   "source": [
    "### Lamdba Operator"
   ]
  },
  {
   "cell_type": "code",
   "execution_count": 5,
   "metadata": {},
   "outputs": [
    {
     "data": {
      "text/plain": [
       "9"
      ]
     },
     "execution_count": 5,
     "metadata": {},
     "output_type": "execute_result"
    }
   ],
   "source": [
    "f=lambda x: x**2\n",
    "f(3)"
   ]
  },
  {
   "cell_type": "code",
   "execution_count": 6,
   "metadata": {},
   "outputs": [
    {
     "name": "stdout",
     "output_type": "stream",
     "text": [
      "14\n",
      "14\n"
     ]
    }
   ],
   "source": [
    "def inc(n):\n",
    " return lambda x: x + n\n",
    "\n",
    "f=inc(2)\n",
    "\n",
    "print(f(12))\n",
    "\n",
    "print(inc(2)(12))\n",
    "\n",
    "# 출처: https://offbyone.tistory.com/73 [쉬고 싶은 개발자]"
   ]
  },
  {
   "cell_type": "markdown",
   "metadata": {},
   "source": [
    "### Map\n"
   ]
  },
  {
   "cell_type": "code",
   "execution_count": 7,
   "metadata": {},
   "outputs": [
    {
     "data": {
      "text/plain": [
       "[11, 22, 33, 44]"
      ]
     },
     "execution_count": 7,
     "metadata": {},
     "output_type": "execute_result"
    }
   ],
   "source": [
    "a=[1, 2, 3, 4]\n",
    "b=[10,20,30,40]\n",
    "list(map(lambda x, y:x+y, a,b))\n"
   ]
  },
  {
   "cell_type": "markdown",
   "metadata": {},
   "source": [
    "### Filter"
   ]
  },
  {
   "cell_type": "code",
   "execution_count": 8,
   "metadata": {},
   "outputs": [
    {
     "data": {
      "text/plain": [
       "[18, 9, 24, 12, 27]"
      ]
     },
     "execution_count": 8,
     "metadata": {},
     "output_type": "execute_result"
    }
   ],
   "source": [
    "foo = [2, 18, 9, 22, 17, 24, 8, 12, 27]\n",
    "list( filter(lambda x: x % 3 == 0, foo))"
   ]
  },
  {
   "cell_type": "markdown",
   "metadata": {},
   "source": [
    "### Reduce"
   ]
  },
  {
   "cell_type": "code",
   "execution_count": 9,
   "metadata": {},
   "outputs": [
    {
     "data": {
      "text/plain": [
       "15"
      ]
     },
     "execution_count": 9,
     "metadata": {},
     "output_type": "execute_result"
    }
   ],
   "source": [
    "from functools import reduce\n",
    "reduce(lambda x,y: x+y, [1,2,3,4,5])\n"
   ]
  },
  {
   "cell_type": "code",
   "execution_count": null,
   "metadata": {},
   "outputs": [],
   "source": []
  },
  {
   "cell_type": "code",
   "execution_count": null,
   "metadata": {},
   "outputs": [],
   "source": []
  },
  {
   "cell_type": "markdown",
   "metadata": {},
   "source": [
    "### python2"
   ]
  },
  {
   "cell_type": "code",
   "execution_count": 10,
   "metadata": {},
   "outputs": [],
   "source": [
    "# map(lambda x: x**2, [0,1,2,3])\n",
    "# reduce(lambda x,y: x+y, [0,1,2,3])\n",
    "# filter(lambda x: x < 5, range(10))"
   ]
  },
  {
   "cell_type": "markdown",
   "metadata": {},
   "source": [
    "# Builtin Function"
   ]
  },
  {
   "cell_type": "markdown",
   "metadata": {},
   "source": [
    "## eval\n",
    "* 문자열을 코드로 실행 가능하게 함. "
   ]
  },
  {
   "cell_type": "code",
   "execution_count": 11,
   "metadata": {},
   "outputs": [
    {
     "name": "stdout",
     "output_type": "stream",
     "text": [
      "6\n"
     ]
    }
   ],
   "source": [
    "x=3\n",
    "str='3+x'\n",
    "print(eval(str))"
   ]
  },
  {
   "cell_type": "markdown",
   "metadata": {},
   "source": [
    "* 단, 변수를 정의할때는 안되므로, local()['변수명']으로 사용"
   ]
  },
  {
   "cell_type": "code",
   "execution_count": 12,
   "metadata": {},
   "outputs": [],
   "source": [
    "#fail : eval('y=1')\n",
    "locals()['y'] = 1"
   ]
  },
  {
   "cell_type": "code",
   "execution_count": 13,
   "metadata": {},
   "outputs": [],
   "source": [
    "## zip"
   ]
  },
  {
   "cell_type": "code",
   "execution_count": 14,
   "metadata": {},
   "outputs": [
    {
     "data": {
      "text/plain": [
       "[(1, 4), (2, 5), (3, 6)]"
      ]
     },
     "execution_count": 14,
     "metadata": {},
     "output_type": "execute_result"
    }
   ],
   "source": [
    "a=[1,2,3]\n",
    "b=[4,5,6]\n",
    "[i for  i in zip(a,b)]"
   ]
  },
  {
   "cell_type": "markdown",
   "metadata": {},
   "source": [
    "## struct\n",
    "- Python 문자열로 표현된 C structs와 Python Value 간의 변환\n",
    "- Link : http://hextracker.tistory.com/141\n",
    "- 특징\n",
    "    + 파일에 Binary Data를 저장하거나 Network Connection 시 사용\n",
    "- 주요 Fuction\n",
    "    + struct.pack(fmt,v1,v2,...)\n",
    "        지정된 Format에 따라 v1,v2,..의 Values를 Pack을 수행하며 그 결과는 String으로 리턴\n",
    "\n",
    "    + struct.unpack(fmt,string)\n",
    "        지정된 Format에 따라 String을 Unpack을 수행하며 그 결과는 Tuple로 리턴"
   ]
  },
  {
   "cell_type": "code",
   "execution_count": 17,
   "metadata": {},
   "outputs": [
    {
     "name": "stdout",
     "output_type": "stream",
     "text": [
      "0x34333231\n"
     ]
    }
   ],
   "source": [
    "import struct\n",
    "\n",
    "def getDword(s, offset) :\n",
    "    return struct.unpack(\"<L\", s[offset:offset+4])[0]\n",
    "\n",
    "str = b\"123456789\"\n",
    "tmp = getDword(str,0)\n",
    "print(hex(tmp))\n",
    "\n"
   ]
  },
  {
   "cell_type": "markdown",
   "metadata": {},
   "source": [
    "### Byte Order\n",
    "|Character|Byte Order           |Size     |Alignment|\n",
    "|---------|---------------------|---------|----------|\n",
    "| @        |Native               |Native   |Native    |\n",
    "| =        |Native               |Standard|None      |\n",
    "| <        |Little-Endian        |Standard|None      |\n",
    "| >        |Big-Endian           |Standard|None      |\n",
    "| !        |network(=Big-Endian) |Standard|None      |\n",
    "\n",
    "###  Format Characters\n",
    "|Format|C Types           |Python Type        |Standard Size|\n",
    "|------|------------------|-------------------|--------------|\n",
    "| x    |Pad Byte          |No Value           |              |\n",
    "| c    |char              |String of length 1 |1             |\n",
    "| b    |signed char       |integer            |1             |\n",
    "| B    |unsigned char     |integer            |1             |\n",
    "| ?    |_Bool             |bool               |1             |\n",
    "| h    |short             |integer            |2             |\n",
    "| H    |unsigned short    |integer            |2             |\n",
    "| i    |int               |integer            |4             |\n",
    "| I    |unsigned int      |integer            |4             |\n",
    "| l    |long              |integer            |4             |\n",
    "| L    |unsigned long     |integer            |4             |\n",
    "| q    |long long         |integer            |8             |\n",
    "| Q    |unsigned long long|integer            |8             |\n",
    "| f    |float             |float              |4             |\n",
    "| d    |double            |float              |8             |\n",
    "| s    |char[]            |string             |              |\n",
    "| p    |char[]            |string             |              |\n",
    "| P    |void *            |integer            |              |"
   ]
  },
  {
   "cell_type": "markdown",
   "metadata": {},
   "source": [
    "# Builtin Library"
   ]
  },
  {
   "cell_type": "markdown",
   "metadata": {},
   "source": [
    "## OS명령"
   ]
  },
  {
   "cell_type": "code",
   "execution_count": 18,
   "metadata": {},
   "outputs": [
    {
     "name": "stdout",
     "output_type": "stream",
     "text": [
      "0\n",
      "/tmp/x123\n"
     ]
    }
   ],
   "source": [
    "import os\n",
    "print(os.system('touch /tmp/x123') )\n",
    "!ls /tmp/x123"
   ]
  },
  {
   "cell_type": "markdown",
   "metadata": {},
   "source": [
    "## Pickle\n",
    "* 파이썬객체를 저장하고 읽음. "
   ]
  },
  {
   "cell_type": "code",
   "execution_count": 19,
   "metadata": {},
   "outputs": [
    {
     "data": {
      "text/plain": [
       "[1, 2, 3, 4]"
      ]
     },
     "execution_count": 19,
     "metadata": {},
     "output_type": "execute_result"
    }
   ],
   "source": [
    "import pickle\n",
    "\n",
    "thePath=\"/tmp/tmp\"\n",
    "obj=[1,2,3,4]\n",
    "with open(thePath, \"wb\") as f:\n",
    "  pickle.dump(obj,f)\n",
    "\n",
    "\n",
    "with open(thePath, \"rb\") as f:\n",
    "    obj2 = pickle.load(f)\n",
    "\n",
    "obj2\n",
    "\n",
    "\n"
   ]
  },
  {
   "cell_type": "markdown",
   "metadata": {},
   "source": [
    "## Default Dict\n",
    "* 없는 키값을 리턴해도 에러를 발생시키기 않는 Dictionary"
   ]
  },
  {
   "cell_type": "code",
   "execution_count": 20,
   "metadata": {},
   "outputs": [],
   "source": [
    "from collections import defaultdict\n",
    "d=defaultdict(lambda: None)\n",
    "d[\"a\"]       # no error, return None\n",
    "\n"
   ]
  },
  {
   "cell_type": "code",
   "execution_count": 21,
   "metadata": {},
   "outputs": [
    {
     "data": {
      "text/plain": [
       "dict_keys(['a', 'b'])"
      ]
     },
     "execution_count": 21,
     "metadata": {},
     "output_type": "execute_result"
    }
   ],
   "source": [
    "d[\"b\"]=3\n",
    "d.keys()"
   ]
  },
  {
   "cell_type": "code",
   "execution_count": 22,
   "metadata": {},
   "outputs": [
    {
     "name": "stdout",
     "output_type": "stream",
     "text": [
      "None\n"
     ]
    },
    {
     "data": {
      "text/plain": [
       "dict_keys(['a', 'b', 'c'])"
      ]
     },
     "execution_count": 22,
     "metadata": {},
     "output_type": "execute_result"
    }
   ],
   "source": [
    "print(d[\"c\"])\n",
    "d.keys()"
   ]
  },
  {
   "cell_type": "markdown",
   "metadata": {},
   "source": [
    "## Regular Expression"
   ]
  },
  {
   "cell_type": "code",
   "execution_count": 23,
   "metadata": {},
   "outputs": [],
   "source": [
    "import re"
   ]
  },
  {
   "cell_type": "markdown",
   "metadata": {},
   "source": [
    "### re.escape"
   ]
  },
  {
   "cell_type": "markdown",
   "metadata": {},
   "source": [
    "### re.findall"
   ]
  },
  {
   "cell_type": "code",
   "execution_count": 24,
   "metadata": {},
   "outputs": [
    {
     "data": {
      "text/plain": [
       "['a', 'a']"
      ]
     },
     "execution_count": 24,
     "metadata": {},
     "output_type": "execute_result"
    }
   ],
   "source": [
    "re.findall('a','apache')\n",
    "# ['a', 'a']"
   ]
  },
  {
   "cell_type": "markdown",
   "metadata": {},
   "source": [
    "#### MultiLine Examples"
   ]
  },
  {
   "cell_type": "code",
   "execution_count": 25,
   "metadata": {},
   "outputs": [
    {
     "data": {
      "text/plain": [
       "['bbb cc\\ndd\\n']"
      ]
     },
     "execution_count": 25,
     "metadata": {},
     "output_type": "execute_result"
    }
   ],
   "source": [
    "import re\n",
    "s='''\n",
    "aa\n",
    "bbb cc\n",
    "dd\n",
    "'''\n",
    "re.findall('bb.*$',s,re.DOTALL)"
   ]
  },
  {
   "cell_type": "markdown",
   "metadata": {},
   "source": [
    "### re.finditer"
   ]
  },
  {
   "cell_type": "markdown",
   "metadata": {},
   "source": [
    "### re.fullmatch"
   ]
  },
  {
   "cell_type": "markdown",
   "metadata": {},
   "source": [
    "### re.functools"
   ]
  },
  {
   "cell_type": "markdown",
   "metadata": {},
   "source": [
    "### re.match\n",
    "* 주의 정확히 일치 해야 함."
   ]
  },
  {
   "cell_type": "code",
   "execution_count": 26,
   "metadata": {},
   "outputs": [
    {
     "name": "stdout",
     "output_type": "stream",
     "text": [
      "Match\n",
      "Match\n"
     ]
    }
   ],
   "source": [
    "p=re.compile('[a-z]+')\n",
    "if p.match(\"python\"):\n",
    "  print('Match')\n",
    "\n",
    "\n",
    "if not re.match('a$',\"ca\"):\n",
    "     print(\"Match\")\n",
    "else:\n",
    "     print(\"NoMatch\") # <==요게 나옴 정확히 않맞으니까."
   ]
  },
  {
   "cell_type": "markdown",
   "metadata": {},
   "source": [
    "### re.search/compile/group\n",
    "* match Object의 메서드들\n",
    "    - Method,  Descrption\n",
    "    - group(), 일치된 문자열을 반환한다.\n",
    "    - start(), 일치된 문자열의 시작 위치를 반환한다.\n",
    "    - end(),   일치된 문자열의 끝 위치를 반환한다.\n",
    "    - span(),  일치된 문자열의 (시작 위치, 끝 위치) 튜플을 반환한다.\n",
    "* Example Simple\n",
    "\n"
   ]
  },
  {
   "cell_type": "code",
   "execution_count": 27,
   "metadata": {},
   "outputs": [
    {
     "data": {
      "text/plain": [
       "'c'"
      ]
     },
     "execution_count": 27,
     "metadata": {},
     "output_type": "execute_result"
    }
   ],
   "source": [
    "regex = re.compile('(a+).*(c+)')\n",
    "mo = regex.search('abc')\n",
    "mo.group(2)\n",
    "# 'c'"
   ]
  },
  {
   "cell_type": "markdown",
   "metadata": {},
   "source": [
    "* Example Full"
   ]
  },
  {
   "cell_type": "code",
   "execution_count": 28,
   "metadata": {},
   "outputs": [
    {
     "name": "stdout",
     "output_type": "stream",
     "text": [
      "<re.Match object; span=(4, 6), match='ss'>\n",
      "a\n",
      "ss\n",
      "4\n",
      "6\n",
      "(4, 6)\n"
     ]
    }
   ],
   "source": [
    "import re\n",
    "\n",
    "matchObj = re.search('s+', \"a a ss a ssss\")\n",
    "print(matchObj)\n",
    "\n",
    "regex=re.compile('(a)(b)(.*)')\n",
    "mo=regex.search('abca')\n",
    "print(mo.group(1))\n",
    "\n",
    "print(matchObj.group())\n",
    "# ss\n",
    "print(matchObj.start())\n",
    "# 4\n",
    "print(matchObj.end())\n",
    "# 6\n",
    "print(matchObj.span())\n",
    "# (4,6)"
   ]
  },
  {
   "cell_type": "markdown",
   "metadata": {},
   "source": [
    "### re.split"
   ]
  },
  {
   "cell_type": "markdown",
   "metadata": {},
   "source": [
    "### re.sub"
   ]
  },
  {
   "cell_type": "code",
   "execution_count": 29,
   "metadata": {},
   "outputs": [
    {
     "data": {
      "text/plain": [
       "'She is xx, her sister is xx.'"
      ]
     },
     "execution_count": 29,
     "metadata": {},
     "output_type": "execute_result"
    }
   ],
   "source": [
    "re.sub(r\"18|28\",r\"xx\",\"She is 18, her sister is 28.\")"
   ]
  },
  {
   "cell_type": "code",
   "execution_count": 30,
   "metadata": {},
   "outputs": [
    {
     "data": {
      "text/plain": [
       "('She is xx, her sister is 28.', 1)"
      ]
     },
     "execution_count": 30,
     "metadata": {},
     "output_type": "execute_result"
    }
   ],
   "source": [
    "### re.subn\n",
    "re.subn(r\"18|28\",r\"xx\",\"She is 18, her sister is 28.\")\n",
    "# ('She is xx, her sister is xx.', 2)\n",
    "\n",
    "re.subn(r\"18\",r\"xx\",\"She is 18, her sister is 28.\")\n",
    "# ('She is xx, her sister is 28.', 1)"
   ]
  },
  {
   "cell_type": "markdown",
   "metadata": {},
   "source": [
    "### Examples"
   ]
  },
  {
   "cell_type": "code",
   "execution_count": 31,
   "metadata": {},
   "outputs": [],
   "source": [
    "import re\n",
    "operater = '[\\+|\\-|\\/|\\*|\\(|\\)]+'\n",
    "e=\"(3+4)*5\"\n",
    "operaters=re.findall(operater,e)\n",
    "variables=re.split(operater, e)\n"
   ]
  },
  {
   "cell_type": "markdown",
   "metadata": {},
   "source": [
    "## json"
   ]
  },
  {
   "cell_type": "code",
   "execution_count": 32,
   "metadata": {},
   "outputs": [],
   "source": [
    "!echo '{\"aa\":1,\"bb\":[1,2,3]}' > \"/tmp/xx.json\""
   ]
  },
  {
   "cell_type": "code",
   "execution_count": 33,
   "metadata": {},
   "outputs": [
    {
     "name": "stdout",
     "output_type": "stream",
     "text": [
      "{'aa': 1, 'bb': [1, 2, 3]}\n",
      "[1, 2, 3]\n"
     ]
    }
   ],
   "source": [
    "import json\n",
    "json_data=open('/tmp/xx.json').read()\n",
    "d=json.loads(json_data)\n",
    "print(d)\n",
    "print(d['bb'])"
   ]
  },
  {
   "cell_type": "markdown",
   "metadata": {},
   "source": [
    "## dateutil\n",
    "* String to Date"
   ]
  },
  {
   "cell_type": "code",
   "execution_count": 34,
   "metadata": {},
   "outputs": [
    {
     "data": {
      "text/plain": [
       "datetime.datetime(2000, 1, 1, 0, 0)"
      ]
     },
     "execution_count": 34,
     "metadata": {},
     "output_type": "execute_result"
    }
   ],
   "source": [
    "from dateutil.parser import parse\n",
    "parse('2000-01-01')"
   ]
  },
  {
   "cell_type": "markdown",
   "metadata": {},
   "source": [
    "* Date add"
   ]
  },
  {
   "cell_type": "code",
   "execution_count": 35,
   "metadata": {},
   "outputs": [
    {
     "name": "stdout",
     "output_type": "stream",
     "text": [
      "3653 days, 0:00:00\n",
      "2010-01-11 00:00:00\n"
     ]
    }
   ],
   "source": [
    "import datetime\n",
    "from dateutil.parser import parse\n",
    "d=parse('2010-01-01')-parse('2000-01-01')\n",
    "print(d)\n",
    "print(parse('2010-01-01') + datetime.timedelta(days=10) )"
   ]
  },
  {
   "cell_type": "markdown",
   "metadata": {},
   "source": [
    "## pdb\n",
    "* Source : http://pythonstudy.xyz/python/article/505-Python-디버깅-PDB\n",
    "```\n",
    "import pdb; pdb.set_trace()\n",
    "```\n",
    "### PDB Syntax\n",
    "\n",
    "|PDB     |명령어\t실행내용                           |\n",
    "|--------|-----------------------------------|\n",
    "|help    |도움말                                |\n",
    "|next    |다음 문장으로 이동                         |\n",
    "|print   |변수값 화면에 표시                         |\n",
    "|list    |소스코드 리스트 출력. 현재 위치 화살표로 표시됨        |\n",
    "|where   |콜스택 출력                             |\n",
    "|continue|계속 실행. 다음 중단점에 멈추거나 중단점 없으면 끝까지 실행|\n",
    "|step    |Step Into 하여 함수 내부로 들어감            |\n",
    "|return  |현재 함수의 리턴 직전까지 실행                  |\n",
    "|!변수명 = 값|변수에 값 재설정                          |"
   ]
  },
  {
   "cell_type": "markdown",
   "metadata": {},
   "source": [
    "## subprocess"
   ]
  },
  {
   "cell_type": "code",
   "execution_count": 67,
   "metadata": {},
   "outputs": [
    {
     "data": {
      "text/plain": [
       "'Filesystem                                                          Size   Used  Avail Capacity  iused       ifree %iused  Mounted on\\n/dev/disk1s5                                                       1.8Ti   10Gi  810Gi     2%   488254 19538540506    0%   /\\ndevfs                                                              205Ki  205Ki    0Bi   100%      709           0  100%   /dev\\n/dev/disk1s1                                                       1.8Ti  1.0Ti  810Gi    57%  6711564 19532317196    0%   /System/Volumes/Data\\n/dev/disk1s4                                                       1.8Ti  3.0Gi  810Gi     1%        3 19539028757    0%   /private/var/vm\\nmap auto_home                                                        0Bi    0Bi    0Bi   100%        0           0  100%   /System/Volumes/Data/home\\n/dev/disk2s2                                                       1.8Ti  1.2Ti  678Gi    64% 10421172  4284546107    0%   /Volumes/2TB-TimeMachine2021\\n/dev/disk3s2                                                        15Ti  5.4Ti  9.2Ti    37%  4175545  4290791750    0%   /Volumes/16T\\n/dev/disk1s3                                                       1.8Ti  504Mi  810Gi     1%       51 19539028709    0%   /Volumes/Recovery\\n/dev/disk4s1                                                       140Ki   96Ki   44Ki    69%      512           0  100%   /Volumes/LAUNCHPAD\\n/dev/disk5s2                                                       2.7Ti  1.0Ti  1.7Ti    37%  8702986  4286264293    0%   /Volumes/Da-New\\n//DRIVE@localhost:55656/finfra@gmail.com%20-%20Google%20Drive      300Gi   19Gi  281Gi     7%  4937876    73705322    6%   /Volumes/GoogleDrive\\n//DRIVE@localhost:55665/nowage73@gmail.com%20-%20Google%20Drive    100Gi  317Mi  100Gi     1%    81277    26133121    0%   /Volumes/GoogleDrive-113096305687776344771\\n//DRIVE@localhost:55678/finfra.com@gmail.com%20-%20Google%20Drive   15Gi    0Bi   15Gi     0% 18446744073709551614     3932160 469125199793842%   /Volumes/GoogleDrive-108296306654199140521\\n//DRIVE@localhost:55684/nowage@gmail.com%20-%20Google%20Drive       17Gi  8.8Gi  8.2Gi    52%  2300446     2156000   52%   /Volumes/GoogleDrive-104987625894480788821\\n'"
      ]
     },
     "execution_count": 67,
     "metadata": {},
     "output_type": "execute_result"
    }
   ],
   "source": [
    "import subprocess\n",
    "p = subprocess.Popen('df -h', shell=True, stdout=subprocess.PIPE)\n",
    "p.communicate()[0].decode('utf-8')\n",
    "# python2 :  print(str(p.communicate()[0], 'utf-8'))"
   ]
  },
  {
   "cell_type": "markdown",
   "metadata": {},
   "source": [
    "## Requests"
   ]
  },
  {
   "cell_type": "markdown",
   "metadata": {},
   "source": [
    "* Example from : https://gosmcom.tistory.com/130"
   ]
  },
  {
   "cell_type": "markdown",
   "metadata": {},
   "source": [
    "### Request Example"
   ]
  },
  {
   "cell_type": "code",
   "execution_count": 38,
   "metadata": {},
   "outputs": [],
   "source": [
    "import requests\n",
    "r = requests.get('https://api.github.com/events')"
   ]
  },
  {
   "cell_type": "code",
   "execution_count": 39,
   "metadata": {},
   "outputs": [],
   "source": [
    "r = requests.post('https://httpbin.org/post', data = {'key':'value'})"
   ]
  },
  {
   "cell_type": "code",
   "execution_count": 40,
   "metadata": {},
   "outputs": [],
   "source": [
    "r = requests.put('https://httpbin.org/put', data = {'key':'value'})"
   ]
  },
  {
   "cell_type": "code",
   "execution_count": 41,
   "metadata": {},
   "outputs": [],
   "source": [
    "r = requests.delete('https://httpbin.org/delete')"
   ]
  },
  {
   "cell_type": "code",
   "execution_count": 42,
   "metadata": {},
   "outputs": [],
   "source": [
    "r = requests.head('https://httpbin.org/get')"
   ]
  },
  {
   "cell_type": "code",
   "execution_count": 43,
   "metadata": {},
   "outputs": [],
   "source": [
    "r = requests.options('https://httpbin.org/get')"
   ]
  },
  {
   "cell_type": "markdown",
   "metadata": {},
   "source": [
    "### Request with Header"
   ]
  },
  {
   "cell_type": "code",
   "execution_count": 46,
   "metadata": {
    "collapsed": true,
    "jupyter": {
     "outputs_hidden": true
    }
   },
   "outputs": [
    {
     "name": "stdout",
     "output_type": "stream",
     "text": [
      "b'<!DOCTYPE html>\\r\\n<html>\\r\\n\\r\\n<head>\\r\\n\\t<meta charset=\"utf-8\">\\r\\n\\t<title>\\xe9\\x95\\xbf\\xe6\\x8a\\x95\\xe5\\xad\\xa6\\xe5\\xa0\\x82 | \\xe7\\x90\\x86\\xe8\\xb4\\xa2\\xe5\\xb0\\xb1\\xe6\\x98\\xaf\\xe7\\x90\\x86\\xe7\\x94\\x9f\\xe6\\xb4\\xbb</title>\\r\\n\\t<meta name=\"keywords\" content=\"\\xe9\\x95\\xbf\\xe6\\x8a\\x95\\xe5\\xad\\xa6\\xe5\\xa0\\x82|\\xe7\\x90\\x86\\xe8\\xb4\\xa2\\xe5\\xb0\\xb1\\xe6\\x98\\xaf\\xe7\\x90\\x86\\xe7\\x94\\x9f\\xe6\\xb4\\xbb\">\\r\\n\\t<meta name=\"description\" content=\"\\xe5\\x9b\\xbd\\xe5\\x86\\x85\\xe7\\x8e\\x87\\xe5\\x85\\x88\\xe6\\x8e\\xa8\\xe5\\x87\\xba\\xe5\\xae\\x9a\\xe5\\x88\\xb6\\xe5\\x8c\\x96\\xe8\\xaf\\xbe\\xe7\\xa8\\x8b\\xe7\\x9a\\x84\\xe5\\x9c\\xa8\\xe7\\xba\\xbf\\xe7\\x90\\x86\\xe8\\xb4\\xa2\\xe6\\x95\\x99\\xe8\\x82\\xb2\\xe6\\x9c\\xba\\xe6\\x9e\\x84\\xef\\xbc\\x8c\\xe5\\x85\\xb7\\xe5\\xa4\\x87\\xe5\\xae\\x8c\\xe5\\x96\\x84\\xe7\\x9a\\x84\\xe8\\xaf\\xbe\\xe7\\xa8\\x8b\\xe4\\xbd\\x93\\xe7\\xb3\\xbb\\xef\\xbc\\x8c\\xe5\\xb7\\xb2\\xe6\\x9c\\x89\\xe8\\xb6\\x85\\xe8\\xbf\\x87500\\xe4\\xb8\\x87\\xe7\\x94\\xa8\\xe6\\x88\\xb7\\xe5\\x9c\\xa8\\xe7\\xba\\xbf\\xe5\\xad\\xa6\\xe4\\xb9\\xa0\\xe3\\x80\\x82\">\\r\\n\\t<meta name=\"viewport\" content=\"initial-scale=1, maximum-scale=1, minimum-scale=1, user-scalable=no\">\\r\\n\\t<meta http-equiv=\"X-UA-Compatible\" content=\"IE=edge,chrome=1\" />\\r\\n\\t<meta http-equiv=\"Cache-Control\" content=\"no-siteapp\" />\\r\\n\\t<meta name=\"apple-mobile-web-app-capable\" content=\"yes\" />\\r\\n\\t<link rel=\"shortcut icon\" href=\"images/favicon.ico\" type=\"image/x-icon\" />\\r\\n\\t<link rel=\"stylesheet\" type=\"text/css\" href=\"css/reset.css\" />\\r\\n\\t<link rel=\"stylesheet\" type=\"text/css\" href=\"css/global.css\" />\\r\\n\\t<link href=\"lib/animate.min.css\" rel=\"stylesheet\">\\r\\n\\t<script src=\"lib/jquery.min.js\"></script>\\r\\n\\t<!-- swiper -->\\r\\n\\t<link href=\"lib/swiper.min.css\" rel=\"stylesheet\">\\r\\n\\t<script src=\"lib/swiper.min.js\"></script>\\r\\n\\t<!-- wow -->\\r\\n\\t<script src=\"lib/wow.min.js\"></script>\\r\\n\\t<link rel=\"stylesheet\" type=\"text/css\" href=\"css/style.css\" />\\r\\n\\t<!-- sensorsdata -->\\r\\n\\t<script src=\"./js/sensorsdata.js\" type=\"text/javascript\" charset=\"utf-8\"></script>\\r\\n\\t<script src=\"lib/tingyun-rum.js\" type=\"text/javascript\" charset=\"utf-8\"></script>\\r\\n</head>\\r\\n<style type=\"text/css\">\\r\\n\\t.window-video,\\r\\n\\t.window-video2,\\r\\n\\t.window-video3 {\\r\\n\\t\\tposition: fixed;\\r\\n\\t\\ttop: 0;\\r\\n\\t\\tleft: 0;\\r\\n\\t\\tz-index: 9;\\r\\n\\t\\twidth: 100%;\\r\\n\\t\\tmin-width: 1200px;\\r\\n\\t\\theight: 100%;\\r\\n\\t\\tbackground: rgba(0, 0, 0, 0.6);\\r\\n\\t\\topacity: 0;\\r\\n\\t\\tvisibility: hidden;\\r\\n\\t\\tdisplay: flex;\\r\\n\\t\\talign-items: center;\\r\\n\\t\\tjustify-content: center;\\r\\n\\t\\ttransition: all .3s;\\r\\n\\t}\\r\\n\\r\\n\\t.window-video-box,\\r\\n\\t.window-video-box2,\\r\\n\\t.window-video-box3 {\\r\\n\\t\\tposition: relative;\\r\\n\\t}\\r\\n\\r\\n\\t.window-video-box video,\\r\\n\\t.window-video-box2 video,\\r\\n\\t.window-video-box3 video {\\r\\n\\t\\toutline: none;\\r\\n\\t}\\r\\n\\r\\n\\t.window-video-close {\\r\\n\\t\\tposition: absolute;\\r\\n\\t\\ttop: 0;\\r\\n\\t\\tright: -68px;\\r\\n\\t\\twidth: 48px;\\r\\n\\t\\theight: 48px;\\r\\n\\t\\tborder-radius: 50%;\\r\\n\\t\\tcursor: pointer;\\r\\n\\t}\\r\\n\\r\\n\\t.show-video {\\r\\n\\t\\tvisibility: visible;\\r\\n\\t\\topacity: 1\\r\\n\\t}\\r\\n\\r\\n\\t.swiper-button-next,\\r\\n\\t.swiper-button-prev {\\r\\n\\t\\toutline: none;\\r\\n\\t\\twidth: 40px;\\r\\n\\t\\theight: 40px;\\r\\n\\t\\tbackground-size: 40px 40px;\\r\\n\\t}\\r\\n\\r\\n\\t.banner .swiper-button-prev {\\r\\n\\t\\tleft: 24px;\\r\\n\\t\\tbackground-image: url(./images/banner/l.png);\\r\\n\\t}\\r\\n\\r\\n\\t.banner .swiper-button-next {\\r\\n\\t\\tright: 24px;\\r\\n\\t\\tbackground-image: url(./images/banner/r.png);\\r\\n\\t}\\r\\n\\r\\n\\t.about-honor .swiper-button-prev {\\r\\n\\t\\tleft: -10px;\\r\\n\\t\\tbackground-image: url(./images/banner/l.png);\\r\\n\\t}\\r\\n\\r\\n\\t.about-honor .swiper-button-next {\\r\\n\\t\\tright: -10px;\\r\\n\\t\\tbackground-image: url(./images/banner/r.png);\\r\\n\\t}\\r\\n\\r\\n\\t.index-auth .swiper-button-prev {\\r\\n\\t\\tleft: -10px;\\r\\n\\t\\tbackground-image: url(./images/banner/l.png);\\r\\n\\t}\\r\\n\\r\\n\\t.index-auth .swiper-button-next {\\r\\n\\t\\tright: -10px;\\r\\n\\t\\tbackground-image: url(./images/banner/r.png);\\r\\n\\t}\\r\\n</style>\\r\\n\\r\\n<body>\\r\\n\\t<!-- ./ -->\\r\\n\\t<div class=\"window-video\">\\r\\n\\t\\t<div class=\"window-video-box\">\\r\\n\\t\\t\\t<video width=\"990\" controls=\"\" preload=\"none\">\\r\\n\\t\\t\\t\\t<source src=\"https://market-source.oss-cn-hangzhou.aliyuncs.com/video/20200506.mp4\" type=\"video/mp4\">\\r\\n\\t\\t\\t\\t</source>\\r\\n\\t\\t\\t\\t\\xe5\\xbd\\x93\\xe5\\x89\\x8d\\xe6\\xb5\\x8f\\xe8\\xa7\\x88\\xe5\\x99\\xa8\\xe4\\xb8\\x8d\\xe6\\x94\\xaf\\xe6\\x8c\\x81 video\\xe7\\x9b\\xb4\\xe6\\x8e\\xa5\\xe6\\x92\\xad\\xe6\\x94\\xbe\\r\\n\\t\\t\\t</video>\\r\\n\\t\\t</div>\\r\\n\\t</div>\\r\\n\\t<div class=\"window-video2\">\\r\\n\\t\\t<div class=\"window-video-box2\">\\r\\n\\t\\t\\t<video width=\"990\" controls=\"\" preload=\"none\">\\r\\n\\t\\t\\t\\t<source src=\"https://market-source.oss-cn-hangzhou.aliyuncs.com/video/20210126.mp4\" type=\"video/mp4\">\\r\\n\\t\\t\\t\\t</source>\\r\\n\\t\\t\\t\\t\\xe5\\xbd\\x93\\xe5\\x89\\x8d\\xe6\\xb5\\x8f\\xe8\\xa7\\x88\\xe5\\x99\\xa8\\xe4\\xb8\\x8d\\xe6\\x94\\xaf\\xe6\\x8c\\x81 video\\xe7\\x9b\\xb4\\xe6\\x8e\\xa5\\xe6\\x92\\xad\\xe6\\x94\\xbe\\r\\n\\t\\t\\t</video>\\r\\n\\t\\t</div>\\r\\n\\t</div>\\r\\n\\t<div class=\"window-video3\">\\r\\n\\t\\t<div class=\"window-video-box3\">\\r\\n\\t\\t\\t<video width=\"990\" controls=\"\" preload=\"none\">\\r\\n\\t\\t\\t\\t<source src=\"https://market-source.oss-cn-hangzhou.aliyuncs.com/video/20210202.mp4\" type=\"video/mp4\">\\r\\n\\t\\t\\t\\t</source>\\r\\n\\t\\t\\t\\t\\xe5\\xbd\\x93\\xe5\\x89\\x8d\\xe6\\xb5\\x8f\\xe8\\xa7\\x88\\xe5\\x99\\xa8\\xe4\\xb8\\x8d\\xe6\\x94\\xaf\\xe6\\x8c\\x81 video\\xe7\\x9b\\xb4\\xe6\\x8e\\xa5\\xe6\\x92\\xad\\xe6\\x94\\xbe\\r\\n\\t\\t\\t</video>\\r\\n\\t\\t</div>\\r\\n\\t</div>\\r\\n\\t<!-- ./\\xe8\\xa7\\x86\\xe9\\xa2\\x91\\xe5\\xae\\xb9\\xe5\\x99\\xa8 -->\\r\\n\\t<div class=\"header\">\\r\\n\\t\\t<div class=\"container-width clearfix\">\\r\\n\\t\\t\\t<a href=\"index.html\" class=\"fl logo\">\\r\\n\\t\\t\\t\\t<img src=\"images/logo.png\" title=\"\" alt=\"\">\\r\\n\\t\\t\\t</a>\\r\\n\\t\\t\\t<!-- ./logo -->\\r\\n\\t\\t\\t<div class=\"fr nav\">\\r\\n\\t\\t\\t\\t<ul class=\"clearfix\">\\r\\n\\t\\t\\t\\t\\t<li><a href=\"index.html\" class=\"on\">\\xe9\\xa6\\x96\\xe9\\xa1\\xb5</a></li>\\r\\n\\t\\t\\t\\t\\t<li><a href=\"project.html\">\\xe8\\xaf\\xbe\\xe7\\xa8\\x8b\\xe4\\xb8\\xad\\xe5\\xbf\\x83</a></li>\\r\\n\\t\\t\\t\\t\\t<li><a href=\"about.html\">\\xe5\\x85\\xb3\\xe4\\xba\\x8e\\xe6\\x88\\x91\\xe4\\xbb\\xac</a></li>\\r\\n\\t\\t\\t\\t\\t<li><a href=\"https://app.mokahr.com/apply/ichangtou/25919#/?_k=kwthw4\">\\xe5\\x8a\\xa0\\xe5\\x85\\xa5\\xe6\\x88\\x91\\xe4\\xbb\\xac</a></li>\\r\\n\\t\\t\\t\\t</ul>\\r\\n\\t\\t\\t</div>\\r\\n\\t\\t\\t<!-- ./nav -->\\r\\n\\t\\t</div>\\r\\n\\t</div>\\r\\n\\t<!-- ./header -->\\r\\n\\t<div class=\"banner\">\\r\\n\\t\\t<div class=\"swiper-container swiper-no-swiping\">\\r\\n\\t\\t\\t<div class=\"swiper-wrapper\">\\r\\n\\t\\t\\t\\t<!-- \\xe8\\xa7\\x86\\xe9\\xa2\\x913 -->\\r\\n\\t\\t\\t\\t<!-- <div class=\"swiper-slide clearfix\" onclick=\"Gsend(\\'\\',\\'\\xe8\\xbd\\xae\\xe6\\x92\\xad\\xe4\\xbd\\x8d9\\',\\'\\',this)\">\\r\\n\\t\\t\\t\\t\\t\\t<a href=\"javascript:;\" id=\"show-video-btn3\">\\r\\n\\t\\t\\t\\t\\t\\t\\t<div class=\"banner-position\">\\r\\n\\t\\t\\t\\t\\t\\t\\t\\t<div class=\"container-width o-hidden\">\\r\\n\\t\\t\\t\\t\\t\\t\\t\\t\\t<div class=\"banner-text ani-text\">\\r\\n\\t\\t\\t\\t\\t\\t\\t\\t\\t\\t<h3>\\xe7\\x90\\x86\\xe8\\xb4\\xa2\\xe5\\xb0\\xb1\\xe6\\x98\\xaf\\xe7\\x90\\x86\\xe7\\x94\\x9f\\xe6\\xb4\\xbb</h3>\\r\\n\\t\\t\\t\\t\\t\\t\\t\\t\\t\\t<p>\\r\\n\\t\\t\\t\\t\\t\\t\\t\\t\\t\\t\\t\\xe5\\x8d\\x81\\xe5\\xb9\\xb4\\xe6\\x8b\\xa5\\xe6\\x9c\\x89\\xe8\\xb6\\x85500\\xe4\\xb8\\x87\\xe7\\x94\\xa8\\xe6\\x88\\xb7 <br/>\\xe8\\xae\\xa9\\xe4\\xba\\xba\\xe4\\xba\\xba\\xe9\\x83\\xbd\\xe8\\x83\\xbd\\xe4\\xba\\xab\\xe5\\x8f\\x97\\xe8\\xb4\\xa2\\xe5\\xaf\\x8c\\xe7\\x9a\\x84\\xe4\\xb9\\x90\\xe8\\xb6\\xa3\\r\\n\\t\\t\\t\\t\\t\\t\\t\\t\\t\\t</p>\\r\\n\\t\\t\\t\\t\\t\\t\\t\\t\\t\\t<div class=\"more banner-more\">\\r\\n\\t\\t\\t\\t\\t\\t\\t\\t\\t\\t\\t<span class=\"btn-more\">\\xe7\\x82\\xb9\\xe5\\x87\\xbb\\xe6\\x9f\\xa5\\xe7\\x9c\\x8b\\xe5\\x8d\\x81\\xe5\\xb9\\xb4\\xe7\\x9a\\x84\\xe6\\x95\\x85\\xe4\\xba\\x8b<b></b></span>\\r\\n\\t\\t\\t\\t\\t\\t\\t\\t\\t\\t</div>\\r\\n\\t\\t\\t\\t\\t\\t\\t\\t\\t</div>\\r\\n\\t\\t\\t\\t\\t\\t\\t\\t</div>\\r\\n\\t\\t\\t\\t\\t\\t\\t</div>\\r\\n\\t\\t\\t\\t\\t\\t\\t<div class=\"banner-img ani-a\" style=\"background-image: url(images/banner/bg-9.png);\"></div>\\r\\n\\t\\t\\t\\t\\t\\t</a>\\r\\n\\t\\t\\t\\t\\t</div> -->\\r\\n\\t\\t\\t\\t<div class=\"swiper-slide clearfix\" onclick=\"Gsend(\\'\\',\\'\\xe8\\xbd\\xae\\xe6\\x92\\xad\\xe4\\xbd\\x8d3\\',\\'\\',this)\">\\r\\n\\t\\t\\t\\t\\t<a href=\"about.html\">\\r\\n\\t\\t\\t\\t\\t\\t<div class=\"banner-position\">\\r\\n\\t\\t\\t\\t\\t\\t\\t<div class=\"container-width o-hidden\">\\r\\n\\t\\t\\t\\t\\t\\t\\t\\t<div class=\"banner-text ani-text\">\\r\\n\\t\\t\\t\\t\\t\\t\\t\\t\\t<h3>\\xe7\\x90\\x86\\xe8\\xb4\\xa2\\xe5\\xb0\\xb1\\xe6\\x98\\xaf\\xe7\\x90\\x86\\xe7\\x94\\x9f\\xe6\\xb4\\xbb</h3>\\r\\n\\t\\t\\t\\t\\t\\t\\t\\t\\t<p>\\xe5\\x8d\\x81\\xe5\\xb9\\xb4\\xe6\\x8b\\xa5\\xe6\\x9c\\x89\\xe8\\xb6\\x85500\\xe4\\xb8\\x87\\xe7\\x94\\xa8\\xe6\\x88\\xb7<br>\\xe8\\xae\\xa9\\xe4\\xba\\xba\\xe4\\xba\\xba\\xe9\\x83\\xbd\\xe8\\x83\\xbd\\xe4\\xba\\xab\\xe5\\x8f\\x97\\xe8\\xb4\\xa2\\xe5\\xaf\\x8c\\xe7\\x9a\\x84\\xe4\\xb9\\x90\\xe8\\xb6\\xa3</p>\\r\\n\\t\\t\\t\\t\\t\\t\\t\\t\\t<div class=\"more banner-more\">\\r\\n\\t\\t\\t\\t\\t\\t\\t\\t\\t\\t<span class=\"btn-more\">\\xe7\\x82\\xb9\\xe5\\x87\\xbb\\xe6\\x9f\\xa5\\xe7\\x9c\\x8b\\xe5\\x8d\\x81\\xe5\\xb9\\xb4\\xe7\\x9a\\x84\\xe6\\x95\\x85\\xe4\\xba\\x8b <b></b></span>\\r\\n\\t\\t\\t\\t\\t\\t\\t\\t\\t</div>\\r\\n\\t\\t\\t\\t\\t\\t\\t\\t</div>\\r\\n\\t\\t\\t\\t\\t\\t\\t</div>\\r\\n\\t\\t\\t\\t\\t\\t</div>\\r\\n\\t\\t\\t\\t\\t\\t<div class=\"banner-img ani-a\" style=\"background-image: url(images/banner/bg-9.png);\">\\r\\n\\t\\t\\t\\t\\t\\t\\t<!-- <img src=\"images/banner/item-1-1.png\" title=\"\" alt=\"\" class=\"ani-img\"> -->\\r\\n\\t\\t\\t\\t\\t\\t</div>\\r\\n\\t\\t\\t\\t\\t</a>\\r\\n\\t\\t\\t\\t</div>\\r\\n\\r\\n\\t\\t\\t\\t<!-- \\xe8\\xa7\\x86\\xe9\\xa2\\x912 -->\\r\\n\\t\\t\\t\\t<div class=\"swiper-slide clearfix\" onclick=\"Gsend(\\'\\',\\'\\xe8\\xbd\\xae\\xe6\\x92\\xad\\xe4\\xbd\\x8d8\\',\\'\\',this)\">\\r\\n\\t\\t\\t\\t\\t<a href=\"javascript:;\" id=\"show-video-btn2\">\\r\\n\\t\\t\\t\\t\\t\\t<div class=\"banner-position\">\\r\\n\\t\\t\\t\\t\\t\\t\\t<div class=\"container-width o-hidden\">\\r\\n\\t\\t\\t\\t\\t\\t\\t\\t<div class=\"banner-text ani-text\">\\r\\n\\t\\t\\t\\t\\t\\t\\t\\t\\t<h3>\\xe6\\x88\\x91\\xe7\\x9a\\x84\\xe8\\x87\\xaa\\xe7\\x94\\xb1\\xe4\\xba\\xba\\xe7\\x94\\x9f</h3>\\r\\n\\t\\t\\t\\t\\t\\t\\t\\t\\t<p>\\r\\n\\t\\t\\t\\t\\t\\t\\t\\t\\t\\t\\xe6\\x94\\xb9\\xe5\\x8f\\x98\\xe8\\xb6\\x81\\xe7\\x8e\\xb0\\xe5\\x9c\\xa8\\xef\\xbc\\x8c\\xe8\\x87\\xaa\\xe7\\x94\\xb1\\xe6\\x89\\x8d\\xe5\\x8f\\xaf\\xe8\\x83\\xbd <br />\\r\\n\\t\\t\\t\\t\\t\\t\\t\\t\\t\\t<span style=\"color: #64697F; font-size: 15px; margin-top: 0px; letter-spacing: 3px;\\r\\n\\t\\t\\t\\t\\t\\t\\t\\t\\t\\t\\tfont-family: PingFangSC-Regular, PingFang SC;\">\\xe9\\x95\\xbf\\xe6\\x8a\\x95\\xe5\\xad\\xa6\\xe5\\xa0\\x82\\xe5\\x8d\\x81\\xe5\\x91\\xa8\\xe5\\xb9\\xb4\\xe7\\x9c\\x9f\\xe5\\xae\\x9e\\xe7\\x94\\xa8\\xe6\\x88\\xb7\\xe6\\x95\\x85\\xe4\\xba\\x8b\\xe7\\xb3\\xbb\\xe5\\x88\\x97\\xe7\\x9f\\xad\\xe7\\x89\\x87</span>\\r\\n\\t\\t\\t\\t\\t\\t\\t\\t\\t</p>\\r\\n\\t\\t\\t\\t\\t\\t\\t\\t\\t<div class=\"more banner-more\">\\r\\n\\t\\t\\t\\t\\t\\t\\t\\t\\t\\t<span class=\"btn-more\">\\xe7\\x82\\xb9\\xe5\\x87\\xbb\\xe6\\x9f\\xa5\\xe7\\x9c\\x8b\\xe4\\xbb\\x96\\xe4\\xbb\\xac\\xe7\\x9a\\x84\\xe6\\x94\\xb9\\xe5\\x8f\\x98\\xe6\\x95\\x85\\xe4\\xba\\x8b<b></b></span>\\r\\n\\t\\t\\t\\t\\t\\t\\t\\t\\t</div>\\r\\n\\t\\t\\t\\t\\t\\t\\t\\t</div>\\r\\n\\t\\t\\t\\t\\t\\t\\t</div>\\r\\n\\t\\t\\t\\t\\t\\t</div>\\r\\n\\t\\t\\t\\t\\t\\t<div class=\"banner-img ani-a\" style=\"background-image: url(images/banner/bg-8.png);\"></div>\\r\\n\\t\\t\\t\\t\\t</a>\\r\\n\\t\\t\\t\\t</div>\\r\\n\\r\\n\\t\\t\\t\\t<div class=\"swiper-slide clearfix\" onclick=\"Gsend(\\'\\',\\'\\xe8\\xbd\\xae\\xe6\\x92\\xad\\xe4\\xbd\\x8d7\\',\\'\\',this)\">\\r\\n\\t\\t\\t\\t\\t<a href=\"https://mp.weixin.qq.com/s/SJ-TMahePQ-qP__NL76TCA\" target=\"_blank\">\\r\\n\\t\\t\\t\\t\\t\\t<div class=\"banner-position\">\\r\\n\\t\\t\\t\\t\\t\\t\\t<div class=\"container-width o-hidden\">\\r\\n\\t\\t\\t\\t\\t\\t\\t\\t<div class=\"banner-text ani-text\">\\r\\n\\t\\t\\t\\t\\t\\t\\t\\t\\t<h3>\\xe6\\x88\\x91\\xe5\\x92\\x8c\\xe6\\x88\\x91\\xe7\\x9a\\x84\\xe7\\x94\\x9f\\xe6\\xb4\\xbb</h3>\\r\\n\\t\\t\\t\\t\\t\\t\\t\\t\\t<p>\\xe9\\x95\\xbf\\xe6\\x8a\\x95\\xe5\\xad\\xa6\\xe5\\xa0\\x82\\xe8\\x81\\x94\\xe5\\x90\\x88\\xe3\\x80\\x8a\\xe4\\xb8\\xad\\xe5\\x9b\\xbd\\xe9\\x9d\\x92\\xe5\\xb9\\xb4\\xe6\\x8a\\xa5\\xe3\\x80\\x8b<br>\\xe6\\x8e\\xa8\\xe5\\x87\\xba\\xe9\\x9d\\x92\\xe5\\xb9\\xb4\\xe7\\x94\\x9f\\xe6\\xb4\\xbb\\xe6\\x80\\x81\\xe5\\xba\\xa6\\xe7\\xba\\xbf\\xe4\\xb8\\x8a\\xe6\\xb2\\x99\\xe9\\xbe\\x99</p>\\r\\n\\t\\t\\t\\t\\t\\t\\t\\t\\t<div class=\"more banner-more\">\\r\\n\\t\\t\\t\\t\\t\\t\\t\\t\\t\\t<span class=\"btn-more\">\\xe7\\x82\\xb9\\xe5\\x87\\xbb\\xe6\\x9f\\xa5\\xe7\\x9c\\x8b\\xe8\\xaf\\xa6\\xe6\\x83\\x85 <b></b></span>\\r\\n\\t\\t\\t\\t\\t\\t\\t\\t\\t</div>\\r\\n\\t\\t\\t\\t\\t\\t\\t\\t</div>\\r\\n\\t\\t\\t\\t\\t\\t\\t</div>\\r\\n\\t\\t\\t\\t\\t\\t</div>\\r\\n\\t\\t\\t\\t\\t\\t<div class=\"banner-img ani-a\" style=\"background-image: url(images/banner/bg-7.png);\">\\r\\n\\t\\t\\t\\t\\t\\t\\t<!-- <img src=\"images/banner/item-3-1.png\" title=\"\" alt=\"\" class=\"ani-img\"> -->\\r\\n\\t\\t\\t\\t\\t\\t</div>\\r\\n\\t\\t\\t\\t\\t</a>\\r\\n\\t\\t\\t\\t</div>\\r\\n\\r\\n\\t\\t\\t\\t<div class=\"swiper-slide clearfix\" onclick=\"Gsend(\\'\\',\\'\\xe8\\xbd\\xae\\xe6\\x92\\xad\\xe4\\xbd\\x8d5\\',\\'\\',this)\">\\r\\n\\t\\t\\t\\t\\t<a href=\"http://www.sh.chinanews.com/chanjing/2020-09-17/80566.shtml\" target=\"_blank\">\\r\\n\\t\\t\\t\\t\\t\\t<div class=\"banner-position\">\\r\\n\\t\\t\\t\\t\\t\\t\\t<div class=\"container-width o-hidden\">\\r\\n\\t\\t\\t\\t\\t\\t\\t\\t<div class=\"banner-text ani-text\">\\r\\n\\t\\t\\t\\t\\t\\t\\t\\t\\t<h3>\\xe9\\x95\\xbf\\xe6\\x8a\\x95\\xe5\\xad\\xa6\\xe5\\xa0\\x82\\xe4\\xb8\\x8e<br>\\r\\n\\t\\t\\t\\t\\t\\t\\t\\t\\t\\t\\xe4\\xb8\\x8a\\xe6\\xb5\\xb7\\xe8\\xb4\\xa2\\xe7\\xbb\\x8f\\xe5\\xa4\\xa7\\xe5\\xad\\xa6\\xe5\\x90\\x88\\xe4\\xbd\\x9c</h3>\\r\\n\\t\\t\\t\\t\\t\\t\\t\\t\\t<p>\\xe9\\x95\\xbf\\xe6\\x8a\\x95\\xe5\\xad\\xa6\\xe5\\xa0\\x82\\xe4\\xb8\\x8e\\xe4\\xb8\\x8a\\xe6\\xb5\\xb7\\xe8\\xb4\\xa2\\xe7\\xbb\\x8f\\xe5\\xa4\\xa7\\xe5\\xad\\xa6\\xe8\\xbe\\xbe\\xe6\\x88\\x90\\xe6\\x88\\x98\\xe7\\x95\\xa5\\xe5\\x90\\x88\\xe4\\xbd\\x9c<br>\\xe5\\x85\\xb1\\xe5\\x90\\x8c\\xe6\\x8e\\xa8\\xe8\\xbf\\x9b\\xe4\\xb8\\xad\\xe5\\x9b\\xbd\\xe5\\xa4\\xa7\\xe4\\xbc\\x97\\xe8\\xb4\\xa2\\xe5\\x95\\x86\\xe6\\x95\\x99\\xe8\\x82\\xb2\\xe5\\x8f\\x91\\xe5\\xb1\\x95</p>\\r\\n\\t\\t\\t\\t\\t\\t\\t\\t\\t<div class=\"more banner-more\">\\r\\n\\t\\t\\t\\t\\t\\t\\t\\t\\t\\t<span class=\"btn-more\">\\xe6\\x9f\\xa5\\xe7\\x9c\\x8b\\xe8\\xaf\\xa6\\xe6\\x83\\x85 <b></b></span>\\r\\n\\t\\t\\t\\t\\t\\t\\t\\t\\t</div>\\r\\n\\t\\t\\t\\t\\t\\t\\t\\t</div>\\r\\n\\t\\t\\t\\t\\t\\t\\t</div>\\r\\n\\t\\t\\t\\t\\t\\t</div>\\r\\n\\r\\n\\t\\t\\t\\t\\t\\t<div class=\"banner-img ani-a\" style=\"background-image: url(images/banner/bg-5.png);\">\\r\\n\\t\\t\\t\\t\\t\\t\\t<!-- <img src=\"images/banner/item-3-1.png\" title=\"\" alt=\"\" class=\"ani-img\"> -->\\r\\n\\t\\t\\t\\t\\t\\t</div>\\r\\n\\t\\t\\t\\t\\t</a>\\r\\n\\t\\t\\t\\t</div>\\r\\n\\t\\t\\t\\t<div class=\"swiper-slide clearfix\" onclick=\"Gsend(\\'\\',\\'\\xe8\\xbd\\xae\\xe6\\x92\\xad\\xe4\\xbd\\x8d4\\',\\'\\',this)\">\\r\\n\\t\\t\\t\\t\\t<a href=\"javascript:;\" id=\"show-video-btn\">\\r\\n\\t\\t\\t\\t\\t\\t<div class=\"banner-position\">\\r\\n\\t\\t\\t\\t\\t\\t\\t<div class=\"container-width o-hidden\">\\r\\n\\t\\t\\t\\t\\t\\t\\t\\t<div class=\"banner-text ani-text\">\\r\\n\\t\\t\\t\\t\\t\\t\\t\\t\\t<h3><img src=\"images/banner/item-4-1.png\" title=\"\" alt=\"\"></h3>\\r\\n\\t\\t\\t\\t\\t\\t\\t\\t\\t<p>\\xe9\\x80\\x86\\xe8\\xa2\\xad\\xe4\\xba\\xba\\xe7\\x94\\x9f\\xef\\xbc\\x8c\\xe4\\xbd\\xa0\\xe4\\xb9\\x9f\\xe5\\x8f\\xaf\\xe4\\xbb\\xa5\\xef\\xbc\\x81</p>\\r\\n\\t\\t\\t\\t\\t\\t\\t\\t\\t<div class=\"more banner-more\">\\r\\n\\t\\t\\t\\t\\t\\t\\t\\t\\t\\t<span class=\"btn-more\">\\xe7\\xab\\x8b\\xe5\\x8d\\xb3\\xe7\\x82\\xb9\\xe5\\x87\\xbb\\xef\\xbc\\x8c\\xe8\\x8e\\xb7\\xe5\\xbe\\x97\\xe6\\x94\\xb9\\xe5\\x8f\\x98\\xe7\\xa7\\x98\\xe7\\xb1\\x8d<b></b></span>\\r\\n\\t\\t\\t\\t\\t\\t\\t\\t\\t</div>\\r\\n\\t\\t\\t\\t\\t\\t\\t\\t</div>\\r\\n\\t\\t\\t\\t\\t\\t\\t</div>\\r\\n\\t\\t\\t\\t\\t\\t</div>\\r\\n\\t\\t\\t\\t\\t\\t<div class=\"banner-img ani-a\" style=\"background-image: url(images/banner/bg-4.png);\"></div>\\r\\n\\t\\t\\t\\t\\t</a>\\r\\n\\t\\t\\t\\t</div>\\r\\n\\t\\t\\t\\t<div class=\"swiper-slide clearfix\" onclick=\"Gsend(\\'\\',\\'\\xe8\\xbd\\xae\\xe6\\x92\\xad\\xe4\\xbd\\x8d2\\',\\'\\',this)\">\\r\\n\\t\\t\\t\\t\\t<a href=\"project-r1.html\">\\r\\n\\t\\t\\t\\t\\t\\t<div class=\"banner-position\">\\r\\n\\t\\t\\t\\t\\t\\t\\t<div class=\"container-width o-hidden\">\\r\\n\\t\\t\\t\\t\\t\\t\\t\\t<div class=\"banner-text ani-text\">\\r\\n\\t\\t\\t\\t\\t\\t\\t\\t\\t<!-- <h3>\\xe4\\xbb\\x85\\xe9\\x9c\\x80<i>9\\xe5\\x85\\x83</i><br> -->\\r\\n\\t\\t\\t\\t\\t\\t\\t\\t\\t<h3>\\xe5\\xbc\\x80\\xe5\\x90\\xaf14\\xe5\\xa4\\xa9\\xe5\\xb0\\x8f\\xe7\\x99\\xbd\\xe7\\x90\\x86\\xe8\\xb4\\xa2\\xe8\\xaf\\xbe\\xe7\\xa8\\x8b</h3>\\r\\n\\t\\t\\t\\t\\t\\t\\t\\t\\t<p>\\xe7\\x9b\\xb4\\xe5\\xa5\\x94\\xe8\\xb4\\xa2\\xe5\\xaf\\x8c\\xe8\\x87\\xaa\\xe7\\x94\\xb1\\xe4\\xb9\\x8b\\xe8\\xb7\\xaf<br>\\xe6\\x94\\xb6\\xe8\\x8e\\xb7\\xe9\\x9b\\xb6\\xe5\\x9f\\xba\\xe7\\xa1\\x80\\xe7\\x90\\x86\\xe8\\xb4\\xa2\\xe5\\xb9\\xb2\\xe8\\xb4\\xa7</p>\\r\\n\\t\\t\\t\\t\\t\\t\\t\\t\\t<div class=\"more banner-more\">\\r\\n\\t\\t\\t\\t\\t\\t\\t\\t\\t\\t<span class=\"btn-more\">\\xe4\\xb8\\x80\\xe8\\xb5\\xb7\\xe6\\x9d\\xa5\\xe5\\xad\\xa6\\xe4\\xb9\\xa0\\xe5\\x90\\xa7 <b></b></span>\\r\\n\\t\\t\\t\\t\\t\\t\\t\\t\\t</div>\\r\\n\\t\\t\\t\\t\\t\\t\\t\\t</div>\\r\\n\\t\\t\\t\\t\\t\\t\\t</div>\\r\\n\\t\\t\\t\\t\\t\\t</div>\\r\\n\\t\\t\\t\\t\\t\\t<div class=\"banner-img ani-a\" style=\"background-image: url(images/banner/bg-2.png);\">\\r\\n\\t\\t\\t\\t\\t\\t\\t<img src=\"images/banner/item-2-1.png\" title=\"\" alt=\"\" class=\"ani-img\">\\r\\n\\t\\t\\t\\t\\t\\t</div>\\r\\n\\t\\t\\t\\t\\t</a>\\r\\n\\t\\t\\t\\t</div>\\r\\n\\t\\t\\t</div>\\r\\n\\t\\t\\t<!-- Add Pagination -->\\r\\n\\t\\t\\t<div class=\"swiper-pagination\"></div>\\r\\n\\t\\t\\t<div class=\"swiper-button-prev\"></div>\\r\\n\\t\\t\\t<!--\\xe5\\xb7\\xa6\\xe7\\xae\\xad\\xe5\\xa4\\xb4\\xe3\\x80\\x82\\xe5\\xa6\\x82\\xe6\\x9e\\x9c\\xe6\\x94\\xbe\\xe7\\xbd\\xae\\xe5\\x9c\\xa8swiper-container\\xe5\\xa4\\x96\\xe9\\x9d\\xa2\\xef\\xbc\\x8c\\xe9\\x9c\\x80\\xe8\\xa6\\x81\\xe8\\x87\\xaa\\xe5\\xae\\x9a\\xe4\\xb9\\x89\\xe6\\xa0\\xb7\\xe5\\xbc\\x8f\\xe3\\x80\\x82-->\\r\\n\\t\\t\\t<div class=\"swiper-button-next\"></div>\\r\\n\\t\\t\\t<!--\\xe5\\x8f\\xb3\\xe7\\xae\\xad\\xe5\\xa4\\xb4\\xe3\\x80\\x82\\xe5\\xa6\\x82\\xe6\\x9e\\x9c\\xe6\\x94\\xbe\\xe7\\xbd\\xae\\xe5\\x9c\\xa8swiper-container\\xe5\\xa4\\x96\\xe9\\x9d\\xa2\\xef\\xbc\\x8c\\xe9\\x9c\\x80\\xe8\\xa6\\x81\\xe8\\x87\\xaa\\xe5\\xae\\x9a\\xe4\\xb9\\x89\\xe6\\xa0\\xb7\\xe5\\xbc\\x8f\\xe3\\x80\\x82-->\\r\\n\\t\\t</div>\\r\\n\\t</div>\\r\\n\\r\\n\\t<script type=\"text/javascript\">\\r\\n\\t\\t$(\"#show-video-btn\").on(\"click\", function () {\\r\\n\\t\\t\\t$(\".window-video video\")[0].play();\\r\\n\\t\\t\\t$(\".window-video\").addClass(\"show-video\");\\r\\n\\t\\t});\\r\\n\\t\\t$(\".window-video-box\").on(\"click\", function (e) {\\r\\n\\t\\t\\te.stopPropagation();\\r\\n\\t\\t});\\r\\n\\t\\t$(\".window-video\").on(\"click\", function () {\\r\\n\\t\\t\\t$(\".window-video video\")[0].pause();\\r\\n\\t\\t\\t$(\".window-video\").removeClass(\"show-video\");\\r\\n\\t\\t});\\r\\n\\t\\t// \\xe8\\xa7\\x86\\xe9\\xa2\\x912\\r\\n\\t\\t$(\"#show-video-btn2\").on(\"click\", function () {\\r\\n\\t\\t\\t$(\".window-video2 video\")[0].play();\\r\\n\\t\\t\\t$(\".window-video2\").addClass(\"show-video\");\\r\\n\\t\\t});\\r\\n\\t\\t$(\".window-video-box2\").on(\"click\", function (e) {\\r\\n\\t\\t\\te.stopPropagation();\\r\\n\\t\\t});\\r\\n\\t\\t$(\".window-video2\").on(\"click\", function () {\\r\\n\\t\\t\\t$(\".window-video2 video\")[0].pause();\\r\\n\\t\\t\\t$(\".window-video2\").removeClass(\"show-video\");\\r\\n\\t\\t});\\r\\n\\t\\t// \\xe8\\xa7\\x86\\xe9\\xa2\\x913\\r\\n\\t\\t$(\"#show-video-btn3\").on(\"click\", function () {\\r\\n\\t\\t\\t$(\".window-video3 video\")[0].play();\\r\\n\\t\\t\\t$(\".window-video3\").addClass(\"show-video\");\\r\\n\\t\\t});\\r\\n\\t\\t$(\".window-video-box3\").on(\"click\", function (e) {\\r\\n\\t\\t\\te.stopPropagation();\\r\\n\\t\\t});\\r\\n\\t\\t$(\".window-video3\").on(\"click\", function () {\\r\\n\\t\\t\\t$(\".window-video3 video\")[0].pause();\\r\\n\\t\\t\\t$(\".window-video3\").removeClass(\"show-video\");\\r\\n\\t\\t});\\r\\n\\t</script>\\r\\n\\t<!-- ./banner -->\\r\\n\\t<div class=\"index-project pd50\">\\r\\n\\t\\t<div class=\"index-title\">\\r\\n\\t\\t\\t<h3 data-wow-delay=\".6s\" class=\" wow titleDown\">\\xe7\\xb2\\xbe\\xe9\\x80\\x89\\xe8\\xaf\\xbe\\xe7\\xa8\\x8b<span><strong>selected courses</strong></span></h3>\\r\\n\\t\\t</div>\\r\\n\\t\\t<div class=\"more more-default\">\\r\\n\\t\\t\\t<a href=\"project.html\" class=\"btn-more wow fadeIn\" data-wow-delay=\"1s\"\\r\\n\\t\\t\\t\\tonclick=\"Gsend(\\'\\',\\'\\xe6\\x9f\\xa5\\xe7\\x9c\\x8b\\xe6\\x9b\\xb4\\xe5\\xa4\\x9a\\xe8\\xaf\\xbe\\xe7\\xa8\\x8b\\',\\'\\',this)\">\\xe6\\x9f\\xa5\\xe7\\x9c\\x8b\\xe6\\x9b\\xb4\\xe5\\xa4\\x9a\\xe8\\xaf\\xbe\\xe7\\xa8\\x8b\\r\\n\\t\\t\\t\\t<b></b></a>\\r\\n\\t\\t</div>\\r\\n\\t\\t<!-- ./title -->\\r\\n\\t\\t<div class=\"container-width\">\\r\\n\\t\\t\\t<ul class=\"clearfix\">\\r\\n\\t\\t\\t\\t<li data-wow-delay=\".3s\" class=\"wow goUp\">\\r\\n\\t\\t\\t\\t\\t<a href=\"project-r1.html\" class=\"index-project-box\" onclick=\"Gsend(\\'\\xe9\\xa6\\x96\\xe9\\xa1\\xb5\\',\\'\\xe8\\xaf\\xbe\\xe7\\xa8\\x8b\\xe4\\xbd\\x8d1\\',\\'\\',this)\">\\r\\n\\t\\t\\t\\t\\t\\t<div class=\"index-project-pic\">\\r\\n\\t\\t\\t\\t\\t\\t\\t<img src=\"images/project-p1.jpg\">\\r\\n\\t\\t\\t\\t\\t\\t</div>\\r\\n\\t\\t\\t\\t\\t\\t<div class=\"index-project-content\">\\r\\n\\t\\t\\t\\t\\t\\t\\t<h1>\\xe5\\xb0\\x8f\\xe7\\x99\\xbd\\xe7\\x90\\x86\\xe8\\xb4\\xa2\\xe8\\xae\\xad\\xe7\\xbb\\x83\\xe8\\x90\\xa5</h1>\\r\\n\\t\\t\\t\\t\\t\\t\\t<!-- <p>\\xe6\\xaf\\x8f\\xe5\\xa4\\xa910\\xe5\\x88\\x86\\xe9\\x92\\x9f\\xef\\xbc\\x8c\\xe4\\xbb\\x8e\\xe5\\xb0\\x8f\\xe7\\x99\\xbd\\xe5\\x88\\xb0\\xe6\\x8b\\xa5\\xe6\\x9c\\x89\\xe7\\xac\\xac\\xe4\\xb8\\x80\\xe6\\xa1\\xb6\\xe9\\x87\\x91</p> -->\\r\\n\\t\\t\\t\\t\\t\\t\\t<div class=\"more\">\\r\\n\\t\\t\\t\\t\\t\\t\\t\\t<span class=\"btn-more\">\\xe4\\xba\\x86\\xe8\\xa7\\xa3\\xe8\\xaf\\xa6\\xe6\\x83\\x85 <b></b></span>\\r\\n\\t\\t\\t\\t\\t\\t\\t</div>\\r\\n\\t\\t\\t\\t\\t\\t</div>\\r\\n\\t\\t\\t\\t\\t</a>\\r\\n\\t\\t\\t\\t</li>\\r\\n\\t\\t\\t\\t<li data-wow-delay=\".6s\" class=\"wow goUp\">\\r\\n\\t\\t\\t\\t\\t<a href=\"project-j2.html\" class=\"index-project-box\" onclick=\"Gsend(\\'\\xe9\\xa6\\x96\\xe9\\xa1\\xb5\\',\\'\\xe8\\xaf\\xbe\\xe7\\xa8\\x8b\\xe4\\xbd\\x8d2\\',\\'\\',this)\">\\r\\n\\t\\t\\t\\t\\t\\t<div class=\"index-project-pic\">\\r\\n\\t\\t\\t\\t\\t\\t\\t<img src=\"images/project-p2.jpg\">\\r\\n\\t\\t\\t\\t\\t\\t</div>\\r\\n\\t\\t\\t\\t\\t\\t<div class=\"index-project-content\">\\r\\n\\t\\t\\t\\t\\t\\t\\t<h1>\\xe5\\x9f\\xba\\xe9\\x87\\x91\\xe6\\x8a\\x95\\xe8\\xb5\\x84\\xe8\\xae\\xad\\xe7\\xbb\\x83\\xe8\\x90\\xa5</h1>\\r\\n\\t\\t\\t\\t\\t\\t\\t<!-- <p>0\\xe5\\x9f\\xba\\xe7\\xa1\\x80\\xe4\\xb9\\x9f\\xe8\\x83\\xbd\\xe5\\xbc\\x80\\xe5\\x90\\xaf\\xe8\\xba\\xba\\xe8\\xb5\\x9a\\xe4\\xb9\\x8b\\xe8\\xb7\\xaf</p> -->\\r\\n\\t\\t\\t\\t\\t\\t\\t<div class=\"more\">\\r\\n\\t\\t\\t\\t\\t\\t\\t\\t<span class=\"btn-more\">\\xe4\\xba\\x86\\xe8\\xa7\\xa3\\xe8\\xaf\\xa6\\xe6\\x83\\x85 <b></b></span>\\r\\n\\t\\t\\t\\t\\t\\t\\t</div>\\r\\n\\t\\t\\t\\t\\t\\t</div>\\r\\n\\t\\t\\t\\t\\t</a>\\r\\n\\t\\t\\t\\t</li>\\r\\n\\t\\t\\t\\t<li data-wow-delay=\".9s\" class=\"wow goUp\">\\r\\n\\t\\t\\t\\t\\t<a href=\"project-j1.html\" class=\"index-project-box\" onclick=\"Gsend(\\'\\xe9\\xa6\\x96\\xe9\\xa1\\xb5 \\',\\'\\xe8\\xaf\\xbe\\xe7\\xa8\\x8b\\xe4\\xbd\\x8d3\\',\\'\\',this)\">\\r\\n\\t\\t\\t\\t\\t\\t<div class=\"index-project-pic\">\\r\\n\\t\\t\\t\\t\\t\\t\\t<img src=\"images/project-p3.jpg\">\\r\\n\\t\\t\\t\\t\\t\\t</div>\\r\\n\\t\\t\\t\\t\\t\\t<div class=\"index-project-content\">\\r\\n\\t\\t\\t\\t\\t\\t\\t<h1>\\xe8\\x82\\xa1\\xe7\\xa5\\xa8\\xe6\\x8a\\x95\\xe8\\xb5\\x84\\xe8\\xae\\xad\\xe7\\xbb\\x83\\xe8\\x90\\xa5</h1>\\r\\n\\t\\t\\t\\t\\t\\t\\t<!-- <p>\\xe6\\x95\\x99\\xe4\\xbd\\xa0\\xe6\\x88\\x90\\xe4\\xb8\\xba\\xe8\\x82\\xa1\\xe5\\xb8\\x82\\xe4\\xb8\\xad\\xe8\\xb5\\x9a\\xe9\\x92\\xb1\\xe7\\x9a\\x8410%</p> -->\\r\\n\\t\\t\\t\\t\\t\\t\\t<div class=\"more\">\\r\\n\\t\\t\\t\\t\\t\\t\\t\\t<span class=\"btn-more\">\\xe4\\xba\\x86\\xe8\\xa7\\xa3\\xe8\\xaf\\xa6\\xe6\\x83\\x85 <b></b></span>\\r\\n\\t\\t\\t\\t\\t\\t\\t</div>\\r\\n\\t\\t\\t\\t\\t\\t</div>\\r\\n\\t\\t\\t\\t\\t</a>\\r\\n\\t\\t\\t\\t</li>\\r\\n\\t\\t\\t</ul>\\r\\n\\t\\t</div>\\r\\n\\t</div>\\r\\n\\t<!-- ./\\xe8\\xaf\\xbe\\xe7\\xa8\\x8b -->\\r\\n\\t<div class=\"index-advantage pd50\">\\r\\n\\t\\t<div class=\"index-title\">\\r\\n\\t\\t\\t<h3 data-wow-delay=\".6s\" class=\" wow titleDown\">\\xe6\\x88\\x91\\xe4\\xbb\\xac\\xe7\\x9a\\x84\\xe4\\xbc\\x98\\xe5\\x8a\\xbf<span><strong>advantages</strong></span></h3>\\r\\n\\t\\t</div>\\r\\n\\t\\t<!-- ./title -->\\r\\n\\t\\t<div class=\"container-width\">\\r\\n\\t\\t\\t<ul class=\"clearfix\">\\r\\n\\t\\t\\t\\t<li data-wow-delay=\".6s\" class=\"wow goUp\">\\r\\n\\t\\t\\t\\t\\t<div class=\"index-advantage-left\">\\r\\n\\t\\t\\t\\t\\t\\t<img src=\"./images/adv/1.png\" alt=\"\">\\r\\n\\t\\t\\t\\t\\t</div>\\r\\n\\t\\t\\t\\t\\t<div class=\"index-advantage-right\">\\r\\n\\t\\t\\t\\t\\t\\t<h3>\\xe7\\xb3\\xbb\\xe7\\xbb\\x9f\\xe5\\x85\\xa8\\xe9\\x9d\\xa2\\xe7\\x9a\\x84\\xe8\\xaf\\xbe\\xe7\\xa8\\x8b\\xe4\\xbd\\x93\\xe7\\xb3\\xbb</h3>\\r\\n\\t\\t\\t\\t\\t\\t<p>\\xe5\\x85\\xa8\\xe9\\x9d\\xa2\\xe6\\xb6\\xb5\\xe7\\x9b\\x96\\xe5\\x9f\\xba\\xe9\\x87\\x91\\xe3\\x80\\x81\\xe8\\x82\\xa1\\xe7\\xa5\\xa8\\xe3\\x80\\x81\\xe4\\xbf\\x9d\\xe9\\x99\\xa9\\xe3\\x80\\x81\\xe5\\x8f\\xaf\\xe8\\xbd\\xac\\xe5\\x80\\xba\\xe7\\xad\\x89\\xef\\xbc\\x8c\\xe5\\xb8\\xae\\xe5\\x8a\\xa9\\xe5\\xad\\xa6\\xe5\\x91\\x98\\xe4\\xb8\\x80\\xe7\\xab\\x99\\xe5\\xbc\\x8f\\xe6\\x99\\x8b\\xe5\\x8d\\x87\\xe7\\x90\\x86\\xe8\\xb4\\xa2\\xe8\\xbe\\xbe\\xe4\\xba\\xba</p>\\r\\n\\t\\t\\t\\t\\t</div>\\r\\n\\t\\t\\t\\t</li>\\r\\n\\t\\t\\t\\t<li data-wow-delay=\".7s\" class=\"wow goUp\">\\r\\n\\t\\t\\t\\t\\t<div class=\"index-advantage-left\">\\r\\n\\t\\t\\t\\t\\t\\t<img src=\"./images/adv/2.png\" alt=\"\">\\r\\n\\t\\t\\t\\t\\t</div>\\r\\n\\t\\t\\t\\t\\t<div class=\"index-advantage-right\">\\r\\n\\t\\t\\t\\t\\t\\t<h3>\\xe4\\xb8\\x93\\xe4\\xb8\\x9a\\xe5\\xae\\x9e\\xe7\\x94\\xa8\\xe7\\x9a\\x84\\xe8\\xaf\\xbe\\xe7\\xa8\\x8b\\xe5\\x86\\x85\\xe5\\xae\\xb9</h3>\\r\\n\\t\\t\\t\\t\\t\\t<p>\\xe4\\xb8\\x93\\xe4\\xb8\\x9a\\xe7\\x90\\x86\\xe8\\xb4\\xa2\\xe5\\x88\\x86\\xe6\\x9e\\x90\\xe5\\xb8\\x88\\xe5\\x8f\\x8a\\xe7\\xa0\\x94\\xe5\\x8f\\x91\\xe5\\x9b\\xa2\\xe9\\x98\\x9f\\xef\\xbc\\x8c\\xe4\\xbb\\xa510\\xe4\\xbd\\x99\\xe5\\xb9\\xb4\\xe7\\xbb\\x8f\\xe9\\xaa\\x8c\\xe6\\x89\\x93\\xe9\\x80\\xa0\\xe9\\xab\\x98\\xe8\\xb4\\xa8\\xe9\\x87\\x8f\\xe7\\x90\\x86\\xe8\\xb4\\xa2\\xe8\\xaf\\xbe\\xe7\\xa8\\x8b</p>\\r\\n\\t\\t\\t\\t\\t</div>\\r\\n\\t\\t\\t\\t</li>\\r\\n\\t\\t\\t\\t<li data-wow-delay=\"0.6s\" class=\"wow goUp\">\\r\\n\\t\\t\\t\\t\\t<div class=\"index-advantage-left\">\\r\\n\\t\\t\\t\\t\\t\\t<img src=\"./images/adv/3.png\" alt=\"\">\\r\\n\\t\\t\\t\\t\\t</div>\\r\\n\\t\\t\\t\\t\\t<div class=\"index-advantage-right\">\\r\\n\\t\\t\\t\\t\\t\\t<h3>\\xe6\\x98\\x93\\xe5\\xad\\xa6\\xe5\\xae\\x9e\\xe6\\x95\\x88\\xe7\\x9a\\x84\\xe6\\x95\\x99\\xe5\\xad\\xa6\\xe6\\x96\\xb9\\xe6\\xb3\\x95</h3>\\r\\n\\t\\t\\t\\t\\t\\t<p>\\xe5\\xb0\\x86\\xe4\\xb8\\x93\\xe4\\xb8\\x9a\\xe7\\x90\\x86\\xe8\\xb4\\xa2\\xe7\\x9f\\xa5\\xe8\\xaf\\x86\\xe6\\x8b\\x86\\xe8\\xa7\\xa3\\xe4\\xb8\\xba\\xe6\\x9c\\x89\\xe8\\xb6\\xa3\\xe6\\x98\\x93\\xe6\\x87\\x82\\xe7\\x9a\\x84\\xe5\\x86\\x85\\xe5\\xae\\xb9\\xef\\xbc\\x8c\\xe4\\xbe\\xbf\\xe4\\xba\\x8e\\xe5\\xbf\\xab\\xe9\\x80\\x9f\\xe5\\x90\\xb8\\xe6\\x94\\xb6\\xe5\\x92\\x8c\\xe4\\xb8\\x8a\\xe6\\x89\\x8b\\xe5\\xae\\x9e\\xe6\\x93\\x8d</p>\\r\\n\\t\\t\\t\\t\\t</div>\\r\\n\\t\\t\\t\\t</li>\\r\\n\\t\\t\\t\\t<li data-wow-delay=\"0.7s\" class=\"wow goUp\">\\r\\n\\t\\t\\t\\t\\t<div class=\"index-advantage-left\">\\r\\n\\t\\t\\t\\t\\t\\t<img src=\"./images/adv/4.png\" alt=\"\">\\r\\n\\t\\t\\t\\t\\t</div>\\r\\n\\t\\t\\t\\t\\t<div class=\"index-advantage-right\">\\r\\n\\t\\t\\t\\t\\t\\t<h3>\\xe6\\xb8\\xa9\\xe6\\x9a\\x96\\xe4\\xba\\xb2\\xe5\\x88\\x87\\xe7\\x9a\\x84\\xe7\\xa4\\xbe\\xe7\\xbe\\xa4\\xe6\\xa8\\xa1\\xe5\\xbc\\x8f</h3>\\r\\n\\t\\t\\t\\t\\t\\t<p>\\xe6\\x8f\\x90\\xe4\\xbe\\x9b\\xe9\\x99\\xaa\\xe4\\xbc\\xb4\\xe5\\xbc\\x8f\\xe7\\xa4\\xbe\\xe7\\xbe\\xa4\\xe6\\x95\\x99\\xe5\\xad\\xa6\\xe6\\x9c\\x8d\\xe5\\x8a\\xa1\\xef\\xbc\\x8c\\xe7\\x94\\xb1\\xe7\\x8f\\xad\\xe4\\xb8\\xbb\\xe4\\xbb\\xbb\\xe5\\x85\\xa8\\xe7\\xa8\\x8b\\xe6\\x89\\x8b\\xe6\\x8a\\x8a\\xe6\\x89\\x8b\\xe6\\x8c\\x87\\xe5\\xaf\\xbc\\xef\\xbc\\x8c\\xe9\\x9b\\xb6\\xe5\\x9f\\xba\\xe7\\xa1\\x80\\xe4\\xb9\\x9f\\xe8\\x83\\xbd\\xe8\\xbd\\xbb\\xe6\\x9d\\xbe\\xe5\\xad\\xa6\\xe4\\xbc\\x9a</p>\\r\\n\\t\\t\\t\\t\\t</div>\\r\\n\\t\\t\\t\\t</li>\\r\\n\\t\\t\\t</ul>\\r\\n\\t\\t</div>\\r\\n\\t</div>\\r\\n\\t<!-- ./\\xe4\\xbc\\x98\\xe5\\x8a\\xbf -->\\r\\n\\t<div class=\"about-honor\">\\r\\n\\t\\t<div class=\"index-title\">\\r\\n\\t\\t\\t<h3 data-wow-delay=\".6s\" class=\" wow titleDown\">\\xe8\\x8d\\xa3\\xe8\\xaa\\x89\\xe8\\xb5\\x84\\xe8\\xb4\\xa8<span><strong>HONORS AND QUALIFICATIONS</strong></span>\\r\\n\\t\\t\\t</h3>\\r\\n\\t\\t</div>\\r\\n\\t\\t<div class=\"swiper-container wow goLeft\" data-wow-delay=\"1s\">\\r\\n\\t\\t\\t<div class=\"swiper-wrapper\">\\r\\n\\t\\t\\t\\t<div class=\"swiper-slide\">\\r\\n\\t\\t\\t\\t\\t<div>\\r\\n\\t\\t\\t\\t\\t\\t<h3>\\xe8\\x85\\xbe\\xe8\\xae\\xaf\\xe2\\x80\\x9c2020\\xe5\\xb9\\xb4\\xe5\\xba\\xa6\\xe8\\xa1\\x8c\\xe4\\xb8\\x9a\\xe6\\xa0\\x87\\xe6\\x9d\\x86\\xe6\\x95\\x99\\xe8\\x82\\xb2\\xe9\\x9b\\x86\\xe5\\x9b\\xa2\\xe2\\x80\\x9d</h3>\\r\\n\\t\\t\\t\\t\\t\\t<img src=\"images/about/honor-p1.jpg\" width=\"344\" height=\"280px\">\\r\\n\\t\\t\\t\\t\\t</div>\\r\\n\\t\\t\\t\\t</div>\\r\\n\\t\\t\\t\\t<div class=\"swiper-slide\">\\r\\n\\t\\t\\t\\t\\t<div>\\r\\n\\t\\t\\t\\t\\t\\t<h3>\\xe6\\x96\\xb0\\xe5\\x8d\\x8e\\xe7\\xbd\\x91\\xe2\\x80\\x9c2020\\xe5\\xb9\\xb4\\xe5\\xba\\xa6\\xe5\\xbd\\xb1\\xe5\\x93\\x8d\\xe5\\x8a\\x9b\\xe5\\x9c\\xa8\\xe7\\xba\\xbf\\xe6\\x95\\x99\\xe8\\x82\\xb2\\xe5\\x93\\x81\\xe7\\x89\\x8c\\xe2\\x80\\x9d</h3>\\r\\n\\t\\t\\t\\t\\t\\t<img src=\"images/about/honor-p2.jpg\" width=\"344\" height=\"280px\">\\r\\n\\t\\t\\t\\t\\t</div>\\r\\n\\t\\t\\t\\t</div>\\r\\n\\t\\t\\t\\t<div class=\"swiper-slide\">\\r\\n\\t\\t\\t\\t\\t<div>\\r\\n\\t\\t\\t\\t\\t\\t<h3>36\\xe6\\xb0\\xaa\\xe2\\x80\\x9c2020\\xe6\\x96\\xb0\\xe7\\xbb\\x8f\\xe6\\xb5\\x8e\\xe4\\xb9\\x8b\\xe7\\x8e\\x8b\\xe6\\x9c\\x80\\xe5\\x85\\xb7\\xe5\\xbd\\xb1\\xe5\\x93\\x8d\\xe5\\x8a\\x9b\\xe4\\xbc\\x81\\xe4\\xb8\\x9a\\xe5\\xa5\\x96\\xe2\\x80\\x9d</h3>\\r\\n\\t\\t\\t\\t\\t\\t<img src=\"images/about/honor-p3.jpg\" width=\"344\" height=\"280px\">\\r\\n\\t\\t\\t\\t\\t</div>\\r\\n\\t\\t\\t\\t</div>\\r\\n\\t\\t\\t\\t<div class=\"swiper-slide\">\\r\\n\\t\\t\\t\\t\\t<div>\\r\\n\\t\\t\\t\\t\\t\\t<h3>\\xe9\\x95\\xbf\\xe6\\x8a\\x95\\xe5\\xad\\xa6\\xe5\\xa0\\x82\\xe5\\x88\\x9b\\xe5\\xa7\\x8b\\xe4\\xba\\xba\\xe5\\x85\\xbcCEO\\xe6\\x9d\\xa8\\xe4\\xb9\\x90\\xe8\\x8d\\xa3\\xe8\\x8e\\xb7\\xe6\\x96\\xb0\\xe5\\x8d\\x8e\\xe7\\xbd\\x91\\xe2\\x80\\x9c2020\\xe5\\xb9\\xb4\\xe5\\xba\\xa6\\xe6\\x95\\x99\\xe8\\x82\\xb2\\xe8\\xa1\\x8c\\xe4\\xb8\\x9a\\xe6\\x9d\\xb0\\xe5\\x87\\xba\\xe4\\xba\\xba\\xe7\\x89\\xa9\\xe2\\x80\\x9d</h3>\\r\\n\\t\\t\\t\\t\\t\\t<img src=\"images/about/honor-p4.jpg\" width=\"344\" height=\"280px\">\\r\\n\\t\\t\\t\\t\\t</div>\\r\\n\\t\\t\\t\\t</div>\\r\\n\\t\\t\\t\\t<div class=\"swiper-slide\">\\r\\n\\t\\t\\t\\t\\t<div>\\r\\n\\t\\t\\t\\t\\t\\t<h3>\\xe6\\x96\\xb0\\xe5\\x8d\\x8e\\xe7\\xbd\\x91\\xe2\\x80\\x9c2019\\xe5\\xb9\\xb4\\xe5\\xba\\xa6\\xe5\\x93\\x81\\xe7\\x89\\x8c\\xe5\\xbd\\xb1\\xe5\\x93\\x8d\\xe5\\x8a\\x9b\\xe5\\x9c\\xa8\\xe7\\xba\\xbf\\xe6\\x95\\x99\\xe8\\x82\\xb2\\xe6\\x9c\\xba\\xe6\\x9e\\x84\\xe2\\x80\\x9d</h3>\\r\\n\\t\\t\\t\\t\\t\\t<img src=\"images/about/honor-p5.jpg\" width=\"344\" height=\"280px\">\\r\\n\\t\\t\\t\\t\\t</div>\\r\\n\\t\\t\\t\\t</div>\\r\\n\\t\\t\\t\\t<div class=\"swiper-slide\">\\r\\n\\t\\t\\t\\t\\t<div>\\r\\n\\t\\t\\t\\t\\t\\t<h3>21\\xe4\\xb8\\x96\\xe7\\xba\\xaa\\xe4\\xba\\x9a\\xe6\\xb4\\xb2\\xe9\\x87\\x91\\xe8\\x9e\\x8d\\xe7\\xab\\x9e\\xe4\\xba\\x89\\xe5\\x8a\\x9b\\xe2\\x80\\x9c2019\\xe5\\xb9\\xb4\\xe5\\xba\\xa6\\xe7\\x90\\x86\\xe8\\xb4\\xa2\\xe6\\x95\\x99\\xe8\\x82\\xb2\\xe6\\x9c\\x8d\\xe5\\x8a\\xa1\\xe5\\x88\\x9b\\xe6\\x96\\xb0\\xe6\\x88\\x90\\xe5\\xb0\\xb1\\xe5\\xa5\\x96\\xe2\\x80\\x9d</h3>\\r\\n\\t\\t\\t\\t\\t\\t<img src=\"images/about/honor-p6.jpg\" width=\"344\" height=\"280px\">\\r\\n\\t\\t\\t\\t\\t</div>\\r\\n\\t\\t\\t\\t</div>\\r\\n\\t\\t\\t\\t<div class=\"swiper-slide\">\\r\\n\\t\\t\\t\\t\\t<div>\\r\\n\\t\\t\\t\\t\\t\\t<h3>\\xe7\\xbd\\x91\\xe6\\x98\\x93\\xe6\\x96\\xb0\\xe9\\x97\\xbb\\xe2\\x80\\x9c2019\\xe5\\xb9\\xb4\\xe5\\xba\\xa6\\xe6\\x9c\\x80\\xe5\\x85\\xb7\\xe6\\xbd\\x9c\\xe5\\x8a\\x9bMCN\\xe6\\x9c\\xba\\xe6\\x9e\\x84\\xe2\\x80\\x9d</h3>\\r\\n\\t\\t\\t\\t\\t\\t<img src=\"images/about/honor-p7.jpg\" width=\"344\" height=\"280px\">\\r\\n\\t\\t\\t\\t\\t</div>\\r\\n\\t\\t\\t\\t</div>\\r\\n\\t\\t\\t\\t<div class=\"swiper-slide\">\\r\\n\\t\\t\\t\\t\\t<div>\\r\\n\\t\\t\\t\\t\\t\\t<h3>2019\\xe8\\xbd\\xaf\\xe4\\xbb\\xb6\\xe5\\xbc\\x80\\xe5\\x8f\\x91\\xe4\\xb8\\x8e\\xe6\\xb5\\x8b\\xe8\\xaf\\x95\\xef\\xbc\\x88\\xe4\\xba\\xba\\xe5\\xb7\\xa5\\xe6\\x99\\xba\\xe8\\x83\\xbd\\xe7\\xbc\\x96\\xe7\\xa8\\x8b\\xef\\xbc\\x89\\xe7\\xab\\x9e\\xe8\\xb5\\x9b\\xe4\\xbc\\x98\\xe8\\x83\\x9c\\xe5\\xa5\\x96</h3>\\r\\n\\t\\t\\t\\t\\t\\t<img src=\"images/about/honor-p8.jpg\" width=\"344\" height=\"280px\">\\r\\n\\t\\t\\t\\t\\t</div>\\r\\n\\t\\t\\t\\t</div>\\r\\n\\t\\t\\t\\t<div class=\"swiper-slide\">\\r\\n\\t\\t\\t\\t\\t<div>\\r\\n\\t\\t\\t\\t\\t\\t<h3>\\xe8\\x85\\xbe\\xe8\\xae\\xaf\\xe6\\x95\\x99\\xe8\\x82\\xb2\\xe2\\x80\\x9c2018\\xe5\\xb9\\xb4\\xe7\\x9f\\xa5\\xe5\\x90\\x8d\\xe5\\x9c\\xa8\\xe7\\xba\\xbf\\xe6\\x95\\x99\\xe8\\x82\\xb2\\xe5\\x93\\x81\\xe7\\x89\\x8c\\xe2\\x80\\x9d</h3>\\r\\n\\t\\t\\t\\t\\t\\t<img src=\"images/about/honor-p9.jpg\" width=\"344\" height=\"280px\">\\r\\n\\t\\t\\t\\t\\t</div>\\r\\n\\t\\t\\t\\t</div>\\r\\n\\t\\t\\t\\t<div class=\"swiper-slide\">\\r\\n\\t\\t\\t\\t\\t<div>\\r\\n\\t\\t\\t\\t\\t\\t<h3>\\xe9\\x95\\xbf\\xe6\\x8a\\x95\\xe5\\xad\\xa6\\xe5\\xa0\\x82\\xe8\\x8d\\xa3\\xe8\\x8e\\xb7\\xe2\\x80\\x9c\\xe9\\xab\\x98\\xe6\\x96\\xb0\\xe6\\x8a\\x80\\xe6\\x9c\\xaf\\xe4\\xbc\\x81\\xe4\\xb8\\x9a\\xe8\\xaf\\x81\\xe4\\xb9\\xa6\\xe2\\x80\\x9d</h3>\\r\\n\\t\\t\\t\\t\\t\\t<img src=\"images/about/honor-p10.jpg\" width=\"344\" height=\"280px\">\\r\\n\\t\\t\\t\\t\\t</div>\\r\\n\\t\\t\\t\\t</div>\\r\\n\\t\\t\\t</div>\\r\\n\\t\\t\\t<!-- Add Pagination -->\\r\\n\\t\\t\\t<div class=\"swiper-pagination\"></div>\\r\\n\\t\\t\\t<div class=\"swiper-button-prev\"></div>\\r\\n\\t\\t\\t<div class=\"swiper-button-next\"></div>\\r\\n\\t\\t</div>\\r\\n\\t</div>\\r\\n\\t<div class=\"about-honor-scale\">\\r\\n\\t\\t<div>\\r\\n\\t\\t\\t<img src=\"images/about/arr-left.png\" id=\"about-honor-arrleft\">\\r\\n\\t\\t\\t<div id=\"about-honor-img\">\\r\\n\\t\\t\\t\\t<img src=\"\" width=\"600\" height=\"488\">\\r\\n\\t\\t\\t\\t<h3>ISO20000\\xe4\\xbf\\xa1\\xe6\\x81\\xaf\\xe6\\x8a\\x80\\xe6\\x9c\\xaf\\xe6\\x9c\\x8d\\xe5\\x8a\\xa1\\xe7\\xae\\xa1\\xe7\\x90\\x86\\xe4\\xbd\\x93\\xe7\\xb3\\xbb\\xe8\\xae\\xa4\\xe8\\xaf\\x81\\xe8\\xaf\\x81\\xe4\\xb9\\xa6</h3>\\r\\n\\t\\t\\t</div>\\r\\n\\t\\t\\t<img src=\"images/about/arr-right.png\" id=\"about-honor-arrright\">\\r\\n\\t\\t</div>\\r\\n\\t</div>\\r\\n\\t<!-- ./\\xe8\\x8d\\xa3\\xe8\\xaa\\x89\\xe8\\xb5\\x84\\xe8\\xb4\\xa8 -->\\r\\n\\t<div class=\"index-auth\">\\r\\n\\t\\t<div class=\"index-title\">\\r\\n\\t\\t\\t<h3 data-wow-delay=\".8s\" class=\" wow titleDown\">\\xe8\\xaf\\xbe\\xe7\\xa8\\x8b\\xe8\\xae\\xa4\\xe8\\xaf\\x81<span><strong>COURSE CERTIFICATIONS</strong></span></h3>\\r\\n\\t\\t</div>\\r\\n\\t\\t<div class=\"swiper-container wow goLeft\" data-wow-delay=\"1.1s\">\\r\\n\\t\\t\\t<div class=\"swiper-wrapper\">\\r\\n\\t\\t\\t\\t<div class=\"swiper-slide\">\\r\\n\\t\\t\\t\\t\\t<div>\\r\\n\\t\\t\\t\\t\\t\\t<h3>\\xe9\\x95\\xbf\\xe6\\x8a\\x95\\xe5\\xad\\xa6\\xe5\\xa0\\x82-\\xe8\\xb4\\xa2\\xe6\\x8a\\xa5\\xe5\\x88\\x86\\xe6\\x9e\\x90\\xe8\\xae\\xad\\xe7\\xbb\\x83\\xe8\\x90\\xa5</h3><img src=\"images/auth/1.png\" width=\"344\" height=\"280px\">\\r\\n\\t\\t\\t\\t\\t</div>\\r\\n\\t\\t\\t\\t</div>\\r\\n\\t\\t\\t\\t<div class=\"swiper-slide\">\\r\\n\\t\\t\\t\\t\\t<div>\\r\\n\\t\\t\\t\\t\\t\\t<h3>\\xe9\\x95\\xbf\\xe6\\x8a\\x95\\xe5\\xad\\xa6\\xe5\\xa0\\x82\\xe8\\x82\\xa1\\xe7\\xa5\\xa8\\xe5\\x88\\x9d\\xe5\\xa7\\x8b\\xe7\\xba\\xa7\\xe8\\xaf\\xbe</h3><img src=\"images/auth/2.png\" width=\"344\" height=\"280px\">\\r\\n\\t\\t\\t\\t\\t</div>\\r\\n\\t\\t\\t\\t</div>\\r\\n\\t\\t\\t\\t<div class=\"swiper-slide\">\\r\\n\\t\\t\\t\\t\\t<div>\\r\\n\\t\\t\\t\\t\\t\\t<h3>\\xe9\\x95\\xbf\\xe6\\x8a\\x95\\xe5\\xad\\xa6\\xe5\\xa0\\x82\\xe8\\x82\\xa1\\xe7\\xa5\\xa8\\xe8\\xbf\\x9b\\xe9\\x98\\xb6\\xe8\\xaf\\xbe</h3><img src=\"images/auth/3.png\" width=\"344\" height=\"280px\">\\r\\n\\t\\t\\t\\t\\t</div>\\r\\n\\t\\t\\t\\t</div>\\r\\n\\t\\t\\t\\t<div class=\"swiper-slide\">\\r\\n\\t\\t\\t\\t\\t<div>\\r\\n\\t\\t\\t\\t\\t\\t<h3>\\xe9\\x95\\xbf\\xe6\\x8a\\x95\\xe5\\xad\\xa6\\xe5\\xa0\\x82\\xe5\\x9f\\xba\\xe9\\x87\\x91\\xe8\\xaf\\xbe</h3><img src=\"images/auth/4.png\" width=\"344\" height=\"280px\">\\r\\n\\t\\t\\t\\t\\t</div>\\r\\n\\t\\t\\t\\t</div>\\r\\n\\t\\t\\t\\t<div class=\"swiper-slide\">\\r\\n\\t\\t\\t\\t\\t<div>\\r\\n\\t\\t\\t\\t\\t\\t<h3>\\xe5\\x9f\\xba\\xe9\\x87\\x91\\xe8\\xbf\\x9b\\xe9\\x98\\xb6\\xe8\\xae\\xad\\xe7\\xbb\\x83\\xe8\\x90\\xa5</h3><img src=\"images/auth/5.png\" width=\"344\" height=\"280px\">\\r\\n\\t\\t\\t\\t\\t</div>\\r\\n\\t\\t\\t\\t</div>\\r\\n\\t\\t\\t\\t<div class=\"swiper-slide\">\\r\\n\\t\\t\\t\\t\\t<div>\\r\\n\\t\\t\\t\\t\\t\\t<h3>\\xe9\\x95\\xbf\\xe6\\x8a\\x95\\xe5\\xad\\xa6\\xe5\\xa0\\x82\\xe4\\xbf\\x9d\\xe9\\x99\\xa9\\xe5\\xae\\x9e\\xe6\\x88\\x98\\xe8\\xaf\\xbe</h3><img src=\"images/auth/6.png\" width=\"344\" height=\"280px\">\\r\\n\\t\\t\\t\\t\\t</div>\\r\\n\\t\\t\\t\\t</div>\\r\\n\\t\\t\\t\\t<div class=\"swiper-slide\">\\r\\n\\t\\t\\t\\t\\t<div>\\r\\n\\t\\t\\t\\t\\t\\t<h3>\\xe5\\x8f\\xaf\\xe8\\xbd\\xac\\xe5\\x80\\xba\\xe6\\x8a\\x95\\xe8\\xb5\\x84\\xe8\\xaf\\xbe</h3><img src=\"images/auth/7.png\" width=\"344\" height=\"280px\">\\r\\n\\t\\t\\t\\t\\t</div>\\r\\n\\t\\t\\t\\t</div>\\r\\n\\t\\t\\t\\t<div class=\"swiper-slide\">\\r\\n\\t\\t\\t\\t\\t<div>\\r\\n\\t\\t\\t\\t\\t\\t<h3>\\xe9\\x95\\xbf\\xe6\\x8a\\x95\\xe5\\xad\\xa6\\xe5\\xa0\\x82\\xe5\\xb0\\x8f\\xe7\\x99\\xbd\\xe8\\x90\\xa58\\xe8\\xaf\\xbe\\xe9\\x9f\\xb3\\xe9\\xa2\\x91\\xe7\\xa8\\xbf</h3><img src=\"images/auth/8.png\" width=\"344\" height=\"280px\">\\r\\n\\t\\t\\t\\t\\t</div>\\r\\n\\t\\t\\t\\t</div>\\r\\n\\t\\t\\t\\t<div class=\"swiper-slide\">\\r\\n\\t\\t\\t\\t\\t<div>\\r\\n\\t\\t\\t\\t\\t\\t<h3>\\xe6\\xb8\\xaf\\xe8\\x82\\xa1\\xe6\\x89\\x93\\xe6\\x96\\xb0\\xe8\\xaf\\xbe</h3><img src=\"images/auth/9.png\" width=\"344\" height=\"280px\">\\r\\n\\t\\t\\t\\t\\t</div>\\r\\n\\t\\t\\t\\t</div>\\r\\n\\t\\t\\t\\t<div class=\"swiper-slide\">\\r\\n\\t\\t\\t\\t\\t<div>\\r\\n\\t\\t\\t\\t\\t\\t<h3>\\xe5\\xbc\\x80\\xe6\\xba\\x90\\xe8\\xb5\\x9a\\xe9\\x92\\xb1\\xe8\\xaf\\xbe</h3><img src=\"images/auth/10.png\" width=\"344\" height=\"280px\">\\r\\n\\t\\t\\t\\t\\t</div>\\r\\n\\t\\t\\t\\t</div>\\r\\n\\t\\t\\t\\t<div class=\"swiper-slide\">\\r\\n\\t\\t\\t\\t\\t<div>\\r\\n\\t\\t\\t\\t\\t\\t<h3>\\xe9\\x95\\xbf\\xe6\\x8a\\x95\\xe5\\xad\\xa6\\xe5\\xa0\\x82\\xe5\\xae\\xb6\\xe5\\xba\\xad\\xe7\\x90\\x86\\xe8\\xb4\\xa2\\xe8\\xa7\\x84\\xe5\\x88\\x92\\xe8\\xaf\\xbe</h3><img src=\"images/auth/11.png\" width=\"344\" height=\"280px\">\\r\\n\\t\\t\\t\\t\\t</div>\\r\\n\\t\\t\\t\\t</div>\\r\\n\\t\\t\\t\\t<div class=\"swiper-slide\">\\r\\n\\t\\t\\t\\t\\t<div>\\r\\n\\t\\t\\t\\t\\t\\t<h3>\\xe9\\x95\\xbf\\xe6\\x8a\\x95\\xe5\\xad\\xa6\\xe5\\xa0\\x82\\xe8\\xb5\\x84\\xe4\\xba\\xa7\\xe9\\x85\\x8d\\xe7\\xbd\\xae\\xe8\\xaf\\xbe</h3><img src=\"images/auth/12.png\" width=\"344\" height=\"280px\">\\r\\n\\t\\t\\t\\t\\t</div>\\r\\n\\t\\t\\t\\t</div>\\r\\n\\t\\t\\t\\t<div class=\"swiper-slide\">\\r\\n\\t\\t\\t\\t\\t<div>\\r\\n\\t\\t\\t\\t\\t\\t<h3>\\xe9\\x95\\xbf\\xe6\\x8a\\x95\\xe5\\xad\\xa6\\xe5\\xa0\\x82\\xe4\\xbd\\x8e\\xe9\\xa3\\x8e\\xe9\\x99\\xa9\\xe7\\x90\\x86\\xe8\\xb4\\xa2\\xe8\\xaf\\xbe</h3><img src=\"images/auth/13.png\" width=\"344\" height=\"280px\">\\r\\n\\t\\t\\t\\t\\t</div>\\r\\n\\t\\t\\t\\t</div>\\r\\n\\t\\t\\t\\t<div class=\"swiper-slide\">\\r\\n\\t\\t\\t\\t\\t<div>\\r\\n\\t\\t\\t\\t\\t\\t<h3>\\xe9\\x93\\xb6\\xe8\\xa1\\x8c\\xe7\\x90\\x86\\xe8\\xb4\\xa2\\xe8\\xaf\\xbe</h3><img src=\"images/auth/14.png\" width=\"344\" height=\"280px\">\\r\\n\\t\\t\\t\\t\\t</div>\\r\\n\\t\\t\\t\\t</div>\\r\\n\\t\\t\\t\\t<div class=\"swiper-slide\">\\r\\n\\t\\t\\t\\t\\t<div>\\r\\n\\t\\t\\t\\t\\t\\t<h3>\\xe9\\x95\\xbf\\xe6\\x8a\\x95\\xe5\\xad\\xa6\\xe5\\xa0\\x82\\xe6\\x9c\\x9f\\xe8\\xb4\\xa7\\xe6\\x9c\\x9f\\xe6\\x9d\\x83\\xe5\\x85\\xa5\\xe9\\x97\\xa8</h3><img src=\"images/auth/15.png\" width=\"344\" height=\"280px\">\\r\\n\\t\\t\\t\\t\\t</div>\\r\\n\\t\\t\\t\\t</div>\\r\\n\\t\\t\\t</div>\\r\\n\\t\\t\\t<!-- Add Pagination -->\\r\\n\\t\\t\\t<div class=\"swiper-pagination\"></div>\\r\\n\\t\\t\\t<div class=\"swiper-button-prev\"></div>\\r\\n\\t\\t\\t<div class=\"swiper-button-next\"></div>\\r\\n\\t\\t</div>\\r\\n\\t</div>\\r\\n\\t<div class=\"index-auth-scale\">\\r\\n\\t\\t<div>\\r\\n\\t\\t\\t<img src=\"images/about/arr-left.png\" id=\"index-auth-arrleft\">\\r\\n\\t\\t\\t<div id=\"index-auth-img\">\\r\\n\\t\\t\\t\\t<img src=\"\" width=\"600\" height=\"488\">\\r\\n\\t\\t\\t\\t<h3>\\xe9\\x95\\xbf\\xe6\\x8a\\x95\\xe5\\xad\\xa6\\xe5\\xa0\\x82-\\xe8\\xb4\\xa2\\xe6\\x8a\\xa5\\xe5\\x88\\x86\\xe6\\x9e\\x90\\xe8\\xae\\xad\\xe7\\xbb\\x83\\xe8\\x90\\xa5</h3>\\r\\n\\t\\t\\t</div>\\r\\n\\t\\t\\t<img src=\"images/about/arr-right.png\" id=\"index-auth-arrright\">\\r\\n\\t\\t</div>\\r\\n\\t</div>\\r\\n\\r\\n\\t<!-- ./ -->\\r\\n\\t<div class=\"index-news pd50\">\\r\\n\\t\\t<div class=\"index-title\">\\r\\n\\t\\t\\t<h3 data-wow-delay=\".6s\" class=\" wow titleDown\">\\xe5\\x85\\xac\\xe5\\x8f\\xb8\\xe5\\x8a\\xa8\\xe6\\x80\\x81<span><strong>company news</strong></span></h3>\\r\\n\\t\\t</div>\\r\\n\\t\\t<div class=\"more more-default\">\\r\\n\\t\\t\\t<a href=\"news.html\" class=\"btn-more wow fadeIn\" data-wow-delay=\"1s\"\\r\\n\\t\\t\\t\\tonclick=\"Gsend(\\'\\',\\'\\xe6\\x9f\\xa5\\xe7\\x9c\\x8b\\xe6\\x9b\\xb4\\xe5\\xa4\\x9a\\xe5\\x8a\\xa8\\xe6\\x80\\x81\\',\\'\\',this)\">\\xe6\\x9f\\xa5\\xe7\\x9c\\x8b\\xe6\\x9b\\xb4\\xe5\\xa4\\x9a\\xe5\\x8a\\xa8\\xe6\\x80\\x81 <b></b></a>\\r\\n\\t\\t</div>\\r\\n\\t\\t<!-- ./title -->\\r\\n\\t\\t<div class=\"container-width\">\\r\\n\\t\\t\\t<ul class=\"clearfix\">\\r\\n\\t\\t\\t</ul>\\r\\n\\t\\t</div>\\r\\n\\t</div>\\r\\n\\t<!-- ./\\xe6\\x96\\xb0\\xe9\\x97\\xbb -->\\r\\n\\t<div class=\"index-fdlink\">\\r\\n\\t\\t<div class=\"index-title\">\\r\\n\\t\\t\\t<h3 data-wow-delay=\".8s\" class=\" wow titleDown\">\\xe9\\xab\\x98\\xe6\\xa0\\xa1\\xe8\\x81\\x94\\xe5\\x8a\\xa8<span><strong>Cooperative Universities</strong></span>\\r\\n\\t\\t\\t</h3>\\r\\n\\t\\t</div>\\r\\n\\t\\t<!-- ./title -->\\r\\n\\t\\t<div class=\"container-width o-hidden\">\\r\\n\\t\\t\\t<ul class=\"university-list\">\\r\\n\\t\\t\\t</ul>\\r\\n\\t\\t</div>\\r\\n\\t</div>\\r\\n\\t<!-- ./\\xe9\\xab\\x98\\xe6\\xa0\\xa1\\xe8\\x81\\x94\\xe5\\x8a\\xa8 -->\\r\\n\\t<div class=\"index-fdlink\">\\r\\n\\t\\t<div class=\"index-title\">\\r\\n\\t\\t\\t<h3 data-wow-delay=\".8s\" class=\" wow titleDown\">\\xe5\\x90\\x88\\xe4\\xbd\\x9c\\xe4\\xbc\\x99\\xe4\\xbc\\xb4<span><strong>partners</strong></span></h3>\\r\\n\\t\\t</div>\\r\\n\\t\\t<!-- ./title -->\\r\\n\\t\\t<div class=\"container-width o-hidden\">\\r\\n\\t\\t\\t<ul class=\"clearfix partners-list\">\\r\\n\\t\\t\\t</ul>\\r\\n\\t\\t</div>\\r\\n\\t</div>\\r\\n\\t<!-- ./\\xe5\\x90\\x88\\xe4\\xbd\\x9c\\xe4\\xbc\\x99\\xe4\\xbc\\xb4 -->\\r\\n\\t<script src=\"js/index.js\"></script>\\r\\n\\t<!-- ./main -->\\r\\n\\t<script src=\"js/global.js\" type=\"text/javascript\" charset=\"utf-8\"></script>\\r\\n\\t<div class=\"footer\">\\r\\n\\t\\t<div class=\"container-width clearfix o-hidden\">\\r\\n\\t\\t\\t<div class=\"footer-left\">\\r\\n\\t\\t\\t\\t<p>\\xe5\\x85\\xac\\xe5\\x8f\\xb8\\xe5\\x90\\x8d\\xe7\\xa7\\xb0\\xef\\xbc\\x9a\\xe4\\xb8\\x8a\\xe6\\xb5\\xb7\\xe6\\x98\\x8c\\xe6\\x8a\\x95\\xe7\\xbd\\x91\\xe7\\xbb\\x9c\\xe7\\xa7\\x91\\xe6\\x8a\\x80\\xe6\\x9c\\x89\\xe9\\x99\\x90\\xe5\\x85\\xac\\xe5\\x8f\\xb8</p>\\r\\n\\t\\t\\t\\t<p>\\xe5\\x85\\xac\\xe5\\x8f\\xb8\\xe5\\x9c\\xb0\\xe5\\x9d\\x80\\xef\\xbc\\x9a\\xe4\\xb8\\x8a\\xe6\\xb5\\xb7\\xe5\\xb8\\x82\\xe6\\xb5\\xa6\\xe4\\xb8\\x9c\\xe6\\x96\\xb0\\xe5\\x8c\\xba\\xe9\\xbe\\x99\\xe4\\xb8\\x9c\\xe5\\xa4\\xa7\\xe9\\x81\\x933000\\xe5\\x8f\\xb7\\xe5\\xbc\\x98\\xe6\\xba\\x90\\xe7\\xa7\\x91\\xe5\\x88\\x9b\\xe5\\xa4\\xa7\\xe5\\x8e\\xa6<a class=\"hidden\" href=\"know.html\">.</a></p>\\r\\n\\t\\t\\t\\t<p>\\xe8\\x81\\x94\\xe7\\xb3\\xbb\\xe7\\x94\\xb5\\xe8\\xaf\\x9d\\xef\\xbc\\x9a021-58942390\\xef\\xbc\\x88\\xe5\\x91\\xa8\\xe4\\xb8\\x80\\xe8\\x87\\xb3\\xe5\\x91\\xa8\\xe4\\xba\\x949:00-18:00\\xef\\xbc\\x89</p>\\r\\n\\t\\t\\t\\t<h3>\\xc2\\xa9 AII Rights Reserved \\xe4\\xb8\\x8a\\xe6\\xb5\\xb7\\xe6\\x98\\x8c\\xe6\\x8a\\x95\\xe7\\xbd\\x91\\xe7\\xbb\\x9c\\xe7\\xa7\\x91\\xe6\\x8a\\x80\\xe6\\x9c\\x89\\xe9\\x99\\x90\\xe5\\x85\\xac\\xe5\\x8f\\xb8\\xe4\\xb8\\xa8\\xef\\xbc\\x88\\xe6\\xb2\\xaa\\xef\\xbc\\x89\\xe5\\xad\\x97\\xe7\\xac\\xac03358\\xe5\\x8f\\xb7\\xe4\\xb8\\xa8\\xe6\\xb2\\xaa\\xe5\\x85\\xac\\xe7\\xbd\\x91\\xe5\\xae\\x89\\xe5\\xa4\\x8731011502008402\\xe5\\x8f\\xb7 |\\r\\n\\t\\t\\t\\t\\t<a href=\"https://beian.miit.gov.cn\" target=\"_blank\">\\xe6\\xb2\\xaaICP\\xe5\\xa4\\x8713007095\\xe5\\x8f\\xb7-1</a>\\r\\n\\t\\t\\t\\t</h3>\\r\\n\\t\\t\\t</div>\\r\\n\\t\\t\\t<!-- ./left -->\\r\\n\\t\\t\\t<div class=\"footer-right\">\\r\\n\\t\\t\\t\\t<span>\\r\\n\\t\\t\\t\\t\\t<img src=\"images/wx.png\" title=\"\" alt=\"\">\\r\\n\\t\\t\\t\\t\\t<p>\\xe5\\xae\\x98\\xe6\\x96\\xb9\\xe5\\xbe\\xae\\xe5\\x8d\\x9a</p>\\r\\n\\t\\t\\t\\t</span>\\r\\n\\t\\t\\t\\t<span>\\r\\n\\t\\t\\t\\t\\t<img src=\"images/wx1.png\" title=\"\" alt=\"\">\\r\\n\\t\\t\\t\\t\\t<p>\\xe5\\xbe\\xae\\xe4\\xbf\\xa1\\xe6\\x9c\\x8d\\xe5\\x8a\\xa1\\xe5\\x8f\\xb7</p>\\r\\n\\t\\t\\t\\t</span>\\r\\n\\t\\t\\t</div>\\r\\n\\t\\t\\t<!-- ./right -->\\r\\n\\t\\t</div>\\r\\n\\t</div>\\r\\n\\t<!-- ./footer -->\\r\\n\\r\\n\\t<div class=\"window-service\">\\r\\n\\t\\t<ul class=\"clearfix\">\\r\\n\\t\\t\\t<li class=\"window-service-wx\">\\r\\n\\t\\t\\t\\t<div class=\"window-service-wx-pic\">\\r\\n\\t\\t\\t\\t\\t<img src=\"images/kefu.png\" width=\"80\">\\r\\n\\t\\t\\t\\t\\t<h3>\\xe6\\x89\\xab\\xe6\\x8f\\x8f\\xe4\\xba\\x8c\\xe7\\xbb\\xb4\\xe7\\xa0\\x81<br>\\xe8\\x81\\x94\\xe7\\xb3\\xbb\\xe5\\xae\\xa2\\xe6\\x9c\\x8d</h3>\\r\\n\\t\\t\\t\\t</div>\\r\\n\\t\\t\\t\\t<p><img src=\"images/ico-kefu.png\" width=\"50\"></p>\\r\\n\\t\\t\\t</li>\\r\\n\\t\\t\\t<li class=\"window-service-wx\">\\r\\n\\t\\t\\t\\t<div class=\"window-service-wx-pic\">\\r\\n\\t\\t\\t\\t\\t<img src=\"images/app.png\" width=\"80\">\\r\\n\\t\\t\\t\\t\\t<h3>\\xe6\\x89\\xab\\xe6\\x8f\\x8f\\xe4\\xba\\x8c\\xe7\\xbb\\xb4\\xe7\\xa0\\x81<br>\\xe4\\xb8\\x8b\\xe8\\xbd\\xbdAPP</h3>\\r\\n\\t\\t\\t\\t</div>\\r\\n\\t\\t\\t\\t<p>APP</p>\\r\\n\\t\\t\\t</li>\\r\\n\\t\\t</ul>\\r\\n\\t</div>\\r\\n\\t<!-- w-tools -->\\r\\n\\t<script type=\"text/javascript\">\\r\\n\\t\\twindow.sensorsdata.track(\\'pageView\\', {\\r\\n\\t\\t\\tpageUrl: window.location.href,\\r\\n\\t\\t\\tpageTitle: \\'\\xe9\\xa6\\x96\\xe9\\xa1\\xb5\\',\\r\\n\\t\\t\\tmoduleTitle: \\'\\xe9\\x95\\xbf\\xe6\\x8a\\x95\\xe5\\xae\\x98\\xe7\\xbd\\x91\\'\\r\\n\\t\\t});\\r\\n\\t\\tfor (var i = 1; i < 16; i++) {\\r\\n\\t\\t\\tvar list = \\'<li class=\"wow goUp\">\\' +\\r\\n\\t\\t\\t\\t\\'<a href=\"javascript:void(0);\">\\' +\\r\\n\\t\\t\\t\\t\\'<img src=\"images/partner/\\' + i + \\'.png\" title=\"\" alt=\"\" width=\"229\" height=\"48\">\\' +\\r\\n\\t\\t\\t\\t\\'</a>\\' +\\r\\n\\t\\t\\t\\t\\'</li>\\';\\r\\n\\t\\t\\t$(\\'.partners-list\\').append(list);\\r\\n\\t\\t}\\r\\n\\t\\tfor (var i = 1; i < 4; i++) {\\r\\n\\t\\t\\tvar list = \\'<li class=\"wow goUp\">\\' +\\r\\n\\t\\t\\t\\t\\'<a href=\"javascript:void(0);\">\\' +\\r\\n\\t\\t\\t\\t\\'<img src=\"images/university/\\' + i + \\'.png\" title=\"\" alt=\"\" width=\"229\" height=\"48\">\\' +\\r\\n\\t\\t\\t\\t\\'</a>\\' +\\r\\n\\t\\t\\t\\t\\'</li>\\';\\r\\n\\t\\t\\t$(\\'.university-list\\').append(list);\\r\\n\\t\\t}\\r\\n\\t</script>\\r\\n\\t<script type=\"text/javascript\">\\r\\n\\t\\tvar arrText = [\\'\\xe8\\x85\\xbe\\xe8\\xae\\xaf\\xe2\\x80\\x9c2020\\xe5\\xb9\\xb4\\xe5\\xba\\xa6\\xe8\\xa1\\x8c\\xe4\\xb8\\x9a\\xe6\\xa0\\x87\\xe6\\x9d\\x86\\xe6\\x95\\x99\\xe8\\x82\\xb2\\xe9\\x9b\\x86\\xe5\\x9b\\xa2\\xe2\\x80\\x9d\\', \\'\\xe6\\x96\\xb0\\xe5\\x8d\\x8e\\xe7\\xbd\\x91\\xe2\\x80\\x9c2020\\xe5\\xb9\\xb4\\xe5\\xba\\xa6\\xe5\\xbd\\xb1\\xe5\\x93\\x8d\\xe5\\x8a\\x9b\\xe5\\x9c\\xa8\\xe7\\xba\\xbf\\xe6\\x95\\x99\\xe8\\x82\\xb2\\xe5\\x93\\x81\\xe7\\x89\\x8c\\xe2\\x80\\x9d\\', \\'36\\xe6\\xb0\\xaa\\xe2\\x80\\x9c2020\\xe6\\x96\\xb0\\xe7\\xbb\\x8f\\xe6\\xb5\\x8e\\xe4\\xb9\\x8b\\xe7\\x8e\\x8b\\xe6\\x9c\\x80\\xe5\\x85\\xb7\\xe5\\xbd\\xb1\\xe5\\x93\\x8d\\xe5\\x8a\\x9b\\xe4\\xbc\\x81\\xe4\\xb8\\x9a\\xe5\\xa5\\x96\\xe2\\x80\\x9d\\', \\'\\xe9\\x95\\xbf\\xe6\\x8a\\x95\\xe5\\xad\\xa6\\xe5\\xa0\\x82\\xe5\\x88\\x9b\\xe5\\xa7\\x8b\\xe4\\xba\\xba\\xe5\\x85\\xbcCEO\\xe6\\x9d\\xa8\\xe4\\xb9\\x90\\xe8\\x8d\\xa3\\xe8\\x8e\\xb7\\xe6\\x96\\xb0\\xe5\\x8d\\x8e\\xe7\\xbd\\x91\\xe2\\x80\\x9c2020\\xe5\\xb9\\xb4\\xe5\\xba\\xa6\\xe6\\x95\\x99\\xe8\\x82\\xb2\\xe8\\xa1\\x8c\\xe4\\xb8\\x9a\\xe6\\x9d\\xb0\\xe5\\x87\\xba\\xe4\\xba\\xba\\xe7\\x89\\xa9\\xe2\\x80\\x9d\\',\\r\\n\\t\\t\\t\\'\\xe6\\x96\\xb0\\xe5\\x8d\\x8e\\xe7\\xbd\\x91\\xe2\\x80\\x9c2019\\xe5\\xb9\\xb4\\xe5\\xba\\xa6\\xe5\\x93\\x81\\xe7\\x89\\x8c\\xe5\\xbd\\xb1\\xe5\\x93\\x8d\\xe5\\x8a\\x9b\\xe5\\x9c\\xa8\\xe7\\xba\\xbf\\xe6\\x95\\x99\\xe8\\x82\\xb2\\xe6\\x9c\\xba\\xe6\\x9e\\x84\\xe2\\x80\\x9d\\', \\'21\\xe4\\xb8\\x96\\xe7\\xba\\xaa\\xe4\\xba\\x9a\\xe6\\xb4\\xb2\\xe9\\x87\\x91\\xe8\\x9e\\x8d\\xe7\\xab\\x9e\\xe4\\xba\\x89\\xe5\\x8a\\x9b\\xe2\\x80\\x9c2019\\xe5\\xb9\\xb4\\xe5\\xba\\xa6\\xe7\\x90\\x86\\xe8\\xb4\\xa2\\xe6\\x95\\x99\\xe8\\x82\\xb2\\xe6\\x9c\\x8d\\xe5\\x8a\\xa1\\xe5\\x88\\x9b\\xe6\\x96\\xb0\\xe6\\x88\\x90\\xe5\\xb0\\xb1\\xe5\\xa5\\x96\\xe2\\x80\\x9d\\', \\'\\xe7\\xbd\\x91\\xe6\\x98\\x93\\xe6\\x96\\xb0\\xe9\\x97\\xbb\\xe2\\x80\\x9c2019\\xe5\\xb9\\xb4\\xe5\\xba\\xa6\\xe6\\x9c\\x80\\xe5\\x85\\xb7\\xe6\\xbd\\x9c\\xe5\\x8a\\x9bMCN\\xe6\\x9c\\xba\\xe6\\x9e\\x84\\xe2\\x80\\x9d\\', \\'2019\\xe8\\xbd\\xaf\\xe4\\xbb\\xb6\\xe5\\xbc\\x80\\xe5\\x8f\\x91\\xe4\\xb8\\x8e\\xe6\\xb5\\x8b\\xe8\\xaf\\x95\\xef\\xbc\\x88\\xe4\\xba\\xba\\xe5\\xb7\\xa5\\xe6\\x99\\xba\\xe8\\x83\\xbd\\xe7\\xbc\\x96\\xe7\\xa8\\x8b\\xef\\xbc\\x89\\xe7\\xab\\x9e\\xe8\\xb5\\x9b\\xe4\\xbc\\x98\\xe8\\x83\\x9c\\xe5\\xa5\\x96\\', \\'\\xe8\\x85\\xbe\\xe8\\xae\\xaf\\xe6\\x95\\x99\\xe8\\x82\\xb2\\xe2\\x80\\x9c2018\\xe5\\xb9\\xb4\\xe7\\x9f\\xa5\\xe5\\x90\\x8d\\xe5\\x9c\\xa8\\xe7\\xba\\xbf\\xe6\\x95\\x99\\xe8\\x82\\xb2\\xe5\\x93\\x81\\xe7\\x89\\x8c\\xe2\\x80\\x9d\\', \\'\\xe9\\x95\\xbf\\xe6\\x8a\\x95\\xe5\\xad\\xa6\\xe5\\xa0\\x82\\xe8\\x8d\\xa3\\xe8\\x8e\\xb7\\xe2\\x80\\x9c\\xe9\\xab\\x98\\xe6\\x96\\xb0\\xe6\\x8a\\x80\\xe6\\x9c\\xaf\\xe4\\xbc\\x81\\xe4\\xb8\\x9a\\xe8\\xaf\\x81\\xe4\\xb9\\xa6\\xe2\\x80\\x9d\\'\\r\\n\\t\\t];\\r\\n\\t\\tvar honor = new Swiper(\\'.about-honor .swiper-container\\', {\\r\\n\\t\\t\\tslidesPerView: 3,\\r\\n\\t\\t\\tslidesPerGroup: 3,\\r\\n\\t\\t\\tloop: true,\\r\\n\\t\\t\\tspaceBetween: 0,\\r\\n\\t\\t\\tautoplay: {\\r\\n\\t\\t\\t\\tdelay: 5000,\\r\\n\\t\\t\\t\\tdisableOnInteraction: false,\\r\\n\\t\\t\\t\\twaitForTransition: false,\\r\\n\\t\\t\\t},\\r\\n\\t\\t\\tpagination: {\\r\\n\\t\\t\\t\\tel: \\'.about-honor .swiper-pagination\\',\\r\\n\\t\\t\\t\\tbulletActiveClass: \\'timer-cl\\',\\r\\n\\t\\t\\t\\tclickable: true,\\r\\n\\t\\t\\t},\\r\\n\\t\\t\\tnavigation: {\\r\\n\\t\\t\\t\\tnextEl: \\'.swiper-button-next\\',\\r\\n\\t\\t\\t\\tprevEl: \\'.swiper-button-prev\\',\\r\\n\\t\\t\\t}\\r\\n\\t\\t});\\r\\n\\r\\n\\t\\t$(\\'.about-honor .swiper-slide\\').on(\"click\", function () {\\r\\n\\t\\t\\tvar index = Number($(this).attr(\\'data-swiper-slide-index\\'));\\r\\n\\t\\t\\t$(\\'.about-honor-scale\\').addClass(\\'show\\');\\r\\n\\t\\t\\timgCheck(index);\\r\\n\\t\\t});\\r\\n\\t\\t$(\\'.about-honor-scale\\').on(\\'click\\', function (e) {\\r\\n\\t\\t\\t$(this).removeClass(\\'show\\');\\r\\n\\t\\t})\\r\\n\\r\\n\\t\\tfunction imgCheck(index) {\\r\\n\\t\\t\\tif (index != undefined) {\\r\\n\\t\\t\\t\\t$(\\'#about-honor-img img\\').attr(\\'src\\', \\'images/about/honor-p\\' + (index + 1) + \\'.jpg\\');\\r\\n\\t\\t\\t}\\r\\n\\t\\t\\t$(\\'#about-honor-img h3\\').text(arrText[index]);\\r\\n\\t\\t\\t$(\\'#about-honor-arrleft\\').on(\\'click\\', function (e) {\\r\\n\\t\\t\\t\\te.stopPropagation();\\r\\n\\t\\t\\t\\tif (index > 0) {\\r\\n\\t\\t\\t\\t\\tindex--;\\r\\n\\t\\t\\t\\t\\t$(\\'#about-honor-img img\\').attr(\\'src\\', \\'images/about/honor-p\\' + (index + 1) + \\'.jpg\\');\\r\\n\\t\\t\\t\\t\\t$(\\'#about-honor-img h3\\').text(arrText[index]);\\r\\n\\t\\t\\t\\t}\\r\\n\\t\\t\\t});\\r\\n\\t\\t\\t$(\\'#about-honor-arrright\\').on(\\'click\\', function (e) {\\r\\n\\t\\t\\t\\te.stopPropagation();\\r\\n\\t\\t\\t\\tif (index < arrText.length - 1) {\\r\\n\\t\\t\\t\\t\\tindex++;\\r\\n\\t\\t\\t\\t\\t$(\\'#about-honor-img img\\').attr(\\'src\\', \\'images/about/honor-p\\' + (index + 1) + \\'.jpg\\');\\r\\n\\t\\t\\t\\t\\t$(\\'#about-honor-img h3\\').text(arrText[index]);\\r\\n\\t\\t\\t\\t}\\r\\n\\t\\t\\t});\\r\\n\\t\\t}\\r\\n\\t\\timgCheck();\\r\\n\\t</script>\\r\\n\\r\\n\\t<script type=\"text/javascript\">\\r\\n\\t\\tvar arrText2 = [\\'\\xe9\\x95\\xbf\\xe6\\x8a\\x95\\xe5\\xad\\xa6\\xe5\\xa0\\x82-\\xe8\\xb4\\xa2\\xe6\\x8a\\xa5\\xe5\\x88\\x86\\xe6\\x9e\\x90\\xe8\\xae\\xad\\xe7\\xbb\\x83\\xe8\\x90\\xa5\\', \\'\\xe9\\x95\\xbf\\xe6\\x8a\\x95\\xe5\\xad\\xa6\\xe5\\xa0\\x82\\xe8\\x82\\xa1\\xe7\\xa5\\xa8\\xe5\\x88\\x9d\\xe5\\xa7\\x8b\\xe7\\xba\\xa7\\xe8\\xaf\\xbe\\', \\'\\xe9\\x95\\xbf\\xe6\\x8a\\x95\\xe5\\xad\\xa6\\xe5\\xa0\\x82\\xe8\\x82\\xa1\\xe7\\xa5\\xa8\\xe8\\xbf\\x9b\\xe9\\x98\\xb6\\xe8\\xaf\\xbe\\', \\'\\xe9\\x95\\xbf\\xe6\\x8a\\x95\\xe5\\xad\\xa6\\xe5\\xa0\\x82\\xe5\\x9f\\xba\\xe9\\x87\\x91\\xe8\\xaf\\xbe\\', \\'\\xe5\\x9f\\xba\\xe9\\x87\\x91\\xe8\\xbf\\x9b\\xe9\\x98\\xb6\\xe8\\xae\\xad\\xe7\\xbb\\x83\\xe8\\x90\\xa5\\',\\r\\n\\t\\t\\t\\'\\xe9\\x95\\xbf\\xe6\\x8a\\x95\\xe5\\xad\\xa6\\xe5\\xa0\\x82\\xe4\\xbf\\x9d\\xe9\\x99\\xa9\\xe5\\xae\\x9e\\xe6\\x88\\x98\\xe8\\xaf\\xbe\\', \\'\\xe5\\x8f\\xaf\\xe8\\xbd\\xac\\xe5\\x80\\xba\\xe6\\x8a\\x95\\xe8\\xb5\\x84\\xe8\\xaf\\xbe\\', \\'\\xe9\\x95\\xbf\\xe6\\x8a\\x95\\xe5\\xad\\xa6\\xe5\\xa0\\x82\\xe5\\xb0\\x8f\\xe7\\x99\\xbd\\xe8\\x90\\xa58\\xe8\\xaf\\xbe\\xe9\\x9f\\xb3\\xe9\\xa2\\x91\\xe7\\xa8\\xbf\\',\\r\\n\\t\\t\\t\\'\\xe6\\xb8\\xaf\\xe8\\x82\\xa1\\xe6\\x89\\x93\\xe6\\x96\\xb0\\xe8\\xaf\\xbe\\', \\'\\xe5\\xbc\\x80\\xe6\\xba\\x90\\xe8\\xb5\\x9a\\xe9\\x92\\xb1\\xe8\\xaf\\xbe\\', \\'\\xe9\\x95\\xbf\\xe6\\x8a\\x95\\xe5\\xad\\xa6\\xe5\\xa0\\x82\\xe5\\xae\\xb6\\xe5\\xba\\xad\\xe7\\x90\\x86\\xe8\\xb4\\xa2\\xe8\\xa7\\x84\\xe5\\x88\\x92\\xe8\\xaf\\xbe\\', \\'\\xe9\\x95\\xbf\\xe6\\x8a\\x95\\xe5\\xad\\xa6\\xe5\\xa0\\x82\\xe8\\xb5\\x84\\xe4\\xba\\xa7\\xe9\\x85\\x8d\\xe7\\xbd\\xae\\xe8\\xaf\\xbe\\', \\'\\xe9\\x95\\xbf\\xe6\\x8a\\x95\\xe5\\xad\\xa6\\xe5\\xa0\\x82\\xe4\\xbd\\x8e\\xe9\\xa3\\x8e\\xe9\\x99\\xa9\\xe7\\x90\\x86\\xe8\\xb4\\xa2\\xe8\\xaf\\xbe\\', \\'\\xe9\\x93\\xb6\\xe8\\xa1\\x8c\\xe7\\x90\\x86\\xe8\\xb4\\xa2\\xe8\\xaf\\xbe\\', \\'\\xe9\\x95\\xbf\\xe6\\x8a\\x95\\xe5\\xad\\xa6\\xe5\\xa0\\x82\\xe6\\x9c\\x9f\\xe8\\xb4\\xa7\\xe6\\x9c\\x9f\\xe6\\x9d\\x83\\xe5\\x85\\xa5\\xe9\\x97\\xa8\\'];\\r\\n\\t\\tvar honor = new Swiper(\\'.index-auth .swiper-container\\', {\\r\\n\\t\\t\\tslidesPerView: 3,\\r\\n\\t\\t\\tslidesPerGroup: 3,\\r\\n\\t\\t\\tloop: true,\\r\\n\\t\\t\\tspaceBetween: 0,\\r\\n\\t\\t\\tautoplay: {\\r\\n\\t\\t\\t\\tdelay: 4200,\\r\\n\\t\\t\\t\\tdisableOnInteraction: false,\\r\\n\\t\\t\\t\\twaitForTransition: false,\\r\\n\\t\\t\\t},\\r\\n\\t\\t\\tpagination: {\\r\\n\\t\\t\\t\\tel: \\'.index-auth .swiper-pagination\\',\\r\\n\\t\\t\\t\\tbulletActiveClass: \\'timer-cl\\',\\r\\n\\t\\t\\t\\tclickable: true,\\r\\n\\t\\t\\t},\\r\\n\\t\\t\\tnavigation: {\\r\\n\\t\\t\\t\\tnextEl: \\'.swiper-button-next\\',\\r\\n\\t\\t\\t\\tprevEl: \\'.swiper-button-prev\\',\\r\\n\\t\\t\\t}\\r\\n\\t\\t});\\r\\n\\r\\n\\t\\t$(\\'.index-auth .swiper-slide\\').on(\"click\", function () {\\r\\n\\t\\t\\tvar index2 = Number($(this).attr(\\'data-swiper-slide-index\\'));\\r\\n\\t\\t\\t$(\\'.index-auth-scale\\').addClass(\\'show\\');\\r\\n\\t\\t\\timgCheck2(index2);\\r\\n\\t\\t});\\r\\n\\t\\t$(\\'.index-auth-scale\\').on(\\'click\\', function (e) {\\r\\n\\t\\t\\t$(this).removeClass(\\'show\\');\\r\\n\\t\\t});\\r\\n\\r\\n\\t\\tfunction imgCheck2(index2) {\\r\\n\\t\\t\\tconsole.log(\\'%c \\xf0\\x9f\\x8d\\xa1 index2: \\', \\'font-size:20px;background-color: #7F2B82;color:#fff;\\', index2);\\r\\n\\t\\t\\tif (index2 != undefined) {\\r\\n\\t\\t\\t\\t$(\\'#index-auth-img img\\').attr(\\'src\\', \\'images/auth/\\' + (index2 + 1) + \\'.png\\');\\r\\n\\t\\t\\t}\\r\\n\\t\\t\\t$(\\'#index-auth-img h3\\').text(arrText2[index2]);\\r\\n\\t\\t\\t$(\\'#index-auth-arrleft\\').on(\\'click\\', function (e) {\\r\\n\\t\\t\\t\\te.stopPropagation();\\r\\n\\t\\t\\t\\tif (index2 > 0) {\\r\\n\\t\\t\\t\\t\\tindex2--;\\r\\n\\t\\t\\t\\t\\t$(\\'#index-auth-img img\\').attr(\\'src\\', \\'images/auth/\\' + (index2 + 1) + \\'.png\\');\\r\\n\\t\\t\\t\\t\\t$(\\'#index-auth-img h3\\').text(arrText2[index2]);\\r\\n\\t\\t\\t\\t}\\r\\n\\t\\t\\t});\\r\\n\\t\\t\\t$(\\'#index-auth-arrright\\').on(\\'click\\', function (e) {\\r\\n\\t\\t\\t\\te.stopPropagation();\\r\\n\\t\\t\\t\\tif (index2 < arrText2.length - 1) {\\r\\n\\t\\t\\t\\t\\tindex2++;\\r\\n\\t\\t\\t\\t\\t$(\\'#index-auth-img img\\').attr(\\'src\\', \\'images/auth/\\' + (index2 + 1) + \\'.png\\');\\r\\n\\t\\t\\t\\t\\t$(\\'#index-auth-img h3\\').text(arrText2[index2]);\\r\\n\\t\\t\\t\\t}\\r\\n\\t\\t\\t});\\r\\n\\t\\t}\\r\\n\\t\\timgCheck2();\\r\\n\\t</script>\\r\\n\\r\\n\\t<!-- ./ -->\\r\\n</body>\\r\\n\\r\\n</html>'\n"
     ]
    }
   ],
   "source": [
    "import requests\n",
    "url = 'http://www.ichangtou.com/#company:data_000008.html'\n",
    "headers = {'User-Agent': 'Mozilla/5.0 (Macintosh; Intel Mac OS X 10_10_1) AppleWebKit/537.36 (KHTML, like Gecko) Chrome/39.0.2171.95 Safari/537.36'}\n",
    "response = requests.get(url, headers=headers)\n",
    "print(response.content)"
   ]
  },
  {
   "cell_type": "markdown",
   "metadata": {},
   "source": [
    "### Request with Post(file)"
   ]
  },
  {
   "cell_type": "code",
   "execution_count": null,
   "metadata": {},
   "outputs": [],
   "source": [
    "import requests\n",
    "url = 'https://httpbin.org/post'\n",
    "files = {'file': open('f.png', 'rb')}\n",
    "r = requests.post(url, files=files)\n"
   ]
  },
  {
   "cell_type": "markdown",
   "metadata": {},
   "source": [
    "# etc"
   ]
  },
  {
   "cell_type": "markdown",
   "metadata": {},
   "source": [
    "## String Format\n",
    "* cf: https://brownbears.tistory.com/421\n"
   ]
  },
  {
   "cell_type": "markdown",
   "metadata": {},
   "source": [
    "### % 기반"
   ]
  },
  {
   "cell_type": "code",
   "execution_count": null,
   "metadata": {},
   "outputs": [],
   "source": [
    "print('-- %d --'%3)\n",
    "print('-- %d -- %s --'%(3,'hi'))"
   ]
  },
  {
   "cell_type": "code",
   "execution_count": null,
   "metadata": {},
   "outputs": [],
   "source": [
    "for i in range(1,1000,77):\n",
    "    print(\"%10.2f , %10d\"%(i/3,i))"
   ]
  },
  {
   "cell_type": "markdown",
   "metadata": {},
   "source": [
    "### str.format"
   ]
  },
  {
   "cell_type": "code",
   "execution_count": null,
   "metadata": {},
   "outputs": [],
   "source": [
    "print( \"Hi, {}\".format('steve') )\n",
    "print( \"{0}, {1}, {0}\".format('2','steve') )\n",
    "print( \"{id}, {name}\".format(id='2',name='steve') )\n"
   ]
  },
  {
   "cell_type": "markdown",
   "metadata": {},
   "source": [
    "### f-string\n",
    "* from Python3.6"
   ]
  },
  {
   "cell_type": "code",
   "execution_count": null,
   "metadata": {},
   "outputs": [],
   "source": [
    "name=\"Steve\"\n",
    "print(f'Hello {name}')"
   ]
  },
  {
   "cell_type": "markdown",
   "metadata": {},
   "source": [
    "## closure : Dynamic Function"
   ]
  },
  {
   "cell_type": "code",
   "execution_count": null,
   "metadata": {},
   "outputs": [],
   "source": [
    "def f(a=1,b=2):\n",
    "    print(a,b)\n",
    "    return a+b\n",
    "\n",
    "def mf(a,b):\n",
    "    def f1():\n",
    "        return f(a,b)\n",
    "    return f1\n",
    "\n",
    "fn1=mf(1,1)\n",
    "fn2=mf(1,2)\n",
    "fn1()\n",
    "fn2()\n"
   ]
  },
  {
   "cell_type": "code",
   "execution_count": null,
   "metadata": {},
   "outputs": [],
   "source": []
  },
  {
   "cell_type": "code",
   "execution_count": null,
   "metadata": {},
   "outputs": [],
   "source": []
  },
  {
   "cell_type": "markdown",
   "metadata": {},
   "source": [
    "## Shell에서 Python구현\n"
   ]
  },
  {
   "cell_type": "code",
   "execution_count": null,
   "metadata": {},
   "outputs": [],
   "source": [
    "%%bash\n",
    "echo '\n",
    "print(\"   Column1, Column2\")\n",
    "for i in range(1,1000,40):\n",
    "       print(\"%10.2f , %10d\"%(i/3,i))\n",
    "' |python > /tmp/a.csv\n",
    "cat /tmp/a.csv\n"
   ]
  },
  {
   "cell_type": "markdown",
   "metadata": {},
   "source": [
    "##  freeze and -r"
   ]
  },
  {
   "cell_type": "code",
   "execution_count": null,
   "metadata": {},
   "outputs": [],
   "source": [
    "%%bash\n",
    "pip freeze > /tmp/requirements.txt\n",
    "\n",
    "\n",
    "# requirements.txt를 새로운 시스템으로 파일 이동후 사용하거나 ==를 >=로 바꿔서 사용\n",
    "\n",
    "# pip install -r requirements.txt\n"
   ]
  },
  {
   "cell_type": "code",
   "execution_count": null,
   "metadata": {},
   "outputs": [],
   "source": [
    "!cat /tmp/requirements.txt"
   ]
  },
  {
   "cell_type": "markdown",
   "metadata": {},
   "source": [
    "## Windows 환경에서 주의사항\n",
    "1. windows10에 git-scm 사용시 : python을 호출 못하는 경우 있음.\n",
    "2. \"#!/usr/bin/env python\" 문을 사용하면 안됨.\n",
    "3. 경로에 xx.py를 넣어두고 실행하는 것 안됨(xx.bat에서 호출해서 사용할 것)\n"
   ]
  },
  {
   "cell_type": "markdown",
   "metadata": {},
   "source": [
    "## CodeReversor"
   ]
  },
  {
   "cell_type": "code",
   "execution_count": null,
   "metadata": {},
   "outputs": [],
   "source": [
    "data=['aaa','bbb','ccc']\n",
    "enc={ r[1]:r[0]   for r in  enumerate(data)}\n",
    "def corderReversor(corder):\n",
    "  k=enc.keys()\n",
    "  return { corder[i]:i for i in k}\n",
    "\n",
    "dec=corderReversor(enc)\n",
    "\n",
    "print(\"Encoder = \" , enc)\n",
    "print(\"Decoder = \" , dec)\n"
   ]
  },
  {
   "cell_type": "markdown",
   "metadata": {},
   "source": [
    "## list to 2D-Matrix"
   ]
  },
  {
   "cell_type": "code",
   "execution_count": null,
   "metadata": {},
   "outputs": [],
   "source": [
    "a=[0.0,8.04,10.0,9.14,10.0,7.46,8.0,6.58,8.0,6.95,8.0,8.14,8.0,6.77,8.0,5.76,13.0,7.58,13.0,8.74,13.0,12.74,8.0,7.71,9.0,8.81,9.0,8.77,9.0,7.11,8.0,8.84,11.0,8.33,11.0,9.26,11.0,7.81,8.0,8.47,14.0,9.96,14.0,8.10,14.0,8.84,8.0,7.04,6.0,7.24,6.0,6.13,6.0,6.08,8.0,5.25,4.0,4.26,4.0,3.10,4.0,5.39,19.0,12.50,12.0,10.84,12.0,9.13,12.0,8.15,8.0,5.56,7.0,4.82,7.0,7.26,7.0,6.42,8.0,7.91,5.0,5.68,5.0,4.74,5.0,5.73,8.0,6.89]\n",
    "it=iter(a)\n",
    "rowCnt=8\n",
    "x = [[i for i in range(rowCnt)] for j in range(int(len(a)/rowCnt))]\n",
    "print(x)"
   ]
  },
  {
   "cell_type": "markdown",
   "metadata": {},
   "source": [
    "## 날짜 범위를 리스트로 만들기"
   ]
  },
  {
   "cell_type": "code",
   "execution_count": null,
   "metadata": {},
   "outputs": [],
   "source": [
    "import datetime\n",
    "start = datetime.datetime.strptime(\"20130129\",\"%Y%m%d\")\n",
    "end = datetime.datetime.strptime(\"20130203\", \"%Y%m%d\")\n",
    "date_generated = [start + datetime.timedelta(days=x) for x in range(0, (end-start).days)]\n",
    "for date in date_generated:\n",
    "    print(date.strftime(\"%Y%m%d\"))"
   ]
  },
  {
   "cell_type": "markdown",
   "metadata": {},
   "source": [
    "## 대화형 입력 : expect\n",
    "```python\n",
    "import pexpect\n",
    "child = pexpect.spawn ('login :')\n",
    "child.sendline('admin')\n",
    "child.sendline('xxxx')\n",
    "```\n",
    "\n",
    "### 설치\n",
    "```bash\n",
    "    https://pypi.python.org/pypi/pexpect/ 에서 받거나\n",
    "    easy_install pip\n",
    "    pip pexpect\n",
    "```\n",
    "- 수동 설치\n",
    "    ```bash\n",
    "    tar xzvf pexpect-4.0.1.tar.gz\n",
    "    cd pexpect-4.0.1\n",
    "    python setup.py install\n",
    "    ```\n"
   ]
  },
  {
   "cell_type": "markdown",
   "metadata": {},
   "source": [
    "## list에서 Matching 해서 list인덱스 배열로 리턴하기"
   ]
  },
  {
   "cell_type": "code",
   "execution_count": null,
   "metadata": {},
   "outputs": [],
   "source": [
    "x=[11,22,33,44]\n",
    "y=[11,33,22,44,44]\n",
    "[x.index(i) for i in y if i in y]"
   ]
  },
  {
   "cell_type": "markdown",
   "metadata": {},
   "source": [
    "## list → Dictionary → onehot encoding (enumerate)\n",
    "* enumerate로 encoder만들기"
   ]
  },
  {
   "cell_type": "code",
   "execution_count": null,
   "metadata": {},
   "outputs": [],
   "source": [
    "a=[\"a\",\"b\",\"c\"]\n",
    "l={ k:v for k,v in enumerate(a)}"
   ]
  },
  {
   "cell_type": "markdown",
   "metadata": {},
   "source": [
    "* list → dictionary → onehot"
   ]
  },
  {
   "cell_type": "code",
   "execution_count": null,
   "metadata": {},
   "outputs": [],
   "source": [
    "import numpy as np\n",
    "dictionary_data=[\"aa\",\"bb\",\"cc\",\"dd\"]\n",
    "\n",
    "encoder_dic={ k:v for v,k in enumerate(dictionary_data)}\n",
    "encoder_dic\n",
    "decoder_dic={ k:v for k,v in enumerate(dictionary_data)}\n",
    "decoder_dic\n",
    "\n",
    "org_data=[\"aa\",\"bb\",\"bb\",\"cc\",\"cc\",\"cc\",\"dd\",\"dd\",\"dd\",\"dd\"]\n",
    "encoded_data=[encoder_dic[i] for i in org_data]\n",
    "encoded_data\n",
    "\n",
    "decoded_data=[decoder_dic[i] for i in encoded_data]\n",
    "decoded_data\n",
    "\n",
    "\n",
    "one_hot=np.identity( len(encoder_dic.keys()) )"
   ]
  },
  {
   "cell_type": "markdown",
   "metadata": {},
   "source": [
    "## File Read\n",
    "* basic Example"
   ]
  },
  {
   "cell_type": "code",
   "execution_count": null,
   "metadata": {},
   "outputs": [],
   "source": [
    "!echo \"abcdefg\">/tmp/a.txt\n",
    "with open('/tmp/a.txt','r') as f:\n",
    "    print(f.readline())"
   ]
  },
  {
   "cell_type": "markdown",
   "metadata": {},
   "source": [
    "* 여러줄 읽기"
   ]
  },
  {
   "cell_type": "code",
   "execution_count": null,
   "metadata": {},
   "outputs": [],
   "source": [
    "with open(\"/tmp/a.txt\", 'r') as f:\n",
    "  while True:\n",
    "    line = f.readline()\n",
    "    if not line: break\n",
    "    print(line)\n",
    "  f.close()"
   ]
  }
 ],
 "metadata": {
  "kernelspec": {
   "display_name": "Python 3",
   "language": "python",
   "name": "python3"
  },
  "language_info": {
   "codemirror_mode": {
    "name": "ipython",
    "version": 3
   },
   "file_extension": ".py",
   "mimetype": "text/x-python",
   "name": "python",
   "nbconvert_exporter": "python",
   "pygments_lexer": "ipython3",
   "version": "3.8.9"
  },
  "toc-autonumbering": false,
  "toc-showmarkdowntxt": true,
  "toc-showtags": false
 },
 "nbformat": 4,
 "nbformat_minor": 4
}
