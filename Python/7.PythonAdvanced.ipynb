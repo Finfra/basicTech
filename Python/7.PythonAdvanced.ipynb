{
 "cells": [
  {
   "cell_type": "markdown",
   "metadata": {},
   "source": [
    "# Major Function"
   ]
  },
  {
   "cell_type": "markdown",
   "metadata": {},
   "source": [
    "## Exception\n",
    "* Exception list : https://docs.python.org/3/library/exceptions.html\n",
    "\n",
    "### Basic Example"
   ]
  },
  {
   "cell_type": "code",
   "execution_count": null,
   "metadata": {},
   "outputs": [],
   "source": [
    "i=1\n",
    "try:\n",
    "    print(1/(3-i)^10)\n",
    "except  ZeroDivisionError as err:\n",
    "    print(\"0으로 나누지 마세요.\")\n",
    "    print(err)\n",
    "    print(err.args)\n",
    "except TypeError:\n",
    "    print(\"type err\")\n",
    "except  Exception as err:\n",
    "    print(\"--------------------\")\n",
    "    logging.exception('')\n",
    "    print(\"--------------------\")\n",
    "    print(err.args)\n",
    "else:\n",
    "    print(\"None Error\")\n",
    "finally:\n",
    "    print(\"--------------------\")"
   ]
  },
  {
   "cell_type": "markdown",
   "metadata": {},
   "source": [
    "### Raise"
   ]
  },
  {
   "cell_type": "code",
   "execution_count": 39,
   "metadata": {},
   "outputs": [
    {
     "name": "stdout",
     "output_type": "stream",
     "text": [
      "<class 'Exception'>\n",
      "('spam', 'eggs')\n",
      "('spam', 'eggs')\n",
      "x = spam\n",
      "y = eggs\n"
     ]
    }
   ],
   "source": [
    "try:\n",
    "    raise Exception('spam', 'eggs')\n",
    "except Exception as inst:\n",
    "    print(type(inst))    # the exception instance\n",
    "    print(inst.args)     # arguments stored in .args\n",
    "    print(inst)          # __str__ allows args to be printed directly,\n",
    "                         # but may be overridden in exception subclasses\n",
    "    x, y = inst.args     # unpack args\n",
    "    print('x =', x)\n",
    "    print('y =', y)\n",
    "\n"
   ]
  },
  {
   "cell_type": "markdown",
   "metadata": {},
   "source": [
    "## Lambda"
   ]
  },
  {
   "cell_type": "markdown",
   "metadata": {},
   "source": [
    "### Lamdba Operator"
   ]
  },
  {
   "cell_type": "code",
   "execution_count": 3,
   "metadata": {},
   "outputs": [
    {
     "data": {
      "text/plain": [
       "9"
      ]
     },
     "execution_count": 3,
     "metadata": {},
     "output_type": "execute_result"
    }
   ],
   "source": [
    "f=lambda x: x**2\n",
    "f(3)"
   ]
  },
  {
   "cell_type": "code",
   "execution_count": 4,
   "metadata": {},
   "outputs": [
    {
     "name": "stdout",
     "output_type": "stream",
     "text": [
      "14\n",
      "14\n"
     ]
    }
   ],
   "source": [
    "def inc(n):\n",
    " return lambda x: x + n\n",
    "\n",
    "f=inc(2)\n",
    "\n",
    "print(f(12))\n",
    "\n",
    "print(inc(2)(12))\n",
    "\n",
    "# 출처: https://offbyone.tistory.com/73 [쉬고 싶은 개발자]"
   ]
  },
  {
   "cell_type": "markdown",
   "metadata": {},
   "source": [
    "### Map\n"
   ]
  },
  {
   "cell_type": "code",
   "execution_count": 7,
   "metadata": {},
   "outputs": [
    {
     "data": {
      "text/plain": [
       "[11, 22, 33, 44]"
      ]
     },
     "execution_count": 7,
     "metadata": {},
     "output_type": "execute_result"
    }
   ],
   "source": [
    "a=[1, 2, 3, 4]\n",
    "b=[10,20,30,40]\n",
    "list(map(lambda x, y:x+y, a,b))\n"
   ]
  },
  {
   "cell_type": "markdown",
   "metadata": {},
   "source": [
    "### Filter"
   ]
  },
  {
   "cell_type": "code",
   "execution_count": 10,
   "metadata": {},
   "outputs": [
    {
     "data": {
      "text/plain": [
       "[18, 9, 24, 12, 27]"
      ]
     },
     "execution_count": 10,
     "metadata": {},
     "output_type": "execute_result"
    }
   ],
   "source": [
    "foo = [2, 18, 9, 22, 17, 24, 8, 12, 27]\n",
    "list( filter(lambda x: x % 3 == 0, foo))"
   ]
  },
  {
   "cell_type": "markdown",
   "metadata": {},
   "source": [
    "### Reduce"
   ]
  },
  {
   "cell_type": "code",
   "execution_count": 11,
   "metadata": {},
   "outputs": [
    {
     "data": {
      "text/plain": [
       "15"
      ]
     },
     "execution_count": 11,
     "metadata": {},
     "output_type": "execute_result"
    }
   ],
   "source": [
    "from functools import reduce\n",
    "reduce(lambda x,y: x+y, [1,2,3,4,5])\n"
   ]
  },
  {
   "cell_type": "code",
   "execution_count": null,
   "metadata": {},
   "outputs": [],
   "source": []
  },
  {
   "cell_type": "code",
   "execution_count": 18,
   "metadata": {},
   "outputs": [],
   "source": []
  },
  {
   "cell_type": "markdown",
   "metadata": {},
   "source": [
    "### python2"
   ]
  },
  {
   "cell_type": "code",
   "execution_count": null,
   "metadata": {},
   "outputs": [],
   "source": [
    "# map(lambda x: x**2, [0,1,2,3])\n",
    "# reduce(lambda x,y: x+y, [0,1,2,3])\n",
    "# filter(lambda x: x < 5, range(10))"
   ]
  },
  {
   "cell_type": "markdown",
   "metadata": {},
   "source": [
    "# Builtin Function"
   ]
  },
  {
   "cell_type": "markdown",
   "metadata": {},
   "source": [
    "## eval\n",
    "* 문자열을 코드로 실행 가능하게 함. "
   ]
  },
  {
   "cell_type": "code",
   "execution_count": 5,
   "metadata": {},
   "outputs": [
    {
     "name": "stdout",
     "output_type": "stream",
     "text": [
      "6\n"
     ]
    }
   ],
   "source": [
    "x=3\n",
    "str='3+x'\n",
    "print(eval(str))"
   ]
  },
  {
   "cell_type": "markdown",
   "metadata": {},
   "source": [
    "* 단, 변수를 정의할때는 안되므로, local()['변수명']으로 사용"
   ]
  },
  {
   "cell_type": "code",
   "execution_count": 8,
   "metadata": {},
   "outputs": [],
   "source": [
    "#fail : eval('y=1')\n",
    "locals()['y'] = 1"
   ]
  },
  {
   "cell_type": "code",
   "execution_count": null,
   "metadata": {},
   "outputs": [],
   "source": [
    "## zip"
   ]
  },
  {
   "cell_type": "code",
   "execution_count": 47,
   "metadata": {},
   "outputs": [
    {
     "data": {
      "text/plain": [
       "[(1, 4), (2, 5), (3, 6)]"
      ]
     },
     "execution_count": 47,
     "metadata": {},
     "output_type": "execute_result"
    }
   ],
   "source": [
    "a=[1,2,3]\n",
    "b=[4,5,6]\n",
    "[i for  i in zip(a,b)]"
   ]
  },
  {
   "cell_type": "markdown",
   "metadata": {},
   "source": [
    "## struct\n",
    "- Python 문자열로 표현된 C structs와 Python Value 간의 변환\n",
    "- Link : http://hextracker.tistory.com/141\n",
    "- 특징\n",
    "    + 파일에 Binary Data를 저장하거나 Network Connection 시 사용\n",
    "- 주요 Fuction\n",
    "    + struct.pack(fmt,v1,v2,...)\n",
    "        지정된 Format에 따라 v1,v2,..의 Values를 Pack을 수행하며 그 결과는 String으로 리턴\n",
    "\n",
    "    + struct.unpack(fmt,string)\n",
    "        지정된 Format에 따라 String을 Unpack을 수행하며 그 결과는 Tuple로 리턴"
   ]
  },
  {
   "cell_type": "code",
   "execution_count": null,
   "metadata": {},
   "outputs": [],
   "source": [
    "import struct\n",
    "\n",
    "def getDword(s, offset) :\n",
    "    return struct.unpack(\"<L\", s[offset:offset+4])[0]\n",
    "\n",
    "def main():\n",
    "    str = \"123456789\"\n",
    "    tmp = getDword(str,0)\n",
    "    print hex(tmp)\n",
    "\n",
    "if __name__ == '__main__':\n",
    "    main()"
   ]
  },
  {
   "cell_type": "markdown",
   "metadata": {},
   "source": [
    "### Byte Order\n",
    "|Character|Byte Order           |Size     |Alignment|\n",
    "|---------|---------------------|---------|----------|\n",
    "| @        |Native               |Native   |Native    |\n",
    "| =        |Native               |Standard|None      |\n",
    "| <        |Little-Endian        |Standard|None      |\n",
    "| >        |Big-Endian           |Standard|None      |\n",
    "| !        |network(=Big-Endian) |Standard|None      |\n",
    "\n",
    "###  Format Characters\n",
    "|Format|C Types           |Python Type        |Standard Size|\n",
    "|------|------------------|-------------------|--------------|\n",
    "| x    |Pad Byte          |No Value           |              |\n",
    "| c    |char              |String of length 1 |1             |\n",
    "| b    |signed char       |integer            |1             |\n",
    "| B    |unsigned char     |integer            |1             |\n",
    "| ?    |_Bool             |bool               |1             |\n",
    "| h    |short             |integer            |2             |\n",
    "| H    |unsigned short    |integer            |2             |\n",
    "| i    |int               |integer            |4             |\n",
    "| I    |unsigned int      |integer            |4             |\n",
    "| l    |long              |integer            |4             |\n",
    "| L    |unsigned long     |integer            |4             |\n",
    "| q    |long long         |integer            |8             |\n",
    "| Q    |unsigned long long|integer            |8             |\n",
    "| f    |float             |float              |4             |\n",
    "| d    |double            |float              |8             |\n",
    "| s    |char[]            |string             |              |\n",
    "| p    |char[]            |string             |              |\n",
    "| P    |void *            |integer            |              |"
   ]
  },
  {
   "cell_type": "markdown",
   "metadata": {},
   "source": [
    "# Builtin Library"
   ]
  },
  {
   "cell_type": "markdown",
   "metadata": {},
   "source": [
    "## OS명령"
   ]
  },
  {
   "cell_type": "code",
   "execution_count": 118,
   "metadata": {},
   "outputs": [
    {
     "name": "stdout",
     "output_type": "stream",
     "text": [
      "0\n",
      "/tmp/x123\n"
     ]
    }
   ],
   "source": [
    "import os\n",
    "print(os.system('touch /tmp/x123') )\n",
    "!ls /tmp/x123"
   ]
  },
  {
   "cell_type": "markdown",
   "metadata": {},
   "source": [
    "## Pickle\n",
    "* 파이썬객체를 저장하고 읽음. "
   ]
  },
  {
   "cell_type": "code",
   "execution_count": 17,
   "metadata": {},
   "outputs": [
    {
     "data": {
      "text/plain": [
       "[1, 2, 3, 4]"
      ]
     },
     "execution_count": 17,
     "metadata": {},
     "output_type": "execute_result"
    }
   ],
   "source": [
    "import pickle\n",
    "\n",
    "thePath=\"/tmp/tmp\"\n",
    "obj=[1,2,3,4]\n",
    "with open(thePath, \"wb\") as f:\n",
    "  pickle.dump(obj,f)\n",
    "\n",
    "\n",
    "with open(thePath, \"rb\") as f:\n",
    "    obj2 = pickle.load(f)\n",
    "\n",
    "obj2\n",
    "\n",
    "\n"
   ]
  },
  {
   "cell_type": "markdown",
   "metadata": {},
   "source": [
    "## Default Dict\n",
    "* 없는 키값을 리턴해도 에러를 발생시키기 않는 Dictionary"
   ]
  },
  {
   "cell_type": "code",
   "execution_count": null,
   "metadata": {},
   "outputs": [],
   "source": [
    "from collections import defaultdict\n",
    "d=defaultdict(lambda: None)\n",
    "d[\"a\"]       # no error, return None\n",
    "\n"
   ]
  },
  {
   "cell_type": "code",
   "execution_count": 19,
   "metadata": {},
   "outputs": [
    {
     "data": {
      "text/plain": [
       "dict_keys(['a', 'b'])"
      ]
     },
     "execution_count": 19,
     "metadata": {},
     "output_type": "execute_result"
    }
   ],
   "source": [
    "d[\"b\"]=3\n",
    "d.keys()"
   ]
  },
  {
   "cell_type": "code",
   "execution_count": 22,
   "metadata": {},
   "outputs": [
    {
     "name": "stdout",
     "output_type": "stream",
     "text": [
      "None\n"
     ]
    },
    {
     "data": {
      "text/plain": [
       "dict_keys(['a', 'b', 'c'])"
      ]
     },
     "execution_count": 22,
     "metadata": {},
     "output_type": "execute_result"
    }
   ],
   "source": [
    "print(d[\"c\"])\n",
    "d.keys()"
   ]
  },
  {
   "cell_type": "markdown",
   "metadata": {},
   "source": [
    "## Regular Expression"
   ]
  },
  {
   "cell_type": "code",
   "execution_count": 50,
   "metadata": {},
   "outputs": [],
   "source": [
    "import re"
   ]
  },
  {
   "cell_type": "markdown",
   "metadata": {},
   "source": [
    "### re.escape"
   ]
  },
  {
   "cell_type": "markdown",
   "metadata": {},
   "source": [
    "### re.findall"
   ]
  },
  {
   "cell_type": "code",
   "execution_count": 51,
   "metadata": {},
   "outputs": [
    {
     "data": {
      "text/plain": [
       "['a', 'a']"
      ]
     },
     "execution_count": 51,
     "metadata": {},
     "output_type": "execute_result"
    }
   ],
   "source": [
    "re.findall('a','apache')\n",
    "# ['a', 'a']"
   ]
  },
  {
   "cell_type": "markdown",
   "metadata": {},
   "source": [
    "#### MultiLine Examples"
   ]
  },
  {
   "cell_type": "code",
   "execution_count": 52,
   "metadata": {},
   "outputs": [
    {
     "data": {
      "text/plain": [
       "['bbb cc\\ndd\\n']"
      ]
     },
     "execution_count": 52,
     "metadata": {},
     "output_type": "execute_result"
    }
   ],
   "source": [
    "import re\n",
    "s='''\n",
    "aa\n",
    "bbb cc\n",
    "dd\n",
    "'''\n",
    "re.findall('bb.*$',s,re.DOTALL)"
   ]
  },
  {
   "cell_type": "markdown",
   "metadata": {},
   "source": [
    "### re.finditer"
   ]
  },
  {
   "cell_type": "markdown",
   "metadata": {},
   "source": [
    "### re.fullmatch"
   ]
  },
  {
   "cell_type": "markdown",
   "metadata": {},
   "source": [
    "### re.functools"
   ]
  },
  {
   "cell_type": "markdown",
   "metadata": {},
   "source": [
    "### re.match\n",
    "* 주의 정확히 일치 해야 함."
   ]
  },
  {
   "cell_type": "code",
   "execution_count": 53,
   "metadata": {},
   "outputs": [
    {
     "name": "stdout",
     "output_type": "stream",
     "text": [
      "Match\n",
      "Match\n"
     ]
    }
   ],
   "source": [
    "p=re.compile('[a-z]+')\n",
    "if p.match(\"python\"):\n",
    "  print('Match')\n",
    "\n",
    "\n",
    "if not re.match('a$',\"ca\"):\n",
    "     print(\"Match\")\n",
    "else:\n",
    "     print(\"NoMatch\") # <==요게 나옴 정확히 않맞으니까."
   ]
  },
  {
   "cell_type": "markdown",
   "metadata": {},
   "source": [
    "### re.search/compile/group\n",
    "* match Object의 메서드들\n",
    "    - Method,  Descrption\n",
    "    - group(), 일치된 문자열을 반환한다.\n",
    "    - start(), 일치된 문자열의 시작 위치를 반환한다.\n",
    "    - end(),   일치된 문자열의 끝 위치를 반환한다.\n",
    "    - span(),  일치된 문자열의 (시작 위치, 끝 위치) 튜플을 반환한다.\n",
    "* Example Simple\n",
    "\n"
   ]
  },
  {
   "cell_type": "code",
   "execution_count": 54,
   "metadata": {},
   "outputs": [
    {
     "data": {
      "text/plain": [
       "'c'"
      ]
     },
     "execution_count": 54,
     "metadata": {},
     "output_type": "execute_result"
    }
   ],
   "source": [
    "regex = re.compile('(a+).*(c+)')\n",
    "mo = regex.search('abc')\n",
    "mo.group(2)\n",
    "# 'c'"
   ]
  },
  {
   "cell_type": "markdown",
   "metadata": {},
   "source": [
    "* Example Full"
   ]
  },
  {
   "cell_type": "code",
   "execution_count": 55,
   "metadata": {},
   "outputs": [
    {
     "name": "stdout",
     "output_type": "stream",
     "text": [
      "<re.Match object; span=(4, 6), match='ss'>\n",
      "a\n",
      "ss\n",
      "4\n",
      "6\n",
      "(4, 6)\n"
     ]
    }
   ],
   "source": [
    "import re\n",
    "\n",
    "matchObj = re.search('s+', \"a a ss a ssss\")\n",
    "print(matchObj)\n",
    "\n",
    "regex=re.compile('(a)(b)(.*)')\n",
    "mo=regex.search('abca')\n",
    "print(mo.group(1))\n",
    "\n",
    "print(matchObj.group())\n",
    "# ss\n",
    "print(matchObj.start())\n",
    "# 4\n",
    "print(matchObj.end())\n",
    "# 6\n",
    "print(matchObj.span())\n",
    "# (4,6)"
   ]
  },
  {
   "cell_type": "markdown",
   "metadata": {},
   "source": [
    "### re.split"
   ]
  },
  {
   "cell_type": "markdown",
   "metadata": {},
   "source": [
    "### re.sub"
   ]
  },
  {
   "cell_type": "code",
   "execution_count": 56,
   "metadata": {},
   "outputs": [
    {
     "data": {
      "text/plain": [
       "'She is xx, her sister is xx.'"
      ]
     },
     "execution_count": 56,
     "metadata": {},
     "output_type": "execute_result"
    }
   ],
   "source": [
    "re.sub(r\"18|28\",r\"xx\",\"She is 18, her sister is 28.\")"
   ]
  },
  {
   "cell_type": "code",
   "execution_count": 57,
   "metadata": {},
   "outputs": [
    {
     "data": {
      "text/plain": [
       "('She is xx, her sister is 28.', 1)"
      ]
     },
     "execution_count": 57,
     "metadata": {},
     "output_type": "execute_result"
    }
   ],
   "source": [
    "### re.subn\n",
    "re.subn(r\"18|28\",r\"xx\",\"She is 18, her sister is 28.\")\n",
    "# ('She is xx, her sister is xx.', 2)\n",
    "\n",
    "re.subn(r\"18\",r\"xx\",\"She is 18, her sister is 28.\")\n",
    "# ('She is xx, her sister is 28.', 1)"
   ]
  },
  {
   "cell_type": "markdown",
   "metadata": {},
   "source": [
    "### Examples"
   ]
  },
  {
   "cell_type": "code",
   "execution_count": null,
   "metadata": {},
   "outputs": [],
   "source": [
    "import re\n",
    "operater = '[\\+|\\-|\\/|\\*|\\(|\\)]+'\n",
    "e=\"(3+4)*5\"\n",
    "operaters=re.findall(operater,e)\n",
    "variables=re.split(operater, e)\n"
   ]
  },
  {
   "cell_type": "markdown",
   "metadata": {},
   "source": [
    "## json"
   ]
  },
  {
   "cell_type": "code",
   "execution_count": 61,
   "metadata": {},
   "outputs": [],
   "source": [
    "!echo '{\"aa\":1,\"bb\":[1,2,3]}' > \"/tmp/xx.json\""
   ]
  },
  {
   "cell_type": "code",
   "execution_count": 65,
   "metadata": {},
   "outputs": [
    {
     "name": "stdout",
     "output_type": "stream",
     "text": [
      "{'aa': 1, 'bb': [1, 2, 3]}\n",
      "[1, 2, 3]\n"
     ]
    }
   ],
   "source": [
    "import json\n",
    "json_data=open('/tmp/xx.json').read()\n",
    "d=json.loads(json_data)\n",
    "print(d)\n",
    "print(d['bb'])"
   ]
  },
  {
   "cell_type": "markdown",
   "metadata": {},
   "source": [
    "## dateutil\n",
    "* String to Date"
   ]
  },
  {
   "cell_type": "code",
   "execution_count": 66,
   "metadata": {},
   "outputs": [
    {
     "data": {
      "text/plain": [
       "datetime.datetime(2000, 1, 1, 0, 0)"
      ]
     },
     "execution_count": 66,
     "metadata": {},
     "output_type": "execute_result"
    }
   ],
   "source": [
    "from dateutil.parser import parse\n",
    "parse('2000-01-01')"
   ]
  },
  {
   "cell_type": "markdown",
   "metadata": {},
   "source": [
    "* Date add"
   ]
  },
  {
   "cell_type": "code",
   "execution_count": 67,
   "metadata": {},
   "outputs": [
    {
     "name": "stdout",
     "output_type": "stream",
     "text": [
      "3653 days, 0:00:00\n",
      "2010-01-11 00:00:00\n"
     ]
    }
   ],
   "source": [
    "import datetime\n",
    "from dateutil.parser import parse\n",
    "d=parse('2010-01-01')-parse('2000-01-01')\n",
    "print(d)\n",
    "print(parse('2010-01-01') + datetime.timedelta(days=10) )"
   ]
  },
  {
   "cell_type": "markdown",
   "metadata": {},
   "source": [
    "## pdb\n",
    "* Source : http://pythonstudy.xyz/python/article/505-Python-디버깅-PDB\n",
    "```\n",
    "import pdb; pdb.set_trace()\n",
    "```\n",
    "### PDB Syntax\n",
    "\n",
    "|PDB     |명령어\t실행내용                           |\n",
    "|--------|-----------------------------------|\n",
    "|help    |도움말                                |\n",
    "|next    |다음 문장으로 이동                         |\n",
    "|print   |변수값 화면에 표시                         |\n",
    "|list    |소스코드 리스트 출력. 현재 위치 화살표로 표시됨        |\n",
    "|where   |콜스택 출력                             |\n",
    "|continue|계속 실행. 다음 중단점에 멈추거나 중단점 없으면 끝까지 실행|\n",
    "|step    |Step Into 하여 함수 내부로 들어감            |\n",
    "|return  |현재 함수의 리턴 직전까지 실행                  |\n",
    "|!변수명 = 값|변수에 값 재설정                          |"
   ]
  },
  {
   "cell_type": "code",
   "execution_count": null,
   "metadata": {},
   "outputs": [],
   "source": [
    "## subprocess\n",
    "```\n",
    "import subprocess\n",
    "p = subprocess.Popen('df -h', shell=True, stdout=subprocess.PIPE)\n",
    "print(str(p.communicate()[0], 'utf-8'))\n",
    "```\n"
   ]
  },
  {
   "cell_type": "code",
   "execution_count": null,
   "metadata": {},
   "outputs": [],
   "source": []
  },
  {
   "cell_type": "code",
   "execution_count": null,
   "metadata": {},
   "outputs": [],
   "source": []
  },
  {
   "cell_type": "code",
   "execution_count": null,
   "metadata": {},
   "outputs": [],
   "source": []
  },
  {
   "cell_type": "code",
   "execution_count": null,
   "metadata": {},
   "outputs": [],
   "source": []
  },
  {
   "cell_type": "code",
   "execution_count": null,
   "metadata": {},
   "outputs": [],
   "source": []
  },
  {
   "cell_type": "code",
   "execution_count": null,
   "metadata": {},
   "outputs": [],
   "source": []
  },
  {
   "cell_type": "code",
   "execution_count": null,
   "metadata": {},
   "outputs": [],
   "source": []
  },
  {
   "cell_type": "code",
   "execution_count": null,
   "metadata": {},
   "outputs": [],
   "source": []
  },
  {
   "cell_type": "code",
   "execution_count": null,
   "metadata": {},
   "outputs": [],
   "source": []
  },
  {
   "cell_type": "code",
   "execution_count": null,
   "metadata": {},
   "outputs": [],
   "source": []
  },
  {
   "cell_type": "code",
   "execution_count": null,
   "metadata": {},
   "outputs": [],
   "source": []
  },
  {
   "cell_type": "markdown",
   "metadata": {},
   "source": [
    "# etc"
   ]
  },
  {
   "cell_type": "markdown",
   "metadata": {},
   "source": [
    "## String Format\n",
    "* cf: https://brownbears.tistory.com/421\n"
   ]
  },
  {
   "cell_type": "markdown",
   "metadata": {},
   "source": [
    "### % 기반"
   ]
  },
  {
   "cell_type": "code",
   "execution_count": 27,
   "metadata": {},
   "outputs": [
    {
     "name": "stdout",
     "output_type": "stream",
     "text": [
      "-- 3 --\n",
      "-- 3 -- hi --\n"
     ]
    }
   ],
   "source": [
    "print('-- %d --'%3)\n",
    "print('-- %d -- %s --'%(3,'hi'))"
   ]
  },
  {
   "cell_type": "code",
   "execution_count": 37,
   "metadata": {},
   "outputs": [
    {
     "name": "stdout",
     "output_type": "stream",
     "text": [
      "      0.33 ,          1\n",
      "     26.00 ,         78\n",
      "     51.67 ,        155\n",
      "     77.33 ,        232\n",
      "    103.00 ,        309\n",
      "    128.67 ,        386\n",
      "    154.33 ,        463\n",
      "    180.00 ,        540\n",
      "    205.67 ,        617\n",
      "    231.33 ,        694\n",
      "    257.00 ,        771\n",
      "    282.67 ,        848\n",
      "    308.33 ,        925\n"
     ]
    }
   ],
   "source": [
    "for i in range(1,1000,77):\n",
    "    print(\"%10.2f , %10d\"%(i/3,i))"
   ]
  },
  {
   "cell_type": "markdown",
   "metadata": {},
   "source": [
    "### str.format"
   ]
  },
  {
   "cell_type": "code",
   "execution_count": 25,
   "metadata": {},
   "outputs": [
    {
     "name": "stdout",
     "output_type": "stream",
     "text": [
      "Hi, steve\n",
      "2, steve, 2\n",
      "2, steve\n"
     ]
    }
   ],
   "source": [
    "print( \"Hi, {}\".format('steve') )\n",
    "print( \"{0}, {1}, {0}\".format('2','steve') )\n",
    "print( \"{id}, {name}\".format(id='2',name='steve') )\n"
   ]
  },
  {
   "cell_type": "markdown",
   "metadata": {},
   "source": [
    "### f-string\n",
    "* from Python3.6"
   ]
  },
  {
   "cell_type": "code",
   "execution_count": null,
   "metadata": {},
   "outputs": [],
   "source": [
    "name=\"Steve\"\n",
    "print(f'Hello {name}')"
   ]
  },
  {
   "cell_type": "markdown",
   "metadata": {},
   "source": [
    "## closure : Dynamic Function"
   ]
  },
  {
   "cell_type": "code",
   "execution_count": 59,
   "metadata": {},
   "outputs": [
    {
     "name": "stdout",
     "output_type": "stream",
     "text": [
      "1 1\n",
      "1 2\n"
     ]
    },
    {
     "data": {
      "text/plain": [
       "3"
      ]
     },
     "execution_count": 59,
     "metadata": {},
     "output_type": "execute_result"
    }
   ],
   "source": [
    "def f(a=1,b=2):\n",
    "    print(a,b)\n",
    "    return a+b\n",
    "\n",
    "def mf(a,b):\n",
    "    def f1():\n",
    "        return f(a,b)\n",
    "    return f1\n",
    "\n",
    "fn1=mf(1,1)\n",
    "fn2=mf(1,2)\n",
    "fn1()\n",
    "fn2()\n"
   ]
  },
  {
   "cell_type": "code",
   "execution_count": null,
   "metadata": {},
   "outputs": [],
   "source": []
  },
  {
   "cell_type": "code",
   "execution_count": null,
   "metadata": {},
   "outputs": [],
   "source": []
  },
  {
   "cell_type": "markdown",
   "metadata": {},
   "source": [
    "## Shell에서 Python구현\n"
   ]
  },
  {
   "cell_type": "code",
   "execution_count": 35,
   "metadata": {},
   "outputs": [
    {
     "name": "stdout",
     "output_type": "stream",
     "text": [
      "   Column1, Column2\n",
      "      0.33 ,          1\n",
      "     13.67 ,         41\n",
      "     27.00 ,         81\n",
      "     40.33 ,        121\n",
      "     53.67 ,        161\n",
      "     67.00 ,        201\n",
      "     80.33 ,        241\n",
      "     93.67 ,        281\n",
      "    107.00 ,        321\n",
      "    120.33 ,        361\n",
      "    133.67 ,        401\n",
      "    147.00 ,        441\n",
      "    160.33 ,        481\n",
      "    173.67 ,        521\n",
      "    187.00 ,        561\n",
      "    200.33 ,        601\n",
      "    213.67 ,        641\n",
      "    227.00 ,        681\n",
      "    240.33 ,        721\n",
      "    253.67 ,        761\n",
      "    267.00 ,        801\n",
      "    280.33 ,        841\n",
      "    293.67 ,        881\n",
      "    307.00 ,        921\n",
      "    320.33 ,        961\n"
     ]
    }
   ],
   "source": [
    "%%bash\n",
    "echo '\n",
    "print(\"   Column1, Column2\")\n",
    "for i in range(1,1000,40):\n",
    "       print(\"%10.2f , %10d\"%(i/3,i))\n",
    "' |python > /tmp/a.csv\n",
    "cat /tmp/a.csv\n"
   ]
  },
  {
   "cell_type": "markdown",
   "metadata": {},
   "source": [
    "##  freeze and -r"
   ]
  },
  {
   "cell_type": "code",
   "execution_count": 42,
   "metadata": {},
   "outputs": [],
   "source": [
    "%%bash\n",
    "pip freeze > /tmp/requirements.txt\n",
    "\n",
    "\n",
    "# requirements.txt를 새로운 시스템으로 파일 이동후 사용하거나 ==를 >=로 바꿔서 사용\n",
    "\n",
    "# pip install -r requirements.txt\n"
   ]
  },
  {
   "cell_type": "code",
   "execution_count": 43,
   "metadata": {},
   "outputs": [
    {
     "name": "stdout",
     "output_type": "stream",
     "text": [
      "attrs==21.2.0\n",
      "bleach==4.1.0\n",
      "defusedxml==0.7.1\n",
      "entrypoints==0.3\n",
      "Integral==0.1.0\n",
      "ipython-genutils==0.2.0\n",
      "Jinja2==3.0.1\n",
      "jsonschema==3.2.0\n",
      "jupyter-client==7.0.2\n",
      "jupyter-core==4.7.1\n",
      "jupyterlab-pygments==0.1.2\n",
      "llvmlite==0.36.0\n",
      "MarkupSafe==2.0.1\n",
      "mistune==0.8.4\n",
      "nbclient==0.5.4\n",
      "-e git+https://github.com/jupyter/nbconvert.git@6c7c34ae9139eb782806975e8a600ddd07b11987#egg=nbconvert\n",
      "nbformat==5.1.3\n",
      "nest-asyncio==1.5.1\n",
      "numba==0.53.1\n",
      "numpy==1.20.2\n",
      "packaging==21.0\n",
      "pandas==1.2.4\n",
      "pandocfilters==1.4.3\n",
      "Pygments==2.10.0\n",
      "pyparsing==2.4.7\n",
      "pyrsistent==0.18.0\n",
      "python-dateutil==2.8.1\n",
      "pytz==2021.1\n",
      "pyzmq==22.2.1\n",
      "six==1.15.0\n",
      "testpath==0.5.0\n",
      "tornado==6.1\n",
      "traitlets==5.1.0\n",
      "webencodings==0.5.1\n"
     ]
    }
   ],
   "source": [
    "!cat /tmp/requirements.txt"
   ]
  },
  {
   "cell_type": "markdown",
   "metadata": {},
   "source": [
    "## Windows 환경에서 주의사항\n",
    "1. windows10에 git-scm 사용시 : python을 호출 못하는 경우 있음.\n",
    "2. \"#!/usr/bin/env python\" 문을 사용하면 안됨.\n",
    "3. 경로에 xx.py를 넣어두고 실행하는 것 안됨(xx.bat에서 호출해서 사용할 것)\n"
   ]
  },
  {
   "cell_type": "markdown",
   "metadata": {},
   "source": [
    "## CodeReversor"
   ]
  },
  {
   "cell_type": "code",
   "execution_count": 74,
   "metadata": {},
   "outputs": [
    {
     "name": "stdout",
     "output_type": "stream",
     "text": [
      "Encoder =  {'aaa': 0, 'bbb': 1, 'ccc': 2}\n",
      "Decoder =  {0: 'aaa', 1: 'bbb', 2: 'ccc'}\n"
     ]
    }
   ],
   "source": [
    "data=['aaa','bbb','ccc']\n",
    "enc={ r[1]:r[0]   for r in  enumerate(data)}\n",
    "def corderReversor(corder):\n",
    "  k=enc.keys()\n",
    "  return { corder[i]:i for i in k}\n",
    "\n",
    "dec=corderReversor(enc)\n",
    "\n",
    "print(\"Encoder = \" , enc)\n",
    "print(\"Decoder = \" , dec)\n"
   ]
  },
  {
   "cell_type": "markdown",
   "metadata": {},
   "source": [
    "## list to 2D-Matrix"
   ]
  },
  {
   "cell_type": "code",
   "execution_count": 75,
   "metadata": {},
   "outputs": [
    {
     "name": "stdout",
     "output_type": "stream",
     "text": [
      "[[0, 1, 2, 3, 4, 5, 6, 7], [0, 1, 2, 3, 4, 5, 6, 7], [0, 1, 2, 3, 4, 5, 6, 7], [0, 1, 2, 3, 4, 5, 6, 7], [0, 1, 2, 3, 4, 5, 6, 7], [0, 1, 2, 3, 4, 5, 6, 7], [0, 1, 2, 3, 4, 5, 6, 7], [0, 1, 2, 3, 4, 5, 6, 7], [0, 1, 2, 3, 4, 5, 6, 7], [0, 1, 2, 3, 4, 5, 6, 7], [0, 1, 2, 3, 4, 5, 6, 7]]\n"
     ]
    }
   ],
   "source": [
    "a=[0.0,8.04,10.0,9.14,10.0,7.46,8.0,6.58,8.0,6.95,8.0,8.14,8.0,6.77,8.0,5.76,13.0,7.58,13.0,8.74,13.0,12.74,8.0,7.71,9.0,8.81,9.0,8.77,9.0,7.11,8.0,8.84,11.0,8.33,11.0,9.26,11.0,7.81,8.0,8.47,14.0,9.96,14.0,8.10,14.0,8.84,8.0,7.04,6.0,7.24,6.0,6.13,6.0,6.08,8.0,5.25,4.0,4.26,4.0,3.10,4.0,5.39,19.0,12.50,12.0,10.84,12.0,9.13,12.0,8.15,8.0,5.56,7.0,4.82,7.0,7.26,7.0,6.42,8.0,7.91,5.0,5.68,5.0,4.74,5.0,5.73,8.0,6.89]\n",
    "it=iter(a)\n",
    "rowCnt=8\n",
    "x = [[i for i in range(rowCnt)] for j in range(int(len(a)/rowCnt))]\n",
    "print(x)"
   ]
  },
  {
   "cell_type": "markdown",
   "metadata": {},
   "source": [
    "## 날짜 범위를 리스트로 만들기"
   ]
  },
  {
   "cell_type": "code",
   "execution_count": 93,
   "metadata": {},
   "outputs": [
    {
     "name": "stdout",
     "output_type": "stream",
     "text": [
      "20130129\n",
      "20130130\n",
      "20130131\n",
      "20130201\n",
      "20130202\n"
     ]
    }
   ],
   "source": [
    "import datetime\n",
    "start = datetime.datetime.strptime(\"20130129\",\"%Y%m%d\")\n",
    "end = datetime.datetime.strptime(\"20130203\", \"%Y%m%d\")\n",
    "date_generated = [start + datetime.timedelta(days=x) for x in range(0, (end-start).days)]\n",
    "for date in date_generated:\n",
    "    print(date.strftime(\"%Y%m%d\"))"
   ]
  },
  {
   "cell_type": "markdown",
   "metadata": {},
   "source": [
    "## 대화형 입력 : expect\n",
    "```python\n",
    "import pexpect\n",
    "child = pexpect.spawn ('login :')\n",
    "child.sendline('admin')\n",
    "child.sendline('xxxx')\n",
    "```\n",
    "\n",
    "### 설치\n",
    "```bash\n",
    "    https://pypi.python.org/pypi/pexpect/ 에서 받거나\n",
    "    easy_install pip\n",
    "    pip pexpect\n",
    "```\n",
    "- 수동 설치\n",
    "    ```bash\n",
    "    tar xzvf pexpect-4.0.1.tar.gz\n",
    "    cd pexpect-4.0.1\n",
    "    python setup.py install\n",
    "    ```\n"
   ]
  },
  {
   "cell_type": "markdown",
   "metadata": {},
   "source": [
    "## list에서 Matching 해서 list인덱스 배열로 리턴하기"
   ]
  },
  {
   "cell_type": "code",
   "execution_count": 95,
   "metadata": {},
   "outputs": [
    {
     "data": {
      "text/plain": [
       "[0, 2, 1, 3, 3]"
      ]
     },
     "execution_count": 95,
     "metadata": {},
     "output_type": "execute_result"
    }
   ],
   "source": [
    "x=[11,22,33,44]\n",
    "y=[11,33,22,44,44]\n",
    "[x.index(i) for i in y if i in y]"
   ]
  },
  {
   "cell_type": "markdown",
   "metadata": {},
   "source": [
    "## list → Dictionary → onehot encoding (enumerate)\n",
    "* enumerate로 encoder만들기"
   ]
  },
  {
   "cell_type": "code",
   "execution_count": 97,
   "metadata": {},
   "outputs": [],
   "source": [
    "a=[\"a\",\"b\",\"c\"]\n",
    "l={ k:v for k,v in enumerate(a)}"
   ]
  },
  {
   "cell_type": "markdown",
   "metadata": {},
   "source": [
    "* list → dictionary → onehot"
   ]
  },
  {
   "cell_type": "code",
   "execution_count": 99,
   "metadata": {},
   "outputs": [],
   "source": [
    "import numpy as np\n",
    "dictionary_data=[\"aa\",\"bb\",\"cc\",\"dd\"]\n",
    "\n",
    "encoder_dic={ k:v for v,k in enumerate(dictionary_data)}\n",
    "encoder_dic\n",
    "decoder_dic={ k:v for k,v in enumerate(dictionary_data)}\n",
    "decoder_dic\n",
    "\n",
    "org_data=[\"aa\",\"bb\",\"bb\",\"cc\",\"cc\",\"cc\",\"dd\",\"dd\",\"dd\",\"dd\"]\n",
    "encoded_data=[encoder_dic[i] for i in org_data]\n",
    "encoded_data\n",
    "\n",
    "decoded_data=[decoder_dic[i] for i in encoded_data]\n",
    "decoded_data\n",
    "\n",
    "\n",
    "one_hot=np.identity( len(encoder_dic.keys()) )"
   ]
  },
  {
   "cell_type": "markdown",
   "metadata": {},
   "source": [
    "## File Read\n",
    "* basic Example"
   ]
  },
  {
   "cell_type": "code",
   "execution_count": 106,
   "metadata": {},
   "outputs": [
    {
     "name": "stdout",
     "output_type": "stream",
     "text": [
      "abcdefg\n",
      "\n"
     ]
    }
   ],
   "source": [
    "!echo \"abcdefg\">/tmp/a.txt\n",
    "with open('/tmp/a.txt','r') as f:\n",
    "    print(f.readline())"
   ]
  },
  {
   "cell_type": "markdown",
   "metadata": {},
   "source": [
    "* 여러줄 읽기"
   ]
  },
  {
   "cell_type": "code",
   "execution_count": 107,
   "metadata": {},
   "outputs": [
    {
     "name": "stdout",
     "output_type": "stream",
     "text": [
      "abcdefg\n",
      "\n"
     ]
    }
   ],
   "source": [
    "with open(\"/tmp/a.txt\", 'r') as f:\n",
    "  while True:\n",
    "    line = f.readline()\n",
    "    if not line: break\n",
    "    print(line)\n",
    "  f.close()"
   ]
  }
 ],
 "metadata": {
  "kernelspec": {
   "display_name": "Python 3",
   "language": "python",
   "name": "python3"
  },
  "language_info": {
   "codemirror_mode": {
    "name": "ipython",
    "version": 3
   },
   "file_extension": ".py",
   "mimetype": "text/x-python",
   "name": "python",
   "nbconvert_exporter": "python",
   "pygments_lexer": "ipython3",
   "version": "3.8.9"
  }
 },
 "nbformat": 4,
 "nbformat_minor": 4
}
