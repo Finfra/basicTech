{
 "cells": [
  {
   "cell_type": "markdown",
   "metadata": {},
   "source": [
    "# 기본 처리\n",
    "## 파일 쓰기"
   ]
  },
  {
   "cell_type": "code",
   "execution_count": 47,
   "metadata": {},
   "outputs": [
    {
     "name": "stdout",
     "output_type": "stream",
     "text": [
      "hi\n",
      "bye\n",
      "hello\n"
     ]
    }
   ],
   "source": [
    "with open('a.txt','w') as f:\n",
    "  f.writelines(['hi\\n','bye\\n'])\n",
    "  f.write('hello\\n')\n",
    "\n",
    "!cat a.txt    "
   ]
  },
  {
   "cell_type": "markdown",
   "metadata": {},
   "source": [
    "## 파일 읽기"
   ]
  },
  {
   "cell_type": "code",
   "execution_count": 48,
   "metadata": {},
   "outputs": [
    {
     "name": "stdout",
     "output_type": "stream",
     "text": [
      "['hi\\n', 'bye\\n', 'hello\\n']\n"
     ]
    }
   ],
   "source": [
    "with open('a.txt','r') as f:\n",
    "  lines=f.readlines()\n",
    "  print(lines)"
   ]
  },
  {
   "cell_type": "markdown",
   "metadata": {},
   "source": [
    "# Os Liberary로 처리"
   ]
  },
  {
   "cell_type": "code",
   "execution_count": 65,
   "metadata": {},
   "outputs": [],
   "source": [
    "import os\n",
    "from os.path import join,isfile,isdir\n",
    "# dir(os.path)\n",
    "# 'abspath','altsep','basename','commonpath','commonprefix','curdir','defpath','devnull',\n",
    "# 'dirname','exists','expanduser','expandvars','extsep','genericpath','getatime','getctime',\n",
    "# 'getmtime','getsize','isabs','isdir','isfile','islink','ismount','join','lexists','normcase',\n",
    "# 'normpath','os','pardir','pathsep','realpath','relpath','samefile','sameopenfile','samestat',\n",
    "# 'sep','split','splitdrive','splitext','stat','supports_unicode_filenames','sys'"
   ]
  },
  {
   "cell_type": "markdown",
   "metadata": {},
   "source": [
    "## cd,pwd"
   ]
  },
  {
   "cell_type": "code",
   "execution_count": 50,
   "metadata": {},
   "outputs": [
    {
     "name": "stdout",
     "output_type": "stream",
     "text": [
      "/Users/nowage/GoogleDrive_finfra/Git/NumpyAndPandas/Numpy\n",
      "/\n",
      "/Users/nowage/GoogleDrive_finfra/Git/NumpyAndPandas/Numpy\n"
     ]
    }
   ],
   "source": [
    "currentPath=os.getcwd()\n",
    "\n",
    "print (os.getcwd()) #현재 디렉토리의\n",
    "\n",
    "os.chdir(\"/\")\n",
    "\n",
    "print (os.getcwd()) #현재 디렉토리의\n",
    "\n",
    "\n",
    "os.chdir(currentPath)\n",
    "print (os.getcwd()) #현재 디렉토리의\n"
   ]
  },
  {
   "cell_type": "markdown",
   "metadata": {},
   "source": [
    "## join"
   ]
  },
  {
   "cell_type": "code",
   "execution_count": 61,
   "metadata": {},
   "outputs": [
    {
     "data": {
      "text/plain": [
       "'/Users/nowage/GoogleDrive_finfra/Git/NumpyAndPandas/Numpy/a.txt'"
      ]
     },
     "execution_count": 61,
     "metadata": {},
     "output_type": "execute_result"
    }
   ],
   "source": [
    "a_txt_path=join(currentPath,'a.txt')\n",
    "a_txt_path\n",
    "\n"
   ]
  },
  {
   "cell_type": "markdown",
   "metadata": {},
   "source": [
    "## isfile "
   ]
  },
  {
   "cell_type": "code",
   "execution_count": 62,
   "metadata": {},
   "outputs": [
    {
     "data": {
      "text/plain": [
       "True"
      ]
     },
     "execution_count": 62,
     "metadata": {},
     "output_type": "execute_result"
    }
   ],
   "source": [
    "isfile(a_txt_path)"
   ]
  },
  {
   "cell_type": "markdown",
   "metadata": {},
   "source": [
    "## isdir"
   ]
  },
  {
   "cell_type": "code",
   "execution_count": 63,
   "metadata": {},
   "outputs": [
    {
     "data": {
      "text/plain": [
       "True"
      ]
     },
     "execution_count": 63,
     "metadata": {},
     "output_type": "execute_result"
    }
   ],
   "source": [
    "isdir(currentPath)"
   ]
  },
  {
   "cell_type": "markdown",
   "metadata": {},
   "source": [
    "## ls"
   ]
  },
  {
   "cell_type": "code",
   "execution_count": 64,
   "metadata": {},
   "outputs": [
    {
     "name": "stdout",
     "output_type": "stream",
     "text": [
      "['.DS_Store', '01_Numpy_Intro.ipynb', '04_Numpy_Library.ipynb', 'Orignal', 'a.txt', 'README.md', '02_Numpy_Function.ipynb', '.ipynb_checkpoints', '03_Numpy_Matrix.ipynb']\n"
     ]
    }
   ],
   "source": [
    "print(os.listdir(os.getcwd()))\n"
   ]
  },
  {
   "cell_type": "code",
   "execution_count": 29,
   "metadata": {},
   "outputs": [
    {
     "ename": "NameError",
     "evalue": "name '__file__' is not defined",
     "output_type": "error",
     "traceback": [
      "\u001b[0;31m-------------------------\u001b[0m",
      "\u001b[0;31mNameError\u001b[0mTraceback (most recent call last)",
      "\u001b[0;32m<ipython-input-29-358d5687b810>\u001b[0m in \u001b[0;36m<module>\u001b[0;34m\u001b[0m\n\u001b[0;32m----> 1\u001b[0;31m \u001b[0m__file__\u001b[0m\u001b[0;34m\u001b[0m\u001b[0;34m\u001b[0m\u001b[0m\n\u001b[0m",
      "\u001b[0;31mNameError\u001b[0m: name '__file__' is not defined"
     ]
    }
   ],
   "source": [
    "__file__"
   ]
  },
  {
   "cell_type": "code",
   "execution_count": null,
   "metadata": {},
   "outputs": [],
   "source": []
  }
 ],
 "metadata": {
  "kernelspec": {
   "display_name": "Python 3",
   "language": "python",
   "name": "python3"
  },
  "language_info": {
   "codemirror_mode": {
    "name": "ipython",
    "version": 3
   },
   "file_extension": ".py",
   "mimetype": "text/x-python",
   "name": "python",
   "nbconvert_exporter": "python",
   "pygments_lexer": "ipython3",
   "version": "3.8.9"
  }
 },
 "nbformat": 4,
 "nbformat_minor": 4
}
