{
  "nbformat": 4,
  "nbformat_minor": 0,
  "metadata": {
    "colab": {
      "name": "Python Problem Wikidocs 300EA.ipynb",
      "provenance": []
    },
    "kernelspec": {
      "name": "python3",
      "display_name": "Python 3"
    },
    "language_info": {
      "name": "python"
    }
  },
  "cells": [
    {
      "cell_type": "markdown",
      "metadata": {
        "id": "gH9JBCg44dEY"
      },
      "source": [
        "# 초보자를 위한 파이썬 300제"
      ]
    },
    {
      "cell_type": "markdown",
      "metadata": {
        "id": "o4HH6-1W8H8m"
      },
      "source": [
        "https://wikidocs.net/book/922"
      ]
    },
    {
      "cell_type": "markdown",
      "metadata": {
        "id": "PB0X8fJ-6kJ-"
      },
      "source": [
        "## 01 파이썬 시작하기 (https://wikidocs.net/7014)"
      ]
    },
    {
      "cell_type": "markdown",
      "metadata": {
        "id": "jvjwTQ9r6oZX"
      },
      "source": [
        "### 003 print 기초"
      ]
    },
    {
      "cell_type": "code",
      "metadata": {
        "colab": {
          "base_uri": "https://localhost:8080/"
        },
        "id": "QbLC9XQ76sFD",
        "outputId": "890ba15e-4c72-43e1-fae4-531081ac9285"
      },
      "source": [
        "print('신씨가 소리질렀다. \"도둑이야\".')"
      ],
      "execution_count": null,
      "outputs": [
        {
          "output_type": "stream",
          "text": [
            "신씨가 소리질렀다. \"도둑이야\".\n"
          ],
          "name": "stdout"
        }
      ]
    },
    {
      "cell_type": "markdown",
      "metadata": {
        "id": "Vm1sbKND6u78"
      },
      "source": [
        "### 004 print 기초"
      ]
    },
    {
      "cell_type": "code",
      "metadata": {
        "colab": {
          "base_uri": "https://localhost:8080/"
        },
        "id": "xcwx1Roi6-Be",
        "outputId": "0dc8972b-519b-4245-d1b4-a2bccc10ca3a"
      },
      "source": [
        "print('\"C:\\Windows\"')"
      ],
      "execution_count": null,
      "outputs": [
        {
          "output_type": "stream",
          "text": [
            "\"C:\\Windows\"\n"
          ],
          "name": "stdout"
        }
      ]
    },
    {
      "cell_type": "code",
      "metadata": {
        "colab": {
          "base_uri": "https://localhost:8080/"
        },
        "id": "Fza1y_0r7DsW",
        "outputId": "f6d6efb8-68ef-4d89-bd31-62183a615d62"
      },
      "source": [
        "print('(\"C:\\Windows\")')"
      ],
      "execution_count": null,
      "outputs": [
        {
          "output_type": "stream",
          "text": [
            "(\"C:\\Windows\")\n"
          ],
          "name": "stdout"
        }
      ]
    },
    {
      "cell_type": "markdown",
      "metadata": {
        "id": "gmziksnM7SAU"
      },
      "source": [
        "### 005 print 탭과 줄바꿈"
      ]
    },
    {
      "cell_type": "code",
      "metadata": {
        "colab": {
          "base_uri": "https://localhost:8080/"
        },
        "id": "-t9LZSIg7azx",
        "outputId": "4aa0f11a-d4d2-4ae5-c1d5-14e622ae2059"
      },
      "source": [
        "print(\"안녕하세요.\\n만나서\\t\\t반갑습니다.\")  # \\t 텝, \\n 줄바꿈 의미"
      ],
      "execution_count": null,
      "outputs": [
        {
          "output_type": "stream",
          "text": [
            "안녕하세요.\n",
            "만나서\t\t반갑습니다.\n"
          ],
          "name": "stdout"
        }
      ]
    },
    {
      "cell_type": "markdown",
      "metadata": {
        "id": "yF5bEYjl7heL"
      },
      "source": [
        "### 007 print 기초"
      ]
    },
    {
      "cell_type": "code",
      "metadata": {
        "colab": {
          "base_uri": "https://localhost:8080/"
        },
        "id": "ej-zsY6G8QR-",
        "outputId": "706be5f8-9c59-43f2-b631-891bbd04c145"
      },
      "source": [
        "print(\"naver\", \"kakao\", \"samsung\", sep=\";\")  \n",
        "# print  함수의  sep인자로 \";\"를 입력하면 출력되는 값들 사이에 한칸의 공백대신 세미콜론이 출력된다."
      ],
      "execution_count": null,
      "outputs": [
        {
          "output_type": "stream",
          "text": [
            "naver;kakao;samsung\n"
          ],
          "name": "stdout"
        }
      ]
    },
    {
      "cell_type": "markdown",
      "metadata": {
        "id": "XqBh1wyz8d2A"
      },
      "source": [
        "### 008 print 기초"
      ]
    },
    {
      "cell_type": "code",
      "metadata": {
        "colab": {
          "base_uri": "https://localhost:8080/"
        },
        "id": "dqgYtr4f8wiO",
        "outputId": "d2a1a464-50ad-41cc-b11b-a49552d4a3e6"
      },
      "source": [
        "print(\"naver\", \"kakao\", \"sk\", \"samsung\", sep=\"/\")"
      ],
      "execution_count": null,
      "outputs": [
        {
          "output_type": "stream",
          "text": [
            "naver/kakao/sk/samsung\n"
          ],
          "name": "stdout"
        }
      ]
    },
    {
      "cell_type": "markdown",
      "metadata": {
        "id": "6KKhiw-X849M"
      },
      "source": [
        "### 009 print 줄바꿈\n",
        "\n",
        "다음 코드를 수정하여 줄바꿈이 없이 출력하세요. (힌트: end='') print 함수는 두 번 사용합니다. 세미콜론 (;)은 한줄에 여러 개의 명령을 작성하기 위해 사용합니다.\n",
        "\n",
        "print(\"first\");print(\"second\")"
      ]
    },
    {
      "cell_type": "code",
      "metadata": {
        "colab": {
          "base_uri": "https://localhost:8080/"
        },
        "id": "cm_pZHTE9For",
        "outputId": "0a775528-9ebd-4748-d33e-f553bfe86d07"
      },
      "source": [
        "print(\"first\",end=\"\");print(\"second\")"
      ],
      "execution_count": null,
      "outputs": [
        {
          "output_type": "stream",
          "text": [
            "firstsecond\n"
          ],
          "name": "stdout"
        }
      ]
    },
    {
      "cell_type": "markdown",
      "metadata": {
        "id": "7ldQAk1o9urq"
      },
      "source": [
        "## 02. 파이썬 변수 (https://wikidocs.net/7021)"
      ]
    },
    {
      "cell_type": "markdown",
      "metadata": {
        "id": "Xcmi2JPv98NL"
      },
      "source": [
        "### 011 변수 사용하기"
      ]
    },
    {
      "cell_type": "code",
      "metadata": {
        "colab": {
          "base_uri": "https://localhost:8080/"
        },
        "id": "cZ6peKO9-Bqv",
        "outputId": "f21000ff-d4ed-4235-d829-b5651fcb05b5"
      },
      "source": [
        "삼성전자 = 50000\n",
        "총평가금액 = 삼성전자 * 10\n",
        "print(총평가금액)"
      ],
      "execution_count": null,
      "outputs": [
        {
          "output_type": "stream",
          "text": [
            "500000\n"
          ],
          "name": "stdout"
        }
      ]
    },
    {
      "cell_type": "markdown",
      "metadata": {
        "id": "9bAHUFf9-LUO"
      },
      "source": [
        "012 변수 사용하기"
      ]
    },
    {
      "cell_type": "code",
      "metadata": {
        "colab": {
          "base_uri": "https://localhost:8080/"
        },
        "id": "o8qqfT0B-yS4",
        "outputId": "3bedcb5a-3245-439f-a32a-a3d97ddaab0e"
      },
      "source": [
        "시가총액 = 298000000000000\n",
        "현재가 = 50000\n",
        "PER = 15.79\n",
        "\n",
        "print(시가총액, type(시가총액))\n",
        "print(현재가, type(현재가))\n",
        "print(PER, type(PER))"
      ],
      "execution_count": null,
      "outputs": [
        {
          "output_type": "stream",
          "text": [
            "298000000000000 <class 'int'>\n",
            "50000 <class 'int'>\n",
            "15.79 <class 'float'>\n"
          ],
          "name": "stdout"
        }
      ]
    },
    {
      "cell_type": "markdown",
      "metadata": {
        "id": "cu0mxbwv_1SR"
      },
      "source": [
        "### 015 type 함수"
      ]
    },
    {
      "cell_type": "code",
      "metadata": {
        "colab": {
          "base_uri": "https://localhost:8080/"
        },
        "id": "yl1d-wYnACbP",
        "outputId": "c26b096a-9ad7-438a-a665-b7fa94c6f8a0"
      },
      "source": [
        "a = 128\n",
        "print(type(a))"
      ],
      "execution_count": null,
      "outputs": [
        {
          "output_type": "stream",
          "text": [
            "<class 'int'>\n"
          ],
          "name": "stdout"
        }
      ]
    },
    {
      "cell_type": "code",
      "metadata": {
        "colab": {
          "base_uri": "https://localhost:8080/"
        },
        "id": "jmQExZkZAFZa",
        "outputId": "ea9c7016-f93e-4f34-a1aa-0a963256f362"
      },
      "source": [
        "a = \"132\"\n",
        "print(type(a))"
      ],
      "execution_count": null,
      "outputs": [
        {
          "output_type": "stream",
          "text": [
            "<class 'str'>\n"
          ],
          "name": "stdout"
        }
      ]
    },
    {
      "cell_type": "markdown",
      "metadata": {
        "id": "vmb7GzofAXPE"
      },
      "source": [
        "### 016 문자열을 정수로 변환"
      ]
    },
    {
      "cell_type": "code",
      "metadata": {
        "colab": {
          "base_uri": "https://localhost:8080/"
        },
        "id": "2btiKPv-Afsl",
        "outputId": "3c616a86-d38a-4c9c-b888-2cde5ab88f04"
      },
      "source": [
        "num_str = \"720\"\n",
        "num_int = int(num_str)\n",
        "print(num_int, type(num_int))"
      ],
      "execution_count": null,
      "outputs": [
        {
          "output_type": "stream",
          "text": [
            "720 <class 'int'>\n"
          ],
          "name": "stdout"
        }
      ]
    },
    {
      "cell_type": "markdown",
      "metadata": {
        "id": "IewRCW1yAycx"
      },
      "source": [
        "### 017 정수를 문자열 100으로 변환"
      ]
    },
    {
      "cell_type": "code",
      "metadata": {
        "colab": {
          "base_uri": "https://localhost:8080/"
        },
        "id": "ynVXWBqGBOp-",
        "outputId": "169126b5-014c-482b-fc21-4f7651bd36e8"
      },
      "source": [
        "num=100\n",
        "result=str(num)\n",
        "print(result, type(result))"
      ],
      "execution_count": null,
      "outputs": [
        {
          "output_type": "stream",
          "text": [
            "100 <class 'str'>\n"
          ],
          "name": "stdout"
        }
      ]
    },
    {
      "cell_type": "markdown",
      "metadata": {
        "id": "5LEobxaHBc6O"
      },
      "source": [
        "### 018 문자열을 실수로 변환"
      ]
    },
    {
      "cell_type": "code",
      "metadata": {
        "colab": {
          "base_uri": "https://localhost:8080/"
        },
        "id": "p6x9kPWJBkD0",
        "outputId": "8587aca4-67bd-4a55-a3ac-d84fe43f036c"
      },
      "source": [
        "a = \"15.79\"\n",
        "b = float(a)\n",
        "print(b,type(b))"
      ],
      "execution_count": null,
      "outputs": [
        {
          "output_type": "stream",
          "text": [
            "15.79 <class 'float'>\n"
          ],
          "name": "stdout"
        }
      ]
    },
    {
      "cell_type": "markdown",
      "metadata": {
        "id": "dk8H1MWLBwPp"
      },
      "source": [
        "### 019 문자열을 정수로 변환"
      ]
    },
    {
      "cell_type": "code",
      "metadata": {
        "colab": {
          "base_uri": "https://localhost:8080/"
        },
        "id": "wAoRC658B856",
        "outputId": "242288c3-bb96-495f-b5d7-73d4036274c2"
      },
      "source": [
        "year = \"2020\"\n",
        "\n",
        "print(int(year)-3)\n",
        "print(int(year)-2)\n",
        "print(int(year)-1)"
      ],
      "execution_count": null,
      "outputs": [
        {
          "output_type": "stream",
          "text": [
            "2017\n",
            "2018\n",
            "2019\n"
          ],
          "name": "stdout"
        }
      ]
    },
    {
      "cell_type": "markdown",
      "metadata": {
        "id": "V6FTITYXCIVw"
      },
      "source": [
        "### 020 파이썬 계산"
      ]
    },
    {
      "cell_type": "code",
      "metadata": {
        "colab": {
          "base_uri": "https://localhost:8080/"
        },
        "id": "s9ZCCWtBCcmt",
        "outputId": "e4d4d458-a3e0-4f5f-a8b3-e58a39ce1df9"
      },
      "source": [
        "a = 48584\n",
        "b = 36\n",
        "print(a*b)"
      ],
      "execution_count": null,
      "outputs": [
        {
          "output_type": "stream",
          "text": [
            "1749024\n"
          ],
          "name": "stdout"
        }
      ]
    },
    {
      "cell_type": "code",
      "metadata": {
        "colab": {
          "base_uri": "https://localhost:8080/"
        },
        "id": "_UsWO01CCkGN",
        "outputId": "1c3d725f-018e-47f7-9edb-b2ae28feefb1"
      },
      "source": [
        "월 = 48584\n",
        "총금액 = 월 * 36\n",
        "print(총금액)"
      ],
      "execution_count": null,
      "outputs": [
        {
          "output_type": "stream",
          "text": [
            "1749024\n"
          ],
          "name": "stdout"
        }
      ]
    },
    {
      "cell_type": "markdown",
      "metadata": {
        "id": "WTbnPL4UCxQ_"
      },
      "source": [
        "## 파이썬 문자열 (https://wikidocs.net/7022)"
      ]
    },
    {
      "cell_type": "markdown",
      "metadata": {
        "id": "MmsLzi2gK6yp"
      },
      "source": [
        "### 021 문자열 인덱싱"
      ]
    },
    {
      "cell_type": "code",
      "metadata": {
        "id": "qa5wgDosC42S",
        "colab": {
          "base_uri": "https://localhost:8080/"
        },
        "outputId": "20bd8cf6-8201-4cbf-f106-d51a5015bf90"
      },
      "source": [
        "letter = 'python'\n",
        "print(letter[0], letter[2])"
      ],
      "execution_count": 49,
      "outputs": [
        {
          "output_type": "stream",
          "text": [
            "p t\n"
          ],
          "name": "stdout"
        }
      ]
    },
    {
      "cell_type": "markdown",
      "metadata": {
        "id": "DRuFi_xKKv79"
      },
      "source": [
        "### 022 문자열 슬라이싱"
      ]
    },
    {
      "cell_type": "code",
      "metadata": {
        "colab": {
          "base_uri": "https://localhost:8080/"
        },
        "id": "sJajGPpfLB0g",
        "outputId": "3f9e55f2-b30e-495c-ef5c-8049c824f9da"
      },
      "source": [
        "license_plate = \"24rk 2210\"\n",
        "print(license_plate[-4:])    # 음수 값은 문자열의 뒤에서부터 인덱싱 또는 슬라이싱함을 의미한다. "
      ],
      "execution_count": 51,
      "outputs": [
        {
          "output_type": "stream",
          "text": [
            "2210\n"
          ],
          "name": "stdout"
        }
      ]
    },
    {
      "cell_type": "markdown",
      "metadata": {
        "id": "5JVFSTcKLOBn"
      },
      "source": [
        "### 023 문자열 인덱싱 ???"
      ]
    },
    {
      "cell_type": "code",
      "metadata": {
        "colab": {
          "base_uri": "https://localhost:8080/"
        },
        "id": "F6dxy0oOLkED",
        "outputId": "30b20628-eca1-489f-f871-9de5cd6da5c1"
      },
      "source": [
        "string = \"홀짝홀짝홀짝\"\n",
        "# 실행예 : 홀홀홀\n",
        "print(string[::2])  # 슬라이싱할 떄 시작인덱스:끝인덱스:오프셋 을 지정할 수 있습니다."
      ],
      "execution_count": 62,
      "outputs": [
        {
          "output_type": "stream",
          "text": [
            "홀홀홀\n"
          ],
          "name": "stdout"
        }
      ]
    },
    {
      "cell_type": "markdown",
      "metadata": {
        "id": "LsL_KGudLtWt"
      },
      "source": [
        "### 024 문자열 슬라이싱"
      ]
    },
    {
      "cell_type": "code",
      "metadata": {
        "colab": {
          "base_uri": "https://localhost:8080/"
        },
        "id": "gC5RUTirL7fs",
        "outputId": "3cb2d91d-3e2a-4ce8-98d8-4f5698a16814"
      },
      "source": [
        "string = \"PYTHON\"\n",
        "print(string[::-1])   # -1은 끝에서부터 라는 뜻..."
      ],
      "execution_count": 63,
      "outputs": [
        {
          "output_type": "stream",
          "text": [
            "NOHTYP\n"
          ],
          "name": "stdout"
        }
      ]
    },
    {
      "cell_type": "markdown",
      "metadata": {
        "id": "CBC4_rriMSCy"
      },
      "source": [
        "### 025  문자열 치환"
      ]
    },
    {
      "cell_type": "code",
      "metadata": {
        "colab": {
          "base_uri": "https://localhost:8080/"
        },
        "id": "4GxNt6ysMjnK",
        "outputId": "05586e76-80a6-4be9-de58-68cf2a0cbc40"
      },
      "source": [
        "phone_number = \"010-1111-2222\"\n",
        "phone_number = phone_number.replace(\"-\",\" \")\n",
        "print(phone_number)"
      ],
      "execution_count": 65,
      "outputs": [
        {
          "output_type": "stream",
          "text": [
            "010 1111 2222\n"
          ],
          "name": "stdout"
        }
      ]
    },
    {
      "cell_type": "markdown",
      "metadata": {
        "id": "IgD-vQxIM-ii"
      },
      "source": [
        "### 026 문자열 다루기 (025번 문제 이어서)"
      ]
    },
    {
      "cell_type": "code",
      "metadata": {
        "colab": {
          "base_uri": "https://localhost:8080/"
        },
        "id": "QFN1xbJIMyvd",
        "outputId": "1bf7db10-abe9-46dd-9546-c8e112ad8f9e"
      },
      "source": [
        "phone_number = \"010-1111-2222\"\n",
        "phone_number = phone_number.replace(\"-\",\"\")\n",
        "print(phone_number)"
      ],
      "execution_count": 66,
      "outputs": [
        {
          "output_type": "stream",
          "text": [
            "01011112222\n"
          ],
          "name": "stdout"
        }
      ]
    },
    {
      "cell_type": "markdown",
      "metadata": {
        "id": "qhZ9NIkZM9BX"
      },
      "source": [
        "### 027 문자열 다루기"
      ]
    },
    {
      "cell_type": "code",
      "metadata": {
        "colab": {
          "base_uri": "https://localhost:8080/"
        },
        "id": "wansn696NHjL",
        "outputId": "2db1fd49-8264-437b-a6a3-1c0bfd505fa2"
      },
      "source": [
        "url = \"http://sharebook.kr\"\n",
        "print(url[-2]+url[-1])   "
      ],
      "execution_count": 67,
      "outputs": [
        {
          "output_type": "stream",
          "text": [
            "kr\n"
          ],
          "name": "stdout"
        }
      ]
    },
    {
      "cell_type": "code",
      "metadata": {
        "colab": {
          "base_uri": "https://localhost:8080/"
        },
        "id": "8Z355a7iNUSA",
        "outputId": "9aa49c47-290e-4c1d-b6d3-22e8e50af1ba"
      },
      "source": [
        "url = \"http://sharebook.kr\"\n",
        "url_split = url.split('.')   # .을 기준으로 분리한다. 분리된 url 중 마지막을 인덱싱 하면 도메인만 출력 가능\n",
        "print(url_split[-1])"
      ],
      "execution_count": 68,
      "outputs": [
        {
          "output_type": "stream",
          "text": [
            "kr\n"
          ],
          "name": "stdout"
        }
      ]
    },
    {
      "cell_type": "markdown",
      "metadata": {
        "id": "5KSQaAFcNlvA"
      },
      "source": [
        "### 028 문자열은 immutable"
      ]
    },
    {
      "cell_type": "code",
      "metadata": {
        "colab": {
          "base_uri": "https://localhost:8080/",
          "height": 197
        },
        "id": "2ugcbDtzONmy",
        "outputId": "52ddd2f5-bd85-48df-a995-565c4262a88c"
      },
      "source": [
        "lang = 'python'\n",
        "lang[0] = 'P'  #문자열은 수정할 수 없다. 실행 결과를 확인해보면 문자열이 할당(assignment) 메서드를 지원하지 않음을 알 수 있다.\n",
        "print(lang)"
      ],
      "execution_count": 69,
      "outputs": [
        {
          "output_type": "error",
          "ename": "TypeError",
          "evalue": "ignored",
          "traceback": [
            "\u001b[0;31m---------------------------------------------------------------------------\u001b[0m",
            "\u001b[0;31mTypeError\u001b[0m                                 Traceback (most recent call last)",
            "\u001b[0;32m<ipython-input-69-ba8eb7824ab8>\u001b[0m in \u001b[0;36m<module>\u001b[0;34m()\u001b[0m\n\u001b[1;32m      1\u001b[0m \u001b[0mlang\u001b[0m \u001b[0;34m=\u001b[0m \u001b[0;34m'python'\u001b[0m\u001b[0;34m\u001b[0m\u001b[0;34m\u001b[0m\u001b[0m\n\u001b[0;32m----> 2\u001b[0;31m \u001b[0mlang\u001b[0m\u001b[0;34m[\u001b[0m\u001b[0;36m0\u001b[0m\u001b[0;34m]\u001b[0m \u001b[0;34m=\u001b[0m \u001b[0;34m'P'\u001b[0m\u001b[0;34m\u001b[0m\u001b[0;34m\u001b[0m\u001b[0m\n\u001b[0m\u001b[1;32m      3\u001b[0m \u001b[0mprint\u001b[0m\u001b[0;34m(\u001b[0m\u001b[0mlang\u001b[0m\u001b[0;34m)\u001b[0m\u001b[0;34m\u001b[0m\u001b[0;34m\u001b[0m\u001b[0m\n",
            "\u001b[0;31mTypeError\u001b[0m: 'str' object does not support item assignment"
          ]
        }
      ]
    },
    {
      "cell_type": "markdown",
      "metadata": {
        "id": "PWkGZ06WOhur"
      },
      "source": [
        "### 029 replace 메서드"
      ]
    },
    {
      "cell_type": "code",
      "metadata": {
        "colab": {
          "base_uri": "https://localhost:8080/"
        },
        "id": "ShvBaRx6Olyt",
        "outputId": "fc9e1838-e8f2-4ec5-db46-3de7159ca5a9"
      },
      "source": [
        "string = 'abcdfe2a354a32a'\n",
        "string_replace = string.replace('a','A')\n",
        "print(string_replace)"
      ],
      "execution_count": 70,
      "outputs": [
        {
          "output_type": "stream",
          "text": [
            "Abcdfe2A354A32A\n"
          ],
          "name": "stdout"
        }
      ]
    },
    {
      "cell_type": "markdown",
      "metadata": {
        "id": "M8RXmSBxO1xT"
      },
      "source": [
        "### 030 replace 메서드"
      ]
    },
    {
      "cell_type": "code",
      "metadata": {
        "colab": {
          "base_uri": "https://localhost:8080/"
        },
        "id": "THpZayJIPFaJ",
        "outputId": "490e212c-fb16-4b0d-fbcb-ee685317bb4c"
      },
      "source": [
        "string='abcd'\n",
        "string.replace('b','B')\n",
        "print(string)   # 문자열은 변경할 수 없는 자료형 이기 때문에 replace 매서드를 사용하면 원본은 그대로 둔채로 변경된 새로운 문자열 객체를 리턴해준다."
      ],
      "execution_count": 72,
      "outputs": [
        {
          "output_type": "stream",
          "text": [
            "abcd\n"
          ],
          "name": "stdout"
        }
      ]
    },
    {
      "cell_type": "code",
      "metadata": {
        "id": "a690853gPMLU"
      },
      "source": [
        ""
      ],
      "execution_count": null,
      "outputs": []
    }
  ]
}