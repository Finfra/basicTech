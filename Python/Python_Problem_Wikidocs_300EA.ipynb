{
  "nbformat": 4,
  "nbformat_minor": 0,
  "metadata": {
    "colab": {
      "name": "Python Problem Wikidocs 300EA.ipynb",
      "provenance": []
    },
    "kernelspec": {
      "name": "python3",
      "display_name": "Python 3"
    },
    "language_info": {
      "name": "python"
    }
  },
  "cells": [
    {
      "cell_type": "markdown",
      "metadata": {
        "id": "gH9JBCg44dEY"
      },
      "source": [
        "# 초보자를 위한 파이썬 300제"
      ]
    },
    {
      "cell_type": "markdown",
      "metadata": {
        "id": "o4HH6-1W8H8m"
      },
      "source": [
        "https://wikidocs.net/book/922"
      ]
    },
    {
      "cell_type": "markdown",
      "metadata": {
        "id": "PB0X8fJ-6kJ-"
      },
      "source": [
        "## 01 파이썬 시작하기 (https://wikidocs.net/7014)"
      ]
    },
    {
      "cell_type": "markdown",
      "metadata": {
        "id": "jvjwTQ9r6oZX"
      },
      "source": [
        "### 003 print 기초"
      ]
    },
    {
      "cell_type": "code",
      "metadata": {
        "colab": {
          "base_uri": "https://localhost:8080/"
        },
        "id": "QbLC9XQ76sFD",
        "outputId": "890ba15e-4c72-43e1-fae4-531081ac9285"
      },
      "source": [
        "print('신씨가 소리질렀다. \"도둑이야\".')"
      ],
      "execution_count": null,
      "outputs": [
        {
          "output_type": "stream",
          "text": [
            "신씨가 소리질렀다. \"도둑이야\".\n"
          ],
          "name": "stdout"
        }
      ]
    },
    {
      "cell_type": "markdown",
      "metadata": {
        "id": "Vm1sbKND6u78"
      },
      "source": [
        "### 004 print 기초"
      ]
    },
    {
      "cell_type": "code",
      "metadata": {
        "colab": {
          "base_uri": "https://localhost:8080/"
        },
        "id": "xcwx1Roi6-Be",
        "outputId": "0dc8972b-519b-4245-d1b4-a2bccc10ca3a"
      },
      "source": [
        "print('\"C:\\Windows\"')"
      ],
      "execution_count": null,
      "outputs": [
        {
          "output_type": "stream",
          "text": [
            "\"C:\\Windows\"\n"
          ],
          "name": "stdout"
        }
      ]
    },
    {
      "cell_type": "code",
      "metadata": {
        "colab": {
          "base_uri": "https://localhost:8080/"
        },
        "id": "Fza1y_0r7DsW",
        "outputId": "f6d6efb8-68ef-4d89-bd31-62183a615d62"
      },
      "source": [
        "print('(\"C:\\Windows\")')"
      ],
      "execution_count": null,
      "outputs": [
        {
          "output_type": "stream",
          "text": [
            "(\"C:\\Windows\")\n"
          ],
          "name": "stdout"
        }
      ]
    },
    {
      "cell_type": "markdown",
      "metadata": {
        "id": "gmziksnM7SAU"
      },
      "source": [
        "### 005 print 탭과 줄바꿈"
      ]
    },
    {
      "cell_type": "code",
      "metadata": {
        "colab": {
          "base_uri": "https://localhost:8080/"
        },
        "id": "-t9LZSIg7azx",
        "outputId": "4aa0f11a-d4d2-4ae5-c1d5-14e622ae2059"
      },
      "source": [
        "print(\"안녕하세요.\\n만나서\\t\\t반갑습니다.\")  # \\t 텝, \\n 줄바꿈 의미"
      ],
      "execution_count": null,
      "outputs": [
        {
          "output_type": "stream",
          "text": [
            "안녕하세요.\n",
            "만나서\t\t반갑습니다.\n"
          ],
          "name": "stdout"
        }
      ]
    },
    {
      "cell_type": "markdown",
      "metadata": {
        "id": "yF5bEYjl7heL"
      },
      "source": [
        "### 007 print 기초"
      ]
    },
    {
      "cell_type": "code",
      "metadata": {
        "colab": {
          "base_uri": "https://localhost:8080/"
        },
        "id": "ej-zsY6G8QR-",
        "outputId": "706be5f8-9c59-43f2-b631-891bbd04c145"
      },
      "source": [
        "print(\"naver\", \"kakao\", \"samsung\", sep=\";\")  \n",
        "# print  함수의  sep인자로 \";\"를 입력하면 출력되는 값들 사이에 한칸의 공백대신 세미콜론이 출력된다."
      ],
      "execution_count": null,
      "outputs": [
        {
          "output_type": "stream",
          "text": [
            "naver;kakao;samsung\n"
          ],
          "name": "stdout"
        }
      ]
    },
    {
      "cell_type": "markdown",
      "metadata": {
        "id": "XqBh1wyz8d2A"
      },
      "source": [
        "### 008 print 기초"
      ]
    },
    {
      "cell_type": "code",
      "metadata": {
        "colab": {
          "base_uri": "https://localhost:8080/"
        },
        "id": "dqgYtr4f8wiO",
        "outputId": "d2a1a464-50ad-41cc-b11b-a49552d4a3e6"
      },
      "source": [
        "print(\"naver\", \"kakao\", \"sk\", \"samsung\", sep=\"/\")"
      ],
      "execution_count": null,
      "outputs": [
        {
          "output_type": "stream",
          "text": [
            "naver/kakao/sk/samsung\n"
          ],
          "name": "stdout"
        }
      ]
    },
    {
      "cell_type": "markdown",
      "metadata": {
        "id": "6KKhiw-X849M"
      },
      "source": [
        "### 009 print 줄바꿈\n",
        "\n",
        "다음 코드를 수정하여 줄바꿈이 없이 출력하세요. (힌트: end='') print 함수는 두 번 사용합니다. 세미콜론 (;)은 한줄에 여러 개의 명령을 작성하기 위해 사용합니다.\n",
        "\n",
        "print(\"first\");print(\"second\")"
      ]
    },
    {
      "cell_type": "code",
      "metadata": {
        "colab": {
          "base_uri": "https://localhost:8080/"
        },
        "id": "cm_pZHTE9For",
        "outputId": "0a775528-9ebd-4748-d33e-f553bfe86d07"
      },
      "source": [
        "print(\"first\",end=\"\");print(\"second\")"
      ],
      "execution_count": null,
      "outputs": [
        {
          "output_type": "stream",
          "text": [
            "firstsecond\n"
          ],
          "name": "stdout"
        }
      ]
    },
    {
      "cell_type": "markdown",
      "metadata": {
        "id": "7ldQAk1o9urq"
      },
      "source": [
        "## 02. 파이썬 변수 (https://wikidocs.net/7021)"
      ]
    },
    {
      "cell_type": "markdown",
      "metadata": {
        "id": "Xcmi2JPv98NL"
      },
      "source": [
        "### 011 변수 사용하기"
      ]
    },
    {
      "cell_type": "code",
      "metadata": {
        "colab": {
          "base_uri": "https://localhost:8080/"
        },
        "id": "cZ6peKO9-Bqv",
        "outputId": "f21000ff-d4ed-4235-d829-b5651fcb05b5"
      },
      "source": [
        "삼성전자 = 50000\n",
        "총평가금액 = 삼성전자 * 10\n",
        "print(총평가금액)"
      ],
      "execution_count": null,
      "outputs": [
        {
          "output_type": "stream",
          "text": [
            "500000\n"
          ],
          "name": "stdout"
        }
      ]
    },
    {
      "cell_type": "markdown",
      "metadata": {
        "id": "9bAHUFf9-LUO"
      },
      "source": [
        "012 변수 사용하기"
      ]
    },
    {
      "cell_type": "code",
      "metadata": {
        "colab": {
          "base_uri": "https://localhost:8080/"
        },
        "id": "o8qqfT0B-yS4",
        "outputId": "3bedcb5a-3245-439f-a32a-a3d97ddaab0e"
      },
      "source": [
        "시가총액 = 298000000000000\n",
        "현재가 = 50000\n",
        "PER = 15.79\n",
        "\n",
        "print(시가총액, type(시가총액))\n",
        "print(현재가, type(현재가))\n",
        "print(PER, type(PER))"
      ],
      "execution_count": null,
      "outputs": [
        {
          "output_type": "stream",
          "text": [
            "298000000000000 <class 'int'>\n",
            "50000 <class 'int'>\n",
            "15.79 <class 'float'>\n"
          ],
          "name": "stdout"
        }
      ]
    },
    {
      "cell_type": "markdown",
      "metadata": {
        "id": "cu0mxbwv_1SR"
      },
      "source": [
        "### 015 type 함수"
      ]
    },
    {
      "cell_type": "code",
      "metadata": {
        "colab": {
          "base_uri": "https://localhost:8080/"
        },
        "id": "yl1d-wYnACbP",
        "outputId": "c26b096a-9ad7-438a-a665-b7fa94c6f8a0"
      },
      "source": [
        "a = 128\n",
        "print(type(a))"
      ],
      "execution_count": null,
      "outputs": [
        {
          "output_type": "stream",
          "text": [
            "<class 'int'>\n"
          ],
          "name": "stdout"
        }
      ]
    },
    {
      "cell_type": "code",
      "metadata": {
        "colab": {
          "base_uri": "https://localhost:8080/"
        },
        "id": "jmQExZkZAFZa",
        "outputId": "ea9c7016-f93e-4f34-a1aa-0a963256f362"
      },
      "source": [
        "a = \"132\"\n",
        "print(type(a))"
      ],
      "execution_count": null,
      "outputs": [
        {
          "output_type": "stream",
          "text": [
            "<class 'str'>\n"
          ],
          "name": "stdout"
        }
      ]
    },
    {
      "cell_type": "markdown",
      "metadata": {
        "id": "vmb7GzofAXPE"
      },
      "source": [
        "### 016 문자열을 정수로 변환"
      ]
    },
    {
      "cell_type": "code",
      "metadata": {
        "colab": {
          "base_uri": "https://localhost:8080/"
        },
        "id": "2btiKPv-Afsl",
        "outputId": "3c616a86-d38a-4c9c-b888-2cde5ab88f04"
      },
      "source": [
        "num_str = \"720\"\n",
        "num_int = int(num_str)\n",
        "print(num_int, type(num_int))"
      ],
      "execution_count": null,
      "outputs": [
        {
          "output_type": "stream",
          "text": [
            "720 <class 'int'>\n"
          ],
          "name": "stdout"
        }
      ]
    },
    {
      "cell_type": "markdown",
      "metadata": {
        "id": "IewRCW1yAycx"
      },
      "source": [
        "### 017 정수를 문자열 100으로 변환"
      ]
    },
    {
      "cell_type": "code",
      "metadata": {
        "colab": {
          "base_uri": "https://localhost:8080/"
        },
        "id": "ynVXWBqGBOp-",
        "outputId": "169126b5-014c-482b-fc21-4f7651bd36e8"
      },
      "source": [
        "num=100\n",
        "result=str(num)\n",
        "print(result, type(result))"
      ],
      "execution_count": null,
      "outputs": [
        {
          "output_type": "stream",
          "text": [
            "100 <class 'str'>\n"
          ],
          "name": "stdout"
        }
      ]
    },
    {
      "cell_type": "markdown",
      "metadata": {
        "id": "5LEobxaHBc6O"
      },
      "source": [
        "### 018 문자열을 실수로 변환"
      ]
    },
    {
      "cell_type": "code",
      "metadata": {
        "colab": {
          "base_uri": "https://localhost:8080/"
        },
        "id": "p6x9kPWJBkD0",
        "outputId": "8587aca4-67bd-4a55-a3ac-d84fe43f036c"
      },
      "source": [
        "a = \"15.79\"\n",
        "b = float(a)\n",
        "print(b,type(b))"
      ],
      "execution_count": null,
      "outputs": [
        {
          "output_type": "stream",
          "text": [
            "15.79 <class 'float'>\n"
          ],
          "name": "stdout"
        }
      ]
    },
    {
      "cell_type": "markdown",
      "metadata": {
        "id": "dk8H1MWLBwPp"
      },
      "source": [
        "### 019 문자열을 정수로 변환"
      ]
    },
    {
      "cell_type": "code",
      "metadata": {
        "colab": {
          "base_uri": "https://localhost:8080/"
        },
        "id": "wAoRC658B856",
        "outputId": "242288c3-bb96-495f-b5d7-73d4036274c2"
      },
      "source": [
        "year = \"2020\"\n",
        "\n",
        "print(int(year)-3)\n",
        "print(int(year)-2)\n",
        "print(int(year)-1)"
      ],
      "execution_count": null,
      "outputs": [
        {
          "output_type": "stream",
          "text": [
            "2017\n",
            "2018\n",
            "2019\n"
          ],
          "name": "stdout"
        }
      ]
    },
    {
      "cell_type": "markdown",
      "metadata": {
        "id": "V6FTITYXCIVw"
      },
      "source": [
        "### 020 파이썬 계산"
      ]
    },
    {
      "cell_type": "code",
      "metadata": {
        "colab": {
          "base_uri": "https://localhost:8080/"
        },
        "id": "s9ZCCWtBCcmt",
        "outputId": "e4d4d458-a3e0-4f5f-a8b3-e58a39ce1df9"
      },
      "source": [
        "a = 48584\n",
        "b = 36\n",
        "print(a*b)"
      ],
      "execution_count": null,
      "outputs": [
        {
          "output_type": "stream",
          "text": [
            "1749024\n"
          ],
          "name": "stdout"
        }
      ]
    },
    {
      "cell_type": "code",
      "metadata": {
        "colab": {
          "base_uri": "https://localhost:8080/"
        },
        "id": "_UsWO01CCkGN",
        "outputId": "1c3d725f-018e-47f7-9edb-b2ae28feefb1"
      },
      "source": [
        "월 = 48584\n",
        "총금액 = 월 * 36\n",
        "print(총금액)"
      ],
      "execution_count": null,
      "outputs": [
        {
          "output_type": "stream",
          "text": [
            "1749024\n"
          ],
          "name": "stdout"
        }
      ]
    },
    {
      "cell_type": "markdown",
      "metadata": {
        "id": "WTbnPL4UCxQ_"
      },
      "source": [
        "## 파이썬 문자열 (https://wikidocs.net/7022)"
      ]
    },
    {
      "cell_type": "code",
      "metadata": {
        "id": "qa5wgDosC42S"
      },
      "source": [
        ""
      ],
      "execution_count": null,
      "outputs": []
    }
  ]
}