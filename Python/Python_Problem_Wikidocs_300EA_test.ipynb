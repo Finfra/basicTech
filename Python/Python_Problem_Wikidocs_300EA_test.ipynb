{
  "nbformat": 4,
  "nbformat_minor": 0,
  "metadata": {
    "colab": {
      "name": "Python_Problem_Wikidocs_300EA test.ipynb",
      "provenance": [],
      "collapsed_sections": [],
      "toc_visible": true
    },
    "kernelspec": {
      "name": "python3",
      "display_name": "Python 3"
    },
    "language_info": {
      "name": "python"
    }
  },
  "cells": [
    {
      "cell_type": "markdown",
      "metadata": {
        "id": "6-S1z2Pq4Dyp"
      },
      "source": [
        "# 초보자를 위한 파이썬 300제\n",
        "* source : https://wikidocs.net/book/922"
      ]
    },
    {
      "cell_type": "markdown",
      "metadata": {
        "id": "hzRS8ofH4Oo3"
      },
      "source": [
        "## 파이썬 시작하기\n",
        "* source : https://wikidocs.net/7014"
      ]
    },
    {
      "cell_type": "markdown",
      "metadata": {
        "id": "J6x9jVpw4Utr"
      },
      "source": [
        "### print 텝과 줄바꿈\n",
        "*  exam : 005, 009"
      ]
    },
    {
      "cell_type": "code",
      "metadata": {
        "colab": {
          "base_uri": "https://localhost:8080/"
        },
        "id": "hs-do_GJ4sQh",
        "outputId": "b654072c-e124-4460-f2fe-1938f39c6480"
      },
      "source": [
        "print(\"안녕하세요.\\n만나서\\t\\t반갑습니다.\")  # \\t 텝, \\n 줄바꿈 의미"
      ],
      "execution_count": 1,
      "outputs": [
        {
          "output_type": "stream",
          "text": [
            "안녕하세요.\n",
            "만나서\t\t반갑습니다.\n"
          ],
          "name": "stdout"
        }
      ]
    },
    {
      "cell_type": "code",
      "metadata": {
        "colab": {
          "base_uri": "https://localhost:8080/"
        },
        "id": "G2xumCsm4vf2",
        "outputId": "8e5563e0-0f6f-4e58-c3f6-b27125de6e97"
      },
      "source": [
        "print(\"first\",end=\"\");print(\"second\")   # end='' print 함수는 두 번 사용한다. 세미콜론 (;)은 한줄에 여러 개의 명령을 작성하기 위해 사용한다."
      ],
      "execution_count": 2,
      "outputs": [
        {
          "output_type": "stream",
          "text": [
            "firstsecond\n"
          ],
          "name": "stdout"
        }
      ]
    },
    {
      "cell_type": "markdown",
      "metadata": {
        "id": "R02uL96w50pO"
      },
      "source": [
        "### print 기초\n",
        "* exam : 008, 004"
      ]
    },
    {
      "cell_type": "code",
      "metadata": {
        "colab": {
          "base_uri": "https://localhost:8080/"
        },
        "id": "Q1c76r-q6BYF",
        "outputId": "07ca890b-a498-48fe-9d82-90395f1ed9aa"
      },
      "source": [
        "print(\"naver\", \"kakao\", \"sk\", \"samsung\", sep=\"/\")"
      ],
      "execution_count": 3,
      "outputs": [
        {
          "output_type": "stream",
          "text": [
            "naver/kakao/sk/samsung\n"
          ],
          "name": "stdout"
        }
      ]
    },
    {
      "cell_type": "code",
      "metadata": {
        "colab": {
          "base_uri": "https://localhost:8080/"
        },
        "id": "1CCaf-wy6Dw3",
        "outputId": "5b160d81-d772-440f-ca68-d969d4f0a375"
      },
      "source": [
        "print('\"C:\\Windows\"')\n",
        "print('(\"C:\\Windows\")')"
      ],
      "execution_count": 4,
      "outputs": [
        {
          "output_type": "stream",
          "text": [
            "\"C:\\Windows\"\n",
            "(\"C:\\Windows\")\n"
          ],
          "name": "stdout"
        }
      ]
    },
    {
      "cell_type": "markdown",
      "metadata": {
        "id": "UFKZjsNV6OgM"
      },
      "source": [
        "## 파이썬 변수\n",
        "* source : https://wikidocs.net/7021"
      ]
    },
    {
      "cell_type": "markdown",
      "metadata": {
        "id": "ZSviXPnz6Vj6"
      },
      "source": [
        "### type함수\n",
        "* exam : 012, 015"
      ]
    },
    {
      "cell_type": "code",
      "metadata": {
        "colab": {
          "base_uri": "https://localhost:8080/"
        },
        "id": "8EkqYlnt6nJ3",
        "outputId": "904779e7-223b-4823-9c3e-eba67a7c8607"
      },
      "source": [
        "시가총액 = 298000000000000\n",
        "현재가 = 50000\n",
        "PER = 15.79\n",
        "\n",
        "print(시가총액, type(시가총액))\n",
        "print(현재가, type(현재가))\n",
        "print(PER, type(PER))"
      ],
      "execution_count": 5,
      "outputs": [
        {
          "output_type": "stream",
          "text": [
            "298000000000000 <class 'int'>\n",
            "50000 <class 'int'>\n",
            "15.79 <class 'float'>\n"
          ],
          "name": "stdout"
        }
      ]
    },
    {
      "cell_type": "code",
      "metadata": {
        "colab": {
          "base_uri": "https://localhost:8080/"
        },
        "id": "pzqOasgo6ojL",
        "outputId": "0a45243b-5a22-4795-d238-138da4221914"
      },
      "source": [
        "a = 128\n",
        "print(type(a))"
      ],
      "execution_count": 6,
      "outputs": [
        {
          "output_type": "stream",
          "text": [
            "<class 'int'>\n"
          ],
          "name": "stdout"
        }
      ]
    },
    {
      "cell_type": "code",
      "metadata": {
        "colab": {
          "base_uri": "https://localhost:8080/"
        },
        "id": "XXZrFABw6qdC",
        "outputId": "b004d298-72ca-45c4-f1a3-7f8c5bf38160"
      },
      "source": [
        "a = \"132\"\n",
        "print(type(a))"
      ],
      "execution_count": 7,
      "outputs": [
        {
          "output_type": "stream",
          "text": [
            "<class 'str'>\n"
          ],
          "name": "stdout"
        }
      ]
    },
    {
      "cell_type": "markdown",
      "metadata": {
        "id": "rP_Q4PFj6rrH"
      },
      "source": [
        "### 문자열, 정수, 실수 변환\n",
        "* exam : 016, 017, 018, 019"
      ]
    },
    {
      "cell_type": "code",
      "metadata": {
        "colab": {
          "base_uri": "https://localhost:8080/"
        },
        "id": "8DNV5hta65yL",
        "outputId": "fc399cd6-4108-4954-bfb5-a180a313e07b"
      },
      "source": [
        "num_str = \"720\"\n",
        "num_int = int(num_str)   # 문자열을 정수로 변환\n",
        "print(num_int, type(num_int))"
      ],
      "execution_count": 8,
      "outputs": [
        {
          "output_type": "stream",
          "text": [
            "720 <class 'int'>\n"
          ],
          "name": "stdout"
        }
      ]
    },
    {
      "cell_type": "code",
      "metadata": {
        "colab": {
          "base_uri": "https://localhost:8080/"
        },
        "id": "LXC5ijQw6_m7",
        "outputId": "bdbfa2da-5d3e-4c4b-b119-e0eefdcd9d78"
      },
      "source": [
        "num=100\n",
        "result=str(num)    # 정수를 문자열 100으로 변환\n",
        "print(result, type(result))"
      ],
      "execution_count": 9,
      "outputs": [
        {
          "output_type": "stream",
          "text": [
            "100 <class 'str'>\n"
          ],
          "name": "stdout"
        }
      ]
    },
    {
      "cell_type": "code",
      "metadata": {
        "colab": {
          "base_uri": "https://localhost:8080/"
        },
        "id": "sqRm5kks7GAv",
        "outputId": "7043de16-e716-4124-e867-6695121ddb82"
      },
      "source": [
        "a = \"15.79\"\n",
        "b = float(a)    # 문자열을 실수로 변환\n",
        "print(b,type(b))"
      ],
      "execution_count": 10,
      "outputs": [
        {
          "output_type": "stream",
          "text": [
            "15.79 <class 'float'>\n"
          ],
          "name": "stdout"
        }
      ]
    },
    {
      "cell_type": "code",
      "metadata": {
        "colab": {
          "base_uri": "https://localhost:8080/"
        },
        "id": "DubQdAnn7J_w",
        "outputId": "bd69652d-065a-4960-b634-d3a550fd0e9c"
      },
      "source": [
        "year = \"2020\"\n",
        "\n",
        "print(int(year)-3)    #문자열을 정수로 변환\n",
        "print(int(year)-2)\n",
        "print(int(year)-1)"
      ],
      "execution_count": 11,
      "outputs": [
        {
          "output_type": "stream",
          "text": [
            "2017\n",
            "2018\n",
            "2019\n"
          ],
          "name": "stdout"
        }
      ]
    },
    {
      "cell_type": "markdown",
      "metadata": {
        "id": "yg0nyxZ37Oh8"
      },
      "source": [
        "## 파이썬 문자열\n",
        "*source : https://wikidocs.net/7022"
      ]
    },
    {
      "cell_type": "markdown",
      "metadata": {
        "id": "3tXOW5Au7Wai"
      },
      "source": [
        "### 문자열 슬라이싱\n",
        "* exam : 022, 023, 024, 039"
      ]
    },
    {
      "cell_type": "code",
      "metadata": {
        "colab": {
          "base_uri": "https://localhost:8080/"
        },
        "id": "mrwVWkyl7hYL",
        "outputId": "37c93d1c-3930-4ed6-d296-aebddb22d530"
      },
      "source": [
        "license_plate = \"24rk 2210\"\n",
        "print(license_plate[-4:])    # 음수 값은 문자열의 뒤에서부터 인덱싱 또는 슬라이싱함을 의미한다. "
      ],
      "execution_count": 13,
      "outputs": [
        {
          "output_type": "stream",
          "text": [
            "2210\n"
          ],
          "name": "stdout"
        }
      ]
    },
    {
      "cell_type": "code",
      "metadata": {
        "colab": {
          "base_uri": "https://localhost:8080/"
        },
        "id": "OczNv4hZ7nDH",
        "outputId": "57eee399-9743-4d01-8a38-48016b4b19ca"
      },
      "source": [
        "string = \"홀짝홀짝홀짝\"\n",
        "print(string[::2])  # 슬라이싱할 떄 시작인덱스:끝인덱스:오프셋 을 지정할 수 있습니다."
      ],
      "execution_count": 14,
      "outputs": [
        {
          "output_type": "stream",
          "text": [
            "홀홀홀\n"
          ],
          "name": "stdout"
        }
      ]
    },
    {
      "cell_type": "code",
      "metadata": {
        "colab": {
          "base_uri": "https://localhost:8080/"
        },
        "id": "Z_zYs96y7rK9",
        "outputId": "4539ef07-6af2-4cb6-8914-2a57f19bc016"
      },
      "source": [
        "string = \"PYTHON\"\n",
        "print(string[::-1])   # -1은 끝에서부터 라는 뜻..."
      ],
      "execution_count": 15,
      "outputs": [
        {
          "output_type": "stream",
          "text": [
            "NOHTYP\n"
          ],
          "name": "stdout"
        }
      ]
    },
    {
      "cell_type": "code",
      "metadata": {
        "colab": {
          "base_uri": "https://localhost:8080/"
        },
        "id": "VDQvT-LC_Ihr",
        "outputId": "68e6580a-b172-41e7-e23c-98ee97228b3d"
      },
      "source": [
        "분기 = \"2020/03(E) (IFRS연결)\"\n",
        "print(분기[:7])"
      ],
      "execution_count": 30,
      "outputs": [
        {
          "output_type": "stream",
          "text": [
            "2020/03\n"
          ],
          "name": "stdout"
        }
      ]
    },
    {
      "cell_type": "markdown",
      "metadata": {
        "id": "ypbCF-ag7wsc"
      },
      "source": [
        "### 문자열 인덱싱\n",
        "* exam : 021"
      ]
    },
    {
      "cell_type": "code",
      "metadata": {
        "colab": {
          "base_uri": "https://localhost:8080/"
        },
        "id": "TWHN23cS8fmz",
        "outputId": "b82eb64c-4737-4f92-d854-7a0493014728"
      },
      "source": [
        "letter = 'python'\n",
        "print(letter[0], letter[2])"
      ],
      "execution_count": 16,
      "outputs": [
        {
          "output_type": "stream",
          "text": [
            "p t\n"
          ],
          "name": "stdout"
        }
      ]
    },
    {
      "cell_type": "markdown",
      "metadata": {
        "id": "aTEniZUI8g1V"
      },
      "source": [
        "### 문자열 다루기\n",
        "\n",
        "*exam : 025, 026, 027"
      ]
    },
    {
      "cell_type": "code",
      "metadata": {
        "colab": {
          "base_uri": "https://localhost:8080/"
        },
        "id": "QHPe_vhn8vF5",
        "outputId": "b8e6bbff-8c19-415d-ff3d-2dffc67ee234"
      },
      "source": [
        "phone_number = \"010-1111-2222\"\n",
        "phone_number = phone_number.replace(\"-\",\" \")\n",
        "print(phone_number)"
      ],
      "execution_count": 17,
      "outputs": [
        {
          "output_type": "stream",
          "text": [
            "010 1111 2222\n"
          ],
          "name": "stdout"
        }
      ]
    },
    {
      "cell_type": "code",
      "metadata": {
        "colab": {
          "base_uri": "https://localhost:8080/"
        },
        "id": "QjJWdJfT8wno",
        "outputId": "007b8785-dfb1-45c0-96da-d80a5bf2b9df"
      },
      "source": [
        "phone_number = \"010-1111-2222\"\n",
        "phone_number = phone_number.replace(\"-\",\"\")\n",
        "print(phone_number)"
      ],
      "execution_count": 18,
      "outputs": [
        {
          "output_type": "stream",
          "text": [
            "01011112222\n"
          ],
          "name": "stdout"
        }
      ]
    },
    {
      "cell_type": "code",
      "metadata": {
        "colab": {
          "base_uri": "https://localhost:8080/"
        },
        "id": "9eF0hBNt8z9F",
        "outputId": "0c9d75a9-2c7d-486f-9e41-0fd81340c957"
      },
      "source": [
        "url = \"http://sharebook.kr\"\n",
        "url_split = url.split('.')   # .을 기준으로 분리한다. 분리된 url 중 마지막을 인덱싱 하면 도메인만 출력 가능\n",
        "print(url_split[-1])"
      ],
      "execution_count": 20,
      "outputs": [
        {
          "output_type": "stream",
          "text": [
            "kr\n"
          ],
          "name": "stdout"
        }
      ]
    },
    {
      "cell_type": "markdown",
      "metadata": {
        "id": "NZlEl3sr81SE"
      },
      "source": [
        "### 문자열은  immutable (불변)\n",
        "* exam : 028"
      ]
    },
    {
      "cell_type": "code",
      "metadata": {
        "colab": {
          "base_uri": "https://localhost:8080/",
          "height": 197
        },
        "id": "3w_t11p-9DBl",
        "outputId": "1c60c3b4-d6c9-44ed-cc2b-e766eeb7ccf9"
      },
      "source": [
        "lang = 'python'\n",
        "lang[0] = 'P'  #문자열은 수정할 수 없다. 실행 결과를 확인해보면 문자열이 할당(assignment) 메서드를 지원하지 않음을 알 수 있다.\n",
        "print(lang)"
      ],
      "execution_count": 21,
      "outputs": [
        {
          "output_type": "error",
          "ename": "TypeError",
          "evalue": "ignored",
          "traceback": [
            "\u001b[0;31m---------------------------------------------------------------------------\u001b[0m",
            "\u001b[0;31mTypeError\u001b[0m                                 Traceback (most recent call last)",
            "\u001b[0;32m<ipython-input-21-b11a6ff1671a>\u001b[0m in \u001b[0;36m<module>\u001b[0;34m()\u001b[0m\n\u001b[1;32m      1\u001b[0m \u001b[0mlang\u001b[0m \u001b[0;34m=\u001b[0m \u001b[0;34m'python'\u001b[0m\u001b[0;34m\u001b[0m\u001b[0;34m\u001b[0m\u001b[0m\n\u001b[0;32m----> 2\u001b[0;31m \u001b[0mlang\u001b[0m\u001b[0;34m[\u001b[0m\u001b[0;36m0\u001b[0m\u001b[0;34m]\u001b[0m \u001b[0;34m=\u001b[0m \u001b[0;34m'P'\u001b[0m  \u001b[0;31m#문자열은 수정할 수 없다. 실행 결과를 확인해보면 문자열이 할당(assignment) 메서드를 지원하지 않음을 알 수 있다.\u001b[0m\u001b[0;34m\u001b[0m\u001b[0;34m\u001b[0m\u001b[0m\n\u001b[0m\u001b[1;32m      3\u001b[0m \u001b[0mprint\u001b[0m\u001b[0;34m(\u001b[0m\u001b[0mlang\u001b[0m\u001b[0;34m)\u001b[0m\u001b[0;34m\u001b[0m\u001b[0;34m\u001b[0m\u001b[0m\n",
            "\u001b[0;31mTypeError\u001b[0m: 'str' object does not support item assignment"
          ]
        }
      ]
    },
    {
      "cell_type": "markdown",
      "metadata": {
        "id": "JhZJz6FK9EdL"
      },
      "source": [
        "### replace 메서드\n",
        "* exam : 029, 030"
      ]
    },
    {
      "cell_type": "code",
      "metadata": {
        "colab": {
          "base_uri": "https://localhost:8080/"
        },
        "id": "BoV9aHdi9Lqi",
        "outputId": "7d22e005-e31c-47e0-8c30-1d4511492295"
      },
      "source": [
        "string = 'abcdfe2a354a32a'\n",
        "string_replace = string.replace('a','A')\n",
        "print(string_replace)"
      ],
      "execution_count": 22,
      "outputs": [
        {
          "output_type": "stream",
          "text": [
            "Abcdfe2A354A32A\n"
          ],
          "name": "stdout"
        }
      ]
    },
    {
      "cell_type": "code",
      "metadata": {
        "colab": {
          "base_uri": "https://localhost:8080/"
        },
        "id": "1d4hxC-Y9NCD",
        "outputId": "d6228666-cbb2-4ccb-8c3f-975419ad1141"
      },
      "source": [
        "string='abcd'\n",
        "string.replace('b','B')\n",
        "print(string)   # 문자열은 변경할 수 없는 자료형 이기 때문에 replace 매서드를 사용하면 원본은 그대로 둔채로 변경된 새로운 문자열 객체를 리턴해준다."
      ],
      "execution_count": 23,
      "outputs": [
        {
          "output_type": "stream",
          "text": [
            "abcd\n"
          ],
          "name": "stdout"
        }
      ]
    },
    {
      "cell_type": "markdown",
      "metadata": {
        "id": "vjwun3yW9OVx"
      },
      "source": [
        "### Format String\n",
        "* exam : 035, 036, 037"
      ]
    },
    {
      "cell_type": "code",
      "metadata": {
        "colab": {
          "base_uri": "https://localhost:8080/"
        },
        "id": "hYKrmUs792kg",
        "outputId": "4b69dd08-282e-465d-b3cf-dc7daf9849ac"
      },
      "source": [
        "#bad\n",
        "name = 'python'\n",
        "\n",
        "#print('이름: ' + name  + '나이: ' +3 )  --err!  print('이름: ' + name  + '나이: ' +str(3) ) -- ok\n",
        "print('이름: ' , name  ,'나이: ' , 3 )"
      ],
      "execution_count": 24,
      "outputs": [
        {
          "output_type": "stream",
          "text": [
            "이름:  python 나이:  3\n"
          ],
          "name": "stdout"
        }
      ]
    },
    {
      "cell_type": "code",
      "metadata": {
        "colab": {
          "base_uri": "https://localhost:8080/"
        },
        "id": "ucBq-wSr95-W",
        "outputId": "f3fd2595-481b-4e8f-cc6e-1153a8127ea2"
      },
      "source": [
        "#good (이 형태 평소에도 많이 씀)\n",
        "print(\"이름: %s 나이: %d \" % (name, 3))   # %s는 문자열 데이터 타입의 값을, %d는 정수형 데이터 타입 값의 출력을 의미"
      ],
      "execution_count": 26,
      "outputs": [
        {
          "output_type": "stream",
          "text": [
            "이름: python 나이: 3 \n"
          ],
          "name": "stdout"
        }
      ]
    },
    {
      "cell_type": "code",
      "metadata": {
        "colab": {
          "base_uri": "https://localhost:8080/"
        },
        "id": "iGHQPSU898qK",
        "outputId": "56dfb221-9d9b-4ff5-9188-049e8caca150"
      },
      "source": [
        "name1 = \"김민수\" \n",
        "age1 = 10\n",
        "name2 = \"이철희\"\n",
        "age2 = 13\n",
        "print(\"이름: {} 나이: {}\".format(name1, age1))   # 문자열의 포맷 메서드는 타입과 상관없이 값이 출력될 위치에 {}를 적어주면 된다.\n",
        "print(\"이름: {} 나이: {}\".format(name2, age2))"
      ],
      "execution_count": 27,
      "outputs": [
        {
          "output_type": "stream",
          "text": [
            "이름: 김민수 나이: 10\n",
            "이름: 이철희 나이: 13\n"
          ],
          "name": "stdout"
        }
      ]
    },
    {
      "cell_type": "code",
      "metadata": {
        "colab": {
          "base_uri": "https://localhost:8080/"
        },
        "id": "PnRKjKDP-Pn6",
        "outputId": "74e3b062-ca8d-4779-f164-90cc99919a6f"
      },
      "source": [
        "print(f\"이름: {name1} 나이: {age1}\")  # f-string은 문자열 앞에 f가 붙은 형태이다. f-string을 사용하면 {변수}와 같은 형탤호 문자열 사이에 타입과 상관없이 값을 출력 가능\n",
        "print(f\"이름: {name2} 나이: {age2}\")"
      ],
      "execution_count": 28,
      "outputs": [
        {
          "output_type": "stream",
          "text": [
            "이름: 김민수 나이: 10\n",
            "이름: 이철희 나이: 13\n"
          ],
          "name": "stdout"
        }
      ]
    },
    {
      "cell_type": "markdown",
      "metadata": {
        "id": "SOOqbtjb-cx9"
      },
      "source": [
        "### strip 메서드\n",
        "* exam : 040, 050"
      ]
    },
    {
      "cell_type": "code",
      "metadata": {
        "colab": {
          "base_uri": "https://localhost:8080/"
        },
        "id": "1jwEgHh5-2GY",
        "outputId": "e67e7ce7-4b8e-4220-f173-5123aca61579"
      },
      "source": [
        "data = \"   삼성전자    \"\n",
        "data1 = data.strip()    #문자열에서  strip() 메서드를 사용하면 좌우의 공백을 제거할 수 있다. 이때 원본 문자열은 그대로 유지, 공백이 제거된 새로운 문자열 반환\n",
        "print(data1)"
      ],
      "execution_count": 31,
      "outputs": [
        {
          "output_type": "stream",
          "text": [
            "삼성전자\n"
          ],
          "name": "stdout"
        }
      ]
    },
    {
      "cell_type": "code",
      "metadata": {
        "id": "1n5X9qL4A192"
      },
      "source": [
        "data = \"039490     \"   # rstrip() 메서드를 사용하면 오른쪽 고백이 제거된 새로운 문자열 객체가 반환\n",
        "data = data.rstrip()"
      ],
      "execution_count": 41,
      "outputs": []
    },
    {
      "cell_type": "markdown",
      "metadata": {
        "id": "q26ZDToq_ctf"
      },
      "source": [
        "### split 메서드\n",
        "* exam : 047, 048, 049"
      ]
    },
    {
      "cell_type": "code",
      "metadata": {
        "colab": {
          "base_uri": "https://localhost:8080/"
        },
        "id": "Cg1ScPEq_-OO",
        "outputId": "4363475b-686f-4f98-b333-554f4c39f0b8"
      },
      "source": [
        "a = \"hello world\"   # 문자열의 split() 메서드를 사용하면 문자열에서 공백을 기준으로 분리해준다.\n",
        "a.split()"
      ],
      "execution_count": 33,
      "outputs": [
        {
          "output_type": "execute_result",
          "data": {
            "text/plain": [
              "['hello', 'world']"
            ]
          },
          "metadata": {},
          "execution_count": 33
        }
      ]
    },
    {
      "cell_type": "code",
      "metadata": {
        "colab": {
          "base_uri": "https://localhost:8080/"
        },
        "id": "4UP8jB8pAIEU",
        "outputId": "a666318d-b34e-4179-fb4e-99b7b2d185f6"
      },
      "source": [
        "ticker = \"btc_krw\"   # 문자열에서 split() 메서드는 문자열을 분리할 때 사용. 이때 어떤 값을 넘겨주면 그 값을 기준으로 문자열을 분리\n",
        "ticker.split(\"_\")"
      ],
      "execution_count": 35,
      "outputs": [
        {
          "output_type": "execute_result",
          "data": {
            "text/plain": [
              "['btc', 'krw']"
            ]
          },
          "metadata": {},
          "execution_count": 35
        }
      ]
    },
    {
      "cell_type": "code",
      "metadata": {
        "colab": {
          "base_uri": "https://localhost:8080/"
        },
        "id": "wr9V0MiLBI-9",
        "outputId": "a171b0ed-7fcf-4fc9-eee8-0a9fe4ef9a4b"
      },
      "source": [
        "date = \"2020-05-01\"\n",
        "date.split(\"-\")"
      ],
      "execution_count": 42,
      "outputs": [
        {
          "output_type": "execute_result",
          "data": {
            "text/plain": [
              "['2020', '05', '01']"
            ]
          },
          "metadata": {},
          "execution_count": 42
        }
      ]
    },
    {
      "cell_type": "markdown",
      "metadata": {
        "id": "XjmLCDYbBKVK"
      },
      "source": [
        "## 파이썬 리스트\n",
        "* source : https://wikidocs.net/7023"
      ]
    },
    {
      "cell_type": "markdown",
      "metadata": {
        "id": "MuPW8xTbBPOA"
      },
      "source": [
        "### 리스트 생성\n",
        "* exam : 051"
      ]
    },
    {
      "cell_type": "code",
      "metadata": {
        "id": "3UtPnqmrU5s8"
      },
      "source": [
        "movie_rank = [\"닥터 스트레인지\", \"스플릿\", \"럭키\"]"
      ],
      "execution_count": 44,
      "outputs": []
    },
    {
      "cell_type": "markdown",
      "metadata": {
        "id": "6wVq0xQjU-L9"
      },
      "source": [
        "### 리스트 추가\n",
        "* exam : 052, 053"
      ]
    },
    {
      "cell_type": "code",
      "metadata": {
        "colab": {
          "base_uri": "https://localhost:8080/"
        },
        "id": "Jo9Vdy4GVK_z",
        "outputId": "ecba172f-26fa-444b-91e6-922c2e0561c8"
      },
      "source": [
        "movie_rank.append(\"배트맨\")\n",
        "print(movie_rank)"
      ],
      "execution_count": 46,
      "outputs": [
        {
          "output_type": "stream",
          "text": [
            "['닥터 스트레인지', '스플릿', '럭키', '배트맨']\n"
          ],
          "name": "stdout"
        }
      ]
    },
    {
      "cell_type": "code",
      "metadata": {
        "colab": {
          "base_uri": "https://localhost:8080/"
        },
        "id": "io8MOu73VP9y",
        "outputId": "358a2bfb-f6d3-4b5c-cd03-9c7383222d88"
      },
      "source": [
        "movie_rank = [\"닥터 스트레인지\", \"스플릿\", \"럭키\", \" 배트맨\"]\n",
        "movie_rank.insert(1, \"슈퍼맨\")    # 리스트의 insert(인덱스,원소)  매서드를 사용하면 특정 위치에 값을 끼워넣기 할 수 있습니다.\n",
        "print(movie_rank)"
      ],
      "execution_count": 48,
      "outputs": [
        {
          "output_type": "stream",
          "text": [
            "['닥터 스트레인지', '슈퍼맨', '스플릿', '럭키', ' 배트맨']\n"
          ],
          "name": "stdout"
        }
      ]
    },
    {
      "cell_type": "markdown",
      "metadata": {
        "id": "YHIHxYsnVkdZ"
      },
      "source": [
        "### 리스트의 최대값, 최소값\n",
        "* exam : 057"
      ]
    },
    {
      "cell_type": "code",
      "metadata": {
        "colab": {
          "base_uri": "https://localhost:8080/"
        },
        "id": "_zUgyUPnWH83",
        "outputId": "11bbb8b0-9679-4f99-cc34-497b478142cd"
      },
      "source": [
        "nums = [1, 2, 3, 4, 5, 6, 7]\n",
        "print(\"max: \", max(nums))\n",
        "print(\"min: \", min(nums))"
      ],
      "execution_count": 49,
      "outputs": [
        {
          "output_type": "stream",
          "text": [
            "max:  7\n",
            "min:  1\n"
          ],
          "name": "stdout"
        }
      ]
    },
    {
      "cell_type": "markdown",
      "metadata": {
        "id": "ehaKxGvLWS1_"
      },
      "source": [
        "### 리스트에 저장된 데이터의 갯수\n",
        "* exam : 059"
      ]
    },
    {
      "cell_type": "code",
      "metadata": {
        "colab": {
          "base_uri": "https://localhost:8080/"
        },
        "id": "a-k36PVRWiRD",
        "outputId": "1c4dac1f-e3ef-4679-d195-96f13fe27884"
      },
      "source": [
        "cook = [\"피자\", \"김밥\", \"만두\", \"양념치킨\", \"족발\", \"피자\", \"김치만두\", \"쫄면\", \"쏘세지\", \"라면\", \"팥빙수\", \"김치전\"]\n",
        "print(len(cook))   # len은 리스트에 저장된 데이터의 갯수를 구하는 함수이다."
      ],
      "execution_count": 50,
      "outputs": [
        {
          "output_type": "stream",
          "text": [
            "12\n"
          ],
          "name": "stdout"
        }
      ]
    },
    {
      "cell_type": "markdown",
      "metadata": {
        "id": "fkgpE-saWsCv"
      },
      "source": [
        "### 리스트의 평균\n",
        "* exam : 060"
      ]
    },
    {
      "cell_type": "code",
      "metadata": {
        "colab": {
          "base_uri": "https://localhost:8080/"
        },
        "id": "3XeR1pu1W3hc",
        "outputId": "2cbfa07b-8d78-43ab-a0af-8fbcf71ebdd4"
      },
      "source": [
        "nums = [1, 2, 3, 4, 5]\n",
        "average = sum(nums) / len(nums)   # 리스트의 합을 리스트의 갯수로 나눠 평균을 구함\n",
        "print(average)"
      ],
      "execution_count": 51,
      "outputs": [
        {
          "output_type": "stream",
          "text": [
            "3.0\n"
          ],
          "name": "stdout"
        }
      ]
    },
    {
      "cell_type": "markdown",
      "metadata": {
        "id": "fsafhYlCW5KF"
      },
      "source": [
        "### join 메서드\n",
        "* exam : 066, 067, 068"
      ]
    },
    {
      "cell_type": "code",
      "metadata": {
        "colab": {
          "base_uri": "https://localhost:8080/"
        },
        "id": "Sx_oSDnRXr3o",
        "outputId": "62599f03-ce04-4977-b8a1-c9898c09be29"
      },
      "source": [
        "interest = ['삼성전자', 'LG전자', 'Naver', 'SK하이닉스', '미래에셋대우']\n",
        "print(\" \".join(interest))   # 한칸 띄우기"
      ],
      "execution_count": 57,
      "outputs": [
        {
          "output_type": "stream",
          "text": [
            "삼성전자 LG전자 Naver SK하이닉스 미래에셋대우\n"
          ],
          "name": "stdout"
        }
      ]
    },
    {
      "cell_type": "code",
      "metadata": {
        "colab": {
          "base_uri": "https://localhost:8080/"
        },
        "id": "ryOmZ_RnYGfl",
        "outputId": "ba5c1926-3bcd-4f6d-c459-4f51c4ee194c"
      },
      "source": [
        "print(\"/\".join(interest))   # 중간에 / 넣기"
      ],
      "execution_count": 54,
      "outputs": [
        {
          "output_type": "stream",
          "text": [
            "삼성전자/LG전자/Naver/SK하이닉스/미래에셋대우\n"
          ],
          "name": "stdout"
        }
      ]
    },
    {
      "cell_type": "code",
      "metadata": {
        "colab": {
          "base_uri": "https://localhost:8080/"
        },
        "id": "z16ZMdZRYKla",
        "outputId": "aa2c3d10-7c81-402e-fc82-7d5d17d522c4"
      },
      "source": [
        "print(\"\\n\".join(interest))   # 줄바꿈하기"
      ],
      "execution_count": 58,
      "outputs": [
        {
          "output_type": "stream",
          "text": [
            "삼성전자\n",
            "LG전자\n",
            "Naver\n",
            "SK하이닉스\n",
            "미래에셋대우\n"
          ],
          "name": "stdout"
        }
      ]
    },
    {
      "cell_type": "markdown",
      "metadata": {
        "id": "gMvNkKM_YL2z"
      },
      "source": [
        "### 리스트 정렬\n",
        "* exam : 070"
      ]
    },
    {
      "cell_type": "code",
      "metadata": {
        "colab": {
          "base_uri": "https://localhost:8080/"
        },
        "id": "4kswslXuZB_a",
        "outputId": "cbfaabc8-a5db-41c8-a462-8a8d7005a803"
      },
      "source": [
        "data = [2, 4, 3, 1, 5, 10, 9]\n",
        "data.sort()    #sort  를 사용하면 오름차순 정렬가능\n",
        "print(data)"
      ],
      "execution_count": 59,
      "outputs": [
        {
          "output_type": "stream",
          "text": [
            "[1, 2, 3, 4, 5, 9, 10]\n"
          ],
          "name": "stdout"
        }
      ]
    },
    {
      "cell_type": "markdown",
      "metadata": {
        "id": "h_voPLhVZD9O"
      },
      "source": [
        "## 파이썬 터플\n",
        "* source : https://wikidocs.net/7027"
      ]
    },
    {
      "cell_type": "code",
      "metadata": {
        "colab": {
          "base_uri": "https://localhost:8080/"
        },
        "id": "4flS2QUzZNvr",
        "outputId": "8d16a60b-1b8c-4783-c58b-6f96fffcd4f6"
      },
      "source": [
        "my_variable = ()\n",
        "print(type(my_variable))"
      ],
      "execution_count": 60,
      "outputs": [
        {
          "output_type": "stream",
          "text": [
            "<class 'tuple'>\n"
          ],
          "name": "stdout"
        }
      ]
    },
    {
      "cell_type": "markdown",
      "metadata": {
        "id": "MYMAN2ekZa4a"
      },
      "source": [
        "### 터플 오류\n",
        "* 074"
      ]
    },
    {
      "cell_type": "code",
      "metadata": {
        "colab": {
          "base_uri": "https://localhost:8080/",
          "height": 180
        },
        "id": "IMxq14c_Z8WI",
        "outputId": "df914523-76cd-482c-a14f-a6b940b0cb2a"
      },
      "source": [
        "t = (1, 2, 3)\n",
        "t[0] = 'a'  # 터플은 원소의 값을 변경할 수 없다.\n"
      ],
      "execution_count": 61,
      "outputs": [
        {
          "output_type": "error",
          "ename": "TypeError",
          "evalue": "ignored",
          "traceback": [
            "\u001b[0;31m---------------------------------------------------------------------------\u001b[0m",
            "\u001b[0;31mTypeError\u001b[0m                                 Traceback (most recent call last)",
            "\u001b[0;32m<ipython-input-61-30ae5ed3acb9>\u001b[0m in \u001b[0;36m<module>\u001b[0;34m()\u001b[0m\n\u001b[1;32m      1\u001b[0m \u001b[0mt\u001b[0m \u001b[0;34m=\u001b[0m \u001b[0;34m(\u001b[0m\u001b[0;36m1\u001b[0m\u001b[0;34m,\u001b[0m \u001b[0;36m2\u001b[0m\u001b[0;34m,\u001b[0m \u001b[0;36m3\u001b[0m\u001b[0;34m)\u001b[0m\u001b[0;34m\u001b[0m\u001b[0;34m\u001b[0m\u001b[0m\n\u001b[0;32m----> 2\u001b[0;31m \u001b[0mt\u001b[0m\u001b[0;34m[\u001b[0m\u001b[0;36m0\u001b[0m\u001b[0;34m]\u001b[0m \u001b[0;34m=\u001b[0m \u001b[0;34m'a'\u001b[0m\u001b[0;34m\u001b[0m\u001b[0;34m\u001b[0m\u001b[0m\n\u001b[0m",
            "\u001b[0;31mTypeError\u001b[0m: 'tuple' object does not support item assignment"
          ]
        }
      ]
    },
    {
      "cell_type": "markdown",
      "metadata": {
        "id": "06kWiADpaCjS"
      },
      "source": [
        "### 터플 -> 리스트 변환\n",
        "* exam : 077"
      ]
    },
    {
      "cell_type": "code",
      "metadata": {
        "colab": {
          "base_uri": "https://localhost:8080/"
        },
        "id": "GZdCOriaaX0t",
        "outputId": "fb98ca27-12f4-459d-8cbd-81057efa4919"
      },
      "source": [
        "interest = ('삼성전자', 'LG전자', 'SK Hynix')\n",
        "data = list(interest)\n",
        "print(data)"
      ],
      "execution_count": 63,
      "outputs": [
        {
          "output_type": "stream",
          "text": [
            "['삼성전자', 'LG전자', 'SK Hynix']\n"
          ],
          "name": "stdout"
        }
      ]
    },
    {
      "cell_type": "markdown",
      "metadata": {
        "id": "2Uao4xIrafbf"
      },
      "source": [
        "### 리스트 -> 터플 변환\n",
        "* exam : 078"
      ]
    },
    {
      "cell_type": "code",
      "metadata": {
        "colab": {
          "base_uri": "https://localhost:8080/"
        },
        "id": "71TKZKiDaola",
        "outputId": "fbf76443-138d-4412-eeb4-e9aaccc4b116"
      },
      "source": [
        "interest = ['삼성전자', 'LG전자', 'SK Hynix']\n",
        "data = tuple(interest)\n",
        "print(data)"
      ],
      "execution_count": 64,
      "outputs": [
        {
          "output_type": "stream",
          "text": [
            "('삼성전자', 'LG전자', 'SK Hynix')\n"
          ],
          "name": "stdout"
        }
      ]
    },
    {
      "cell_type": "markdown",
      "metadata": {
        "id": "f1T0XHy9axfd"
      },
      "source": [
        "### range 함수\n",
        "* exam : 080"
      ]
    },
    {
      "cell_type": "code",
      "metadata": {
        "colab": {
          "base_uri": "https://localhost:8080/"
        },
        "id": "mwHXwEL_a6Od",
        "outputId": "33313029-a907-4161-b21b-788175485225"
      },
      "source": [
        "# 1~99까지의 정수 중 짝수만 저장된 튜플을 생성하라\n",
        "data = tuple(range(2, 100, 2))\n",
        "print( data )"
      ],
      "execution_count": 65,
      "outputs": [
        {
          "output_type": "stream",
          "text": [
            "(2, 4, 6, 8, 10, 12, 14, 16, 18, 20, 22, 24, 26, 28, 30, 32, 34, 36, 38, 40, 42, 44, 46, 48, 50, 52, 54, 56, 58, 60, 62, 64, 66, 68, 70, 72, 74, 76, 78, 80, 82, 84, 86, 88, 90, 92, 94, 96, 98)\n"
          ],
          "name": "stdout"
        }
      ]
    },
    {
      "cell_type": "markdown",
      "metadata": {
        "id": "eqN2p6FXbQWe"
      },
      "source": [
        "## 파이썬 딕셔너리\n",
        "* source : https://wikidocs.net/22000"
      ]
    },
    {
      "cell_type": "code",
      "metadata": {
        "colab": {
          "base_uri": "https://localhost:8080/"
        },
        "id": "sJaRtVTfbbYZ",
        "outputId": "76396882-3933-4fb4-de04-932f53e03910"
      },
      "source": [
        "temp = { }\n",
        "print(type(temp))"
      ],
      "execution_count": 67,
      "outputs": [
        {
          "output_type": "stream",
          "text": [
            "<class 'dict'>\n"
          ],
          "name": "stdout"
        }
      ]
    },
    {
      "cell_type": "markdown",
      "metadata": {
        "id": "PaJNffBMc5xq"
      },
      "source": [
        "###딕셔너리 추가\n",
        "*exam : 085, 086"
      ]
    },
    {
      "cell_type": "code",
      "metadata": {
        "colab": {
          "base_uri": "https://localhost:8080/"
        },
        "id": "rYJqVA6-cuoi",
        "outputId": "7872b7b8-ee11-4f1a-e721-ed68fea4b641"
      },
      "source": [
        "ice = {\"메로나\": 1000, \"폴라포\": 1200, \"빵빠레\": 1800}\n",
        "print(ice)"
      ],
      "execution_count": 68,
      "outputs": [
        {
          "output_type": "stream",
          "text": [
            "{'메로나': 1000, '폴라포': 1200, '빵빠레': 1800}\n"
          ],
          "name": "stdout"
        }
      ]
    },
    {
      "cell_type": "code",
      "metadata": {
        "colab": {
          "base_uri": "https://localhost:8080/"
        },
        "id": "xSw9NppXc1hC",
        "outputId": "65804e94-4393-48a8-be58-a7cdbabeecd9"
      },
      "source": [
        "# 조스바 1200, 월드콘 1500 추가\n",
        "ice = {\"메로나\": 1000, \"폴라포\": 1200, \"빵빠레\": 1800}\n",
        "ice[\"죠스바\"] = 1200\n",
        "ice[\"월드콘\"] = 1500\n",
        "print(ice)"
      ],
      "execution_count": 70,
      "outputs": [
        {
          "output_type": "stream",
          "text": [
            "{'메로나': 1000, '폴라포': 1200, '빵빠레': 1800, '죠스바': 1200, '월드콘': 1500}\n"
          ],
          "name": "stdout"
        }
      ]
    },
    {
      "cell_type": "markdown",
      "metadata": {
        "id": "SF_VsAzPdJzT"
      },
      "source": [
        "### 딕셔너리 사용하여 가격 출력, 수정, 삭제\n",
        "* exam : 087, 088, 089"
      ]
    },
    {
      "cell_type": "code",
      "metadata": {
        "colab": {
          "base_uri": "https://localhost:8080/"
        },
        "id": "AXvt_HfvfBMX",
        "outputId": "a7ab638e-2885-4391-dbfa-b9b8bfc3e15d"
      },
      "source": [
        "# 가격출력\n",
        "ice = {'메로나': 1000,\n",
        "       '폴로포': 1200,\n",
        "       '빵빠레': 1800,\n",
        "       '죠스바': 1200,\n",
        "       '월드콘': 1500}\n",
        "print(\"메로나 가격: \", ice[\"메로나\"])"
      ],
      "execution_count": 73,
      "outputs": [
        {
          "output_type": "stream",
          "text": [
            "메로나 가격:  1000\n"
          ],
          "name": "stdout"
        }
      ]
    },
    {
      "cell_type": "code",
      "metadata": {
        "colab": {
          "base_uri": "https://localhost:8080/"
        },
        "id": "YDo92bOxezFA",
        "outputId": "cfca83ea-3d7b-4923-9e9d-66d44b017e7b"
      },
      "source": [
        "# 가격수정\n",
        "ice = {'메로나': 1000,\n",
        "       '폴로포': 1200,\n",
        "       '빵빠레': 1800,\n",
        "       '죠스바': 1200,\n",
        "       '월드콘': 1500}\n",
        "ice[\"메로나\"] = 1300\n",
        "print(ice)"
      ],
      "execution_count": 72,
      "outputs": [
        {
          "output_type": "stream",
          "text": [
            "{'메로나': 1300, '폴로포': 1200, '빵빠레': 1800, '죠스바': 1200, '월드콘': 1500}\n"
          ],
          "name": "stdout"
        }
      ]
    },
    {
      "cell_type": "code",
      "metadata": {
        "colab": {
          "base_uri": "https://localhost:8080/"
        },
        "id": "3R5ks9EPe6Du",
        "outputId": "d97ce993-614e-488c-dc09-b1d01dbb55d3"
      },
      "source": [
        "# 메로나 삭제\n",
        "ice = {'메로나': 1000,\n",
        "       '폴로포': 1200,\n",
        "       '빵빠레': 1800,\n",
        "       '죠스바': 1200,\n",
        "       '월드콘': 1500}\n",
        "\n",
        "del ice[\"메로나\"]\n",
        "print(ice)"
      ],
      "execution_count": 75,
      "outputs": [
        {
          "output_type": "stream",
          "text": [
            "{'폴로포': 1200, '빵빠레': 1800, '죠스바': 1200, '월드콘': 1500}\n"
          ],
          "name": "stdout"
        }
      ]
    },
    {
      "cell_type": "markdown",
      "metadata": {
        "id": "wNKM52TNfIlc"
      },
      "source": [
        "### 딕셔너리 생성 및 인덱싱\n",
        "*exam : 091, 092, 093, 094"
      ]
    },
    {
      "cell_type": "code",
      "metadata": {
        "colab": {
          "base_uri": "https://localhost:8080/"
        },
        "id": "7WfNBKTUgAoP",
        "outputId": "5c61b99f-01f4-439d-dacc-d1fb4c46fc38"
      },
      "source": [
        "# 아이스크림 이름을 키값으로, (가격, 재고) 리스트를 딕셔너리의 값으로 저장\n",
        "inventory = {\"메로나\": [300, 20], \n",
        "             \"비비빅\": [400, 3], \n",
        "             \"죠스바\": [250, 100]}\n",
        "print(inventory)"
      ],
      "execution_count": 76,
      "outputs": [
        {
          "output_type": "stream",
          "text": [
            "{'메로나': [300, 20], '비비빅': [400, 3], '죠스바': [250, 100]}\n"
          ],
          "name": "stdout"
        }
      ]
    },
    {
      "cell_type": "code",
      "metadata": {
        "colab": {
          "base_uri": "https://localhost:8080/"
        },
        "id": "o5Kv_c1KgC2U",
        "outputId": "20581de0-7b38-4985-d8ec-a4515c0e0920"
      },
      "source": [
        "# 가격확인\n",
        "print(inventory[\"메로나\"][0], \"원\")"
      ],
      "execution_count": 77,
      "outputs": [
        {
          "output_type": "stream",
          "text": [
            "300 원\n"
          ],
          "name": "stdout"
        }
      ]
    },
    {
      "cell_type": "code",
      "metadata": {
        "colab": {
          "base_uri": "https://localhost:8080/"
        },
        "id": "LrgxGlWzgLTM",
        "outputId": "6074000c-bad3-4e26-f315-08e0689d13e2"
      },
      "source": [
        "# 재고확인\n",
        "print(inventory[\"메로나\"][1], \"개\")"
      ],
      "execution_count": 78,
      "outputs": [
        {
          "output_type": "stream",
          "text": [
            "20 개\n"
          ],
          "name": "stdout"
        }
      ]
    },
    {
      "cell_type": "code",
      "metadata": {
        "colab": {
          "base_uri": "https://localhost:8080/"
        },
        "id": "DwMdFEfJgOUp",
        "outputId": "f3050815-8044-4da1-8c50-c3b9eeb06437"
      },
      "source": [
        "# 딕셔너리 추가\n",
        "inventory = {\"메로나\": [300, 20],\n",
        "              \"비비빅\": [400, 3],\n",
        "              \"죠스바\": [250, 100]}\n",
        "inventory[\"월드콘\"] = [500, 7]\n",
        "print(inventory)"
      ],
      "execution_count": 79,
      "outputs": [
        {
          "output_type": "stream",
          "text": [
            "{'메로나': [300, 20], '비비빅': [400, 3], '죠스바': [250, 100], '월드콘': [500, 7]}\n"
          ],
          "name": "stdout"
        }
      ]
    },
    {
      "cell_type": "markdown",
      "metadata": {
        "id": "YOg8pRyigg8I"
      },
      "source": [
        "###  딕셔너리 keys()매서드\n",
        "* exam 095"
      ]
    },
    {
      "cell_type": "code",
      "metadata": {
        "colab": {
          "base_uri": "https://localhost:8080/"
        },
        "id": "4pK1ewrlg8Wd",
        "outputId": "cbcdbfa0-6d2a-4ba4-cf68-4090eeb8c223"
      },
      "source": [
        "# 다음의 딕셔너리로부터 key 값으로만 구성된 리스트를 생성하라\n",
        "\n",
        "icecream = {'탱크보이': 1200, '폴라포': 1200, '빵빠레': 1800, '월드콘': 1500, '메로나': 1000}\n",
        "ice = list(icecream.keys())\n",
        "print(ice)"
      ],
      "execution_count": 80,
      "outputs": [
        {
          "output_type": "stream",
          "text": [
            "['탱크보이', '폴라포', '빵빠레', '월드콘', '메로나']\n"
          ],
          "name": "stdout"
        }
      ]
    },
    {
      "cell_type": "markdown",
      "metadata": {
        "id": "yU9XEF-JhB-7"
      },
      "source": [
        "## 파이썬 분기문\n",
        "* source : https://wikidocs.net/7028"
      ]
    },
    {
      "cell_type": "code",
      "metadata": {
        "colab": {
          "base_uri": "https://localhost:8080/"
        },
        "id": "5yEWI2bghKyL",
        "outputId": "814b4ea4-6648-4cf4-d80c-a984abfb0b8c"
      },
      "source": [
        "if 4 < 3:\n",
        "  print(\"Hello World.\")\n",
        "else:\n",
        "  print(\"Hi, there.\")"
      ],
      "execution_count": 81,
      "outputs": [
        {
          "output_type": "stream",
          "text": [
            "Hi, there.\n"
          ],
          "name": "stdout"
        }
      ]
    },
    {
      "cell_type": "code",
      "metadata": {
        "colab": {
          "base_uri": "https://localhost:8080/"
        },
        "id": "VvrhVDTXjM6U",
        "outputId": "9336c0e3-88b0-4863-a585-ea1e95ecd00b"
      },
      "source": [
        "# 사용자로부터 값을 입력받은 후 해당 값에 20을 더한 값을 출력하라. \n",
        "# 단 사용자가 입력한 값과 20을 더한 계산 값이 255를 초과하는 경우 255를 출력해야 한다.\n",
        "# 입력값 : 200, 출력값 : 220\n",
        "# 입력값 : 240, 출력값 : 255\n",
        "\n",
        "user = input(\"입력값: \")\n",
        "num = 20 + int(user)\n",
        "if num > 255:\n",
        "    print(255)\n",
        "else:\n",
        "    print(num)"
      ],
      "execution_count": 83,
      "outputs": [
        {
          "output_type": "stream",
          "text": [
            "입력값: 230\n",
            "250\n"
          ],
          "name": "stdout"
        }
      ]
    },
    {
      "cell_type": "code",
      "metadata": {
        "colab": {
          "base_uri": "https://localhost:8080/"
        },
        "id": "QzXAl7nPjfqb",
        "outputId": "923c3058-ace5-4226-fe68-32106b06f0d8"
      },
      "source": [
        "#사용자로부터 하나의 값을 입력받은 후 해당 값에 20을 뺀 값을 출력하라. \n",
        "# 단 출력 값의 범위는 0~255이다. \n",
        "# 예를 들어 결괏값이 0보다 작은 값이되는 경우 0을 출력하고 255보다 큰 값이 되는 경우 255를 출력해야 한다.\n",
        "\n",
        "user = input(\"입력값: \")\n",
        "num = int(user) - 20\n",
        "if num > 255:\n",
        "  print(255)\n",
        "elif num < 0:\n",
        "  print(0)\n",
        "else:\n",
        "  print(num)"
      ],
      "execution_count": 84,
      "outputs": [
        {
          "output_type": "stream",
          "text": [
            "입력값: 100\n",
            "80\n"
          ],
          "name": "stdout"
        }
      ]
    },
    {
      "cell_type": "code",
      "metadata": {
        "colab": {
          "base_uri": "https://localhost:8080/"
        },
        "id": "Lryk-Oc6kPv0",
        "outputId": "9084bef0-4548-4896-885b-372d38553149"
      },
      "source": [
        "# 아래와 같이 fruit 딕셔너리가 정의되어 있다. \n",
        "# 사용자가 입력한 값이 딕셔너리 키 (key) 값에 포함되었다면 \"정답입니다\"를 아닐 경우 \"오답입니다\" 출력하라.\n",
        "\n",
        "# >> 제가좋아하는계절은: 봄\n",
        "# 정답입니다.\n",
        "\n",
        "fruit = {\"봄\" : \"딸기\", \"여름\" : \"토마토\", \"가을\" : \"사과\"}\n",
        "user = input (\"제가가장좋아하는계절은: \")\n",
        "if user in fruit:\n",
        "  print(\"정답입니다.\")\n",
        "else:\n",
        "  print(\"오답입니다.\")"
      ],
      "execution_count": 85,
      "outputs": [
        {
          "output_type": "stream",
          "text": [
            "제가가장좋아하는계절은: 봄\n",
            "정답입니다.\n"
          ],
          "name": "stdout"
        }
      ]
    },
    {
      "cell_type": "code",
      "metadata": {
        "colab": {
          "base_uri": "https://localhost:8080/"
        },
        "id": "h6uMDk2Mksun",
        "outputId": "e55e9d3a-afa3-4c1e-84d9-061422b954eb"
      },
      "source": [
        "# 아래와 같이 fruit 딕셔너리가 정의되어 있다. \n",
        "# 사용자가 입력한 값이 딕셔너리 값 (value)에 포함되었다면 \"정답입니다\"를 아닐 경우 \"오답입니다\" 출력하라.\n",
        "\n",
        "# >> 좋아하는과일은? 한라봉\n",
        "# 오답입니다.\n",
        "\n",
        "fruit = {\"봄\" : \"딸기\", \"여름\" : \"토마토\", \"가을\" : \"사과\"}\n",
        "user = input(\"좋아하는 과일은?\")\n",
        "if user in fruit.values():\n",
        "  print(\"정답입니다.\")\n",
        "else:\n",
        "  print(\"오답입니다.\")"
      ],
      "execution_count": 88,
      "outputs": [
        {
          "output_type": "stream",
          "text": [
            "좋아하는 과일은?한라봉\n",
            "오답입니다.\n"
          ],
          "name": "stdout"
        }
      ]
    },
    {
      "cell_type": "markdown",
      "metadata": {
        "id": "eA1Qklsbhek_"
      },
      "source": [
        "### 짝수/홀수 판별\n",
        "* exam : 113"
      ]
    },
    {
      "cell_type": "code",
      "metadata": {
        "colab": {
          "base_uri": "https://localhost:8080/"
        },
        "id": "v5UrJLjLiKNV",
        "outputId": "aea339da-a6c7-49fa-abcf-a7b92cba1b43"
      },
      "source": [
        "user = input(\"\")\n",
        "if int(user) % 2 == 0:   # 전체를 2로 나누었을때 나머지가 0이면 짝수, 아니면 홀수 이기 때문이다.\n",
        "  print(\"짝수\")\n",
        "else:\n",
        "  print(\"홀수\")"
      ],
      "execution_count": 82,
      "outputs": [
        {
          "output_type": "stream",
          "text": [
            "30\n",
            "짝수\n"
          ],
          "name": "stdout"
        }
      ]
    },
    {
      "cell_type": "markdown",
      "metadata": {
        "id": "o7eqt3dVl3ll"
      },
      "source": [
        "### 대문자 소문자 판별 및 변환\n",
        "* exam : 121"
      ]
    },
    {
      "cell_type": "code",
      "metadata": {
        "colab": {
          "base_uri": "https://localhost:8080/"
        },
        "id": "dfvwbnOZl8SQ",
        "outputId": "ab571f64-b619-4b5b-fe21-aafa6672f98e"
      },
      "source": [
        "user = input(\"\")\n",
        "if user.islower():       #islower() 함수는 문자의 소문자 여부를 판별\n",
        "    print(user.upper())  #upper() 함수는 대문자로, lower() 함수는 소문자로 변경\n",
        "else:\n",
        "    print(user.lower())"
      ],
      "execution_count": 89,
      "outputs": [
        {
          "output_type": "stream",
          "text": [
            "a\n",
            "A\n"
          ],
          "name": "stdout"
        }
      ]
    },
    {
      "cell_type": "markdown",
      "metadata": {
        "id": "TE0xsK9RmJ8s"
      },
      "source": [
        "## 파이썬 반복문\n",
        "* source : https://wikidocs.net/78562"
      ]
    },
    {
      "cell_type": "code",
      "metadata": {
        "colab": {
          "base_uri": "https://localhost:8080/"
        },
        "id": "9YDgqVfMngdp",
        "outputId": "3286ada8-1b2b-437e-93ea-36330ceed36f"
      },
      "source": [
        "# 저장된 문자열의 길이를 다음과 같이 출력하라\n",
        "# 리스트 = [\"SK하이닉스\", \"삼성전자\", \"LG전자\"]\n",
        "\n",
        "#6\n",
        "#4\n",
        "#4\n",
        "\n",
        "리스트 = [\"SK하이닉스\", \"삼성전자\", \"LG전자\"]\n",
        "for 종목명 in 리스트:\n",
        "  길이 = len(종목명)\n",
        "  print(길이)"
      ],
      "execution_count": 90,
      "outputs": [
        {
          "output_type": "stream",
          "text": [
            "6\n",
            "4\n",
            "4\n"
          ],
          "name": "stdout"
        }
      ]
    },
    {
      "cell_type": "code",
      "metadata": {
        "colab": {
          "base_uri": "https://localhost:8080/"
        },
        "id": "YBV1Xt96rZ_o",
        "outputId": "3afa345b-58b0-4553-9c05-da5d61ba31bc"
      },
      "source": [
        "리스트 = ['dog', 'cat', 'parrot']\n",
        "for 이름 in 리스트:\n",
        "  print(이름, len(이름))"
      ],
      "execution_count": 91,
      "outputs": [
        {
          "output_type": "stream",
          "text": [
            "dog 3\n",
            "cat 3\n",
            "parrot 6\n"
          ],
          "name": "stdout"
        }
      ]
    },
    {
      "cell_type": "code",
      "metadata": {
        "colab": {
          "base_uri": "https://localhost:8080/"
        },
        "id": "Uebb0vo_rm1E",
        "outputId": "8dfdc40c-27c3-4800-987d-6f67322a87ee"
      },
      "source": [
        "for 이름 in 리스트:\n",
        "  print(이름[0])"
      ],
      "execution_count": 92,
      "outputs": [
        {
          "output_type": "stream",
          "text": [
            "d\n",
            "c\n",
            "p\n"
          ],
          "name": "stdout"
        }
      ]
    },
    {
      "cell_type": "code",
      "metadata": {
        "colab": {
          "base_uri": "https://localhost:8080/"
        },
        "id": "-cbZR_YGsIl6",
        "outputId": "49487f8c-3e61-4bc4-976f-2be1ac72b505"
      },
      "source": [
        "# for 문을 사용해서 반대로 출력하기\n",
        "리스트 = [\"가\", \"나\", \"다\", \"라\"]\n",
        "\n",
        "for 변수 in 리스트[::-1]:\n",
        "  print(변수)"
      ],
      "execution_count": 93,
      "outputs": [
        {
          "output_type": "stream",
          "text": [
            "라\n",
            "다\n",
            "나\n",
            "가\n"
          ],
          "name": "stdout"
        }
      ]
    },
    {
      "cell_type": "markdown",
      "metadata": {
        "id": "geFwtJBQsjpz"
      },
      "source": [
        "### for문을 사용해서 리스트의 음수 출력\n",
        "* exam : 151"
      ]
    },
    {
      "cell_type": "code",
      "metadata": {
        "colab": {
          "base_uri": "https://localhost:8080/"
        },
        "id": "Ur_ILMfjswWm",
        "outputId": "4b9905d4-c7fb-495b-9e01-4ac14814a996"
      },
      "source": [
        "리스트 = [3, -20, -3, 44]\n",
        "for 변수 in 리스트:\n",
        "  if  변수 < 0:\n",
        "    print(변수)"
      ],
      "execution_count": 94,
      "outputs": [
        {
          "output_type": "stream",
          "text": [
            "-20\n",
            "-3\n"
          ],
          "name": "stdout"
        }
      ]
    },
    {
      "cell_type": "markdown",
      "metadata": {
        "id": "vIHzDwk1s42y"
      },
      "source": [
        "### for 문을 사용해서 특정 배수 출력\n",
        "* exam : 152, 153"
      ]
    },
    {
      "cell_type": "code",
      "metadata": {
        "colab": {
          "base_uri": "https://localhost:8080/"
        },
        "id": "YI8aggUvtKkV",
        "outputId": "4521d61b-f1d2-4734-dd68-40831c74395d"
      },
      "source": [
        "# 3의 배수만 출력\n",
        "리스트 = [3, 100, 23, 44]\n",
        "for 변수 in 리스트:\n",
        "  if  변수 % 3 == 0:\n",
        "    print(변수)"
      ],
      "execution_count": 95,
      "outputs": [
        {
          "output_type": "stream",
          "text": [
            "3\n"
          ],
          "name": "stdout"
        }
      ]
    },
    {
      "cell_type": "code",
      "metadata": {
        "colab": {
          "base_uri": "https://localhost:8080/"
        },
        "id": "keCEWqoQtX_U",
        "outputId": "ce4845b2-52ae-4c2e-e99d-9b0b4c08e57d"
      },
      "source": [
        "#리스트에서 20 보다 작은 3의 배수를 출력하라\n",
        "리스트 = [13, 21, 12, 14, 30, 18]\n",
        "for 변수 in 리스트:\n",
        "  if 변수 % 3 == 0:\n",
        "    if 변수 < 20:\n",
        "      print(변수)"
      ],
      "execution_count": 96,
      "outputs": [
        {
          "output_type": "stream",
          "text": [
            "12\n",
            "18\n"
          ],
          "name": "stdout"
        }
      ]
    },
    {
      "cell_type": "code",
      "metadata": {
        "colab": {
          "base_uri": "https://localhost:8080/"
        },
        "id": "zOIwg0a_tqBn",
        "outputId": "59db7df4-ed5b-4aa2-85bb-b79be5bf1ad5"
      },
      "source": [
        "리스트 = [13, 21, 12, 14, 30, 18]\n",
        "for 변수 in 리스트:\n",
        "  if (변수 < 20) and (변수 %3 ==0):\n",
        "    print(변수)"
      ],
      "execution_count": 97,
      "outputs": [
        {
          "output_type": "stream",
          "text": [
            "12\n",
            "18\n"
          ],
          "name": "stdout"
        }
      ]
    },
    {
      "cell_type": "markdown",
      "metadata": {
        "id": "dz7eaz0Ot4hq"
      },
      "source": [
        "### for문 사용해서 대문자 판별\n",
        "* exam : 155"
      ]
    },
    {
      "cell_type": "code",
      "metadata": {
        "colab": {
          "base_uri": "https://localhost:8080/"
        },
        "id": "fJ62_HVtuxqM",
        "outputId": "5f94f684-4a59-4365-acdb-134e2602f13b"
      },
      "source": [
        "리스트 = [\"A\", \"b\", \"c\", \"D\"]\n",
        "for 변수 in 리스트:\n",
        "  if 변수.isupper():    #isupper()은 대문자 판별, islower()은 소문자 판별\n",
        "    print(변수)"
      ],
      "execution_count": 98,
      "outputs": [
        {
          "output_type": "stream",
          "text": [
            "A\n",
            "D\n"
          ],
          "name": "stdout"
        }
      ]
    },
    {
      "cell_type": "code",
      "metadata": {
        "colab": {
          "base_uri": "https://localhost:8080/"
        },
        "id": "BSoRTFyTu3ol",
        "outputId": "4ad5fc82-e3f5-4e36-c3b1-4270329fd88a"
      },
      "source": [
        "리스트 = [\"A\", \"b\", \"c\", \"D\"]\n",
        "for 변수 in 리스트:\n",
        "  if not 변수.isupper(): #대문자 판별 함수 앞에 not 를 사용 가능\n",
        "    print(변수)"
      ],
      "execution_count": 99,
      "outputs": [
        {
          "output_type": "stream",
          "text": [
            "b\n",
            "c\n"
          ],
          "name": "stdout"
        }
      ]
    },
    {
      "cell_type": "code",
      "metadata": {
        "colab": {
          "base_uri": "https://localhost:8080/"
        },
        "id": "fu4q3xIlw_Ru",
        "outputId": "4d8888e9-478b-45ed-ebab-648af41bacfb"
      },
      "source": [
        "# 파일 이름이 저장된 리스트에서 확장자가 .h 인 파일 이름을 출력하라.\n",
        "리스트 = ['intra.h', 'intra.c', 'define.h', 'run.py']\n",
        "for 변수 in 리스트:\n",
        "  split = 변수.split(\".\")\n",
        "  if split[1] == \"h\":\n",
        "    print(변수)"
      ],
      "execution_count": 100,
      "outputs": [
        {
          "output_type": "stream",
          "text": [
            "intra.h\n",
            "define.h\n"
          ],
          "name": "stdout"
        }
      ]
    },
    {
      "cell_type": "code",
      "metadata": {
        "colab": {
          "base_uri": "https://localhost:8080/"
        },
        "id": "jgLfnsip1trS",
        "outputId": "ddc7a8f6-3204-4190-b640-6d2d8aad0298"
      },
      "source": [
        "# 파일 이름이 저장된 리스트에서 확장자가 .h나 .c인 파일을 화면에 출력하라.\n",
        "리스트 = ['intra.h', 'intra.c', 'define.h', 'run.py']\n",
        "for 변수 in 리스트:\n",
        "  split = 변수.split(\".\")\n",
        "  if (split[1] == \"h\") or (split[1] == \"c\"):\n",
        "    print(변수)"
      ],
      "execution_count": 101,
      "outputs": [
        {
          "output_type": "stream",
          "text": [
            "intra.h\n",
            "intra.c\n",
            "define.h\n"
          ],
          "name": "stdout"
        }
      ]
    },
    {
      "cell_type": "markdown",
      "metadata": {
        "id": "TmFVBM4_11uA"
      },
      "source": [
        "### range 함수\n",
        "* exam : 162, 164"
      ]
    },
    {
      "cell_type": "code",
      "metadata": {
        "colab": {
          "base_uri": "https://localhost:8080/"
        },
        "id": "bb2DGaLz32Qr",
        "outputId": "dad2e332-f9c3-4220-8dd3-dea86347bd1c"
      },
      "source": [
        "# 월드컵은 4년에 한 번 개최된다. range()를 사용하여 2002~2050년까지 중 월드컵이 개최되는 연도를 출력하라\n",
        "# 참고 : range  3번째 파라미터는 증감폭을 결정합니다.\n",
        "\n",
        "print (list(range(2002, 2051, 4)))"
      ],
      "execution_count": 102,
      "outputs": [
        {
          "output_type": "stream",
          "text": [
            "[2002, 2006, 2010, 2014, 2018, 2022, 2026, 2030, 2034, 2038, 2042, 2046, 2050]\n"
          ],
          "name": "stdout"
        }
      ]
    },
    {
      "cell_type": "code",
      "metadata": {
        "colab": {
          "base_uri": "https://localhost:8080/"
        },
        "id": "aEjslYL14Gmg",
        "outputId": "ed511a67-1bc7-4376-afae-88bc735466d0"
      },
      "source": [
        "for x in range(2002, 2051, 4):\n",
        "  print(x)"
      ],
      "execution_count": 103,
      "outputs": [
        {
          "output_type": "stream",
          "text": [
            "2002\n",
            "2006\n",
            "2010\n",
            "2014\n",
            "2018\n",
            "2022\n",
            "2026\n",
            "2030\n",
            "2034\n",
            "2038\n",
            "2042\n",
            "2046\n",
            "2050\n"
          ],
          "name": "stdout"
        }
      ]
    },
    {
      "cell_type": "code",
      "metadata": {
        "colab": {
          "base_uri": "https://localhost:8080/"
        },
        "id": "CBDHJexb4M2e",
        "outputId": "7c507893-9fdc-408d-ab8d-d621a674a87e"
      },
      "source": [
        "# 99부터 0까지 1씩 감소하는 숫자들을, 한 라인에 하나씩 출력하라.\n",
        "for i in range(100):\n",
        "  print(99-i)"
      ],
      "execution_count": 104,
      "outputs": [
        {
          "output_type": "stream",
          "text": [
            "99\n",
            "98\n",
            "97\n",
            "96\n",
            "95\n",
            "94\n",
            "93\n",
            "92\n",
            "91\n",
            "90\n",
            "89\n",
            "88\n",
            "87\n",
            "86\n",
            "85\n",
            "84\n",
            "83\n",
            "82\n",
            "81\n",
            "80\n",
            "79\n",
            "78\n",
            "77\n",
            "76\n",
            "75\n",
            "74\n",
            "73\n",
            "72\n",
            "71\n",
            "70\n",
            "69\n",
            "68\n",
            "67\n",
            "66\n",
            "65\n",
            "64\n",
            "63\n",
            "62\n",
            "61\n",
            "60\n",
            "59\n",
            "58\n",
            "57\n",
            "56\n",
            "55\n",
            "54\n",
            "53\n",
            "52\n",
            "51\n",
            "50\n",
            "49\n",
            "48\n",
            "47\n",
            "46\n",
            "45\n",
            "44\n",
            "43\n",
            "42\n",
            "41\n",
            "40\n",
            "39\n",
            "38\n",
            "37\n",
            "36\n",
            "35\n",
            "34\n",
            "33\n",
            "32\n",
            "31\n",
            "30\n",
            "29\n",
            "28\n",
            "27\n",
            "26\n",
            "25\n",
            "24\n",
            "23\n",
            "22\n",
            "21\n",
            "20\n",
            "19\n",
            "18\n",
            "17\n",
            "16\n",
            "15\n",
            "14\n",
            "13\n",
            "12\n",
            "11\n",
            "10\n",
            "9\n",
            "8\n",
            "7\n",
            "6\n",
            "5\n",
            "4\n",
            "3\n",
            "2\n",
            "1\n",
            "0\n"
          ],
          "name": "stdout"
        }
      ]
    },
    {
      "cell_type": "code",
      "metadata": {
        "colab": {
          "base_uri": "https://localhost:8080/"
        },
        "id": "AGUKZV7y5EaX",
        "outputId": "3685cd76-ddbb-4c69-e70a-b565495a3499"
      },
      "source": [
        "# 구구단 3단을 출력하라.\n",
        "for i in range(1,10):\n",
        "  print(3, \"x\", i, \"=\", 3 * i)"
      ],
      "execution_count": 105,
      "outputs": [
        {
          "output_type": "stream",
          "text": [
            "3 x 1 = 3\n",
            "3 x 2 = 6\n",
            "3 x 3 = 9\n",
            "3 x 4 = 12\n",
            "3 x 5 = 15\n",
            "3 x 6 = 18\n",
            "3 x 7 = 21\n",
            "3 x 8 = 24\n",
            "3 x 9 = 27\n"
          ],
          "name": "stdout"
        }
      ]
    },
    {
      "cell_type": "code",
      "metadata": {
        "colab": {
          "base_uri": "https://localhost:8080/"
        },
        "id": "rt6aDCra5Ybi",
        "outputId": "26638280-77c0-43b9-96df-0ebfac10557e"
      },
      "source": [
        "# 구구단 3단을 출력하라. 단 홀수 번째만 출력한다.\n",
        "num = 3\n",
        "for i in range(1, 10, 2) :     # range 함수는 세번 째 파라미터는 증감폭을 결정한다.\n",
        "    print (num, \"x\", i, \" = \", num * i)"
      ],
      "execution_count": 106,
      "outputs": [
        {
          "output_type": "stream",
          "text": [
            "3 x 1  =  3\n",
            "3 x 3  =  9\n",
            "3 x 5  =  15\n",
            "3 x 7  =  21\n",
            "3 x 9  =  27\n"
          ],
          "name": "stdout"
        }
      ]
    },
    {
      "cell_type": "markdown",
      "metadata": {
        "id": "Ywiwaj3G5idG"
      },
      "source": [
        "## 파이썬 함수\n",
        "* source : https://wikidocs.net/23906"
      ]
    },
    {
      "cell_type": "code",
      "metadata": {
        "colab": {
          "base_uri": "https://localhost:8080/"
        },
        "id": "P6BJhVqm68dn",
        "outputId": "0732e9ba-96d0-4e4b-c8be-c790ce235836"
      },
      "source": [
        "# 두 개의 숫자를 입력받아 합/차/곱/나눗셈을 출력하는 print_arithmetic_operation 함수를 작성하라.\n",
        "\n",
        "# print_arithmetic_operation(3, 4)\n",
        "# 3 + 4 = 7\n",
        "# 3 - 4 = -1\n",
        "# 3 * 4 = 12\n",
        "# 3 / 4 = 0.75\n",
        "\n",
        "print_arithmetic_operation(3, 4)\n",
        "def print_arithmetic_operation(a, b):\n",
        "    print(a, \"+\", b, \"=\", a + b )\n",
        "    print(a, \"-\", b, \"=\", a - b )\n",
        "    print(a, \"*\", b, \"=\", a * b )\n",
        "    print(a, \"/\", b, \"=\", a / b )"
      ],
      "execution_count": 119,
      "outputs": [
        {
          "output_type": "stream",
          "text": [
            "3 + 4 = 7\n",
            "3 - 4 = -1\n",
            "3 * 4 = 12\n",
            "3 / 4 = 0.75\n"
          ],
          "name": "stdout"
        }
      ]
    },
    {
      "cell_type": "code",
      "metadata": {
        "colab": {
          "base_uri": "https://localhost:8080/",
          "height": 231
        },
        "id": "kgTtsxFG7siN",
        "outputId": "15e00590-a967-4c9f-a861-cef6d3a5dd45"
      },
      "source": [
        "# 하나의 리스트를 입력받아 짝수만 화면에 출력하는  print_even 함수를 정의하라\n",
        "print_even ([1, 3, 2, 10, 12, 11, 15])\n",
        "def print_even(my_list):\n",
        "  for v in my_list:\n",
        "    if v % 2 == 0:\n",
        "      print(v)"
      ],
      "execution_count": 122,
      "outputs": [
        {
          "output_type": "error",
          "ename": "NameError",
          "evalue": "ignored",
          "traceback": [
            "\u001b[0;31m---------------------------------------------------------------------------\u001b[0m",
            "\u001b[0;31mNameError\u001b[0m                                 Traceback (most recent call last)",
            "\u001b[0;32m<ipython-input-122-268e4e07a748>\u001b[0m in \u001b[0;36m<module>\u001b[0;34m()\u001b[0m\n\u001b[1;32m      1\u001b[0m \u001b[0;31m# 하나의 리스트를 입력받아 짝수만 화면에 출력하는  print_even 함수를 정의하라\u001b[0m\u001b[0;34m\u001b[0m\u001b[0;34m\u001b[0m\u001b[0;34m\u001b[0m\u001b[0m\n\u001b[0;32m----> 2\u001b[0;31m \u001b[0mprint_even\u001b[0m \u001b[0;34m(\u001b[0m\u001b[0;34m[\u001b[0m\u001b[0;36m1\u001b[0m\u001b[0;34m,\u001b[0m \u001b[0;36m3\u001b[0m\u001b[0;34m,\u001b[0m \u001b[0;36m2\u001b[0m\u001b[0;34m,\u001b[0m \u001b[0;36m10\u001b[0m\u001b[0;34m,\u001b[0m \u001b[0;36m12\u001b[0m\u001b[0;34m,\u001b[0m \u001b[0;36m11\u001b[0m\u001b[0;34m,\u001b[0m \u001b[0;36m15\u001b[0m\u001b[0;34m]\u001b[0m\u001b[0;34m)\u001b[0m\u001b[0;34m\u001b[0m\u001b[0;34m\u001b[0m\u001b[0m\n\u001b[0m\u001b[1;32m      3\u001b[0m \u001b[0;32mdef\u001b[0m \u001b[0mprint_even\u001b[0m\u001b[0;34m(\u001b[0m\u001b[0mmy_list\u001b[0m\u001b[0;34m)\u001b[0m\u001b[0;34m:\u001b[0m\u001b[0;34m\u001b[0m\u001b[0;34m\u001b[0m\u001b[0m\n\u001b[1;32m      4\u001b[0m   \u001b[0;32mfor\u001b[0m \u001b[0mv\u001b[0m \u001b[0;32min\u001b[0m \u001b[0mmy_list\u001b[0m\u001b[0;34m:\u001b[0m\u001b[0;34m\u001b[0m\u001b[0;34m\u001b[0m\u001b[0m\n\u001b[1;32m      5\u001b[0m     \u001b[0;32mif\u001b[0m \u001b[0mv\u001b[0m \u001b[0;34m%\u001b[0m \u001b[0;36m2\u001b[0m \u001b[0;34m==\u001b[0m \u001b[0;36m0\u001b[0m\u001b[0;34m:\u001b[0m\u001b[0;34m\u001b[0m\u001b[0;34m\u001b[0m\u001b[0m\n",
            "\u001b[0;31mNameError\u001b[0m: name 'print_even' is not defined"
          ]
        }
      ]
    },
    {
      "cell_type": "code",
      "metadata": {
        "colab": {
          "base_uri": "https://localhost:8080/"
        },
        "id": "mHzOo3Av9kPZ",
        "outputId": "4bb12b0b-d28e-4291-92d6-9c1f435b6cd4"
      },
      "source": [
        "def 함수(num):\n",
        "  return num+4\n",
        "\n",
        "a = 함수(10)\n",
        "b = 함수(a)\n",
        "c = 함수(b)\n",
        "print(c)"
      ],
      "execution_count": 124,
      "outputs": [
        {
          "output_type": "stream",
          "text": [
            "22\n"
          ],
          "name": "stdout"
        }
      ]
    }
  ]
}