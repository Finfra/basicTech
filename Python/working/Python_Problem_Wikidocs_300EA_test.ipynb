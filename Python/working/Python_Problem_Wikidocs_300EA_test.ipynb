{
    "cells": [
        {
            "cell_type": "markdown",
            "metadata": {},
            "source": [
                "# 초보자를 위한 파이썬 300제\n",
                "* source : https://wikidocs.net/book/922\n",
                "\n",
                "## 파이썬 시작하기\n",
                "* source : https://wikidocs.net/7014\n",
                "\n",
                "### print 텝과 줄바꿈\n",
                "*  exam : 005, 009\n"
            ]
        },
        {
            "cell_type": "code",
            "execution_count": null,
            "metadata": {},
            "outputs": [],
            "source": [
                "print(\"안녕하세요.\\n만나서\\t\\t반갑습니다.\")  # \\t 텝, \\n 줄바꿈 의미\n",
                "\n"
            ]
        },
        {
            "cell_type": "markdown",
            "metadata": {},
            "source": [
                "\n",
                "\n"
            ]
        },
        {
            "cell_type": "code",
            "execution_count": null,
            "metadata": {},
            "outputs": [],
            "source": [
                "print(\"first\",end=\"\");print(\"second\")   # end='' print 함수는 두 번 사용한다. 세미콜론 (;)은 한줄에 여러 개의 명령을 작성하기 위해 사용한다.\n",
                "\n"
            ]
        },
        {
            "cell_type": "markdown",
            "metadata": {},
            "source": [
                "### print 기초\n",
                "* exam : 008, 004\n"
            ]
        },
        {
            "cell_type": "code",
            "execution_count": null,
            "metadata": {},
            "outputs": [],
            "source": [
                "print(\"naver\", \"kakao\", \"sk\", \"samsung\", sep=\"/\")\n",
                "\n"
            ]
        },
        {
            "cell_type": "markdown",
            "metadata": {},
            "source": [
                "\n",
                "\n"
            ]
        },
        {
            "cell_type": "code",
            "execution_count": null,
            "metadata": {},
            "outputs": [],
            "source": [
                "print('\"C:\\Windows\"')\n",
                "print('(\"C:\\Windows\")')\n"
            ]
        },
        {
            "cell_type": "markdown",
            "metadata": {},
            "source": [
                "## 파이썬 변수\n",
                "* source : https://wikidocs.net/7021\n",
                "\n",
                "### type함수\n",
                "* exam : 012, 015\n"
            ]
        },
        {
            "cell_type": "code",
            "execution_count": null,
            "metadata": {},
            "outputs": [],
            "source": [
                "시가총액 = 298000000000000\n",
                "현재가 = 50000\n",
                "PER = 15.79\n",
                "\n",
                "print(시가총액, type(시가총액))\n",
                "print(현재가, type(현재가))\n",
                "print(PER, type(PER))\n"
            ]
        },
        {
            "cell_type": "markdown",
            "metadata": {},
            "source": [
                "\n",
                "\n"
            ]
        },
        {
            "cell_type": "code",
            "execution_count": null,
            "metadata": {},
            "outputs": [],
            "source": [
                "a = 128\n",
                "print(type(a))\n"
            ]
        },
        {
            "cell_type": "markdown",
            "metadata": {},
            "source": [
                "\n",
                "\n"
            ]
        },
        {
            "cell_type": "code",
            "execution_count": null,
            "metadata": {},
            "outputs": [],
            "source": [
                "a = \"132\"\n",
                "print(type(a))\n"
            ]
        },
        {
            "cell_type": "markdown",
            "metadata": {},
            "source": [
                "### 문자열, 정수, 실수 변환\n",
                "* exam : 016, 017, 018, 019\n"
            ]
        },
        {
            "cell_type": "code",
            "execution_count": null,
            "metadata": {},
            "outputs": [],
            "source": [
                "num_str = \"720\"\n",
                "num_int = int(num_str)   # 문자열을 정수로 변환\n",
                "print(num_int, type(num_int))\n"
            ]
        },
        {
            "cell_type": "markdown",
            "metadata": {},
            "source": [
                "\n",
                "\n"
            ]
        },
        {
            "cell_type": "code",
            "execution_count": null,
            "metadata": {},
            "outputs": [],
            "source": [
                "num=100\n",
                "result=str(num)    # 정수를 문자열 100으로 변환\n",
                "print(result, type(result))\n"
            ]
        },
        {
            "cell_type": "markdown",
            "metadata": {},
            "source": [
                "\n",
                "\n"
            ]
        },
        {
            "cell_type": "code",
            "execution_count": null,
            "metadata": {},
            "outputs": [],
            "source": [
                "a = \"15.79\"\n",
                "b = float(a)    # 문자열을 실수로 변환\n",
                "print(b,type(b))\n"
            ]
        },
        {
            "cell_type": "markdown",
            "metadata": {},
            "source": [
                "\n",
                "\n"
            ]
        },
        {
            "cell_type": "code",
            "execution_count": null,
            "metadata": {},
            "outputs": [],
            "source": [
                "year = \"2020\"\n",
                "\n",
                "print(int(year)-3)    #문자열을 정수로 변환\n",
                "print(int(year)-2)\n",
                "print(int(year)-1)\n"
            ]
        },
        {
            "cell_type": "markdown",
            "metadata": {},
            "source": [
                "## 파이썬 문자열\n",
                "*source : https://wikidocs.net/7022\n",
                "\n",
                "### 문자열 슬라이싱\n",
                "* exam : 022, 023, 024, 039\n"
            ]
        },
        {
            "cell_type": "code",
            "execution_count": null,
            "metadata": {},
            "outputs": [],
            "source": [
                "license_plate = \"24rk 2210\"\n",
                "print(license_plate[-4:])    # 음수 값은 문자열의 뒤에서부터 인덱싱 또는 슬라이싱함을 의미한다. \n"
            ]
        },
        {
            "cell_type": "markdown",
            "metadata": {},
            "source": [
                "\n",
                "\n"
            ]
        },
        {
            "cell_type": "code",
            "execution_count": null,
            "metadata": {},
            "outputs": [],
            "source": [
                "string = \"홀짝홀짝홀짝\"\n",
                "print(string[::2])  # 슬라이싱할 떄 시작인덱스:끝인덱스:오프셋 을 지정할 수 있습니다.\n"
            ]
        },
        {
            "cell_type": "markdown",
            "metadata": {},
            "source": [
                "\n",
                "\n"
            ]
        },
        {
            "cell_type": "code",
            "execution_count": null,
            "metadata": {},
            "outputs": [],
            "source": [
                "string = \"PYTHON\"\n",
                "print(string[::-1])   # -1은 끝에서부터 라는 뜻...\n"
            ]
        },
        {
            "cell_type": "markdown",
            "metadata": {},
            "source": [
                "\n",
                "\n"
            ]
        },
        {
            "cell_type": "code",
            "execution_count": null,
            "metadata": {},
            "outputs": [],
            "source": [
                "분기 = \"2020/03(E) (IFRS연결)\"\n",
                "print(분기[:7])\n"
            ]
        },
        {
            "cell_type": "markdown",
            "metadata": {},
            "source": [
                "### 문자열 인덱싱\n",
                "* exam : 021\n"
            ]
        },
        {
            "cell_type": "code",
            "execution_count": null,
            "metadata": {},
            "outputs": [],
            "source": [
                "letter = 'python'\n",
                "print(letter[0], letter[2])\n"
            ]
        },
        {
            "cell_type": "markdown",
            "metadata": {},
            "source": [
                "### 문자열 다루기\n",
                "\n",
                "*exam : 025, 026, 027\n"
            ]
        },
        {
            "cell_type": "code",
            "execution_count": null,
            "metadata": {},
            "outputs": [],
            "source": [
                "phone_number = \"010-1111-2222\"\n",
                "phone_number = phone_number.replace(\"-\",\" \")\n",
                "print(phone_number)\n"
            ]
        },
        {
            "cell_type": "markdown",
            "metadata": {},
            "source": [
                "\n",
                "\n"
            ]
        },
        {
            "cell_type": "code",
            "execution_count": null,
            "metadata": {},
            "outputs": [],
            "source": [
                "phone_number = \"010-1111-2222\"\n",
                "phone_number = phone_number.replace(\"-\",\"\")\n",
                "print(phone_number)\n"
            ]
        },
        {
            "cell_type": "markdown",
            "metadata": {},
            "source": [
                "\n",
                "\n"
            ]
        },
        {
            "cell_type": "code",
            "execution_count": null,
            "metadata": {},
            "outputs": [],
            "source": [
                "url = \"http://sharebook.kr\"\n",
                "url_split = url.split('.')   # .을 기준으로 분리한다. 분리된 url 중 마지막을 인덱싱 하면 도메인만 출력 가능\n",
                "print(url_split[-1])\n"
            ]
        },
        {
            "cell_type": "markdown",
            "metadata": {},
            "source": [
                "### 문자열은  immutable (불변)\n",
                "* exam : 028\n"
            ]
        },
        {
            "cell_type": "code",
            "execution_count": null,
            "metadata": {},
            "outputs": [],
            "source": [
                "lang = 'python'\n",
                "lang[0] = 'P'  #문자열은 수정할 수 없다. 실행 결과를 확인해보면 문자열이 할당(assignment) 메서드를 지원하지 않음을 알 수 있다.\n",
                "print(lang)\n"
            ]
        },
        {
            "cell_type": "markdown",
            "metadata": {},
            "source": [
                "### replace 메서드\n",
                "* exam : 029, 030\n"
            ]
        },
        {
            "cell_type": "code",
            "execution_count": null,
            "metadata": {},
            "outputs": [],
            "source": [
                "string = 'abcdfe2a354a32a'\n",
                "string_replace = string.replace('a','A')\n",
                "print(string_replace)\n"
            ]
        },
        {
            "cell_type": "markdown",
            "metadata": {},
            "source": [
                "\n",
                "\n"
            ]
        },
        {
            "cell_type": "code",
            "execution_count": null,
            "metadata": {},
            "outputs": [],
            "source": [
                "string='abcd'\n",
                "string.replace('b','B')\n",
                "print(string)   # 문자열은 변경할 수 없는 자료형 이기 때문에 replace 매서드를 사용하면 원본은 그대로 둔채로 변경된 새로운 문자열 객체를 리턴해준다.\n"
            ]
        },
        {
            "cell_type": "markdown",
            "metadata": {},
            "source": [
                "### Format String\n",
                "* exam : 035, 036, 037\n"
            ]
        },
        {
            "cell_type": "code",
            "execution_count": null,
            "metadata": {},
            "outputs": [],
            "source": [
                "#bad\n",
                "name = 'python'\n",
                "\n",
                "#print('이름: ' + name  + '나이: ' +3 )  --err!  print('이름: ' + name  + '나이: ' +str(3) ) -- ok\n",
                "print('이름: ' , name  ,'나이: ' , 3 )\n"
            ]
        },
        {
            "cell_type": "markdown",
            "metadata": {},
            "source": [
                "\n",
                "\n"
            ]
        },
        {
            "cell_type": "code",
            "execution_count": null,
            "metadata": {},
            "outputs": [],
            "source": [
                "#good (이 형태 평소에도 많이 씀)\n",
                "print(\"이름: %s 나이: %d \" % (name, 3))   # %s는 문자열 데이터 타입의 값을, %d는 정수형 데이터 타입 값의 출력을 의미\n"
            ]
        },
        {
            "cell_type": "markdown",
            "metadata": {},
            "source": [
                "\n",
                "\n"
            ]
        },
        {
            "cell_type": "code",
            "execution_count": null,
            "metadata": {},
            "outputs": [],
            "source": [
                "name1 = \"김민수\" \n",
                "age1 = 10\n",
                "name2 = \"이철희\"\n",
                "age2 = 13\n",
                "print(\"이름: {} 나이: {}\".format(name1, age1))   # 문자열의 포맷 메서드는 타입과 상관없이 값이 출력될 위치에 {}를 적어주면 된다.\n",
                "print(\"이름: {} 나이: {}\".format(name2, age2))\n"
            ]
        },
        {
            "cell_type": "markdown",
            "metadata": {},
            "source": [
                "\n",
                "\n"
            ]
        },
        {
            "cell_type": "code",
            "execution_count": null,
            "metadata": {},
            "outputs": [],
            "source": [
                "print(f\"이름: {name1} 나이: {age1}\")  # f-string은 문자열 앞에 f가 붙은 형태이다. f-string을 사용하면 {변수}와 같은 형탤호 문자열 사이에 타입과 상관없이 값을 출력 가능\n",
                "print(f\"이름: {name2} 나이: {age2}\")\n"
            ]
        },
        {
            "cell_type": "markdown",
            "metadata": {},
            "source": [
                "### strip 메서드\n",
                "* exam : 040, 050\n"
            ]
        },
        {
            "cell_type": "code",
            "execution_count": null,
            "metadata": {},
            "outputs": [],
            "source": [
                "data = \"   삼성전자    \"\n",
                "data1 = data.strip()    #문자열에서  strip() 메서드를 사용하면 좌우의 공백을 제거할 수 있다. 이때 원본 문자열은 그대로 유지, 공백이 제거된 새로운 문자열 반환\n",
                "print(data1)\n"
            ]
        },
        {
            "cell_type": "markdown",
            "metadata": {},
            "source": [
                "\n",
                "\n"
            ]
        },
        {
            "cell_type": "code",
            "execution_count": null,
            "metadata": {},
            "outputs": [],
            "source": [
                "data = \"039490     \"   # rstrip() 메서드를 사용하면 오른쪽 고백이 제거된 새로운 문자열 객체가 반환\n",
                "data = data.rstrip()\n"
            ]
        },
        {
            "cell_type": "markdown",
            "metadata": {},
            "source": [
                "### split 메서드\n",
                "* exam : 047, 048, 049\n"
            ]
        },
        {
            "cell_type": "code",
            "execution_count": null,
            "metadata": {},
            "outputs": [],
            "source": [
                "a = \"hello world\"   # 문자열의 split() 메서드를 사용하면 문자열에서 공백을 기준으로 분리해준다.\n",
                "a.split()\n"
            ]
        },
        {
            "cell_type": "markdown",
            "metadata": {},
            "source": [
                "\n",
                "\n"
            ]
        },
        {
            "cell_type": "code",
            "execution_count": null,
            "metadata": {},
            "outputs": [],
            "source": [
                "ticker = \"btc_krw\"   # 문자열에서 split() 메서드는 문자열을 분리할 때 사용. 이때 어떤 값을 넘겨주면 그 값을 기준으로 문자열을 분리\n",
                "ticker.split(\"_\")\n"
            ]
        },
        {
            "cell_type": "markdown",
            "metadata": {},
            "source": [
                "\n",
                "\n"
            ]
        },
        {
            "cell_type": "code",
            "execution_count": null,
            "metadata": {},
            "outputs": [],
            "source": [
                "date = \"2020-05-01\"\n",
                "date.split(\"-\")\n"
            ]
        },
        {
            "cell_type": "markdown",
            "metadata": {},
            "source": [
                "## 파이썬 리스트\n",
                "* source : https://wikidocs.net/7023\n",
                "\n",
                "### 리스트 생성\n",
                "* exam : 051\n"
            ]
        },
        {
            "cell_type": "code",
            "execution_count": null,
            "metadata": {},
            "outputs": [],
            "source": [
                "movie_rank = [\"닥터 스트레인지\", \"스플릿\", \"럭키\"]\n",
                "\n"
            ]
        },
        {
            "cell_type": "markdown",
            "metadata": {},
            "source": [
                "### 리스트 추가\n",
                "* exam : 052, 053\n"
            ]
        },
        {
            "cell_type": "code",
            "execution_count": null,
            "metadata": {},
            "outputs": [],
            "source": [
                "movie_rank.append(\"배트맨\")\n",
                "print(movie_rank)\n"
            ]
        },
        {
            "cell_type": "markdown",
            "metadata": {},
            "source": [
                "\n",
                "\n"
            ]
        },
        {
            "cell_type": "code",
            "execution_count": null,
            "metadata": {},
            "outputs": [],
            "source": [
                "movie_rank = [\"닥터 스트레인지\", \"스플릿\", \"럭키\", \" 배트맨\"]\n",
                "movie_rank.insert(1, \"슈퍼맨\")    # 리스트의 insert(인덱스,원소)  매서드를 사용하면 특정 위치에 값을 끼워넣기 할 수 있습니다.\n",
                "print(movie_rank)\n"
            ]
        },
        {
            "cell_type": "markdown",
            "metadata": {},
            "source": [
                "### 리스트의 최대값, 최소값\n",
                "* exam : 057\n"
            ]
        },
        {
            "cell_type": "code",
            "execution_count": null,
            "metadata": {},
            "outputs": [],
            "source": [
                "nums = [1, 2, 3, 4, 5, 6, 7]\n",
                "print(\"max: \", max(nums))\n",
                "print(\"min: \", min(nums))\n"
            ]
        },
        {
            "cell_type": "markdown",
            "metadata": {},
            "source": [
                "### 리스트에 저장된 데이터의 갯수\n",
                "* exam : 059\n"
            ]
        },
        {
            "cell_type": "code",
            "execution_count": null,
            "metadata": {},
            "outputs": [],
            "source": [
                "cook = [\"피자\", \"김밥\", \"만두\", \"양념치킨\", \"족발\", \"피자\", \"김치만두\", \"쫄면\", \"쏘세지\", \"라면\", \"팥빙수\", \"김치전\"]\n",
                "print(len(cook))   # len은 리스트에 저장된 데이터의 갯수를 구하는 함수이다.\n"
            ]
        },
        {
            "cell_type": "markdown",
            "metadata": {},
            "source": [
                "### 리스트의 평균\n",
                "* exam : 060\n"
            ]
        },
        {
            "cell_type": "code",
            "execution_count": null,
            "metadata": {},
            "outputs": [],
            "source": [
                "nums = [1, 2, 3, 4, 5]\n",
                "average = sum(nums) / len(nums)   # 리스트의 합을 리스트의 갯수로 나눠 평균을 구함\n",
                "print(average)\n"
            ]
        },
        {
            "cell_type": "markdown",
            "metadata": {},
            "source": [
                "### join 메서드\n",
                "* exam : 066, 067, 068\n"
            ]
        },
        {
            "cell_type": "code",
            "execution_count": null,
            "metadata": {},
            "outputs": [],
            "source": [
                "interest = ['삼성전자', 'LG전자', 'Naver', 'SK하이닉스', '미래에셋대우']\n",
                "print(\" \".join(interest))   # 한칸 띄우기\n"
            ]
        },
        {
            "cell_type": "markdown",
            "metadata": {},
            "source": [
                "\n",
                "\n"
            ]
        },
        {
            "cell_type": "code",
            "execution_count": null,
            "metadata": {},
            "outputs": [],
            "source": [
                "print(\"/\".join(interest))   # 중간에 / 넣기\n",
                "\n"
            ]
        },
        {
            "cell_type": "markdown",
            "metadata": {},
            "source": [
                "\n",
                "\n"
            ]
        },
        {
            "cell_type": "code",
            "execution_count": null,
            "metadata": {},
            "outputs": [],
            "source": [
                "print(\"\\n\".join(interest))   # 줄바꿈하기\n",
                "\n"
            ]
        },
        {
            "cell_type": "markdown",
            "metadata": {},
            "source": [
                "### 리스트 정렬\n",
                "* exam : 070\n"
            ]
        },
        {
            "cell_type": "code",
            "execution_count": null,
            "metadata": {},
            "outputs": [],
            "source": [
                "data = [2, 4, 3, 1, 5, 10, 9]\n",
                "data.sort()    #sort  를 사용하면 오름차순 정렬가능\n",
                "print(data)\n"
            ]
        },
        {
            "cell_type": "markdown",
            "metadata": {},
            "source": [
                "## 파이썬 터플\n",
                "* source : https://wikidocs.net/7027\n"
            ]
        },
        {
            "cell_type": "code",
            "execution_count": null,
            "metadata": {},
            "outputs": [],
            "source": [
                "my_variable = ()\n",
                "print(type(my_variable))\n"
            ]
        },
        {
            "cell_type": "markdown",
            "metadata": {},
            "source": [
                "### 터플 오류\n",
                "* 074\n"
            ]
        },
        {
            "cell_type": "code",
            "execution_count": null,
            "metadata": {},
            "outputs": [],
            "source": [
                "t = (1, 2, 3)\n",
                "t[0] = 'a'  # 터플은 원소의 값을 변경할 수 없다.\n"
            ]
        },
        {
            "cell_type": "markdown",
            "metadata": {},
            "source": [
                "### 터플 -> 리스트 변환\n",
                "* exam : 077\n"
            ]
        },
        {
            "cell_type": "code",
            "execution_count": null,
            "metadata": {},
            "outputs": [],
            "source": [
                "interest = ('삼성전자', 'LG전자', 'SK Hynix')\n",
                "data = list(interest)\n",
                "print(data)\n"
            ]
        },
        {
            "cell_type": "markdown",
            "metadata": {},
            "source": [
                "### 리스트 -> 터플 변환\n",
                "* exam : 078\n"
            ]
        },
        {
            "cell_type": "code",
            "execution_count": null,
            "metadata": {},
            "outputs": [],
            "source": [
                "interest = ['삼성전자', 'LG전자', 'SK Hynix']\n",
                "data = tuple(interest)\n",
                "print(data)\n"
            ]
        },
        {
            "cell_type": "markdown",
            "metadata": {},
            "source": [
                "### range 함수\n",
                "* exam : 080\n"
            ]
        },
        {
            "cell_type": "code",
            "execution_count": null,
            "metadata": {},
            "outputs": [],
            "source": [
                "# 1~99까지의 정수 중 짝수만 저장된 튜플을 생성하라\n",
                "data = tuple(range(2, 100, 2))\n",
                "print( data )\n"
            ]
        },
        {
            "cell_type": "markdown",
            "metadata": {},
            "source": [
                "## 파이썬 딕셔너리\n",
                "* source : https://wikidocs.net/22000\n"
            ]
        },
        {
            "cell_type": "code",
            "execution_count": null,
            "metadata": {},
            "outputs": [],
            "source": [
                "temp = { }\n",
                "print(type(temp))\n"
            ]
        },
        {
            "cell_type": "markdown",
            "metadata": {},
            "source": [
                "###딕셔너리 추가\n",
                "*exam : 085, 086\n"
            ]
        },
        {
            "cell_type": "code",
            "execution_count": null,
            "metadata": {},
            "outputs": [],
            "source": [
                "ice = {\"메로나\": 1000, \"폴라포\": 1200, \"빵빠레\": 1800}\n",
                "print(ice)\n"
            ]
        },
        {
            "cell_type": "markdown",
            "metadata": {},
            "source": [
                "\n",
                "\n"
            ]
        },
        {
            "cell_type": "code",
            "execution_count": null,
            "metadata": {},
            "outputs": [],
            "source": [
                "# 조스바 1200, 월드콘 1500 추가\n",
                "ice = {\"메로나\": 1000, \"폴라포\": 1200, \"빵빠레\": 1800}\n",
                "ice[\"죠스바\"] = 1200\n",
                "ice[\"월드콘\"] = 1500\n",
                "print(ice)\n"
            ]
        },
        {
            "cell_type": "markdown",
            "metadata": {},
            "source": [
                "### 딕셔너리 사용하여 가격 출력, 수정, 삭제\n",
                "* exam : 087, 088, 089\n"
            ]
        },
        {
            "cell_type": "code",
            "execution_count": null,
            "metadata": {},
            "outputs": [],
            "source": [
                "# 가격출력\n",
                "ice = {'메로나': 1000,\n",
                "       '폴로포': 1200,\n",
                "       '빵빠레': 1800,\n",
                "       '죠스바': 1200,\n",
                "       '월드콘': 1500}\n",
                "print(\"메로나 가격: \", ice[\"메로나\"])\n"
            ]
        },
        {
            "cell_type": "markdown",
            "metadata": {},
            "source": [
                "\n",
                "\n"
            ]
        },
        {
            "cell_type": "code",
            "execution_count": null,
            "metadata": {},
            "outputs": [],
            "source": [
                "# 가격수정\n",
                "ice = {'메로나': 1000,\n",
                "       '폴로포': 1200,\n",
                "       '빵빠레': 1800,\n",
                "       '죠스바': 1200,\n",
                "       '월드콘': 1500}\n",
                "ice[\"메로나\"] = 1300\n",
                "print(ice)\n"
            ]
        },
        {
            "cell_type": "markdown",
            "metadata": {},
            "source": [
                "\n",
                "\n"
            ]
        },
        {
            "cell_type": "code",
            "execution_count": null,
            "metadata": {},
            "outputs": [],
            "source": [
                "# 메로나 삭제\n",
                "ice = {'메로나': 1000,\n",
                "       '폴로포': 1200,\n",
                "       '빵빠레': 1800,\n",
                "       '죠스바': 1200,\n",
                "       '월드콘': 1500}\n",
                "\n",
                "del ice[\"메로나\"]\n",
                "print(ice)\n"
            ]
        },
        {
            "cell_type": "markdown",
            "metadata": {},
            "source": [
                "### 딕셔너리 생성 및 인덱싱\n",
                "*exam : 091, 092, 093, 094\n"
            ]
        },
        {
            "cell_type": "code",
            "execution_count": null,
            "metadata": {},
            "outputs": [],
            "source": [
                "# 아이스크림 이름을 키값으로, (가격, 재고) 리스트를 딕셔너리의 값으로 저장\n",
                "inventory = {\"메로나\": [300, 20], \n",
                "             \"비비빅\": [400, 3], \n",
                "             \"죠스바\": [250, 100]}\n",
                "print(inventory)\n"
            ]
        },
        {
            "cell_type": "markdown",
            "metadata": {},
            "source": [
                "\n",
                "\n"
            ]
        },
        {
            "cell_type": "code",
            "execution_count": null,
            "metadata": {},
            "outputs": [],
            "source": [
                "# 가격확인\n",
                "print(inventory[\"메로나\"][0], \"원\")\n"
            ]
        },
        {
            "cell_type": "markdown",
            "metadata": {},
            "source": [
                "\n",
                "\n"
            ]
        },
        {
            "cell_type": "code",
            "execution_count": null,
            "metadata": {},
            "outputs": [],
            "source": [
                "# 재고확인\n",
                "print(inventory[\"메로나\"][1], \"개\")\n"
            ]
        },
        {
            "cell_type": "markdown",
            "metadata": {},
            "source": [
                "\n",
                "\n"
            ]
        },
        {
            "cell_type": "code",
            "execution_count": null,
            "metadata": {},
            "outputs": [],
            "source": [
                "# 딕셔너리 추가\n",
                "inventory = {\"메로나\": [300, 20],\n",
                "              \"비비빅\": [400, 3],\n",
                "              \"죠스바\": [250, 100]}\n",
                "inventory[\"월드콘\"] = [500, 7]\n",
                "print(inventory)\n"
            ]
        },
        {
            "cell_type": "markdown",
            "metadata": {},
            "source": [
                "###  딕셔너리 keys()매서드\n",
                "* exam 095\n"
            ]
        },
        {
            "cell_type": "code",
            "execution_count": null,
            "metadata": {},
            "outputs": [],
            "source": [
                "# 다음의 딕셔너리로부터 key 값으로만 구성된 리스트를 생성하라\n",
                "\n",
                "icecream = {'탱크보이': 1200, '폴라포': 1200, '빵빠레': 1800, '월드콘': 1500, '메로나': 1000}\n",
                "ice = list(icecream.keys())\n",
                "print(ice)\n"
            ]
        },
        {
            "cell_type": "markdown",
            "metadata": {},
            "source": [
                "## 파이썬 분기문\n",
                "* source : https://wikidocs.net/7028\n"
            ]
        },
        {
            "cell_type": "code",
            "execution_count": null,
            "metadata": {},
            "outputs": [],
            "source": [
                "if 4 < 3:\n",
                "  print(\"Hello World.\")\n",
                "else:\n",
                "  print(\"Hi, there.\")\n"
            ]
        },
        {
            "cell_type": "markdown",
            "metadata": {},
            "source": [
                "\n",
                "\n"
            ]
        },
        {
            "cell_type": "code",
            "execution_count": null,
            "metadata": {},
            "outputs": [],
            "source": [
                "# 사용자로부터 값을 입력받은 후 해당 값에 20을 더한 값을 출력하라. \n",
                "# 단 사용자가 입력한 값과 20을 더한 계산 값이 255를 초과하는 경우 255를 출력해야 한다.\n",
                "# 입력값 : 200, 출력값 : 220\n",
                "# 입력값 : 240, 출력값 : 255\n",
                "\n",
                "user = input(\"입력값: \")\n",
                "num = 20 + int(user)\n",
                "if num > 255:\n",
                "    print(255)\n",
                "else:\n",
                "    print(num)\n"
            ]
        },
        {
            "cell_type": "markdown",
            "metadata": {},
            "source": [
                "\n",
                "\n"
            ]
        },
        {
            "cell_type": "code",
            "execution_count": null,
            "metadata": {},
            "outputs": [],
            "source": [
                "#사용자로부터 하나의 값을 입력받은 후 해당 값에 20을 뺀 값을 출력하라. \n",
                "# 단 출력 값의 범위는 0~255이다. \n",
                "# 예를 들어 결괏값이 0보다 작은 값이되는 경우 0을 출력하고 255보다 큰 값이 되는 경우 255를 출력해야 한다.\n",
                "\n",
                "user = input(\"입력값: \")\n",
                "num = int(user) - 20\n",
                "if num > 255:\n",
                "  print(255)\n",
                "elif num < 0:\n",
                "  print(0)\n",
                "else:\n",
                "  print(num)\n"
            ]
        },
        {
            "cell_type": "markdown",
            "metadata": {},
            "source": [
                "\n",
                "\n"
            ]
        },
        {
            "cell_type": "code",
            "execution_count": null,
            "metadata": {},
            "outputs": [],
            "source": [
                "# 아래와 같이 fruit 딕셔너리가 정의되어 있다. \n",
                "# 사용자가 입력한 값이 딕셔너리 키 (key) 값에 포함되었다면 \"정답입니다\"를 아닐 경우 \"오답입니다\" 출력하라.\n",
                "\n",
                "# >> 제가좋아하는계절은: 봄\n",
                "# 정답입니다.\n",
                "\n",
                "fruit = {\"봄\" : \"딸기\", \"여름\" : \"토마토\", \"가을\" : \"사과\"}\n",
                "user = input (\"제가가장좋아하는계절은: \")\n",
                "if user in fruit:\n",
                "  print(\"정답입니다.\")\n",
                "else:\n",
                "  print(\"오답입니다.\")\n"
            ]
        },
        {
            "cell_type": "markdown",
            "metadata": {},
            "source": [
                "\n",
                "\n"
            ]
        },
        {
            "cell_type": "code",
            "execution_count": null,
            "metadata": {},
            "outputs": [],
            "source": [
                "# 아래와 같이 fruit 딕셔너리가 정의되어 있다. \n",
                "# 사용자가 입력한 값이 딕셔너리 값 (value)에 포함되었다면 \"정답입니다\"를 아닐 경우 \"오답입니다\" 출력하라.\n",
                "\n",
                "# >> 좋아하는과일은? 한라봉\n",
                "# 오답입니다.\n",
                "\n",
                "fruit = {\"봄\" : \"딸기\", \"여름\" : \"토마토\", \"가을\" : \"사과\"}\n",
                "user = input(\"좋아하는 과일은?\")\n",
                "if user in fruit.values():\n",
                "  print(\"정답입니다.\")\n",
                "else:\n",
                "  print(\"오답입니다.\")\n"
            ]
        },
        {
            "cell_type": "markdown",
            "metadata": {},
            "source": [
                "### 짝수/홀수 판별\n",
                "* exam : 113\n"
            ]
        },
        {
            "cell_type": "code",
            "execution_count": null,
            "metadata": {},
            "outputs": [],
            "source": [
                "user = input(\"\")\n",
                "if int(user) % 2 == 0:   # 전체를 2로 나누었을때 나머지가 0이면 짝수, 아니면 홀수 이기 때문이다.\n",
                "  print(\"짝수\")\n",
                "else:\n",
                "  print(\"홀수\")\n"
            ]
        },
        {
            "cell_type": "markdown",
            "metadata": {},
            "source": [
                "### 대문자 소문자 판별 및 변환\n",
                "* exam : 121\n"
            ]
        },
        {
            "cell_type": "code",
            "execution_count": null,
            "metadata": {},
            "outputs": [],
            "source": [
                "user = input(\"\")\n",
                "if user.islower():       #islower() 함수는 문자의 소문자 여부를 판별\n",
                "    print(user.upper())  #upper() 함수는 대문자로, lower() 함수는 소문자로 변경\n",
                "else:\n",
                "    print(user.lower())\n"
            ]
        },
        {
            "cell_type": "markdown",
            "metadata": {},
            "source": [
                "## 파이썬 반복문\n",
                "* source : https://wikidocs.net/78562\n"
            ]
        },
        {
            "cell_type": "code",
            "execution_count": null,
            "metadata": {},
            "outputs": [],
            "source": [
                "# 저장된 문자열의 길이를 다음과 같이 출력하라\n",
                "# 리스트 = [\"SK하이닉스\", \"삼성전자\", \"LG전자\"]\n",
                "\n",
                "#6\n",
                "#4\n",
                "#4\n",
                "\n",
                "리스트 = [\"SK하이닉스\", \"삼성전자\", \"LG전자\"]\n",
                "for 종목명 in 리스트:\n",
                "  길이 = len(종목명)\n",
                "  print(길이)\n"
            ]
        },
        {
            "cell_type": "markdown",
            "metadata": {},
            "source": [
                "\n",
                "\n"
            ]
        },
        {
            "cell_type": "code",
            "execution_count": null,
            "metadata": {},
            "outputs": [],
            "source": [
                "리스트 = ['dog', 'cat', 'parrot']\n",
                "for 이름 in 리스트:\n",
                "  print(이름, len(이름))\n"
            ]
        },
        {
            "cell_type": "markdown",
            "metadata": {},
            "source": [
                "\n",
                "\n"
            ]
        },
        {
            "cell_type": "code",
            "execution_count": null,
            "metadata": {},
            "outputs": [],
            "source": [
                "for 이름 in 리스트:\n",
                "  print(이름[0])\n"
            ]
        },
        {
            "cell_type": "markdown",
            "metadata": {},
            "source": [
                "\n",
                "\n"
            ]
        },
        {
            "cell_type": "code",
            "execution_count": null,
            "metadata": {},
            "outputs": [],
            "source": [
                "# for 문을 사용해서 반대로 출력하기\n",
                "리스트 = [\"가\", \"나\", \"다\", \"라\"]\n",
                "\n",
                "for 변수 in 리스트[::-1]:\n",
                "  print(변수)\n"
            ]
        },
        {
            "cell_type": "markdown",
            "metadata": {},
            "source": [
                "### for문을 사용해서 리스트의 음수 출력\n",
                "* exam : 151\n"
            ]
        },
        {
            "cell_type": "code",
            "execution_count": null,
            "metadata": {},
            "outputs": [],
            "source": [
                "리스트 = [3, -20, -3, 44]\n",
                "for 변수 in 리스트:\n",
                "  if  변수 < 0:\n",
                "    print(변수)\n"
            ]
        },
        {
            "cell_type": "markdown",
            "metadata": {},
            "source": [
                "### for 문을 사용해서 특정 배수 출력\n",
                "* exam : 152, 153\n"
            ]
        },
        {
            "cell_type": "code",
            "execution_count": null,
            "metadata": {},
            "outputs": [],
            "source": [
                "# 3의 배수만 출력\n",
                "리스트 = [3, 100, 23, 44]\n",
                "for 변수 in 리스트:\n",
                "  if  변수 % 3 == 0:\n",
                "    print(변수)\n"
            ]
        },
        {
            "cell_type": "markdown",
            "metadata": {},
            "source": [
                "\n",
                "\n"
            ]
        },
        {
            "cell_type": "code",
            "execution_count": null,
            "metadata": {},
            "outputs": [],
            "source": [
                "#리스트에서 20 보다 작은 3의 배수를 출력하라\n",
                "리스트 = [13, 21, 12, 14, 30, 18]\n",
                "for 변수 in 리스트:\n",
                "  if 변수 % 3 == 0:\n",
                "    if 변수 < 20:\n",
                "      print(변수)\n"
            ]
        },
        {
            "cell_type": "markdown",
            "metadata": {},
            "source": [
                "\n",
                "\n"
            ]
        },
        {
            "cell_type": "code",
            "execution_count": null,
            "metadata": {},
            "outputs": [],
            "source": [
                "리스트 = [13, 21, 12, 14, 30, 18]\n",
                "for 변수 in 리스트:\n",
                "  if (변수 < 20) and (변수 %3 ==0):\n",
                "    print(변수)\n"
            ]
        },
        {
            "cell_type": "markdown",
            "metadata": {},
            "source": [
                "### for문 사용해서 대문자 판별\n",
                "* exam : 155\n"
            ]
        },
        {
            "cell_type": "code",
            "execution_count": null,
            "metadata": {},
            "outputs": [],
            "source": [
                "리스트 = [\"A\", \"b\", \"c\", \"D\"]\n",
                "for 변수 in 리스트:\n",
                "  if 변수.isupper():    #isupper()은 대문자 판별, islower()은 소문자 판별\n",
                "    print(변수)\n"
            ]
        },
        {
            "cell_type": "markdown",
            "metadata": {},
            "source": [
                "\n",
                "\n"
            ]
        },
        {
            "cell_type": "code",
            "execution_count": null,
            "metadata": {},
            "outputs": [],
            "source": [
                "리스트 = [\"A\", \"b\", \"c\", \"D\"]\n",
                "for 변수 in 리스트:\n",
                "  if not 변수.isupper(): #대문자 판별 함수 앞에 not 를 사용 가능\n",
                "    print(변수)\n"
            ]
        },
        {
            "cell_type": "markdown",
            "metadata": {},
            "source": [
                "\n",
                "\n"
            ]
        },
        {
            "cell_type": "code",
            "execution_count": null,
            "metadata": {},
            "outputs": [],
            "source": [
                "# 파일 이름이 저장된 리스트에서 확장자가 .h 인 파일 이름을 출력하라.\n",
                "리스트 = ['intra.h', 'intra.c', 'define.h', 'run.py']\n",
                "for 변수 in 리스트:\n",
                "  split = 변수.split(\".\")\n",
                "  if split[1] == \"h\":\n",
                "    print(변수)\n"
            ]
        },
        {
            "cell_type": "markdown",
            "metadata": {},
            "source": [
                "\n",
                "\n"
            ]
        },
        {
            "cell_type": "code",
            "execution_count": null,
            "metadata": {},
            "outputs": [],
            "source": [
                "# 파일 이름이 저장된 리스트에서 확장자가 .h나 .c인 파일을 화면에 출력하라.\n",
                "리스트 = ['intra.h', 'intra.c', 'define.h', 'run.py']\n",
                "for 변수 in 리스트:\n",
                "  split = 변수.split(\".\")\n",
                "  if (split[1] == \"h\") or (split[1] == \"c\"):\n",
                "    print(변수)\n"
            ]
        },
        {
            "cell_type": "markdown",
            "metadata": {},
            "source": [
                "### range 함수\n",
                "* exam : 162, 164\n"
            ]
        },
        {
            "cell_type": "code",
            "execution_count": null,
            "metadata": {},
            "outputs": [],
            "source": [
                "# 월드컵은 4년에 한 번 개최된다. range()를 사용하여 2002~2050년까지 중 월드컵이 개최되는 연도를 출력하라\n",
                "# 참고 : range  3번째 파라미터는 증감폭을 결정합니다.\n",
                "\n",
                "print (list(range(2002, 2051, 4)))\n"
            ]
        },
        {
            "cell_type": "markdown",
            "metadata": {},
            "source": [
                "\n",
                "\n"
            ]
        },
        {
            "cell_type": "code",
            "execution_count": null,
            "metadata": {},
            "outputs": [],
            "source": [
                "for x in range(2002, 2051, 4):\n",
                "  print(x)\n"
            ]
        },
        {
            "cell_type": "markdown",
            "metadata": {},
            "source": [
                "\n",
                "\n"
            ]
        },
        {
            "cell_type": "code",
            "execution_count": null,
            "metadata": {},
            "outputs": [],
            "source": [
                "# 99부터 0까지 1씩 감소하는 숫자들을, 한 라인에 하나씩 출력하라.\n",
                "for i in range(100):\n",
                "  print(99-i)\n"
            ]
        },
        {
            "cell_type": "markdown",
            "metadata": {},
            "source": [
                "\n",
                "\n"
            ]
        },
        {
            "cell_type": "code",
            "execution_count": null,
            "metadata": {},
            "outputs": [],
            "source": [
                "# 구구단 3단을 출력하라.\n",
                "for i in range(1,10):\n",
                "  print(3, \"x\", i, \"=\", 3 * i)\n"
            ]
        },
        {
            "cell_type": "markdown",
            "metadata": {},
            "source": [
                "\n",
                "\n"
            ]
        },
        {
            "cell_type": "code",
            "execution_count": null,
            "metadata": {},
            "outputs": [],
            "source": [
                "# 구구단 3단을 출력하라. 단 홀수 번째만 출력한다.\n",
                "num = 3\n",
                "for i in range(1, 10, 2) :     # range 함수는 세번 째 파라미터는 증감폭을 결정한다.\n",
                "    print (num, \"x\", i, \" = \", num * i)\n"
            ]
        },
        {
            "cell_type": "markdown",
            "metadata": {},
            "source": [
                "## 파이썬 함수\n",
                "* source : https://wikidocs.net/23906\n"
            ]
        },
        {
            "cell_type": "code",
            "execution_count": null,
            "metadata": {},
            "outputs": [],
            "source": [
                "# 두 개의 숫자를 입력받아 합/차/곱/나눗셈을 출력하는 print_arithmetic_operation 함수를 작성하라.\n",
                "\n",
                "# print_arithmetic_operation(3, 4)\n",
                "# 3 + 4 = 7\n",
                "# 3 - 4 = -1\n",
                "# 3 * 4 = 12\n",
                "# 3 / 4 = 0.75\n",
                "\n",
                "print_arithmetic_operation(3, 4)\n",
                "def print_arithmetic_operation(a, b):\n",
                "    print(a, \"+\", b, \"=\", a + b )\n",
                "    print(a, \"-\", b, \"=\", a - b )\n",
                "    print(a, \"*\", b, \"=\", a * b )\n",
                "    print(a, \"/\", b, \"=\", a / b )\n"
            ]
        },
        {
            "cell_type": "markdown",
            "metadata": {},
            "source": [
                "\n",
                "\n"
            ]
        },
        {
            "cell_type": "code",
            "execution_count": null,
            "metadata": {},
            "outputs": [],
            "source": [
                "# 하나의 리스트를 입력받아 짝수만 화면에 출력하는  print_even 함수를 정의하라\n",
                "print_even ([1, 3, 2, 10, 12, 11, 15])\n",
                "def print_even(my_list):\n",
                "  for v in my_list:\n",
                "    if v % 2 == 0:\n",
                "      print(v)\n"
            ]
        },
        {
            "cell_type": "markdown",
            "metadata": {},
            "source": [
                "\n",
                "\n"
            ]
        },
        {
            "cell_type": "code",
            "execution_count": null,
            "metadata": {},
            "outputs": [],
            "source": [
                "def 함수(num):\n",
                "  return num+4\n",
                "\n",
                "a = 함수(10)\n",
                "b = 함수(a)\n",
                "c = 함수(b)\n",
                "print(c)\n"
            ]
        }
    ],
    "metadata": {
        "anaconda-cloud": "",
        "kernelspec": {
            "display_name": "R",
            "langauge": "R",
            "name": "ir"
        },
        "language_info": {
            "codemirror_mode": "r",
            "file_extension": ".r",
            "mimetype": "text/x-r-source",
            "name": "R",
            "pygments_lexer": "r",
            "version": "3.4.1"
        }
    },
    "nbformat": 4,
    "nbformat_minor": 1
}
